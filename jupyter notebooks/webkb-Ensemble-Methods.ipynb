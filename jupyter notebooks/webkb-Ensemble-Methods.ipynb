{
 "cells": [
  {
   "cell_type": "code",
   "execution_count": 1,
   "metadata": {},
   "outputs": [
    {
     "name": "stderr",
     "output_type": "stream",
     "text": [
      "/opt/conda/lib/python3.7/site-packages/tensorflow/python/framework/dtypes.py:526: FutureWarning: Passing (type, 1) or '1type' as a synonym of type is deprecated; in a future version of numpy, it will be understood as (type, (1,)) / '(1,)type'.\n",
      "  _np_qint8 = np.dtype([(\"qint8\", np.int8, 1)])\n",
      "/opt/conda/lib/python3.7/site-packages/tensorflow/python/framework/dtypes.py:527: FutureWarning: Passing (type, 1) or '1type' as a synonym of type is deprecated; in a future version of numpy, it will be understood as (type, (1,)) / '(1,)type'.\n",
      "  _np_quint8 = np.dtype([(\"quint8\", np.uint8, 1)])\n",
      "/opt/conda/lib/python3.7/site-packages/tensorflow/python/framework/dtypes.py:528: FutureWarning: Passing (type, 1) or '1type' as a synonym of type is deprecated; in a future version of numpy, it will be understood as (type, (1,)) / '(1,)type'.\n",
      "  _np_qint16 = np.dtype([(\"qint16\", np.int16, 1)])\n",
      "/opt/conda/lib/python3.7/site-packages/tensorflow/python/framework/dtypes.py:529: FutureWarning: Passing (type, 1) or '1type' as a synonym of type is deprecated; in a future version of numpy, it will be understood as (type, (1,)) / '(1,)type'.\n",
      "  _np_quint16 = np.dtype([(\"quint16\", np.uint16, 1)])\n",
      "/opt/conda/lib/python3.7/site-packages/tensorflow/python/framework/dtypes.py:530: FutureWarning: Passing (type, 1) or '1type' as a synonym of type is deprecated; in a future version of numpy, it will be understood as (type, (1,)) / '(1,)type'.\n",
      "  _np_qint32 = np.dtype([(\"qint32\", np.int32, 1)])\n",
      "/opt/conda/lib/python3.7/site-packages/tensorflow/python/framework/dtypes.py:535: FutureWarning: Passing (type, 1) or '1type' as a synonym of type is deprecated; in a future version of numpy, it will be understood as (type, (1,)) / '(1,)type'.\n",
      "  np_resource = np.dtype([(\"resource\", np.ubyte, 1)])\n",
      "Using TensorFlow backend.\n",
      "I1205 09:47:17.439529 139867445847424 file_utils.py:39] PyTorch version 1.3.0 available.\n",
      "I1205 09:47:17.457015 139867445847424 modeling_xlnet.py:194] Better speed can be achieved with apex installed from https://www.github.com/nvidia/apex .\n"
     ]
    }
   ],
   "source": [
    "# Imports\n",
    "from sklearn.svm import OneClassSVM\n",
    "from sklearn.ensemble import IsolationForest\n",
    "from sklearn.neighbors import LocalOutlierFactor\n",
    "import numpy as np\n",
    "import tensorflow as tf\n",
    "import tensorflow_hub as hub\n",
    "import matplotlib.pyplot as plt\n",
    "import os, json\n",
    "import pandas as pd\n",
    "import nltk\n",
    "import sys\n",
    "import torch\n",
    "from nltk import word_tokenize\n",
    "from nltk.corpus import stopwords\n",
    "from nltk.tokenize import word_tokenize\n",
    "import string, re, csv\n",
    "import requests\n",
    "from bs4 import BeautifulSoup\n",
    "from sklearn.decomposition import PCA\n",
    "from sklearn.metrics import accuracy_score, balanced_accuracy_score \n",
    "from sklearn.preprocessing import StandardScaler\n",
    "from sklearn.feature_extraction.text import TfidfVectorizer\n",
    "import seaborn as sns\n",
    "from sklearn.metrics import (confusion_matrix, precision_recall_curve, auc,\n",
    "                             roc_curve, recall_score, classification_report, f1_score,\n",
    "                             precision_recall_fscore_support)\n",
    "from keras.models import Model, load_model\n",
    "from keras.layers import Input, Dense, Dropout\n",
    "from keras.callbacks import ModelCheckpoint, TensorBoard\n",
    "from keras import regularizers\n",
    "from flair.embeddings import FlairEmbeddings,ELMoEmbeddings ,BertEmbeddings, WordEmbeddings\n",
    "from flair.embeddings import DocumentPoolEmbeddings, FastTextEmbeddings ,Sentence, XLNetEmbeddings"
   ]
  },
  {
   "cell_type": "code",
   "execution_count": 2,
   "metadata": {},
   "outputs": [
    {
     "name": "stderr",
     "output_type": "stream",
     "text": [
      "[nltk_data] Downloading package punkt to /home/runner/nltk_data...\n",
      "[nltk_data]   Package punkt is already up-to-date!\n",
      "[nltk_data] Downloading package stopwords to /home/runner/nltk_data...\n",
      "[nltk_data]   Package stopwords is already up-to-date!\n"
     ]
    }
   ],
   "source": [
    "nltk.download('punkt')\n",
    "nltk.download('stopwords')\n",
    "\n",
    "def clean_text(text: str, rm_numbers=True, rm_punct=True, rm_stop_words=True, rm_short_words=True):\n",
    "    \"\"\" Function to perform common NLP pre-processing tasks. \"\"\"\n",
    "\n",
    "    # make lowercase\n",
    "    text = text.lower()\n",
    "    # remove punctuation\n",
    "    if rm_punct:\n",
    "        text = text.translate(str.maketrans(string.punctuation, ' ' * len(string.punctuation)))\n",
    "    # remove numbers\n",
    "    if rm_numbers:\n",
    "        text = re.sub(r'\\d+', '', text)\n",
    "    # remove whitespaces\n",
    "    text = text.strip()\n",
    "    # remove stopwords\n",
    "    if rm_stop_words:\n",
    "        stop_words = set(stopwords.words('english'))\n",
    "        word_tokens = word_tokenize(text)\n",
    "        text_list = [w for w in word_tokens if not w in stop_words]\n",
    "        text = ' '.join(text_list)\n",
    "    # remove short words\n",
    "    if rm_short_words:\n",
    "        text_list = [w for w in text.split() if len(w) >= 3]\n",
    "        text = ' '.join(text_list)\n",
    "    return text\n",
    "\n",
    "def webkb_train_dataset():\n",
    "    data = pd.read_csv(\"/opt/notebooks/datasets/webkb/webkb-train-stemmed.txt\", sep='\\t')\n",
    "    data.columns=['label', 'text']\n",
    "    return data\n",
    "    \n",
    "def webkb_test_dataset():\n",
    "    data = pd.read_csv(\"/opt/notebooks/datasets/webkb/webkb-test-stemmed.txt\", sep='\\t')\n",
    "    data.columns=['label', 'text']\n",
    "    return data"
   ]
  },
  {
   "cell_type": "code",
   "execution_count": 3,
   "metadata": {},
   "outputs": [],
   "source": [
    "train_data_df = webkb_train_dataset()\n",
    "test_data_df = webkb_test_dataset()"
   ]
  },
  {
   "cell_type": "code",
   "execution_count": 6,
   "metadata": {},
   "outputs": [
    {
     "data": {
      "text/html": [
       "<div>\n",
       "<style scoped>\n",
       "    .dataframe tbody tr th:only-of-type {\n",
       "        vertical-align: middle;\n",
       "    }\n",
       "\n",
       "    .dataframe tbody tr th {\n",
       "        vertical-align: top;\n",
       "    }\n",
       "\n",
       "    .dataframe thead th {\n",
       "        text-align: right;\n",
       "    }\n",
       "</style>\n",
       "<table border=\"1\" class=\"dataframe\">\n",
       "  <thead>\n",
       "    <tr style=\"text-align: right;\">\n",
       "      <th></th>\n",
       "      <th>label</th>\n",
       "      <th>text</th>\n",
       "    </tr>\n",
       "  </thead>\n",
       "  <tbody>\n",
       "    <tr>\n",
       "      <th>0</th>\n",
       "      <td>course</td>\n",
       "      <td>comput system perform evalu model new sept ass...</td>\n",
       "    </tr>\n",
       "    <tr>\n",
       "      <th>1</th>\n",
       "      <td>student</td>\n",
       "      <td>home page comput scienc grad student ucsd work...</td>\n",
       "    </tr>\n",
       "    <tr>\n",
       "      <th>2</th>\n",
       "      <td>student</td>\n",
       "      <td>toni web page toni face thing call toni studen...</td>\n",
       "    </tr>\n",
       "    <tr>\n",
       "      <th>3</th>\n",
       "      <td>course</td>\n",
       "      <td>ec advanc comput architectur credit parallel a...</td>\n",
       "    </tr>\n",
       "    <tr>\n",
       "      <th>4</th>\n",
       "      <td>faculty</td>\n",
       "      <td>faculti member ci depart research interest par...</td>\n",
       "    </tr>\n",
       "    <tr>\n",
       "      <th>5</th>\n",
       "      <td>course</td>\n",
       "      <td>comput scienc softwar develop syllabu fall pro...</td>\n",
       "    </tr>\n",
       "    <tr>\n",
       "      <th>6</th>\n",
       "      <td>student</td>\n",
       "      <td>pictur eugen hung comput system laboratori dep...</td>\n",
       "    </tr>\n",
       "    <tr>\n",
       "      <th>7</th>\n",
       "      <td>faculty</td>\n",
       "      <td>bruce porter associ professor faculti fellow c...</td>\n",
       "    </tr>\n",
       "    <tr>\n",
       "      <th>8</th>\n",
       "      <td>project</td>\n",
       "      <td>www server softwar engin laboratori mcgill uni...</td>\n",
       "    </tr>\n",
       "    <tr>\n",
       "      <th>9</th>\n",
       "      <td>student</td>\n",
       "      <td>graphic visual usabl center song liang song li...</td>\n",
       "    </tr>\n",
       "    <tr>\n",
       "      <th>10</th>\n",
       "      <td>faculty</td>\n",
       "      <td>colleg engin univers wisconsin madison vadim s...</td>\n",
       "    </tr>\n",
       "    <tr>\n",
       "      <th>11</th>\n",
       "      <td>student</td>\n",
       "      <td>lin resum java current address mapl avenu apt ...</td>\n",
       "    </tr>\n",
       "    <tr>\n",
       "      <th>12</th>\n",
       "      <td>course</td>\n",
       "      <td>eec adapt signal process mwf eec instructor al...</td>\n",
       "    </tr>\n",
       "    <tr>\n",
       "      <th>13</th>\n",
       "      <td>faculty</td>\n",
       "      <td>edmund associ professor univers michigan depar...</td>\n",
       "    </tr>\n",
       "    <tr>\n",
       "      <th>14</th>\n",
       "      <td>course</td>\n",
       "      <td>gnu introduct comput scienc com section profes...</td>\n",
       "    </tr>\n",
       "    <tr>\n",
       "      <th>15</th>\n",
       "      <td>course</td>\n",
       "      <td>comput organ assembl languag program hall mwf ...</td>\n",
       "    </tr>\n",
       "    <tr>\n",
       "      <th>16</th>\n",
       "      <td>student</td>\n",
       "      <td>phd student colleg comput georgia institut tec...</td>\n",
       "    </tr>\n",
       "    <tr>\n",
       "      <th>17</th>\n",
       "      <td>student</td>\n",
       "      <td>sarah vari interest research interest includ a...</td>\n",
       "    </tr>\n",
       "    <tr>\n",
       "      <th>18</th>\n",
       "      <td>project</td>\n",
       "      <td>omega project framework algorithm analysi tran...</td>\n",
       "    </tr>\n",
       "    <tr>\n",
       "      <th>19</th>\n",
       "      <td>student</td>\n",
       "      <td>nanci depart inform comput scienc area softwar...</td>\n",
       "    </tr>\n",
       "    <tr>\n",
       "      <th>20</th>\n",
       "      <td>course</td>\n",
       "      <td>cse intro formal model fall ann cse home page ...</td>\n",
       "    </tr>\n",
       "    <tr>\n",
       "      <th>21</th>\n",
       "      <td>student</td>\n",
       "      <td>jenni depart comput scienc engin mail code uni...</td>\n",
       "    </tr>\n",
       "    <tr>\n",
       "      <th>22</th>\n",
       "      <td>course</td>\n",
       "      <td>ci fall artifici intellig time mondai wednesda...</td>\n",
       "    </tr>\n",
       "    <tr>\n",
       "      <th>23</th>\n",
       "      <td>faculty</td>\n",
       "      <td>receiv mathemat comput scienc univers colorado...</td>\n",
       "    </tr>\n",
       "    <tr>\n",
       "      <th>24</th>\n",
       "      <td>faculty</td>\n",
       "      <td>chri click pictur vassar sigart acm org ijcai ...</td>\n",
       "    </tr>\n",
       "    <tr>\n",
       "      <th>25</th>\n",
       "      <td>faculty</td>\n",
       "      <td>associ dean professor univers egypt polytechn ...</td>\n",
       "    </tr>\n",
       "    <tr>\n",
       "      <th>26</th>\n",
       "      <td>course</td>\n",
       "      <td>url http www hmc keller html harvei mudd colle...</td>\n",
       "    </tr>\n",
       "    <tr>\n",
       "      <th>27</th>\n",
       "      <td>faculty</td>\n",
       "      <td>berman depart comput scienc engin univers cali...</td>\n",
       "    </tr>\n",
       "    <tr>\n",
       "      <th>28</th>\n",
       "      <td>faculty</td>\n",
       "      <td>kenneth sloan depart comput inform scienc univ...</td>\n",
       "    </tr>\n",
       "    <tr>\n",
       "      <th>29</th>\n",
       "      <td>course</td>\n",
       "      <td>cse digit system design steve burn spring home...</td>\n",
       "    </tr>\n",
       "    <tr>\n",
       "      <th>...</th>\n",
       "      <td>...</td>\n",
       "      <td>...</td>\n",
       "    </tr>\n",
       "    <tr>\n",
       "      <th>1365</th>\n",
       "      <td>course</td>\n",
       "      <td>comput scienc depart colleg art scienc fall pa...</td>\n",
       "    </tr>\n",
       "    <tr>\n",
       "      <th>1366</th>\n",
       "      <td>faculty</td>\n",
       "      <td>photo comput scienc univers wisconsin professo...</td>\n",
       "    </tr>\n",
       "    <tr>\n",
       "      <th>1367</th>\n",
       "      <td>student</td>\n",
       "      <td>mike salisburi washington comput scienc engin ...</td>\n",
       "    </tr>\n",
       "    <tr>\n",
       "      <th>1368</th>\n",
       "      <td>faculty</td>\n",
       "      <td>professor pictur room engin depart comput scie...</td>\n",
       "    </tr>\n",
       "    <tr>\n",
       "      <th>1369</th>\n",
       "      <td>student</td>\n",
       "      <td>michael click pictur info michael receiv compu...</td>\n",
       "    </tr>\n",
       "    <tr>\n",
       "      <th>1370</th>\n",
       "      <td>course</td>\n",
       "      <td>co advanc topic comput graphic spring semest h...</td>\n",
       "    </tr>\n",
       "    <tr>\n",
       "      <th>1371</th>\n",
       "      <td>faculty</td>\n",
       "      <td>alan shaw professor graduat bachelor degre eng...</td>\n",
       "    </tr>\n",
       "    <tr>\n",
       "      <th>1372</th>\n",
       "      <td>course</td>\n",
       "      <td>cse oper system instructor hank levi spring fr...</td>\n",
       "    </tr>\n",
       "    <tr>\n",
       "      <th>1373</th>\n",
       "      <td>course</td>\n",
       "      <td>distribut comput spring instructor lorenzo alv...</td>\n",
       "    </tr>\n",
       "    <tr>\n",
       "      <th>1374</th>\n",
       "      <td>student</td>\n",
       "      <td>twin sister jia wang phd student depart comput...</td>\n",
       "    </tr>\n",
       "    <tr>\n",
       "      <th>1375</th>\n",
       "      <td>faculty</td>\n",
       "      <td>david william lewi professor engin munich inst...</td>\n",
       "    </tr>\n",
       "    <tr>\n",
       "      <th>1376</th>\n",
       "      <td>project</td>\n",
       "      <td>current commun research laboratori project inf...</td>\n",
       "    </tr>\n",
       "    <tr>\n",
       "      <th>1377</th>\n",
       "      <td>student</td>\n",
       "      <td>home page contact inform phd candid laboratori...</td>\n",
       "    </tr>\n",
       "    <tr>\n",
       "      <th>1378</th>\n",
       "      <td>course</td>\n",
       "      <td>numer analysi prerequisit abil high level lang...</td>\n",
       "    </tr>\n",
       "    <tr>\n",
       "      <th>1379</th>\n",
       "      <td>student</td>\n",
       "      <td>yanni wisc research assist depart comput scien...</td>\n",
       "    </tr>\n",
       "    <tr>\n",
       "      <th>1380</th>\n",
       "      <td>course</td>\n",
       "      <td>softwar qualiti assur spring semest credit upd...</td>\n",
       "    </tr>\n",
       "    <tr>\n",
       "      <th>1381</th>\n",
       "      <td>project</td>\n",
       "      <td>network research laboratori depart comput scie...</td>\n",
       "    </tr>\n",
       "    <tr>\n",
       "      <th>1382</th>\n",
       "      <td>faculty</td>\n",
       "      <td>elis turner elis turner assist professor compu...</td>\n",
       "    </tr>\n",
       "    <tr>\n",
       "      <th>1383</th>\n",
       "      <td>student</td>\n",
       "      <td>lam home page lam cornel research assist prof ...</td>\n",
       "    </tr>\n",
       "    <tr>\n",
       "      <th>1384</th>\n",
       "      <td>student</td>\n",
       "      <td>sriniva phd candid depart comput scienc univer...</td>\n",
       "    </tr>\n",
       "    <tr>\n",
       "      <th>1385</th>\n",
       "      <td>course</td>\n",
       "      <td>cse digit system organ design laboratori secti...</td>\n",
       "    </tr>\n",
       "    <tr>\n",
       "      <th>1386</th>\n",
       "      <td>student</td>\n",
       "      <td>special agent matt home page look real work ha...</td>\n",
       "    </tr>\n",
       "    <tr>\n",
       "      <th>1387</th>\n",
       "      <td>student</td>\n",
       "      <td>gabriel rochest care sign guest log find find ...</td>\n",
       "    </tr>\n",
       "    <tr>\n",
       "      <th>1388</th>\n",
       "      <td>student</td>\n",
       "      <td>frame index frame content frame messag frame c...</td>\n",
       "    </tr>\n",
       "    <tr>\n",
       "      <th>1389</th>\n",
       "      <td>student</td>\n",
       "      <td>graduat student lisa obtain physic cornel univ...</td>\n",
       "    </tr>\n",
       "    <tr>\n",
       "      <th>1390</th>\n",
       "      <td>student</td>\n",
       "      <td>scott pictur background scott phd student coll...</td>\n",
       "    </tr>\n",
       "    <tr>\n",
       "      <th>1391</th>\n",
       "      <td>course</td>\n",
       "      <td>advanc oper system fall marvin offic comput sc...</td>\n",
       "    </tr>\n",
       "    <tr>\n",
       "      <th>1392</th>\n",
       "      <td>project</td>\n",
       "      <td>human robot hand group head kenneth salisburi ...</td>\n",
       "    </tr>\n",
       "    <tr>\n",
       "      <th>1393</th>\n",
       "      <td>course</td>\n",
       "      <td>databas manag system design implement inform p...</td>\n",
       "    </tr>\n",
       "    <tr>\n",
       "      <th>1394</th>\n",
       "      <td>student</td>\n",
       "      <td>lick home page gener info mail address lick gr...</td>\n",
       "    </tr>\n",
       "  </tbody>\n",
       "</table>\n",
       "<p>1395 rows × 2 columns</p>\n",
       "</div>"
      ],
      "text/plain": [
       "        label                                               text\n",
       "0      course  comput system perform evalu model new sept ass...\n",
       "1     student  home page comput scienc grad student ucsd work...\n",
       "2     student  toni web page toni face thing call toni studen...\n",
       "3      course  ec advanc comput architectur credit parallel a...\n",
       "4     faculty  faculti member ci depart research interest par...\n",
       "5      course  comput scienc softwar develop syllabu fall pro...\n",
       "6     student  pictur eugen hung comput system laboratori dep...\n",
       "7     faculty  bruce porter associ professor faculti fellow c...\n",
       "8     project  www server softwar engin laboratori mcgill uni...\n",
       "9     student  graphic visual usabl center song liang song li...\n",
       "10    faculty  colleg engin univers wisconsin madison vadim s...\n",
       "11    student  lin resum java current address mapl avenu apt ...\n",
       "12     course  eec adapt signal process mwf eec instructor al...\n",
       "13    faculty  edmund associ professor univers michigan depar...\n",
       "14     course  gnu introduct comput scienc com section profes...\n",
       "15     course  comput organ assembl languag program hall mwf ...\n",
       "16    student  phd student colleg comput georgia institut tec...\n",
       "17    student  sarah vari interest research interest includ a...\n",
       "18    project  omega project framework algorithm analysi tran...\n",
       "19    student  nanci depart inform comput scienc area softwar...\n",
       "20     course  cse intro formal model fall ann cse home page ...\n",
       "21    student  jenni depart comput scienc engin mail code uni...\n",
       "22     course  ci fall artifici intellig time mondai wednesda...\n",
       "23    faculty  receiv mathemat comput scienc univers colorado...\n",
       "24    faculty  chri click pictur vassar sigart acm org ijcai ...\n",
       "25    faculty  associ dean professor univers egypt polytechn ...\n",
       "26     course  url http www hmc keller html harvei mudd colle...\n",
       "27    faculty  berman depart comput scienc engin univers cali...\n",
       "28    faculty  kenneth sloan depart comput inform scienc univ...\n",
       "29     course  cse digit system design steve burn spring home...\n",
       "...       ...                                                ...\n",
       "1365   course  comput scienc depart colleg art scienc fall pa...\n",
       "1366  faculty  photo comput scienc univers wisconsin professo...\n",
       "1367  student  mike salisburi washington comput scienc engin ...\n",
       "1368  faculty  professor pictur room engin depart comput scie...\n",
       "1369  student  michael click pictur info michael receiv compu...\n",
       "1370   course  co advanc topic comput graphic spring semest h...\n",
       "1371  faculty  alan shaw professor graduat bachelor degre eng...\n",
       "1372   course  cse oper system instructor hank levi spring fr...\n",
       "1373   course  distribut comput spring instructor lorenzo alv...\n",
       "1374  student  twin sister jia wang phd student depart comput...\n",
       "1375  faculty  david william lewi professor engin munich inst...\n",
       "1376  project  current commun research laboratori project inf...\n",
       "1377  student  home page contact inform phd candid laboratori...\n",
       "1378   course  numer analysi prerequisit abil high level lang...\n",
       "1379  student  yanni wisc research assist depart comput scien...\n",
       "1380   course  softwar qualiti assur spring semest credit upd...\n",
       "1381  project  network research laboratori depart comput scie...\n",
       "1382  faculty  elis turner elis turner assist professor compu...\n",
       "1383  student  lam home page lam cornel research assist prof ...\n",
       "1384  student  sriniva phd candid depart comput scienc univer...\n",
       "1385   course  cse digit system organ design laboratori secti...\n",
       "1386  student  special agent matt home page look real work ha...\n",
       "1387  student  gabriel rochest care sign guest log find find ...\n",
       "1388  student  frame index frame content frame messag frame c...\n",
       "1389  student  graduat student lisa obtain physic cornel univ...\n",
       "1390  student  scott pictur background scott phd student coll...\n",
       "1391   course  advanc oper system fall marvin offic comput sc...\n",
       "1392  project  human robot hand group head kenneth salisburi ...\n",
       "1393   course  databas manag system design implement inform p...\n",
       "1394  student  lick home page gener info mail address lick gr...\n",
       "\n",
       "[1395 rows x 2 columns]"
      ]
     },
     "execution_count": 6,
     "metadata": {},
     "output_type": "execute_result"
    }
   ],
   "source": [
    "test_data_df"
   ]
  },
  {
   "cell_type": "code",
   "execution_count": 10,
   "metadata": {},
   "outputs": [
    {
     "name": "stdout",
     "output_type": "stream",
     "text": [
      "student    1096\n",
      "faculty     750\n",
      "course      620\n",
      "project     336\n",
      "Name: label, dtype: int64\n"
     ]
    }
   ],
   "source": [
    "print(train_data_df['label'].value_counts())"
   ]
  },
  {
   "cell_type": "code",
   "execution_count": 11,
   "metadata": {},
   "outputs": [],
   "source": [
    "def data_for_sota():\n",
    "    # Numerical Labeling : 1 for normal class; -1 for anomaly class                    \n",
    "    train_data_df['new_label'] = train_data_df['label']\n",
    "    train_data_df.loc[train_data_df['label'] == 'student', 'new_label'] = 1\n",
    "    train_data_df.loc[train_data_df['label'] != 'student', 'new_label'] = -1\n",
    "    test_data_df['new_label'] = test_data_df['label']\n",
    "    test_data_df.loc[test_data_df['label'] == 'student', 'new_label'] = 1\n",
    "    test_data_df.loc[test_data_df['label'] != 'student', 'new_label'] = -1\n",
    "    # Preparing train data with only normal class\n",
    "    final_train = train_data_df.loc[train_data_df['new_label'] == 1]\n",
    "    print(final_train['new_label'].value_counts())\n",
    "    # Test data with both normal and other classes\n",
    "    final_test = test_data_df\n",
    "    print(final_test['new_label'].value_counts())\n",
    "    return final_train, final_test"
   ]
  },
  {
   "cell_type": "code",
   "execution_count": 29,
   "metadata": {},
   "outputs": [
    {
     "name": "stdout",
     "output_type": "stream",
     "text": [
      "1    1096\n",
      "Name: new_label, dtype: int64\n",
      "-1    852\n",
      " 1    543\n",
      "Name: new_label, dtype: int64\n"
     ]
    }
   ],
   "source": [
    "final_train, final_test = data_for_sota()"
   ]
  },
  {
   "cell_type": "code",
   "execution_count": 30,
   "metadata": {},
   "outputs": [
    {
     "name": "stdout",
     "output_type": "stream",
     "text": [
      "12\n",
      "0\n",
      "13\n",
      "0\n"
     ]
    }
   ],
   "source": [
    "print(final_train['text'].isna().sum())\n",
    "final_train = final_train[pd.notnull(final_train['text'])]\n",
    "print(final_train['text'].isna().sum())\n",
    "print(final_test['text'].isna().sum())\n",
    "final_test = final_test[pd.notnull(final_test['text'])]\n",
    "print(final_test['text'].isna().sum())"
   ]
  },
  {
   "cell_type": "markdown",
   "metadata": {},
   "source": [
    "Various Embeddings - Bert, Universal Sentence Encoder, Infersent, GloVe, Fasttext, Ensemble Embeddings(Flair + GloVe)"
   ]
  },
  {
   "cell_type": "code",
   "execution_count": 31,
   "metadata": {},
   "outputs": [],
   "source": [
    "# Embedding using Universal Sentence Encoder\n",
    "def embed_module(module):\n",
    "    with tf.Graph().as_default():\n",
    "        sentences = tf.placeholder(tf.string)\n",
    "        embed = hub.Module(module)\n",
    "        embeddings = embed(sentences)\n",
    "        session = tf.train.MonitoredSession()\n",
    "    return lambda x: session.run(embeddings, {sentences: x})\n",
    "\n",
    "def use_embeddings():\n",
    "    train_data_list = []\n",
    "    test_data_list = []\n",
    "    module_url = \"/opt/notebooks/embedding_model/\"\n",
    "    # Import the Universal Sentence Encoder's TF Hub module\n",
    "    embed = embed_module(module_url)\n",
    "    train_data_list = embed(final_train['text'].tolist())\n",
    "    test_data_list = embed(final_test['text'].tolist())\n",
    "    return train_data_list, test_data_list\n",
    "\n",
    "# Bert\n",
    "def bert_embeddings():\n",
    "    train_data_list = []\n",
    "    test_data_list = []\n",
    "    model = SentenceTransformer('bert-base-nli-mean-tokens')\n",
    "    train_data_list = model.encode(final_train['text'].tolist())\n",
    "    test_data_list = model.encode(final_test['text'].tolist())\n",
    "    return train_data_list, test_data_list\n",
    "\n",
    "# Flair - GloVe - XLNet - FastText\n",
    "def other_embeddings(embd):\n",
    "    sess = tf.InteractiveSession()\n",
    "    train_data_list = []\n",
    "    test_data_list = []\n",
    "    if embd == 'glove':\n",
    "        print('Starting Glove Embedding...')\n",
    "        glove_embedding = WordEmbeddings('glove')\n",
    "        document_embeddings = DocumentPoolEmbeddings(embeddings=[glove_embedding])\n",
    "    elif embd == 'xlnet':\n",
    "        print('Starting XLNet Embedding...')\n",
    "        xlnet_embedding = XLNetEmbeddings('xlnet-large-cased')\n",
    "        document_embeddings = DocumentPoolEmbeddings(embeddings=[xlnet_embedding])\n",
    "    elif embd == 'fasttext':\n",
    "        print('Starting Fasttext Embedding...')\n",
    "        fasttext_embedding = FastTextEmbeddings('crawl-300d-2M')\n",
    "        document_embeddings = DocumentPoolEmbeddings(embeddings=[fasttext_embedding])\n",
    "    elif embd == 'elmo':\n",
    "        print('Starting ELMo Embedding...')\n",
    "        elmo_embedding = ELMoEmbeddings()\n",
    "        document_embeddings = DocumentPoolEmbeddings(embeddings=[elmo_embedding])\n",
    "    else:\n",
    "        # init Flair embeddings\n",
    "        flair_forward_embedding = FlairEmbeddings('multi-forward')\n",
    "        flair_backward_embedding = FlairEmbeddings('multi-backward')\n",
    "        glove_embedding = WordEmbeddings('glove')\n",
    "        # now create the DocumentPoolEmbeddings object that combines all embeddings\n",
    "        document_embeddings = DocumentPoolEmbeddings(embeddings=[glove_embedding, flair_forward_embedding, flair_backward_embedding])\n",
    "    print('Train embedding Started...')\n",
    "    for text in final_train['text'].tolist():\n",
    "        text = Sentence(text)\n",
    "        document_embeddings.embed(text)\n",
    "        emb = text.get_embedding().detach().numpy()\n",
    "        emb = tf.constant(emb).eval()\n",
    "        train_data_list.append(emb)\n",
    "    print('Embedded Train data!!')\n",
    "    print('Test embedding Started...')\n",
    "    for text in final_test['text'].tolist():\n",
    "        text = Sentence(text)\n",
    "        document_embeddings.embed(text)\n",
    "        emb = text.get_embedding().detach().numpy()\n",
    "        emb = tf.constant(emb).eval()\n",
    "        test_data_list.append(emb)\n",
    "    print('Embedded Test data!!')\n",
    "    return train_data_list, test_data_list\n",
    "\n",
    "def elmo_vectors(x):\n",
    "        embeddings = elmo(x, signature=\"default\", as_dict=True)[\"elmo\"]\n",
    "        with tf.Session() as sess:\n",
    "            sess.run(tf.global_variables_initializer())\n",
    "            sess.run(tf.tables_initializer())\n",
    "            # return average of ELMo features\n",
    "            return sess.run(tf.reduce_mean(embeddings,1))\n",
    "        \n",
    "def elmo_embeddings():\n",
    "    train_data_list = []\n",
    "    test_data_list = []\n",
    "    elmo = hub.Module(\"https://tfhub.dev/google/elmo/2\", trainable=True)\n",
    "    elmo_train = [elmo_vectors(final_train['text'].tolist())]\n",
    "    elmo_test = [elmo_vectors(final_test['text'].tolist())]\n",
    "    for i in range(len(final_train['text'].tolist())):\n",
    "        train_data_list.append(elmo_train[0][i])\n",
    "    for i in range(len(final_test['text'].tolist())):\n",
    "        test_data_list.append(elmo_test[0][i])\n",
    "    return train_data_list, test_data_list\n",
    "\n",
    "def infersent_embeddings():\n",
    "    train_data_list = []\n",
    "    test_data_list = []\n",
    "    sys.path.append('/opt/notebooks/OCSVM_ISF_LOF_USE_Baselines/InferSent-master')\n",
    "    # Load model\n",
    "    from models import InferSent\n",
    "    model_version = 1\n",
    "    MODEL_PATH = \"/opt/notebooks/OCSVM_ISF_LOF_USE_Baselines/InferSent-master/encoder/infersent%s.pkl\" % model_version\n",
    "    params_model = {'bsize': 64, 'word_emb_dim': 300, 'enc_lstm_dim': 2048,\n",
    "                    'pool_type': 'max', 'dpout_model': 0.0, 'version': model_version}\n",
    "    model = InferSent(params_model)\n",
    "    model.load_state_dict(torch.load(MODEL_PATH))\n",
    "    # Keep it on CPU or put it on GPU\n",
    "    use_cuda = False\n",
    "    model = model.cuda() if use_cuda else model\n",
    "    # If infersent1 -> use GloVe embeddings. If infersent2 -> use InferSent embeddings.\n",
    "    W2V_PATH = '/opt/notebooks/OCSVM_ISF_LOF_USE_Baselines/InferSent-master/glove.840B.300d-003.txt' if model_version == 1 else '/opt/notebooks/OCSVM_ISF_LOF_USE_Baselines/InferSent-master/fastText/crawl-300d-2M.vec'\n",
    "    model.set_w2v_path(W2V_PATH)\n",
    "    # Load embeddings of K most frequent words\n",
    "    model.build_vocab_k_words(K=100000)\n",
    "    train_data_list = model.encode(final_train['text'].tolist(), bsize=128, tokenize=False, verbose=True)\n",
    "    print('nb sentences encoded : {0}'.format(len(train_data_list)))\n",
    "    test_data_list = model.encode(final_test['text'].tolist(), bsize=128, tokenize=False, verbose=True)\n",
    "    print('nb sentences encoded : {0}'.format(len(test_data_list)))\n",
    "    return train_data_list, test_data_list"
   ]
  },
  {
   "cell_type": "code",
   "execution_count": 32,
   "metadata": {},
   "outputs": [
    {
     "name": "stderr",
     "output_type": "stream",
     "text": [
      "I1119 17:14:11.776402 139996741399936 saver.py:1499] Saver not created because there are no variables in the graph to restore\n",
      "I1119 17:14:12.491219 139996741399936 monitored_session.py:240] Graph was finalized.\n",
      "I1119 17:14:14.003064 139996741399936 session_manager.py:500] Running local_init_op.\n",
      "I1119 17:14:15.654207 139996741399936 session_manager.py:502] Done running local_init_op.\n"
     ]
    }
   ],
   "source": [
    "# Specify the embeddings 'glove', 'xlnet', 'fasttext', 'elmo', 'ensemble'\n",
    "train_data_list_global, test_data_list_global = use_embeddings()\n",
    "#train_data_list_global, test_data_list_global = bert_embeddings()\n",
    "#train_data_list_global, test_data_list_global = infersent_embeddings()\n",
    "#train_data_list_global, test_data_list_global = elmo_embeddings()\n",
    "#train_data_list_global, test_data_list_global = other_embeddings('glove')"
   ]
  },
  {
   "cell_type": "code",
   "execution_count": null,
   "metadata": {},
   "outputs": [],
   "source": [
    "train_data_list = train_data_list_global\n",
    "test_data_list = test_data_list_global"
   ]
  },
  {
   "cell_type": "code",
   "execution_count": 104,
   "metadata": {},
   "outputs": [],
   "source": [
    "# OCSVM model\n",
    "def oneclass_svm(dataset, kernel, nu):\n",
    "    svm = OneClassSVM(kernel=kernel, nu=nu).fit(dataset)\n",
    "    return svm\n",
    "  \n",
    "# Isolation Forest\n",
    "def isolationForest(dataset, rng):\n",
    "    isolationforest = IsolationForest(behaviour='new', max_samples=100, random_state=rng, contamination='auto').fit(dataset)\n",
    "    return isolationforest\n",
    "\n",
    "def local_outlier_factory(dataset, neighbours):\n",
    "    lof = LocalOutlierFactor(n_neighbors=neighbours, contamination=0.1,novelty=True).fit(dataset)\n",
    "    return lof\n",
    "\n",
    "def pca(train, test):\n",
    "    print('Principal Component Analysis ...')\n",
    "    ss = StandardScaler()\n",
    "    ss.fit(train)\n",
    "    train = ss.transform(train)\n",
    "    test = ss.transform(test)\n",
    "    pca = PCA()\n",
    "    pca = pca.fit(train)\n",
    "    print('Explained variance percentage = %0.2f' % sum(pca.explained_variance_ratio_))\n",
    "    plt.plot(np.cumsum(pca.explained_variance_ratio_))\n",
    "    plt.xlabel('Number of components')\n",
    "    plt.ylabel('Cumulative explained variance')\n",
    "    train = pca.transform(train)\n",
    "    test = pca.transform(test)\n",
    "    return train, test\n",
    "\n",
    "def results(model, train_true_labels, train_predicted_labels, test_true_labels, test_predicted_labels):\n",
    "    print('Model: ', model)\n",
    "    print(\"Train accuracy:\", accuracy_score(train_true_labels, train_predicted_labels))\n",
    "    print(\"Test accuracy:\", accuracy_score(test_true_labels, test_predicted_labels))\n",
    "    results = confusion_matrix(test_true_labels, test_predicted_labels, [1,-1]) \n",
    "    #print('Confusion Matrix :')\n",
    "    #print(results) \n",
    "    #print('Report : ')\n",
    "    LABELS = [\"known\", \"unknown\"]\n",
    "    plt.figure(figsize=(6, 6))\n",
    "    sns.heatmap(results, xticklabels=LABELS, yticklabels=LABELS, annot=True, fmt=\"d\");\n",
    "    plt.title(\"Confusion matrix - Reuters - \" + str(model))\n",
    "    plt.ylabel('True class')\n",
    "    plt.xlabel('Predicted class')\n",
    "    plt.show()\n",
    "    print(classification_report(test_true_labels, test_predicted_labels))"
   ]
  },
  {
   "cell_type": "code",
   "execution_count": 105,
   "metadata": {},
   "outputs": [
    {
     "name": "stdout",
     "output_type": "stream",
     "text": [
      "Principal Component Analysis ...\n",
      "Explained variance percentage = 1.00\n"
     ]
    },
    {
     "data": {
      "image/png": "[encoded data removed]",
      "text/plain": [
       "<Figure size 432x288 with 1 Axes>"
      ]
     },
     "metadata": {
      "needs_background": "light"
     },
     "output_type": "display_data"
    }
   ],
   "source": [
    "train_data_list, test_data_list = pca(train_data_list, test_data_list)"
   ]
  },
  {
   "cell_type": "code",
   "execution_count": 106,
   "metadata": {},
   "outputs": [
    {
     "name": "stderr",
     "output_type": "stream",
     "text": [
      "/opt/conda/lib/python3.7/site-packages/sklearn/svm/base.py:193: FutureWarning: The default value of gamma will change from 'auto' to 'scale' in version 0.22 to account better for unscaled features. Set gamma explicitly to 'auto' or 'scale' to avoid this warning.\n",
      "  \"avoid this warning.\", FutureWarning)\n"
     ]
    },
    {
     "name": "stdout",
     "output_type": "stream",
     "text": [
      "Model:  one Class SVM\n",
      "Train accuracy: 0.8994020400984876\n",
      "Test accuracy: 0.6653730056058645\n"
     ]
    },
    {
     "data": {
      "image/png": "[encoded data removed]",
      "text/plain": [
       "<Figure size 432x432 with 2 Axes>"
      ]
     },
     "metadata": {
      "needs_background": "light"
     },
     "output_type": "display_data"
    },
    {
     "name": "stdout",
     "output_type": "stream",
     "text": [
      "              precision    recall  f1-score   support\n",
      "\n",
      "          -1       0.87      0.44      0.58      1236\n",
      "           1       0.59      0.93      0.72      1083\n",
      "\n",
      "    accuracy                           0.67      2319\n",
      "   macro avg       0.73      0.68      0.65      2319\n",
      "weighted avg       0.74      0.67      0.65      2319\n",
      "\n"
     ]
    }
   ],
   "source": [
    "svm_model = oneclass_svm(train_data_list, 'rbf', 0.1)\n",
    "y_pred_train = svm_model.predict(train_data_list)\n",
    "y_pred_test = svm_model.predict(test_data_list)\n",
    "results('one Class SVM', final_train['new_label'].tolist(), y_pred_train, final_test['new_label'].tolist(), y_pred_test)"
   ]
  },
  {
   "cell_type": "code",
   "execution_count": 26,
   "metadata": {},
   "outputs": [],
   "source": [
    "#train_scores_svm = svm_model.decision_function(train_data_list)\n",
    "#test_scores_svm = svm_model.decision_function(test_data_list)\n",
    "#print(train_scores)"
   ]
  },
  {
   "cell_type": "code",
   "execution_count": 88,
   "metadata": {},
   "outputs": [
    {
     "name": "stdout",
     "output_type": "stream",
     "text": [
      "Model:  Isolation Forest\n",
      "Train accuracy: 0.9296517762926486\n",
      "Test accuracy: 0.7313497197067702\n"
     ]
    },
    {
     "data": {
      "image/png": "[encoded data removed]",
      "text/plain": [
       "<Figure size 432x432 with 2 Axes>"
      ]
     },
     "metadata": {
      "needs_background": "light"
     },
     "output_type": "display_data"
    },
    {
     "name": "stdout",
     "output_type": "stream",
     "text": [
      "              precision    recall  f1-score   support\n",
      "\n",
      "          -1       0.90      0.55      0.69      1236\n",
      "           1       0.65      0.93      0.76      1083\n",
      "\n",
      "    accuracy                           0.73      2319\n",
      "   macro avg       0.78      0.74      0.73      2319\n",
      "weighted avg       0.78      0.73      0.72      2319\n",
      "\n"
     ]
    }
   ],
   "source": [
    "rand_state = np.random.RandomState(42)\n",
    "iso_forest = isolationForest(train_data_list, rand_state)\n",
    "y_pred_iso_train = iso_forest.predict(train_data_list)\n",
    "y_pred_iso_test = iso_forest.predict(test_data_list)\n",
    "results('Isolation Forest', final_train['new_label'].tolist(), y_pred_iso_train, final_test['new_label'].tolist(), y_pred_iso_test)"
   ]
  },
  {
   "cell_type": "code",
   "execution_count": 89,
   "metadata": {},
   "outputs": [
    {
     "name": "stdout",
     "output_type": "stream",
     "text": [
      "Model:  Local Outlier Factory\n",
      "Train accuracy: 0.9004572634540978\n",
      "Test accuracy: 0.7248814144027598\n"
     ]
    },
    {
     "data": {
      "image/png": "[encoded data removed]",
      "text/plain": [
       "<Figure size 432x432 with 2 Axes>"
      ]
     },
     "metadata": {
      "needs_background": "light"
     },
     "output_type": "display_data"
    },
    {
     "name": "stdout",
     "output_type": "stream",
     "text": [
      "              precision    recall  f1-score   support\n",
      "\n",
      "          -1       0.84      0.60      0.70      1236\n",
      "           1       0.65      0.87      0.75      1083\n",
      "\n",
      "    accuracy                           0.72      2319\n",
      "   macro avg       0.75      0.73      0.72      2319\n",
      "weighted avg       0.75      0.72      0.72      2319\n",
      "\n"
     ]
    }
   ],
   "source": [
    "lof = local_outlier_factory(train_data_list, 1000)\n",
    "y_pred_lof_train = lof.predict(train_data_list)\n",
    "y_pred_lof_test = lof.predict(test_data_list)\n",
    "results('Local Outlier Factory', final_train['new_label'].tolist(), y_pred_lof_train, final_test['new_label'].tolist(), y_pred_lof_test)"
   ]
  },
  {
   "cell_type": "code",
   "execution_count": 19,
   "metadata": {},
   "outputs": [],
   "source": [
    "train_data_df = webkb_train_dataset()\n",
    "test_data_df = webkb_test_dataset()"
   ]
  },
  {
   "cell_type": "code",
   "execution_count": 20,
   "metadata": {},
   "outputs": [],
   "source": [
    "def data_for_autoencoder():                 \n",
    "    # Numerical Labeling : 1 for normal class; -1 for anomaly class                    \n",
    "    train_data_df['new_label'] = train_data_df['label']\n",
    "    train_data_df.loc[train_data_df['label'] == 'student', 'new_label'] = 0\n",
    "    train_data_df.loc[train_data_df['label'] != 'student', 'new_label'] = 1\n",
    "    test_data_df['new_label'] = test_data_df['label']\n",
    "    test_data_df.loc[test_data_df['label'] == 'student', 'new_label'] = 0\n",
    "    test_data_df.loc[test_data_df['label'] != 'student', 'new_label'] = 1\n",
    "    # Preparing train data with only normal class\n",
    "    final_train = train_data_df.loc[train_data_df['new_label'] == 0]\n",
    "    print(final_train['new_label'].value_counts())\n",
    "    # Test data with both normal and other classes\n",
    "    final_test = test_data_df\n",
    "    print(final_test['new_label'].value_counts())\n",
    "    return final_train, final_test"
   ]
  },
  {
   "cell_type": "code",
   "execution_count": 21,
   "metadata": {},
   "outputs": [
    {
     "name": "stdout",
     "output_type": "stream",
     "text": [
      "0    1096\n",
      "Name: new_label, dtype: int64\n",
      "1    852\n",
      "0    543\n",
      "Name: new_label, dtype: int64\n"
     ]
    }
   ],
   "source": [
    "final_train, final_test = data_for_autoencoder()"
   ]
  },
  {
   "cell_type": "code",
   "execution_count": 110,
   "metadata": {},
   "outputs": [
    {
     "name": "stdout",
     "output_type": "stream",
     "text": [
      "Vocab size : 100000\n",
      "Nb words kept : 121442/140578 (86.4%)\n",
      "Speed : 66.7 sentences/s (cpu mode, bsize=128)\n",
      "nb sentences encoded : 2843\n",
      "Nb words kept : 135786/154744 (87.7%)\n",
      "Speed : 57.5 sentences/s (cpu mode, bsize=128)\n",
      "nb sentences encoded : 2319\n"
     ]
    }
   ],
   "source": [
    "# Specify the embeddings 'glove', 'xlnet', 'fasttext', 'elmo', 'ensemble'\n",
    "#train_data_list, test_data_list = use_embeddings()\n",
    "#train_data_list, test_data_list = bert_embeddings()\n",
    "train_data_list, test_data_list = infersent_embeddings()\n",
    "#train_data_list, test_data_list = elmo_embeddings()\n",
    "#train_data_list, test_data_list = other_embeddings('glove')"
   ]
  },
  {
   "cell_type": "code",
   "execution_count": 111,
   "metadata": {},
   "outputs": [],
   "source": [
    "X_train = train_data_list\n",
    "y_train = final_train['new_label'].tolist()\n",
    "X_test = test_data_list\n",
    "y_test = final_test['new_label'].tolist()"
   ]
  },
  {
   "cell_type": "code",
   "execution_count": 112,
   "metadata": {},
   "outputs": [
    {
     "name": "stdout",
     "output_type": "stream",
     "text": [
      "Train on 2843 samples, validate on 2319 samples\n",
      "Epoch 1/100\n",
      "2843/2843 [==============================] - 1s 323us/step - loss: 0.0056 - accuracy: 0.0000e+00 - val_loss: 0.0039 - val_accuracy: 0.0082\n",
      "Epoch 2/100\n",
      "2843/2843 [==============================] - 1s 223us/step - loss: 0.0032 - accuracy: 0.0820 - val_loss: 0.0040 - val_accuracy: 0.0276\n",
      "Epoch 3/100\n",
      "2843/2843 [==============================] - 1s 229us/step - loss: 0.0031 - accuracy: 0.0447 - val_loss: 0.0036 - val_accuracy: 0.0276\n",
      "Epoch 4/100\n",
      "2843/2843 [==============================] - 1s 222us/step - loss: 0.0029 - accuracy: 0.0510 - val_loss: 0.0037 - val_accuracy: 0.0673\n",
      "Epoch 5/100\n",
      "2843/2843 [==============================] - 1s 222us/step - loss: 0.0029 - accuracy: 0.0735 - val_loss: 0.0035 - val_accuracy: 0.0530\n",
      "Epoch 6/100\n",
      "2843/2843 [==============================] - 1s 224us/step - loss: 0.0028 - accuracy: 0.0841 - val_loss: 0.0036 - val_accuracy: 0.0565\n",
      "Epoch 7/100\n",
      "2843/2843 [==============================] - 1s 223us/step - loss: 0.0028 - accuracy: 0.1069 - val_loss: 0.0035 - val_accuracy: 0.0940\n",
      "Epoch 8/100\n",
      "2843/2843 [==============================] - 1s 217us/step - loss: 0.0027 - accuracy: 0.1076 - val_loss: 0.0033 - val_accuracy: 0.1414\n",
      "Epoch 9/100\n",
      "2843/2843 [==============================] - 1s 228us/step - loss: 0.0026 - accuracy: 0.1252 - val_loss: 0.0032 - val_accuracy: 0.1315\n",
      "Epoch 10/100\n",
      "2843/2843 [==============================] - 1s 214us/step - loss: 0.0026 - accuracy: 0.1323 - val_loss: 0.0035 - val_accuracy: 0.0819\n",
      "Epoch 11/100\n",
      "2843/2843 [==============================] - 1s 217us/step - loss: 0.0027 - accuracy: 0.1439 - val_loss: 0.0032 - val_accuracy: 0.1005\n",
      "Epoch 12/100\n",
      "2843/2843 [==============================] - 1s 227us/step - loss: 0.0026 - accuracy: 0.1752 - val_loss: 0.0033 - val_accuracy: 0.2199\n",
      "Epoch 13/100\n",
      "2843/2843 [==============================] - 1s 212us/step - loss: 0.0026 - accuracy: 0.2079 - val_loss: 0.0031 - val_accuracy: 0.1276\n",
      "Epoch 14/100\n",
      "2843/2843 [==============================] - 1s 219us/step - loss: 0.0025 - accuracy: 0.2276 - val_loss: 0.0033 - val_accuracy: 0.0837\n",
      "Epoch 15/100\n",
      "2843/2843 [==============================] - 1s 227us/step - loss: 0.0026 - accuracy: 0.2248 - val_loss: 0.0031 - val_accuracy: 0.1479\n",
      "Epoch 16/100\n",
      "2843/2843 [==============================] - 1s 218us/step - loss: 0.0024 - accuracy: 0.2445 - val_loss: 0.0030 - val_accuracy: 0.2251\n",
      "Epoch 17/100\n",
      "2843/2843 [==============================] - 1s 219us/step - loss: 0.0024 - accuracy: 0.2596 - val_loss: 0.0034 - val_accuracy: 0.1639\n",
      "Epoch 18/100\n",
      "2843/2843 [==============================] - 1s 224us/step - loss: 0.0024 - accuracy: 0.2870 - val_loss: 0.0031 - val_accuracy: 0.2346\n",
      "Epoch 19/100\n",
      "2843/2843 [==============================] - 1s 218us/step - loss: 0.0024 - accuracy: 0.2782 - val_loss: 0.0031 - val_accuracy: 0.1751\n",
      "Epoch 20/100\n",
      "2843/2843 [==============================] - 1s 229us/step - loss: 0.0024 - accuracy: 0.2817 - val_loss: 0.0031 - val_accuracy: 0.2186\n",
      "Epoch 21/100\n",
      "2843/2843 [==============================] - 1s 220us/step - loss: 0.0025 - accuracy: 0.2842 - val_loss: 0.0030 - val_accuracy: 0.2367\n",
      "Epoch 22/100\n",
      "2843/2843 [==============================] - 1s 221us/step - loss: 0.0024 - accuracy: 0.2874 - val_loss: 0.0030 - val_accuracy: 0.1880\n",
      "Epoch 23/100\n",
      "2843/2843 [==============================] - 1s 225us/step - loss: 0.0024 - accuracy: 0.2867 - val_loss: 0.0031 - val_accuracy: 0.1768\n",
      "Epoch 24/100\n",
      "2843/2843 [==============================] - 1s 221us/step - loss: 0.0024 - accuracy: 0.3050 - val_loss: 0.0030 - val_accuracy: 0.2523\n",
      "Epoch 25/100\n",
      "2843/2843 [==============================] - 1s 223us/step - loss: 0.0023 - accuracy: 0.3043 - val_loss: 0.0030 - val_accuracy: 0.1764\n",
      "Epoch 26/100\n",
      "2843/2843 [==============================] - 1s 223us/step - loss: 0.0024 - accuracy: 0.3046 - val_loss: 0.0032 - val_accuracy: 0.1673\n",
      "Epoch 27/100\n",
      "2843/2843 [==============================] - 1s 214us/step - loss: 0.0024 - accuracy: 0.3011 - val_loss: 0.0032 - val_accuracy: 0.2536\n",
      "Epoch 28/100\n",
      "2843/2843 [==============================] - 1s 212us/step - loss: 0.0023 - accuracy: 0.3134 - val_loss: 0.0029 - val_accuracy: 0.2277\n",
      "Epoch 29/100\n",
      "2843/2843 [==============================] - 1s 227us/step - loss: 0.0023 - accuracy: 0.3159 - val_loss: 0.0032 - val_accuracy: 0.1928\n",
      "Epoch 30/100\n",
      "2843/2843 [==============================] - 1s 224us/step - loss: 0.0024 - accuracy: 0.3102 - val_loss: 0.0032 - val_accuracy: 0.2290\n",
      "Epoch 31/100\n",
      "2843/2843 [==============================] - 1s 223us/step - loss: 0.0023 - accuracy: 0.3127 - val_loss: 0.0030 - val_accuracy: 0.1919\n",
      "Epoch 32/100\n",
      "2843/2843 [==============================] - 1s 225us/step - loss: 0.0023 - accuracy: 0.3180 - val_loss: 0.0030 - val_accuracy: 0.1462\n",
      "Epoch 33/100\n",
      "2843/2843 [==============================] - 1s 223us/step - loss: 0.0022 - accuracy: 0.3092 - val_loss: 0.0029 - val_accuracy: 0.1742\n",
      "Epoch 34/100\n",
      "2843/2843 [==============================] - 1s 226us/step - loss: 0.0023 - accuracy: 0.3099 - val_loss: 0.0030 - val_accuracy: 0.2035\n",
      "Epoch 35/100\n",
      "2843/2843 [==============================] - 1s 214us/step - loss: 0.0023 - accuracy: 0.3123 - val_loss: 0.0030 - val_accuracy: 0.2454\n",
      "Epoch 36/100\n",
      "2843/2843 [==============================] - 1s 222us/step - loss: 0.0023 - accuracy: 0.3190 - val_loss: 0.0030 - val_accuracy: 0.2264\n",
      "Epoch 37/100\n",
      "2843/2843 [==============================] - 1s 227us/step - loss: 0.0022 - accuracy: 0.3299 - val_loss: 0.0035 - val_accuracy: 0.2423\n",
      "Epoch 38/100\n",
      "2843/2843 [==============================] - 1s 211us/step - loss: 0.0023 - accuracy: 0.3215 - val_loss: 0.0030 - val_accuracy: 0.2419\n",
      "Epoch 39/100\n",
      "2843/2843 [==============================] - 1s 222us/step - loss: 0.0023 - accuracy: 0.3292 - val_loss: 0.0031 - val_accuracy: 0.1673\n",
      "Epoch 40/100\n",
      "2843/2843 [==============================] - 1s 227us/step - loss: 0.0023 - accuracy: 0.3352 - val_loss: 0.0030 - val_accuracy: 0.2320\n",
      "Epoch 41/100\n",
      "2843/2843 [==============================] - 1s 223us/step - loss: 0.0023 - accuracy: 0.3352 - val_loss: 0.0031 - val_accuracy: 0.2505\n",
      "Epoch 42/100\n",
      "2843/2843 [==============================] - 1s 220us/step - loss: 0.0022 - accuracy: 0.3247 - val_loss: 0.0029 - val_accuracy: 0.2277\n",
      "Epoch 43/100\n",
      "2843/2843 [==============================] - 1s 219us/step - loss: 0.0022 - accuracy: 0.3229 - val_loss: 0.0028 - val_accuracy: 0.2294\n",
      "Epoch 44/100\n",
      "2843/2843 [==============================] - 1s 214us/step - loss: 0.0022 - accuracy: 0.3229 - val_loss: 0.0030 - val_accuracy: 0.2613\n",
      "Epoch 45/100\n",
      "2843/2843 [==============================] - 1s 225us/step - loss: 0.0023 - accuracy: 0.3240 - val_loss: 0.0031 - val_accuracy: 0.1298\n",
      "Epoch 46/100\n",
      "2843/2843 [==============================] - 1s 223us/step - loss: 0.0022 - accuracy: 0.3271 - val_loss: 0.0029 - val_accuracy: 0.1656\n",
      "Epoch 47/100\n",
      "2843/2843 [==============================] - 1s 221us/step - loss: 0.0022 - accuracy: 0.3247 - val_loss: 0.0030 - val_accuracy: 0.2044\n",
      "Epoch 48/100\n",
      "2843/2843 [==============================] - 1s 226us/step - loss: 0.0023 - accuracy: 0.3211 - val_loss: 0.0030 - val_accuracy: 0.2531\n",
      "Epoch 49/100\n",
      "2843/2843 [==============================] - 1s 219us/step - loss: 0.0022 - accuracy: 0.3422 - val_loss: 0.0030 - val_accuracy: 0.1915\n",
      "Epoch 50/100\n",
      "2843/2843 [==============================] - 1s 220us/step - loss: 0.0022 - accuracy: 0.3264 - val_loss: 0.0031 - val_accuracy: 0.1591\n",
      "Epoch 51/100\n",
      "2843/2843 [==============================] - 1s 224us/step - loss: 0.0022 - accuracy: 0.3363 - val_loss: 0.0028 - val_accuracy: 0.2367\n",
      "Epoch 52/100\n",
      "2843/2843 [==============================] - 1s 220us/step - loss: 0.0022 - accuracy: 0.3278 - val_loss: 0.0028 - val_accuracy: 0.2471\n",
      "Epoch 53/100\n",
      "2843/2843 [==============================] - 1s 214us/step - loss: 0.0022 - accuracy: 0.3356 - val_loss: 0.0031 - val_accuracy: 0.2009\n",
      "Epoch 54/100\n",
      "2843/2843 [==============================] - 1s 230us/step - loss: 0.0022 - accuracy: 0.3257 - val_loss: 0.0029 - val_accuracy: 0.1410\n",
      "Epoch 55/100\n",
      "2843/2843 [==============================] - 1s 221us/step - loss: 0.0022 - accuracy: 0.3412 - val_loss: 0.0029 - val_accuracy: 0.1389\n",
      "Epoch 56/100\n"
     ]
    },
    {
     "name": "stdout",
     "output_type": "stream",
     "text": [
      "2843/2843 [==============================] - 1s 224us/step - loss: 0.0023 - accuracy: 0.3067 - val_loss: 0.0029 - val_accuracy: 0.2277\n",
      "Epoch 57/100\n",
      "2843/2843 [==============================] - 1s 227us/step - loss: 0.0022 - accuracy: 0.3303 - val_loss: 0.0029 - val_accuracy: 0.2687\n",
      "Epoch 58/100\n",
      "2843/2843 [==============================] - 1s 220us/step - loss: 0.0022 - accuracy: 0.3236 - val_loss: 0.0029 - val_accuracy: 0.1841\n",
      "Epoch 59/100\n",
      "2843/2843 [==============================] - 1s 226us/step - loss: 0.0021 - accuracy: 0.3380 - val_loss: 0.0028 - val_accuracy: 0.1953\n",
      "Epoch 60/100\n",
      "2843/2843 [==============================] - 1s 227us/step - loss: 0.0022 - accuracy: 0.3292 - val_loss: 0.0029 - val_accuracy: 0.2234\n",
      "Epoch 61/100\n",
      "2843/2843 [==============================] - 1s 218us/step - loss: 0.0021 - accuracy: 0.3299 - val_loss: 0.0028 - val_accuracy: 0.2040\n",
      "Epoch 62/100\n",
      "2843/2843 [==============================] - 1s 227us/step - loss: 0.0022 - accuracy: 0.3130 - val_loss: 0.0033 - val_accuracy: 0.2540\n",
      "Epoch 63/100\n",
      "2843/2843 [==============================] - 1s 223us/step - loss: 0.0021 - accuracy: 0.3373 - val_loss: 0.0030 - val_accuracy: 0.2527\n",
      "Epoch 64/100\n",
      "2843/2843 [==============================] - 1s 226us/step - loss: 0.0022 - accuracy: 0.3254 - val_loss: 0.0029 - val_accuracy: 0.1746\n",
      "Epoch 65/100\n",
      "2843/2843 [==============================] - 1s 229us/step - loss: 0.0023 - accuracy: 0.3211 - val_loss: 0.0029 - val_accuracy: 0.1846\n",
      "Epoch 66/100\n",
      "2843/2843 [==============================] - 1s 197us/step - loss: 0.0021 - accuracy: 0.3352 - val_loss: 0.0028 - val_accuracy: 0.1380\n",
      "Epoch 67/100\n",
      "2843/2843 [==============================] - 1s 217us/step - loss: 0.0022 - accuracy: 0.3166 - val_loss: 0.0029 - val_accuracy: 0.2156\n",
      "Epoch 68/100\n",
      "2843/2843 [==============================] - 1s 228us/step - loss: 0.0022 - accuracy: 0.3324 - val_loss: 0.0033 - val_accuracy: 0.2656\n",
      "Epoch 69/100\n",
      "2843/2843 [==============================] - 1s 215us/step - loss: 0.0022 - accuracy: 0.3155 - val_loss: 0.0029 - val_accuracy: 0.2298\n",
      "Epoch 70/100\n",
      "2843/2843 [==============================] - 1s 223us/step - loss: 0.0022 - accuracy: 0.3303 - val_loss: 0.0029 - val_accuracy: 0.2255\n",
      "Epoch 71/100\n",
      "2843/2843 [==============================] - 1s 222us/step - loss: 0.0022 - accuracy: 0.3211 - val_loss: 0.0028 - val_accuracy: 0.2135\n",
      "Epoch 72/100\n",
      "2843/2843 [==============================] - 1s 227us/step - loss: 0.0022 - accuracy: 0.3190 - val_loss: 0.0031 - val_accuracy: 0.2566\n",
      "Epoch 73/100\n",
      "2843/2843 [==============================] - 1s 216us/step - loss: 0.0021 - accuracy: 0.3254 - val_loss: 0.0028 - val_accuracy: 0.2242\n",
      "Epoch 74/100\n",
      "2843/2843 [==============================] - 1s 214us/step - loss: 0.0022 - accuracy: 0.3152 - val_loss: 0.0032 - val_accuracy: 0.1928\n",
      "Epoch 75/100\n",
      "2843/2843 [==============================] - 1s 210us/step - loss: 0.0021 - accuracy: 0.3342 - val_loss: 0.0027 - val_accuracy: 0.2428\n",
      "Epoch 76/100\n",
      "2843/2843 [==============================] - 1s 225us/step - loss: 0.0022 - accuracy: 0.3155 - val_loss: 0.0029 - val_accuracy: 0.2251\n",
      "Epoch 77/100\n",
      "2843/2843 [==============================] - 1s 221us/step - loss: 0.0021 - accuracy: 0.3275 - val_loss: 0.0027 - val_accuracy: 0.2346\n",
      "Epoch 78/100\n",
      "2843/2843 [==============================] - 1s 222us/step - loss: 0.0022 - accuracy: 0.3032 - val_loss: 0.0029 - val_accuracy: 0.2613\n",
      "Epoch 79/100\n",
      "2843/2843 [==============================] - 1s 223us/step - loss: 0.0021 - accuracy: 0.3345 - val_loss: 0.0030 - val_accuracy: 0.1880\n",
      "Epoch 80/100\n",
      "2843/2843 [==============================] - 1s 227us/step - loss: 0.0021 - accuracy: 0.3306 - val_loss: 0.0027 - val_accuracy: 0.2096\n",
      "Epoch 81/100\n",
      "2843/2843 [==============================] - 1s 225us/step - loss: 0.0022 - accuracy: 0.3229 - val_loss: 0.0029 - val_accuracy: 0.2316\n",
      "Epoch 82/100\n",
      "2843/2843 [==============================] - 1s 218us/step - loss: 0.0022 - accuracy: 0.3240 - val_loss: 0.0031 - val_accuracy: 0.2324\n",
      "Epoch 83/100\n",
      "2843/2843 [==============================] - 1s 218us/step - loss: 0.0021 - accuracy: 0.3247 - val_loss: 0.0031 - val_accuracy: 0.2682\n",
      "Epoch 84/100\n",
      "2843/2843 [==============================] - 1s 228us/step - loss: 0.0022 - accuracy: 0.3180 - val_loss: 0.0030 - val_accuracy: 0.1721\n",
      "Epoch 85/100\n",
      "2843/2843 [==============================] - 1s 225us/step - loss: 0.0022 - accuracy: 0.3218 - val_loss: 0.0029 - val_accuracy: 0.2454\n",
      "Epoch 86/100\n",
      "2843/2843 [==============================] - 1s 220us/step - loss: 0.0021 - accuracy: 0.3116 - val_loss: 0.0028 - val_accuracy: 0.2393\n",
      "Epoch 87/100\n",
      "2843/2843 [==============================] - 1s 224us/step - loss: 0.0021 - accuracy: 0.3176 - val_loss: 0.0028 - val_accuracy: 0.1557\n",
      "Epoch 88/100\n",
      "2843/2843 [==============================] - 1s 221us/step - loss: 0.0022 - accuracy: 0.3183 - val_loss: 0.0032 - val_accuracy: 0.1639\n",
      "Epoch 89/100\n",
      "2843/2843 [==============================] - 1s 217us/step - loss: 0.0021 - accuracy: 0.3292 - val_loss: 0.0031 - val_accuracy: 0.1604\n",
      "Epoch 90/100\n",
      "2843/2843 [==============================] - 1s 226us/step - loss: 0.0021 - accuracy: 0.3317 - val_loss: 0.0028 - val_accuracy: 0.2061\n",
      "Epoch 91/100\n",
      "2843/2843 [==============================] - 1s 218us/step - loss: 0.0022 - accuracy: 0.3211 - val_loss: 0.0030 - val_accuracy: 0.1531\n",
      "Epoch 92/100\n",
      "2843/2843 [==============================] - 1s 227us/step - loss: 0.0021 - accuracy: 0.3218 - val_loss: 0.0027 - val_accuracy: 0.1320\n",
      "Epoch 93/100\n",
      "2843/2843 [==============================] - 1s 226us/step - loss: 0.0022 - accuracy: 0.3148 - val_loss: 0.0028 - val_accuracy: 0.2501\n",
      "Epoch 94/100\n",
      "2843/2843 [==============================] - 1s 218us/step - loss: 0.0021 - accuracy: 0.3405 - val_loss: 0.0031 - val_accuracy: 0.1587\n",
      "Epoch 95/100\n",
      "2843/2843 [==============================] - 1s 228us/step - loss: 0.0022 - accuracy: 0.3155 - val_loss: 0.0028 - val_accuracy: 0.2367\n",
      "Epoch 96/100\n",
      "2843/2843 [==============================] - 1s 223us/step - loss: 0.0020 - accuracy: 0.3268 - val_loss: 0.0029 - val_accuracy: 0.1514\n",
      "Epoch 97/100\n",
      "2843/2843 [==============================] - 1s 220us/step - loss: 0.0022 - accuracy: 0.2986 - val_loss: 0.0028 - val_accuracy: 0.2242\n",
      "Epoch 98/100\n",
      "2843/2843 [==============================] - 1s 225us/step - loss: 0.0022 - accuracy: 0.3257 - val_loss: 0.0028 - val_accuracy: 0.2277\n",
      "Epoch 99/100\n",
      "2843/2843 [==============================] - 1s 222us/step - loss: 0.0021 - accuracy: 0.3261 - val_loss: 0.0029 - val_accuracy: 0.2553\n",
      "Epoch 100/100\n",
      "2843/2843 [==============================] - 1s 222us/step - loss: 0.0021 - accuracy: 0.3303 - val_loss: 0.0030 - val_accuracy: 0.1699\n"
     ]
    }
   ],
   "source": [
    "input_dim = X_train.shape[1]\n",
    "encoding_dim = 14\n",
    "nb_epoch = 100\n",
    "batch_size = 32\n",
    "\n",
    "input_layer = Input(shape=(input_dim, ))\n",
    "encoder = Dense(encoding_dim, activation=\"tanh\", \n",
    "                activity_regularizer=regularizers.l1(10e-5))(input_layer)\n",
    "encoder = Dense(int(encoding_dim / 2), activation=\"relu\")(encoder)\n",
    "decoder = Dense(int(encoding_dim / 2), activation='tanh')(encoder)\n",
    "decoder = Dense(input_dim, activation='relu')(decoder)\n",
    "autoencoder = Model(inputs=input_layer, outputs=decoder)\n",
    "\n",
    "\n",
    "autoencoder.compile(optimizer='adam', \n",
    "                    loss='mean_squared_error', \n",
    "                    metrics=['accuracy'])\n",
    "\n",
    "checkpointer = ModelCheckpoint(filepath=\"model_reuters.h5\",\n",
    "                               verbose=0,\n",
    "                               save_best_only=True)\n",
    "tensorboard = TensorBoard(log_dir='./logs_reuters',\n",
    "                          histogram_freq=0,\n",
    "                          write_graph=True,\n",
    "                          write_images=True)\n",
    "\n",
    "history = autoencoder.fit(X_train, X_train,\n",
    "                    epochs=nb_epoch,\n",
    "                    batch_size=batch_size,\n",
    "                    shuffle=True,\n",
    "                    validation_data=(X_test, X_test),\n",
    "                    verbose=1,\n",
    "                    callbacks=[checkpointer, tensorboard]).history"
   ]
  },
  {
   "cell_type": "code",
   "execution_count": 113,
   "metadata": {},
   "outputs": [
    {
     "data": {
      "text/plain": [
       "<matplotlib.legend.Legend at 0x7f8c89f08b38>"
      ]
     },
     "execution_count": 113,
     "metadata": {},
     "output_type": "execute_result"
    },
    {
     "data": {
      "image/png": "[encoded data removed]",
      "text/plain": [
       "<Figure size 432x288 with 1 Axes>"
      ]
     },
     "metadata": {
      "needs_background": "light"
     },
     "output_type": "display_data"
    }
   ],
   "source": [
    "plt.plot(history['loss'])\n",
    "plt.plot(history['val_loss'])\n",
    "plt.title('Model loss')\n",
    "plt.ylabel('loss')\n",
    "plt.xlabel('epoch')\n",
    "plt.legend(['train', 'test'], loc='upper right')"
   ]
  },
  {
   "cell_type": "code",
   "execution_count": 114,
   "metadata": {},
   "outputs": [
    {
     "data": {
      "text/html": [
       "<div>\n",
       "<style scoped>\n",
       "    .dataframe tbody tr th:only-of-type {\n",
       "        vertical-align: middle;\n",
       "    }\n",
       "\n",
       "    .dataframe tbody tr th {\n",
       "        vertical-align: top;\n",
       "    }\n",
       "\n",
       "    .dataframe thead th {\n",
       "        text-align: right;\n",
       "    }\n",
       "</style>\n",
       "<table border=\"1\" class=\"dataframe\">\n",
       "  <thead>\n",
       "    <tr style=\"text-align: right;\">\n",
       "      <th></th>\n",
       "      <th>reconstruction_error</th>\n",
       "      <th>true_class</th>\n",
       "    </tr>\n",
       "  </thead>\n",
       "  <tbody>\n",
       "    <tr>\n",
       "      <th>count</th>\n",
       "      <td>2319.000000</td>\n",
       "      <td>2319.000000</td>\n",
       "    </tr>\n",
       "    <tr>\n",
       "      <th>mean</th>\n",
       "      <td>0.001814</td>\n",
       "      <td>0.532988</td>\n",
       "    </tr>\n",
       "    <tr>\n",
       "      <th>std</th>\n",
       "      <td>0.000573</td>\n",
       "      <td>0.499018</td>\n",
       "    </tr>\n",
       "    <tr>\n",
       "      <th>min</th>\n",
       "      <td>0.000624</td>\n",
       "      <td>0.000000</td>\n",
       "    </tr>\n",
       "    <tr>\n",
       "      <th>25%</th>\n",
       "      <td>0.001413</td>\n",
       "      <td>0.000000</td>\n",
       "    </tr>\n",
       "    <tr>\n",
       "      <th>50%</th>\n",
       "      <td>0.001775</td>\n",
       "      <td>1.000000</td>\n",
       "    </tr>\n",
       "    <tr>\n",
       "      <th>75%</th>\n",
       "      <td>0.002164</td>\n",
       "      <td>1.000000</td>\n",
       "    </tr>\n",
       "    <tr>\n",
       "      <th>max</th>\n",
       "      <td>0.004626</td>\n",
       "      <td>1.000000</td>\n",
       "    </tr>\n",
       "  </tbody>\n",
       "</table>\n",
       "</div>"
      ],
      "text/plain": [
       "       reconstruction_error   true_class\n",
       "count           2319.000000  2319.000000\n",
       "mean               0.001814     0.532988\n",
       "std                0.000573     0.499018\n",
       "min                0.000624     0.000000\n",
       "25%                0.001413     0.000000\n",
       "50%                0.001775     1.000000\n",
       "75%                0.002164     1.000000\n",
       "max                0.004626     1.000000"
      ]
     },
     "execution_count": 114,
     "metadata": {},
     "output_type": "execute_result"
    }
   ],
   "source": [
    "#Load the model for prediction\n",
    "autoencoder = load_model('model_reuters.h5')\n",
    "predictions = autoencoder.predict(X_test)\n",
    "\n",
    "mse = np.mean(np.power(X_test - predictions, 2), axis=1)\n",
    "error_df = pd.DataFrame({'reconstruction_error': mse,\n",
    "                        'true_class': y_test})\n",
    "\n",
    "error_df.describe()"
   ]
  },
  {
   "cell_type": "code",
   "execution_count": 115,
   "metadata": {},
   "outputs": [
    {
     "data": {
      "image/png": "[encoded data removed]",
      "text/plain": [
       "<Figure size 432x288 with 1 Axes>"
      ]
     },
     "metadata": {
      "needs_background": "light"
     },
     "output_type": "display_data"
    }
   ],
   "source": [
    "fpr, tpr, thresholds = roc_curve(error_df.true_class, error_df.reconstruction_error)\n",
    "roc_auc = auc(fpr, tpr)\n",
    "\n",
    "plt.title('Receiver Operating Characteristic')\n",
    "plt.plot(fpr, tpr, label='AUC = %0.4f'% roc_auc)\n",
    "plt.legend(loc='lower right')\n",
    "plt.plot([0,1],[0,1],'r--')\n",
    "plt.xlim([-0.001, 1])\n",
    "plt.ylim([0, 1.001])\n",
    "plt.ylabel('True Positive Rate')\n",
    "plt.xlabel('False Positive Rate')\n",
    "plt.show()"
   ]
  },
  {
   "cell_type": "code",
   "execution_count": 116,
   "metadata": {},
   "outputs": [
    {
     "data": {
      "image/png": "[encoded data removed]",
      "text/plain": [
       "<Figure size 864x288 with 3 Axes>"
      ]
     },
     "metadata": {
      "needs_background": "light"
     },
     "output_type": "display_data"
    }
   ],
   "source": [
    "precision, recall, th = precision_recall_curve(error_df.true_class, error_df.reconstruction_error)\n",
    "#plt.plot(recall, precision, 'b', label='Precision-Recall curve')\n",
    "\n",
    "fig, axes = plt.subplots(nrows=1, ncols=3, figsize=(12,4))\n",
    "axes[0].plot(recall, precision, 'b', label='Precision-Recall curve')\n",
    "axes[0].set_title('Recall vs Precision')\n",
    "axes[1].plot(th, precision[1:], 'b', label='Threshold-Precision curve')\n",
    "axes[1].set_title('Precision for different threshold values')\n",
    "axes[2].plot(th, recall[1:], 'b', label='Threshold-Recall curve')\n",
    "axes[2].set_title('Recall for different threshold values')\n",
    "fig.tight_layout()"
   ]
  },
  {
   "cell_type": "code",
   "execution_count": 117,
   "metadata": {},
   "outputs": [
    {
     "name": "stdout",
     "output_type": "stream",
     "text": [
      "Maximum Test accuracy: 0.8275096594321778\n",
      "Threshold for maximal accuracy:  0.0017183068\n"
     ]
    },
    {
     "data": {
      "image/png": "[encoded data removed]",
      "text/plain": [
       "<Figure size 432x288 with 1 Axes>"
      ]
     },
     "metadata": {
      "needs_background": "light"
     },
     "output_type": "display_data"
    }
   ],
   "source": [
    "accuracies = []\n",
    "for threshold in th:\n",
    "    y_pred = [1 if e > threshold else 0 for e in error_df.reconstruction_error.values]\n",
    "    accuracies.append(balanced_accuracy_score(error_df.true_class, y_pred))\n",
    "print(\"Maximum Test accuracy:\", max(accuracies))\n",
    "#print(accuracies.index(max(accuracies)))\n",
    "print('Threshold for maximal accuracy: ', th[accuracies.index(max(accuracies))])\n",
    "threshold = th[accuracies.index(max(accuracies))]\n",
    "fig = plt.figure()\n",
    "ax = fig.add_subplot(111)\n",
    "_ = ax.hist(accuracies)"
   ]
  },
  {
   "cell_type": "code",
   "execution_count": 118,
   "metadata": {},
   "outputs": [
    {
     "data": {
      "image/png": "[encoded data removed]",
      "text/plain": [
       "<Figure size 432x288 with 1 Axes>"
      ]
     },
     "metadata": {
      "needs_background": "light"
     },
     "output_type": "display_data"
    }
   ],
   "source": [
    "groups = error_df.groupby('true_class')\n",
    "fig, ax = plt.subplots()\n",
    "for name, group in groups:\n",
    "    ax.plot(group.index, group.reconstruction_error, marker='o', ms=3.5, linestyle='',\n",
    "            label= \"known\" if name == 1 else \"unknown\")\n",
    "ax.hlines(threshold, ax.get_xlim()[0], ax.get_xlim()[1], colors=\"r\", zorder=100, label='Threshold')\n",
    "ax.legend()\n",
    "plt.title(\"Reconstruction error for different classes\")\n",
    "plt.ylabel(\"Reconstruction error\")\n",
    "plt.xlabel(\"Data point index\")\n",
    "plt.show()"
   ]
  },
  {
   "cell_type": "code",
   "execution_count": 119,
   "metadata": {},
   "outputs": [
    {
     "name": "stdout",
     "output_type": "stream",
     "text": [
      "Test accuracy: 0.8275096594321778\n"
     ]
    },
    {
     "data": {
      "image/png": "[encoded data removed]",
      "text/plain": [
       "<Figure size 432x432 with 2 Axes>"
      ]
     },
     "metadata": {
      "needs_background": "light"
     },
     "output_type": "display_data"
    }
   ],
   "source": [
    "LABELS = [\"known\", \"unknown\"]\n",
    "y_pred = [1 if e > threshold else 0 for e in error_df.reconstruction_error.values]\n",
    "conf_matrix = confusion_matrix(error_df.true_class, y_pred,[0,1])\n",
    "print(\"Test accuracy:\", balanced_accuracy_score(error_df.true_class, y_pred))\n",
    "plt.figure(figsize=(6,6))\n",
    "sns.heatmap(conf_matrix, xticklabels=LABELS, yticklabels=LABELS, annot=True, fmt=\"d\");\n",
    "plt.title(\"Confusion matrix - Reuters - Autoencoder\")\n",
    "plt.ylabel('True class')\n",
    "plt.xlabel('Predicted class')\n",
    "plt.show()"
   ]
  },
  {
   "cell_type": "markdown",
   "metadata": {},
   "source": [
    "Base individual models end. Ensemble approaches begin from here"
   ]
  },
  {
   "cell_type": "code",
   "execution_count": null,
   "metadata": {},
   "outputs": [],
   "source": [
    "y_pred_cvdd = [1.0, 1.0, 0.0, 1.0, 1.0, 1.0, 0.0, 1.0, 1.0, 1.0, 1.0, 1.0, 1.0, 1.0, 1.0, 1.0, 1.0, 0.0, 1.0, 1.0, 1.0, 1.0, 1.0, 1.0, 1.0, 1.0, 1.0, 0.0, 1.0, 1.0, 1.0, 1.0, 1.0, 1.0, 1.0, 1.0, 1.0, 1.0, 1.0, 1.0, 1.0, 1.0, 1.0, 1.0, 1.0, 1.0, 1.0, 1.0, 1.0, 0.0, 1.0, 1.0, 1.0, 1.0, 1.0, 1.0, 1.0, 1.0, 1.0, 1.0, 1.0, 1.0, 1.0, 1.0, 1.0, 1.0, 1.0, 1.0, 0.0, 1.0, 1.0, 1.0, 1.0, 1.0, 1.0, 1.0, 1.0, 0.0, 1.0, 1.0, 1.0, 0.0, 1.0, 1.0, 1.0, 0.0, 1.0, 1.0, 1.0, 1.0, 0.0, 1.0, 1.0, 0.0, 1.0, 1.0, 0.0, 1.0, 1.0, 1.0, 1.0, 1.0, 1.0, 1.0, 0.0, 1.0, 1.0, 1.0, 1.0, 1.0, 1.0, 1.0, 1.0, 1.0, 1.0, 1.0, 1.0, 1.0, 1.0, 1.0, 1.0, 1.0, 1.0, 1.0, 1.0, 1.0, 1.0, 1.0, 1.0, 1.0, 1.0, 1.0, 1.0, 1.0, 0.0, 0.0, 1.0, 0.0, 0.0, 1.0, 1.0, 1.0, 0.0, 0.0, 1.0, 0.0, 1.0, 1.0, 1.0, 0.0, 1.0, 1.0, 0.0, 1.0, 1.0, 1.0, 1.0, 1.0, 1.0, 1.0, 1.0, 1.0, 1.0, 1.0, 1.0, 1.0, 0.0, 0.0, 0.0, 1.0, 1.0, 0.0, 1.0, 1.0, 1.0, 0.0, 1.0, 1.0, 1.0, 0.0, 0.0, 1.0, 1.0, 1.0, 1.0, 1.0, 1.0, 1.0, 1.0, 1.0, 1.0, 1.0, 1.0, 1.0, 0.0, 1.0, 1.0, 1.0, 1.0, 1.0, 0.0, 0.0, 1.0, 0.0, 1.0, 1.0, 1.0, 1.0, 1.0, 0.0, 0.0, 1.0, 0.0, 0.0, 1.0, 1.0, 0.0, 1.0, 1.0, 1.0, 1.0, 1.0, 1.0, 1.0, 0.0, 1.0, 1.0, 0.0, 1.0, 1.0, 1.0, 1.0, 1.0, 1.0, 0.0, 1.0, 1.0, 0.0, 1.0, 1.0, 1.0, 1.0, 1.0, 1.0, 1.0, 1.0, 1.0, 1.0, 1.0, 1.0, 1.0, 1.0, 0.0, 1.0, 1.0, 1.0, 1.0, 1.0, 1.0, 1.0, 1.0, 0.0, 1.0, 1.0, 1.0, 1.0, 1.0, 1.0, 1.0, 1.0, 1.0, 1.0, 0.0, 1.0, 0.0, 1.0, 0.0, 1.0, 0.0, 1.0, 1.0, 1.0, 1.0, 1.0, 1.0, 1.0, 1.0, 1.0, 0.0, 0.0, 1.0, 1.0, 1.0, 1.0, 1.0, 0.0, 1.0, 1.0, 1.0, 1.0, 1.0, 1.0, 1.0, 0.0, 1.0, 1.0, 0.0, 0.0, 1.0, 1.0, 1.0, 1.0, 0.0, 0.0, 1.0, 1.0, 1.0, 0.0, 1.0, 1.0, 0.0, 0.0, 1.0, 0.0, 0.0, 0.0, 0.0, 0.0, 0.0, 0.0, 0.0, 0.0, 0.0, 1.0, 0.0, 0.0, 0.0, 1.0, 0.0, 0.0, 0.0, 0.0, 0.0, 0.0, 0.0, 0.0, 0.0, 0.0, 0.0, 0.0, 0.0, 1.0, 0.0, 0.0, 1.0, 0.0, 1.0, 0.0, 1.0, 0.0, 0.0, 0.0, 0.0, 0.0, 0.0, 0.0, 0.0, 1.0, 0.0, 0.0, 1.0, 0.0, 0.0, 0.0, 1.0, 0.0, 0.0, 1.0, 1.0, 0.0, 0.0, 0.0, 0.0, 0.0, 1.0, 1.0, 1.0, 0.0, 0.0, 0.0, 0.0, 0.0, 0.0, 0.0, 0.0, 1.0, 0.0, 0.0, 0.0, 1.0, 0.0, 0.0, 0.0, 0.0, 0.0, 0.0, 0.0, 0.0, 0.0, 0.0, 0.0, 0.0, 0.0, 0.0, 1.0, 0.0, 0.0, 0.0, 0.0, 0.0, 0.0, 0.0, 0.0, 1.0, 0.0, 0.0, 0.0, 0.0, 0.0, 0.0, 1.0, 0.0, 0.0, 0.0, 1.0, 0.0, 0.0, 0.0, 0.0, 0.0, 0.0, 0.0, 0.0, 0.0, 0.0, 0.0, 0.0, 0.0, 1.0, 1.0, 1.0, 1.0, 1.0, 1.0, 1.0, 1.0, 1.0, 0.0, 0.0, 1.0, 0.0, 0.0, 1.0, 0.0, 1.0, 1.0, 0.0, 1.0, 1.0, 0.0, 0.0, 0.0, 0.0, 1.0, 0.0, 0.0, 0.0, 1.0, 0.0, 0.0, 1.0, 1.0, 0.0, 0.0, 0.0, 0.0, 0.0, 1.0, 1.0, 0.0, 0.0, 1.0, 0.0, 1.0, 0.0, 1.0, 1.0, 1.0, 1.0, 1.0, 0.0, 0.0, 0.0, 0.0, 0.0, 0.0, 1.0, 1.0, 0.0, 1.0, 1.0, 1.0, 1.0, 0.0, 0.0, 0.0, 1.0, 0.0, 1.0, 1.0, 1.0, 0.0, 1.0, 1.0, 0.0, 1.0, 0.0, 1.0, 1.0, 0.0, 1.0, 0.0, 0.0, 0.0, 0.0, 0.0, 0.0, 0.0, 0.0, 0.0, 1.0, 0.0, 0.0, 0.0, 0.0, 0.0, 0.0, 0.0, 0.0, 0.0, 0.0, 0.0, 0.0, 0.0, 0.0, 0.0, 0.0, 0.0, 1.0, 0.0, 0.0, 0.0, 0.0, 1.0, 0.0, 0.0, 0.0, 0.0, 1.0, 1.0, 0.0, 0.0, 0.0, 0.0, 0.0, 0.0, 0.0, 1.0, 0.0, 0.0, 0.0, 0.0, 0.0, 1.0, 0.0, 1.0, 0.0, 0.0, 1.0, 1.0, 1.0, 0.0, 1.0, 0.0, 1.0, 1.0, 0.0, 1.0, 1.0, 0.0, 1.0, 0.0, 0.0, 0.0, 1.0, 0.0, 0.0, 0.0, 1.0, 1.0, 1.0, 0.0, 0.0, 0.0, 1.0, 0.0, 0.0, 0.0, 0.0, 0.0, 1.0, 1.0, 0.0, 0.0, 1.0, 0.0, 0.0, 0.0, 0.0, 0.0, 0.0, 0.0, 0.0, 1.0, 1.0, 0.0, 1.0, 0.0, 1.0, 1.0, 1.0, 1.0, 1.0, 1.0, 0.0, 1.0, 1.0, 1.0, 0.0, 0.0, 0.0, 0.0, 1.0, 0.0, 0.0, 1.0, 1.0, 1.0, 0.0, 0.0, 1.0, 0.0, 1.0, 0.0, 1.0, 0.0, 0.0, 0.0, 0.0, 1.0, 0.0, 1.0, 1.0, 0.0, 1.0, 1.0, 0.0, 0.0, 1.0, 1.0, 1.0, 1.0, 1.0, 0.0, 0.0, 0.0, 1.0, 1.0, 1.0, 0.0, 0.0, 1.0, 1.0, 0.0, 1.0, 1.0, 1.0, 1.0, 1.0, 0.0, 1.0, 1.0, 1.0, 1.0, 0.0, 0.0, 0.0, 0.0, 0.0, 0.0, 0.0, 0.0, 0.0, 0.0, 0.0, 0.0, 0.0, 0.0, 0.0, 0.0, 0.0, 1.0, 0.0, 0.0, 0.0, 0.0, 0.0, 0.0, 0.0, 0.0, 0.0, 0.0, 0.0, 1.0, 0.0, 0.0, 0.0, 0.0, 0.0, 1.0, 1.0, 0.0, 0.0, 1.0, 0.0, 0.0, 1.0, 0.0, 0.0, 0.0, 0.0, 0.0, 0.0, 0.0, 0.0, 0.0, 0.0, 0.0, 1.0, 0.0, 0.0, 0.0, 0.0, 1.0, 0.0, 0.0, 0.0, 0.0, 0.0, 0.0, 0.0, 1.0, 0.0, 0.0, 0.0, 0.0, 1.0, 1.0, 1.0, 1.0, 1.0, 1.0, 0.0, 1.0, 0.0, 1.0, 1.0, 0.0, 0.0, 0.0, 1.0, 1.0, 0.0, 0.0, 0.0, 0.0, 0.0, 0.0, 1.0, 1.0, 1.0, 1.0, 0.0, 1.0, 1.0, 0.0, 1.0, 0.0, 1.0, 1.0, 1.0, 0.0, 1.0, 0.0, 1.0, 1.0, 0.0, 0.0, 1.0, 1.0, 1.0, 0.0, 1.0, 1.0, 0.0, 1.0, 1.0, 1.0, 1.0, 0.0, 1.0, 0.0, 1.0, 1.0, 1.0, 0.0, 1.0, 1.0, 1.0, 1.0, 1.0, 1.0, 1.0, 1.0, 1.0, 1.0, 1.0, 0.0, 1.0, 1.0, 1.0, 1.0, 1.0, 1.0, 0.0, 1.0, 1.0, 1.0, 1.0, 1.0, 1.0, 1.0, 1.0, 0.0, 1.0, 1.0, 1.0, 0.0, 1.0, 1.0, 0.0, 1.0, 0.0, 1.0, 1.0, 0.0, 0.0, 1.0, 1.0, 1.0, 1.0, 1.0, 1.0, 1.0, 1.0, 0.0, 0.0, 1.0, 1.0, 0.0, 0.0, 0.0, 1.0, 0.0, 0.0, 1.0, 1.0, 1.0, 0.0, 1.0, 1.0, 0.0, 1.0, 0.0, 0.0, 0.0, 1.0, 0.0, 1.0, 0.0, 1.0, 1.0, 1.0, 1.0, 0.0, 1.0, 0.0, 1.0, 0.0, 1.0, 0.0, 1.0, 1.0, 1.0, 1.0, 1.0, 0.0, 1.0, 1.0, 1.0, 1.0, 1.0, 1.0, 1.0, 1.0, 1.0, 1.0, 0.0, 1.0, 1.0, 0.0, 1.0, 1.0, 0.0, 0.0, 0.0, 1.0, 0.0, 1.0, 1.0, 1.0, 1.0, 1.0, 1.0, 1.0, 0.0, 1.0, 0.0, 0.0, 1.0, 0.0, 0.0, 0.0, 0.0, 0.0, 0.0, 1.0, 0.0, 0.0, 0.0, 0.0, 0.0, 0.0, 0.0, 0.0, 0.0, 0.0, 0.0, 0.0, 1.0, 0.0, 0.0, 0.0, 0.0, 0.0, 0.0, 0.0, 0.0, 1.0, 1.0, 0.0, 1.0, 0.0, 0.0, 0.0, 1.0, 0.0, 0.0, 0.0, 0.0, 0.0, 0.0, 1.0, 0.0, 0.0, 0.0, 0.0, 1.0, 0.0, 0.0, 0.0, 0.0, 1.0, 0.0, 0.0, 0.0, 0.0, 0.0, 1.0, 0.0, 0.0, 1.0, 0.0, 1.0, 1.0, 1.0, 0.0, 0.0, 0.0, 0.0, 1.0, 1.0, 1.0, 1.0, 0.0, 0.0, 1.0, 0.0, 0.0, 0.0, 0.0, 0.0, 0.0, 1.0, 1.0, 0.0, 1.0, 0.0, 1.0, 1.0, 0.0, 1.0, 1.0, 0.0, 0.0, 0.0, 0.0, 0.0, 0.0, 1.0, 0.0, 0.0, 1.0, 0.0, 0.0, 0.0, 0.0, 0.0, 1.0, 1.0, 0.0, 0.0, 0.0, 0.0, 0.0, 0.0, 0.0, 0.0, 0.0, 0.0, 0.0, 0.0, 0.0, 0.0, 0.0, 0.0, 0.0, 0.0, 0.0, 1.0, 1.0, 0.0, 1.0, 0.0, 0.0, 1.0, 0.0, 0.0, 0.0, 0.0, 0.0, 0.0, 0.0, 0.0, 0.0, 0.0, 0.0, 0.0, 0.0, 0.0, 0.0, 0.0, 0.0, 0.0, 0.0, 0.0, 0.0, 0.0, 0.0, 0.0, 0.0, 0.0, 0.0, 0.0, 0.0, 0.0, 0.0, 0.0, 0.0, 0.0, 0.0, 0.0, 0.0, 0.0, 0.0, 0.0, 1.0, 0.0, 1.0, 0.0, 0.0, 1.0, 1.0, 1.0, 1.0, 1.0, 0.0, 0.0, 1.0, 0.0, 0.0, 0.0, 1.0, 1.0, 0.0, 0.0, 0.0, 1.0, 1.0, 1.0, 1.0, 0.0, 1.0, 1.0, 1.0, 0.0, 1.0, 1.0, 1.0, 0.0, 1.0, 1.0, 0.0, 1.0, 1.0, 0.0, 0.0, 1.0, 1.0, 0.0, 1.0, 1.0, 1.0, 0.0, 1.0, 1.0, 0.0, 0.0, 1.0, 1.0, 1.0, 1.0, 1.0, 1.0, 0.0, 0.0, 0.0, 1.0, 1.0, 1.0, 0.0, 1.0, 1.0, 1.0, 1.0, 1.0, 0.0, 0.0, 1.0, 1.0, 1.0, 0.0, 1.0, 1.0, 0.0, 1.0, 0.0, 1.0, 1.0, 1.0, 1.0, 0.0, 0.0, 1.0, 0.0, 1.0, 1.0, 1.0, 1.0, 1.0, 1.0, 1.0, 1.0, 1.0, 1.0, 1.0, 1.0, 1.0, 1.0, 1.0, 1.0, 1.0, 0.0, 0.0, 0.0, 0.0, 0.0, 1.0, 0.0, 0.0, 1.0, 1.0, 1.0, 1.0, 0.0, 1.0, 1.0, 0.0, 0.0, 1.0, 1.0, 0.0, 1.0, 1.0, 1.0, 0.0, 1.0, 0.0, 0.0, 0.0, 1.0, 1.0, 1.0, 1.0, 1.0, 1.0, 0.0, 1.0, 1.0, 1.0, 1.0, 0.0, 1.0, 0.0, 0.0, 0.0, 0.0, 0.0, 0.0, 0.0, 0.0, 0.0, 0.0, 0.0, 0.0, 0.0, 1.0, 1.0, 0.0, 1.0, 0.0, 0.0, 0.0, 0.0, 0.0, 0.0, 0.0, 1.0, 1.0, 0.0, 0.0, 0.0, 0.0, 0.0, 1.0, 0.0, 1.0, 0.0, 0.0, 0.0, 0.0, 1.0, 1.0, 0.0, 0.0, 0.0, 0.0, 0.0, 0.0, 0.0, 0.0, 1.0, 0.0, 0.0, 1.0, 0.0, 0.0, 0.0, 1.0, 1.0, 0.0, 1.0, 0.0, 0.0, 1.0, 1.0, 0.0, 1.0, 1.0, 0.0, 1.0, 1.0, 1.0, 1.0, 0.0, 1.0, 1.0, 1.0, 1.0, 1.0, 1.0, 1.0, 1.0, 1.0, 0.0, 1.0, 1.0, 1.0, 1.0, 1.0, 1.0, 1.0, 1.0, 1.0, 0.0, 0.0, 0.0, 1.0, 0.0, 1.0, 1.0, 1.0, 1.0, 0.0, 1.0, 1.0, 0.0, 1.0, 1.0, 1.0, 1.0, 1.0, 1.0, 1.0, 0.0, 0.0, 0.0, 1.0, 0.0, 1.0, 1.0, 1.0, 1.0, 0.0, 0.0, 0.0, 1.0, 0.0, 0.0, 0.0, 0.0, 0.0, 0.0, 0.0, 1.0, 0.0, 1.0, 1.0, 1.0, 1.0, 0.0, 0.0, 1.0, 0.0, 0.0, 0.0, 0.0, 1.0, 0.0, 1.0, 0.0, 0.0, 1.0, 1.0, 1.0, 0.0, 1.0, 1.0, 0.0, 1.0, 1.0, 0.0, 0.0, 0.0, 1.0, 0.0, 0.0, 0.0, 0.0, 0.0, 0.0, 0.0, 0.0, 0.0, 0.0, 1.0, 1.0, 0.0, 0.0, 0.0, 1.0, 0.0, 0.0, 0.0, 0.0, 1.0, 0.0, 0.0, 0.0, 0.0, 1.0, 1.0, 0.0, 0.0, 0.0, 0.0, 0.0, 0.0, 0.0, 0.0, 0.0, 0.0, 0.0, 0.0, 0.0, 1.0, 0.0, 0.0, 0.0, 0.0, 0.0, 0.0, 1.0, 1.0, 1.0, 1.0, 0.0, 1.0, 1.0, 1.0, 0.0, 0.0, 0.0, 1.0, 0.0, 0.0, 0.0, 1.0, 1.0, 0.0, 1.0, 1.0, 0.0, 1.0, 1.0, 1.0, 1.0, 0.0, 0.0, 0.0, 1.0, 0.0, 1.0, 1.0, 1.0, 0.0, 0.0, 0.0, 1.0, 0.0, 1.0, 0.0, 0.0, 0.0, 1.0, 1.0, 1.0, 1.0, 0.0, 0.0, 0.0, 1.0, 1.0, 1.0, 0.0, 1.0, 0.0, 1.0, 0.0, 0.0, 1.0, 0.0, 1.0, 0.0, 0.0, 0.0, 0.0, 1.0, 1.0, 1.0, 1.0, 1.0, 0.0, 1.0, 0.0, 1.0, 1.0, 0.0, 1.0, 1.0, 1.0, 0.0, 1.0, 1.0, 1.0, 1.0, 0.0, 1.0, 1.0, 0.0, 0.0, 0.0, 0.0, 1.0, 1.0, 1.0, 1.0, 0.0, 1.0, 0.0, 1.0, 0.0, 1.0, 1.0, 1.0, 1.0, 1.0, 0.0, 1.0, 0.0, 1.0, 0.0, 1.0, 1.0, 1.0, 0.0, 1.0, 0.0, 1.0, 0.0, 1.0, 0.0, 1.0, 1.0, 0.0, 1.0, 1.0, 0.0, 1.0, 0.0, 1.0, 1.0, 1.0, 1.0, 1.0, 0.0, 0.0, 1.0, 0.0, 1.0, 1.0, 1.0, 1.0, 0.0, 0.0, 1.0, 1.0, 1.0, 1.0, 1.0, 0.0, 0.0, 1.0, 0.0, 1.0, 1.0, 0.0, 1.0, 1.0, 0.0, 1.0, 0.0, 1.0, 1.0, 1.0, 1.0, 1.0, 1.0, 0.0, 1.0, 0.0, 1.0, 1.0, 1.0, 1.0, 0.0, 0.0, 0.0, 1.0, 0.0, 1.0, 0.0, 1.0, 0.0, 0.0, 0.0, 0.0, 0.0, 0.0, 0.0, 0.0, 0.0, 0.0, 0.0, 0.0, 0.0, 0.0, 0.0, 0.0, 0.0, 0.0, 0.0, 0.0, 0.0, 0.0, 0.0, 0.0, 0.0, 0.0, 0.0, 1.0, 0.0, 1.0, 0.0, 0.0, 0.0, 0.0, 0.0, 1.0, 1.0, 0.0, 0.0, 1.0, 0.0, 0.0, 0.0, 1.0, 1.0, 1.0, 0.0, 0.0, 0.0, 1.0, 0.0, 0.0, 0.0, 0.0, 0.0, 1.0, 0.0, 0.0, 0.0, 0.0, 0.0, 1.0, 0.0, 0.0, 0.0, 1.0, 1.0, 0.0, 0.0, 0.0, 0.0, 0.0, 0.0, 0.0, 0.0, 0.0, 0.0, 1.0, 0.0, 1.0, 1.0, 0.0, 1.0, 0.0, 0.0, 1.0, 0.0, 0.0, 0.0, 0.0, 0.0, 0.0, 0.0, 1.0, 0.0, 0.0, 0.0, 0.0, 0.0, 0.0, 0.0, 1.0, 0.0, 0.0, 0.0, 0.0, 0.0, 0.0, 0.0, 1.0, 0.0, 0.0, 0.0, 1.0, 0.0, 0.0, 0.0, 0.0, 1.0, 1.0, 0.0, 1.0, 0.0, 1.0, 0.0, 1.0, 0.0, 0.0, 0.0, 1.0, 0.0, 0.0, 1.0, 0.0, 0.0, 1.0, 1.0, 1.0, 1.0, 0.0, 0.0, 0.0, 1.0, 0.0, 1.0, 1.0, 0.0, 1.0, 0.0, 1.0, 1.0, 1.0, 1.0, 0.0, 1.0, 0.0, 1.0, 0.0, 0.0, 1.0, 0.0, 0.0, 0.0, 1.0, 0.0, 0.0, 1.0, 0.0, 0.0, 0.0, 0.0, 1.0, 0.0, 0.0, 0.0, 0.0, 1.0, 0.0, 1.0, 0.0, 1.0, 0.0, 1.0, 0.0, 1.0, 1.0, 1.0, 1.0, 0.0, 0.0, 0.0, 1.0, 1.0, 1.0, 1.0, 1.0, 1.0, 1.0, 1.0, 1.0, 1.0, 1.0, 1.0, 0.0, 1.0, 0.0, 1.0, 1.0, 1.0, 1.0, 1.0, 1.0, 1.0, 1.0, 1.0, 0.0, 0.0, 0.0, 1.0, 1.0, 1.0, 0.0, 1.0, 1.0, 1.0, 0.0, 1.0, 1.0, 1.0, 0.0, 1.0, 0.0, 0.0, 0.0, 1.0, 1.0, 1.0, 0.0, 1.0, 0.0, 1.0, 1.0, 0.0, 1.0, 1.0, 1.0, 1.0, 1.0, 1.0, 0.0, 0.0, 0.0, 1.0, 1.0, 0.0, 0.0, 1.0, 0.0, 0.0, 0.0, 0.0, 1.0, 1.0, 0.0, 0.0, 1.0, 1.0, 1.0, 1.0, 0.0, 0.0, 0.0, 1.0, 1.0, 1.0, 0.0, 0.0, 1.0, 1.0, 0.0, 1.0, 1.0, 0.0, 0.0, 0.0, 1.0, 0.0, 1.0, 0.0, 0.0, 1.0, 1.0, 1.0, 0.0, 0.0, 0.0, 0.0, 0.0, 0.0, 1.0, 1.0, 1.0, 1.0, 1.0, 0.0, 0.0, 0.0, 1.0, 1.0, 1.0, 0.0, 0.0, 1.0, 0.0, 0.0, 0.0, 0.0, 0.0, 0.0, 0.0, 1.0, 0.0, 0.0, 0.0, 1.0, 1.0, 0.0, 0.0, 1.0, 0.0, 0.0, 0.0, 1.0, 1.0, 0.0, 1.0, 0.0, 0.0, 0.0, 0.0, 0.0, 0.0, 0.0, 0.0, 0.0, 1.0, 1.0, 0.0, 1.0, 0.0, 0.0, 0.0, 1.0, 0.0, 0.0, 1.0, 0.0, 0.0, 1.0, 0.0, 0.0, 0.0, 0.0, 1.0, 0.0, 0.0, 1.0, 0.0, 0.0, 1.0, 0.0, 0.0, 0.0, 0.0, 0.0, 1.0, 1.0, 1.0, 1.0, 1.0, 1.0, 1.0, 1.0, 0.0, 1.0, 1.0, 1.0, 1.0, 1.0, 0.0, 1.0, 1.0, 0.0, 0.0, 0.0, 1.0, 0.0, 1.0, 1.0, 1.0, 0.0, 1.0, 1.0, 0.0, 1.0, 1.0, 1.0, 0.0, 1.0, 0.0, 1.0, 1.0, 1.0, 0.0, 1.0, 1.0, 1.0, 1.0, 0.0, 1.0, 0.0, 1.0, 1.0, 1.0, 1.0, 1.0, 1.0, 1.0, 1.0, 1.0, 1.0, 1.0, 1.0, 1.0, 0.0, 1.0, 1.0, 0.0, 1.0, 1.0, 1.0, 1.0, 1.0, 1.0, 0.0, 0.0, 0.0, 0.0, 0.0, 1.0, 1.0, 1.0, 0.0, 0.0, 1.0, 0.0, 1.0, 1.0, 1.0, 1.0, 1.0, 0.0, 0.0, 1.0, 1.0, 1.0, 1.0, 1.0, 0.0, 0.0, 1.0, 0.0, 1.0, 1.0, 0.0, 1.0, 0.0, 1.0, 1.0, 1.0, 1.0, 0.0, 1.0, 1.0, 0.0, 1.0, 1.0, 1.0, 1.0, 1.0, 1.0, 0.0, 1.0, 1.0, 1.0, 1.0, 1.0, 1.0, 1.0, 1.0, 1.0, 1.0, 1.0] \n",
    "for elem in y_pred_cvdd:\n",
    "    if elem == 1.0:\n",
    "        elem = -1\n",
    "    if elem == 0.0:\n",
    "        elem = 1\n",
    "print(len(y_pred_cvdd))"
   ]
  },
  {
   "cell_type": "code",
   "execution_count": 24,
   "metadata": {},
   "outputs": [
    {
     "name": "stdout",
     "output_type": "stream",
     "text": [
      "Model:  Ensemble\n",
      "Train accuracy: 0.90889905029898\n",
      "Test accuracy: 0.7960327727468737\n",
      "Confusion Matrix :\n",
      "[[1049  187]\n",
      " [ 286  797]]\n",
      "Report : \n",
      "              precision    recall  f1-score   support\n",
      "\n",
      "          -1       0.79      0.85      0.82      1236\n",
      "           1       0.81      0.74      0.77      1083\n",
      "\n",
      "   micro avg       0.80      0.80      0.80      2319\n",
      "   macro avg       0.80      0.79      0.79      2319\n",
      "weighted avg       0.80      0.80      0.80      2319\n",
      "\n"
     ]
    }
   ],
   "source": [
    "import math as mt\n",
    "def mostFrequent(arr): \n",
    "    n = len(arr)\n",
    "    # Insert all elements in Hash. \n",
    "    Hash = dict() \n",
    "    for i in range(n): \n",
    "        if arr[i] in Hash.keys(): \n",
    "            Hash[arr[i]] += 1\n",
    "        else: \n",
    "            Hash[arr[i]] = 1\n",
    "  \n",
    "    # find the max frequency \n",
    "    max_count = 0\n",
    "    res = -1\n",
    "    for i in Hash:  \n",
    "        if (max_count < Hash[i]):  \n",
    "            res = i \n",
    "            max_count = Hash[i] \n",
    "          \n",
    "    return res  \n",
    "\n",
    "y_pred_train_ensemble = []\n",
    "for i in range(len(final_train['new_label'].tolist())):\n",
    "    train_arr = [ y_pred_train[i], y_pred_iso_train[i], y_pred_lof_train[i]]\n",
    "    y_pred_train_ensemble.append(mostFrequent(train_arr))\n",
    "\n",
    "y_pred_test_ensemble = []\n",
    "\n",
    "for i in range(len(final_test['new_label'].tolist())):\n",
    "    arr = [ y_pred_test[i], y_pred_iso_test[i], y_pred_lof_test[i]]\n",
    "    y_pred_test_ensemble.append(mostFrequent(arr))\n",
    "\n",
    "results('Ensemble', final_train['new_label'].tolist(), y_pred_train_ensemble, final_test['new_label'].tolist(), y_pred_test_ensemble)"
   ]
  },
  {
   "cell_type": "code",
   "execution_count": 137,
   "metadata": {},
   "outputs": [
    {
     "name": "stdout",
     "output_type": "stream",
     "text": [
      "Requirement already satisfied: pyod in /opt/conda/lib/python3.7/site-packages (0.7.5)\n",
      "Requirement already satisfied: scipy>=0.19.1 in /opt/conda/lib/python3.7/site-packages (from pyod) (1.2.1)\n",
      "Requirement already satisfied: joblib in /opt/conda/lib/python3.7/site-packages (from pyod) (0.14.0)\n",
      "Requirement already satisfied: scikit-learn>=0.19.1 in /opt/conda/lib/python3.7/site-packages (from pyod) (0.20.3)\n",
      "Requirement already satisfied: six in /opt/conda/lib/python3.7/site-packages (from pyod) (1.12.0)\n",
      "Requirement already satisfied: matplotlib in /opt/conda/lib/python3.7/site-packages (from pyod) (3.0.3)\n",
      "Requirement already satisfied: numpy>=1.13 in /opt/conda/lib/python3.7/site-packages (from pyod) (1.16.2)\n",
      "Requirement already satisfied: numba>=0.35 in /opt/conda/lib/python3.7/site-packages (from pyod) (0.43.1)\n",
      "Requirement already satisfied: cycler>=0.10 in /opt/conda/lib/python3.7/site-packages (from matplotlib->pyod) (0.10.0)\n",
      "Requirement already satisfied: kiwisolver>=1.0.1 in /opt/conda/lib/python3.7/site-packages (from matplotlib->pyod) (1.0.1)\n",
      "Requirement already satisfied: pyparsing!=2.0.4,!=2.1.2,!=2.1.6,>=2.0.1 in /opt/conda/lib/python3.7/site-packages (from matplotlib->pyod) (2.3.1)\n",
      "Requirement already satisfied: python-dateutil>=2.1 in /opt/conda/lib/python3.7/site-packages (from matplotlib->pyod) (2.8.0)\n",
      "Requirement already satisfied: llvmlite>=0.28.0dev0 in /opt/conda/lib/python3.7/site-packages (from numba>=0.35->pyod) (0.28.0)\n",
      "Requirement already satisfied: setuptools in /opt/conda/lib/python3.7/site-packages (from kiwisolver>=1.0.1->matplotlib->pyod) (41.0.1)\n"
     ]
    }
   ],
   "source": [
    "!pip install pyod"
   ]
  },
  {
   "cell_type": "code",
   "execution_count": 138,
   "metadata": {},
   "outputs": [],
   "source": [
    "from pyod.models.combination import aom, moa, average, maximization\n",
    "from pyod.utils.utility import standardizer\n",
    "from pyod.utils.data import evaluate_print"
   ]
  },
  {
   "cell_type": "code",
   "execution_count": 139,
   "metadata": {},
   "outputs": [
    {
     "name": "stdout",
     "output_type": "stream",
     "text": [
      "(2843,)\n",
      "(2843,)\n"
     ]
    }
   ],
   "source": [
    "print(np.asarray(train_scores_svm).shape)\n",
    "print(np.asarray(train_scores_iso).shape)"
   ]
  },
  {
   "cell_type": "code",
   "execution_count": 140,
   "metadata": {},
   "outputs": [],
   "source": [
    "#train_svm = np.asarray(train_scores_svm)\n",
    "#train_iso = np.asarray(train_scores_iso)\n",
    "#trian_lof = np.asarray(train_scores_lof)\n",
    "#print(type(train_svm))\n",
    "new_arr_train = np.array((train_scores_svm, train_scores_iso, train_scores_lof)).transpose()\n",
    "new_arr_test = np.array((test_scores_svm, test_scores_iso, test_scores_lof)).transpose()"
   ]
  },
  {
   "cell_type": "code",
   "execution_count": 141,
   "metadata": {},
   "outputs": [],
   "source": [
    "train_comb_norm_score, test_comb_norm_score = standardizer(new_arr_train, new_arr_test)"
   ]
  },
  {
   "cell_type": "code",
   "execution_count": null,
   "metadata": {},
   "outputs": [],
   "source": []
  },
  {
   "cell_type": "code",
   "execution_count": 142,
   "metadata": {},
   "outputs": [
    {
     "name": "stdout",
     "output_type": "stream",
     "text": [
      "Decision score matrix on training data (2843, 3)\n",
      "Decision score matrix on test data (2319, 3)\n"
     ]
    }
   ],
   "source": [
    "print('Decision score matrix on training data', train_comb_norm_score.shape)\n",
    "print('Decision score matrix on test data', test_comb_norm_score.shape)"
   ]
  },
  {
   "cell_type": "code",
   "execution_count": 152,
   "metadata": {},
   "outputs": [
    {
     "name": "stdout",
     "output_type": "stream",
     "text": [
      "[-3.93943873 -1.29036037 -4.31189133 ... -4.68175393 -1.56291396\n",
      " -5.11085877]\n"
     ]
    }
   ],
   "source": [
    "y_by_average = average(test_comb_norm_score)\n",
    "print(y_by_average)"
   ]
  },
  {
   "cell_type": "code",
   "execution_count": 150,
   "metadata": {},
   "outputs": [
    {
     "ename": "ValueError",
     "evalue": "n_buckets is set to 5. Not in the range of (2, 3).",
     "output_type": "error",
     "traceback": [
      "\u001b[0;31m---------------------------------------------------------------------------\u001b[0m",
      "\u001b[0;31mValueError\u001b[0m                                Traceback (most recent call last)",
      "\u001b[0;32m<ipython-input-150-fb76b1455e4f>\u001b[0m in \u001b[0;36m<module>\u001b[0;34m\u001b[0m\n\u001b[1;32m     10\u001b[0m \u001b[0;34m\u001b[0m\u001b[0m\n\u001b[1;32m     11\u001b[0m \u001b[0;31m# Combination by aom\u001b[0m\u001b[0;34m\u001b[0m\u001b[0;34m\u001b[0m\u001b[0;34m\u001b[0m\u001b[0m\n\u001b[0;32m---> 12\u001b[0;31m \u001b[0my_by_aom\u001b[0m \u001b[0;34m=\u001b[0m \u001b[0maom\u001b[0m\u001b[0;34m(\u001b[0m\u001b[0mtest_comb_norm_score\u001b[0m\u001b[0;34m)\u001b[0m\u001b[0;34m\u001b[0m\u001b[0;34m\u001b[0m\u001b[0m\n\u001b[0m\u001b[1;32m     13\u001b[0m \u001b[0;31m#evaluate_print('Combination by AOM', np.asarray(final_test['new_label'].tolist()), y_by_aom)\u001b[0m\u001b[0;34m\u001b[0m\u001b[0;34m\u001b[0m\u001b[0;34m\u001b[0m\u001b[0m\n\u001b[1;32m     14\u001b[0m \u001b[0;34m\u001b[0m\u001b[0m\n",
      "\u001b[0;32m/opt/conda/lib/python3.7/site-packages/pyod/models/combination.py\u001b[0m in \u001b[0;36maom\u001b[0;34m(scores, n_buckets, method, bootstrap_estimators, random_state)\u001b[0m\n\u001b[1;32m    167\u001b[0m     \"\"\"\n\u001b[1;32m    168\u001b[0m     return _aom_moa_helper('AOM', scores, n_buckets, method,\n\u001b[0;32m--> 169\u001b[0;31m                            bootstrap_estimators, random_state)\n\u001b[0m\u001b[1;32m    170\u001b[0m \u001b[0;34m\u001b[0m\u001b[0m\n\u001b[1;32m    171\u001b[0m \u001b[0;34m\u001b[0m\u001b[0m\n",
      "\u001b[0;32m/opt/conda/lib/python3.7/site-packages/pyod/models/combination.py\u001b[0m in \u001b[0;36m_aom_moa_helper\u001b[0;34m(mode, scores, n_buckets, method, bootstrap_estimators, random_state)\u001b[0m\n\u001b[1;32m     68\u001b[0m     \u001b[0;31m# for now it is fixed at n_estimators/2\u001b[0m\u001b[0;34m\u001b[0m\u001b[0;34m\u001b[0m\u001b[0;34m\u001b[0m\u001b[0m\n\u001b[1;32m     69\u001b[0m     \u001b[0mn_estimators\u001b[0m \u001b[0;34m=\u001b[0m \u001b[0mscores\u001b[0m\u001b[0;34m.\u001b[0m\u001b[0mshape\u001b[0m\u001b[0;34m[\u001b[0m\u001b[0;36m1\u001b[0m\u001b[0;34m]\u001b[0m\u001b[0;34m\u001b[0m\u001b[0;34m\u001b[0m\u001b[0m\n\u001b[0;32m---> 70\u001b[0;31m     \u001b[0mcheck_parameter\u001b[0m\u001b[0;34m(\u001b[0m\u001b[0mn_buckets\u001b[0m\u001b[0;34m,\u001b[0m \u001b[0;36m2\u001b[0m\u001b[0;34m,\u001b[0m \u001b[0mn_estimators\u001b[0m\u001b[0;34m,\u001b[0m \u001b[0mparam_name\u001b[0m\u001b[0;34m=\u001b[0m\u001b[0;34m'n_buckets'\u001b[0m\u001b[0;34m)\u001b[0m\u001b[0;34m\u001b[0m\u001b[0;34m\u001b[0m\u001b[0m\n\u001b[0m\u001b[1;32m     71\u001b[0m \u001b[0;34m\u001b[0m\u001b[0m\n\u001b[1;32m     72\u001b[0m     \u001b[0mscores_buckets\u001b[0m \u001b[0;34m=\u001b[0m \u001b[0mnp\u001b[0m\u001b[0;34m.\u001b[0m\u001b[0mzeros\u001b[0m\u001b[0;34m(\u001b[0m\u001b[0;34m[\u001b[0m\u001b[0mscores\u001b[0m\u001b[0;34m.\u001b[0m\u001b[0mshape\u001b[0m\u001b[0;34m[\u001b[0m\u001b[0;36m0\u001b[0m\u001b[0;34m]\u001b[0m\u001b[0;34m,\u001b[0m \u001b[0mn_buckets\u001b[0m\u001b[0;34m]\u001b[0m\u001b[0;34m)\u001b[0m\u001b[0;34m\u001b[0m\u001b[0;34m\u001b[0m\u001b[0m\n",
      "\u001b[0;32m/opt/conda/lib/python3.7/site-packages/pyod/utils/utility.py\u001b[0m in \u001b[0;36mcheck_parameter\u001b[0;34m(param, low, high, param_name, include_left, include_right)\u001b[0m\n\u001b[1;32m    105\u001b[0m             \u001b[0;34m'{param_name} is set to {param}. '\u001b[0m\u001b[0;34m\u001b[0m\u001b[0;34m\u001b[0m\u001b[0m\n\u001b[1;32m    106\u001b[0m             'Not in the range of ({low}, {high}).'.format(\n\u001b[0;32m--> 107\u001b[0;31m                 param=param, low=low, high=high, param_name=param_name))\n\u001b[0m\u001b[1;32m    108\u001b[0m     \u001b[0;32melse\u001b[0m\u001b[0;34m:\u001b[0m\u001b[0;34m\u001b[0m\u001b[0;34m\u001b[0m\u001b[0m\n\u001b[1;32m    109\u001b[0m         \u001b[0;32mreturn\u001b[0m \u001b[0;32mTrue\u001b[0m\u001b[0;34m\u001b[0m\u001b[0;34m\u001b[0m\u001b[0m\n",
      "\u001b[0;31mValueError\u001b[0m: n_buckets is set to 5. Not in the range of (2, 3)."
     ]
    }
   ],
   "source": [
    " #Combine and evaluate the combination result\n",
    "\n",
    "# Combination by average\n",
    "y_by_average = average(test_comb_norm_score)\n",
    "evaluate_print('Combination by Average', np.asarray(final_test['new_label'].tolist()), y_by_average)\n",
    "\n",
    "# Combination by max\n",
    "y_by_maximization = maximization(test_comb_norm_score)\n",
    "evaluate_print('Combination by Maximization', np.asarray(final_test['new_label'].tolist()), y_by_maximization)\n",
    "\n",
    "# Combination by aom\n",
    "y_by_aom = aom(test_comb_norm_score, n_buckets=5)\n",
    "evaluate_print('Combination by AOM', np.asarray(final_test['new_label'].tolist()), y_by_aom)\n",
    "\n",
    "# Combination by moa\n",
    "y_by_moa = moa(test_comb_norm_score, n_buckets=5)\n",
    "evaluate_print('Combination by MOA', np.asarray(final_test['new_label'].tolist()), y_by_moa)"
   ]
  },
  {
   "cell_type": "code",
   "execution_count": 48,
   "metadata": {},
   "outputs": [],
   "source": [
    "from __future__ import division\n",
    "from __future__ import print_function\n",
    "\n",
    "import os\n",
    "import sys\n",
    "\n",
    "# temporary solution for relative imports in case pyod is not installed\n",
    "# if pyod is installed, no need to use the following line\n",
    "sys.path.append(os.path.abspath(os.path.join(os.path.dirname(\"__file__\"), '..')))\n",
    "\n",
    "import numpy as np\n",
    "from sklearn.model_selection import train_test_split\n",
    "from scipy.io import loadmat\n",
    "\n",
    "from pyod.models.knn import KNN\n",
    "from pyod.models.combination import aom, moa, average, maximization\n",
    "from pyod.utils.utility import standardizer\n",
    "from pyod.utils.data import generate_data\n",
    "from pyod.utils.data import evaluate_print"
   ]
  },
  {
   "cell_type": "code",
   "execution_count": 50,
   "metadata": {},
   "outputs": [],
   "source": [
    "# Define data file and read X and y\n",
    "# Generate some data if the source data is missing\n",
    "mat_file = \"/opt/notebooks/datasets/cardio.mat\"\n",
    "\n",
    "try:\n",
    "    mat = loadmat(os.path.join('data', mat_file))\n",
    "\n",
    "except TypeError:\n",
    "    print('{data_file} does not exist. Use generated data'.format(\n",
    "        data_file=mat_file))\n",
    "    X, y = generate_data(train_only=True)  # load data\n",
    "except IOError:\n",
    "    print('{data_file} does not exist. Use generated data'.format(\n",
    "        data_file=mat_file))\n",
    "    X, y = generate_data(train_only=True)  # load data\n",
    "else:\n",
    "    X = mat['X']\n",
    "    y = mat['y'].ravel()\n",
    "    \n",
    "# 60% data for training and 40% for testing\n",
    "X_train, X_test, y_train, y_test = train_test_split(X, y, test_size=0.4)\n",
    "\n",
    "# standardizing data for processing\n",
    "X_train_norm, X_test_norm = standardizer(X_train, X_test)"
   ]
  },
  {
   "cell_type": "code",
   "execution_count": 51,
   "metadata": {},
   "outputs": [
    {
     "name": "stdout",
     "output_type": "stream",
     "text": [
      "Training data: (1098, 21) (1098,)\n",
      "Test data: (733, 21) (733,)\n"
     ]
    }
   ],
   "source": [
    "print(\"Training data:\", X_train.shape, y_train.shape)\n",
    "print(\"Test data:\", X_test.shape, y_test.shape)"
   ]
  },
  {
   "cell_type": "code",
   "execution_count": 80,
   "metadata": {},
   "outputs": [
    {
     "name": "stdout",
     "output_type": "stream",
     "text": [
      "Initializing 3 kNN detectors\n",
      "Base detector 0 is fitted for prediction\n",
      "Base detector 1 is fitted for prediction\n",
      "Base detector 2 is fitted for prediction\n"
     ]
    }
   ],
   "source": [
    "n_clf = 3  # number of base detectors\n",
    "\n",
    "# Initialize 20 base detectors for combination\n",
    "k_list = [10, 20, 30]\n",
    "\n",
    "train_scores = np.zeros([X_train.shape[0], n_clf])\n",
    "test_scores = np.zeros([X_test.shape[0], n_clf])\n",
    "\n",
    "print('Initializing {n_clf} kNN detectors'.format(n_clf=n_clf))\n",
    "\n",
    "for i in range(n_clf):\n",
    "    k = k_list[i]\n",
    "\n",
    "    clf = KNN(n_neighbors=k, method='largest')\n",
    "    clf.fit(X_train_norm)\n",
    "\n",
    "    train_scores[:, i] = clf.decision_scores_\n",
    "    test_scores[:, i] = clf.decision_function(X_test_norm)\n",
    "    print('Base detector %i is fitted for prediction' % i)"
   ]
  },
  {
   "cell_type": "code",
   "execution_count": 81,
   "metadata": {},
   "outputs": [
    {
     "name": "stdout",
     "output_type": "stream",
     "text": [
      "[[ 3.69208192  4.38328452  4.81733332]\n",
      " [ 2.85450319  3.42625343  3.5660118 ]\n",
      " [ 1.36752874  1.73222743  1.95846519]\n",
      " ...\n",
      " [12.69518642 13.18103592 13.41138958]\n",
      " [ 2.56129355  2.79405191  2.97747515]\n",
      " [ 1.93667029  2.08701298  2.25876142]]\n"
     ]
    }
   ],
   "source": [
    "print(train_scores)"
   ]
  },
  {
   "cell_type": "code",
   "execution_count": 62,
   "metadata": {},
   "outputs": [
    {
     "name": "stdout",
     "output_type": "stream",
     "text": [
      "Decision score matrix on training data (1098, 20)\n",
      "Decision score matrix on test data (733, 20)\n"
     ]
    }
   ],
   "source": [
    "# Decision scores have to be normalized before combination\n",
    "train_scores_norm, test_scores_norm = standardizer(train_scores,\n",
    "                                                   test_scores)\n",
    "\n",
    "# Predicted scores from all base detectors on the test data is \n",
    "# stored in train_scores_norm and test_scores_norm\n",
    "print('Decision score matrix on training data', train_scores_norm.shape)\n",
    "print('Decision score matrix on test data', test_scores_norm.shape)"
   ]
  },
  {
   "cell_type": "code",
   "execution_count": 69,
   "metadata": {},
   "outputs": [
    {
     "name": "stdout",
     "output_type": "stream",
     "text": [
      "Combination by Average ROC:0.9232, precision @ rank n:0.5325\n",
      "Combination by Maximization ROC:0.9238, precision @ rank n:0.5584\n",
      "Combination by AOM ROC:0.9304, precision @ rank n:0.5714\n",
      "Combination by MOA ROC:0.9266, precision @ rank n:0.5455\n"
     ]
    }
   ],
   "source": [
    "# Combine and evaluate the combination result\n",
    "\n",
    "# Combination by average\n",
    "y_by_average = average(test_scores_norm)\n",
    "evaluate_print('Combination by Average', y_test, y_by_average)\n",
    "\n",
    "# Combination by max\n",
    "y_by_maximization = maximization(test_scores_norm)\n",
    "evaluate_print('Combination by Maximization', y_test, y_by_maximization)\n",
    "\n",
    "# Combination by aom\n",
    "y_by_aom = aom(test_scores_norm, n_buckets=5)\n",
    "evaluate_print('Combination by AOM', y_test, y_by_aom)\n",
    "\n",
    "# Combination by moa\n",
    "y_by_moa = moa(test_scores_norm, n_buckets=5)\n",
    "evaluate_print('Combination by MOA', y_test, y_by_moa)"
   ]
  },
  {
   "cell_type": "code",
   "execution_count": 70,
   "metadata": {},
   "outputs": [
    {
     "name": "stdout",
     "output_type": "stream",
     "text": [
      "(733,)\n",
      "(733,)\n"
     ]
    }
   ],
   "source": [
    "print(y_test.shape)\n",
    "print(y_by_average.shape)"
   ]
  },
  {
   "cell_type": "code",
   "execution_count": 67,
   "metadata": {},
   "outputs": [
    {
     "name": "stdout",
     "output_type": "stream",
     "text": [
      "(2319,)\n"
     ]
    }
   ],
   "source": [
    "print(np.asarray(final_test['new_label'].tolist()).shape)"
   ]
  },
  {
   "cell_type": "code",
   "execution_count": null,
   "metadata": {},
   "outputs": [],
   "source": []
  }
 ],
 "metadata": {
  "kernelspec": {
   "display_name": "Python 3",
   "language": "python",
   "name": "python3"
  },
  "language_info": {
   "codemirror_mode": {
    "name": "ipython",
    "version": 3
   },
   "file_extension": ".py",
   "mimetype": "text/x-python",
   "name": "python",
   "nbconvert_exporter": "python",
   "pygments_lexer": "ipython3",
   "version": "3.7.3"
  }
 },
 "nbformat": 4,
 "nbformat_minor": 2
}
