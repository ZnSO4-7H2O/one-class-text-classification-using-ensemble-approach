{
 "cells": [
  {
   "cell_type": "code",
   "execution_count": 38,
   "metadata": {},
   "outputs": [],
   "source": [
    "# Imports\n",
    "from sklearn.svm import OneClassSVM\n",
    "from sklearn.ensemble import IsolationForest\n",
    "from sklearn.neighbors import LocalOutlierFactor\n",
    "from sklearn.datasets import fetch_20newsgroups\n",
    "import numpy as np\n",
    "import tensorflow as tf\n",
    "import tensorflow_hub as hub\n",
    "import matplotlib.pyplot as plt\n",
    "import pandas as pd\n",
    "import nltk\n",
    "import time\n",
    "import sys\n",
    "import torch\n",
    "from sklearn.metrics import f1_score\n",
    "from nltk import word_tokenize\n",
    "from nltk.corpus import stopwords\n",
    "import string, re\n",
    "from sklearn.decomposition import PCA\n",
    "from sklearn.metrics import accuracy_score, balanced_accuracy_score \n",
    "from sklearn.preprocessing import StandardScaler\n",
    "import seaborn as sns\n",
    "from sklearn.metrics import (confusion_matrix, precision_recall_curve, auc,roc_curve, classification_report)\n",
    "from keras.models import Model, load_model\n",
    "from keras.layers import Input, Dense\n",
    "from keras.callbacks import ModelCheckpoint, TensorBoard\n",
    "from keras import regularizers\n",
    "from flair.embeddings import FlairEmbeddings,ELMoEmbeddings, WordEmbeddings\n",
    "from flair.embeddings import DocumentPoolEmbeddings, FastTextEmbeddings ,Sentence, XLNetEmbeddings\n",
    "from sentence_transformers import SentenceTransformer\n",
    "from sklearn.neural_network import MLPClassifier"
   ]
  },
  {
   "cell_type": "code",
   "execution_count": 39,
   "metadata": {},
   "outputs": [],
   "source": [
    "def clean_text(text: str, rm_numbers=True, rm_punct=True, rm_stop_words=True, rm_short_words=True):\n",
    "    \"\"\" Function to perform common NLP pre-processing tasks. \"\"\"\n",
    "\n",
    "    # make lowercase\n",
    "    text = text.lower()\n",
    "    # remove punctuation\n",
    "    if rm_punct:\n",
    "        text = text.translate(str.maketrans(string.punctuation, ' ' * len(string.punctuation)))\n",
    "    # remove numbers\n",
    "    if rm_numbers:\n",
    "        text = re.sub(r'\\d+', '', text)\n",
    "    # remove whitespaces\n",
    "    text = text.strip()\n",
    "    # remove stopwords\n",
    "    if rm_stop_words:\n",
    "        stop_words = set(stopwords.words('english'))\n",
    "        word_tokens = word_tokenize(text)\n",
    "        text_list = [w for w in word_tokens if not w in stop_words]\n",
    "        text = ' '.join(text_list)\n",
    "    # remove short words\n",
    "    if rm_short_words:\n",
    "        text_list = [w for w in text.split() if len(w) >= 3]\n",
    "        text = ' '.join(text_list)\n",
    "    return text\n",
    "\n",
    "def newsgroups20_dataset_train(directory,train=True, test=False, clean_txt=True):\n",
    "    \"\"\"\n",
    "    Load the 20 Newsgroups dataset.\n",
    "    \"\"\"\n",
    "    splits = [split_set for (requested, split_set) in [(train, 'train'), (test, 'test')] if requested]\n",
    "    for split_set in splits:\n",
    "        dataset = fetch_20newsgroups(data_home=directory, subset=split_set, remove=('headers', 'footers', 'quotes'))\n",
    "        train = []\n",
    "        for id in range(len(dataset.data)):\n",
    "            if clean_txt:\n",
    "                text = clean_text(dataset.data[id])\n",
    "            else:\n",
    "                text = ' '.join(word_tokenize(dataset.data[id]))\n",
    "            label = dataset.target_names[int(dataset.target[id])]\n",
    "\n",
    "            if text:\n",
    "                train.append({\n",
    "                    'text': text,\n",
    "                    'label': label\n",
    "                })\n",
    "    return train\n",
    "  \n",
    "def newsgroups20_dataset_test(directory,train=False, test=True, clean_txt=True):\n",
    "    \"\"\"\n",
    "    Load the 20 Newsgroups dataset.\n",
    "    \"\"\"\n",
    "    splits = [split_set for (requested, split_set) in [(train, 'train'), (test, 'test')] if requested]\n",
    "    for split_set in splits:\n",
    "        dataset = fetch_20newsgroups(data_home=directory, subset=split_set, remove=('headers', 'footers', 'quotes'))\n",
    "        test = []\n",
    "        for id in range(len(dataset.data)):\n",
    "            if clean_txt:\n",
    "                text = clean_text(dataset.data[id])\n",
    "            else:\n",
    "                text = ' '.join(word_tokenize(dataset.data[id]))\n",
    "            label = dataset.target_names[int(dataset.target[id])]\n",
    "\n",
    "            if text:\n",
    "                test.append({\n",
    "                    'text': text,\n",
    "                    'label': label\n",
    "                })\n",
    "    return test\n",
    "\n",
    "\n",
    "# Various Embeddings - Bert, Universal Sentence Encoder, Infersent, GloVe, Fasttext, Ensemble Embeddings(Flair + GloVe)\n",
    "\n",
    "# Embedding using Universal Sentence Encoder\n",
    "def embed_module(module):\n",
    "    with tf.Graph().as_default():\n",
    "        sentences = tf.placeholder(tf.string)\n",
    "        embed = hub.Module(module)\n",
    "        embeddings = embed(sentences)\n",
    "        session = tf.train.MonitoredSession()\n",
    "    return lambda x: session.run(embeddings, {sentences: x})\n",
    "\n",
    "def use_embeddings():\n",
    "    train_data_list = []\n",
    "    test_data_list = []\n",
    "    module_url = \"/opt/notebooks/embedding_model/\"\n",
    "    # Import the Universal Sentence Encoder's TF Hub module\n",
    "    embed = embed_module(module_url)\n",
    "    train_data_list = embed(final_train['text'].tolist())\n",
    "    test_data_list = embed(final_test['text'].tolist())\n",
    "    val_data_list = embed(final_val['text'].tolist())\n",
    "    return train_data_list, test_data_list, val_data_list\n",
    "\n",
    "# Bert\n",
    "def bert_embeddings():\n",
    "    train_data_list = []\n",
    "    test_data_list = []\n",
    "    val_data_list = []\n",
    "    model = SentenceTransformer('bert-base-nli-mean-tokens')\n",
    "    train_data_list = model.encode(final_train['text'].tolist())\n",
    "    test_data_list = model.encode(final_test['text'].tolist())\n",
    "    val_data_list = model.encode(final_val['text'].tolist())\n",
    "    return train_data_list, test_data_list, val_data_list\n",
    "\n",
    "# Flair - GloVe - XLNet - FastText\n",
    "def other_embeddings(embd):\n",
    "    sess = tf.InteractiveSession()\n",
    "    train_data_list = []\n",
    "    test_data_list = []\n",
    "    val_data_list = []\n",
    "    if embd == 'glove':\n",
    "        print('Starting Glove Embedding...')\n",
    "        glove_embedding = WordEmbeddings('glove')\n",
    "        document_embeddings = DocumentPoolEmbeddings(embeddings=[glove_embedding])\n",
    "    elif embd == 'xlnet':\n",
    "        print('Starting XLNet Embedding...')\n",
    "        xlnet_embedding = XLNetEmbeddings('xlnet-large-cased')\n",
    "        document_embeddings = DocumentPoolEmbeddings(embeddings=[xlnet_embedding])\n",
    "    elif embd == 'fasttext':\n",
    "        print('Starting Fasttext Embedding...')\n",
    "        fasttext_embedding = WordEmbeddings('en')\n",
    "        document_embeddings = DocumentPoolEmbeddings(embeddings=[fasttext_embedding])\n",
    "    elif embd == 'elmo':\n",
    "        print('Starting ELMo Embedding...')\n",
    "        elmo_embedding = ELMoEmbeddings()\n",
    "        document_embeddings = DocumentPoolEmbeddings(embeddings=[elmo_embedding])\n",
    "    else:\n",
    "        # init Flair embeddings\n",
    "        flair_forward_embedding = FlairEmbeddings('multi-forward')\n",
    "        flair_backward_embedding = FlairEmbeddings('multi-backward')\n",
    "        glove_embedding = WordEmbeddings('glove')\n",
    "        # now create the DocumentPoolEmbeddings object that combines all embeddings\n",
    "        document_embeddings = DocumentPoolEmbeddings(embeddings=[glove_embedding, flair_forward_embedding, flair_backward_embedding])\n",
    "    print('Train embedding Started...')\n",
    "    for text in final_train['text'].tolist():\n",
    "        text = Sentence(text)\n",
    "        document_embeddings.embed(text)\n",
    "        emb = text.get_embedding().detach().numpy()\n",
    "        emb = tf.constant(emb).eval()\n",
    "        train_data_list.append(emb)\n",
    "    print('Embedded Train data!!')\n",
    "    print('Test embedding Started...')\n",
    "    for text in final_test['text'].tolist():\n",
    "        text = Sentence(text)\n",
    "        document_embeddings.embed(text)\n",
    "        emb = text.get_embedding().detach().numpy()\n",
    "        emb = tf.constant(emb).eval()\n",
    "        test_data_list.append(emb)\n",
    "    print('Embedded Test data!!')\n",
    "    print('Validation embedding Started...')\n",
    "    for text in final_val['text'].tolist():\n",
    "        text = Sentence(text)\n",
    "        document_embeddings.embed(text)\n",
    "        emb = text.get_embedding().detach().numpy()\n",
    "        emb = tf.constant(emb).eval()\n",
    "        val_data_list.append(emb)\n",
    "    print('Embedded Test data!!')\n",
    "    return train_data_list, test_data_list, val_data_list\n",
    "\n",
    "# OCSVM model\n",
    "def oneclass_svm(dataset, kernel, nu):\n",
    "    svm = OneClassSVM(kernel=kernel, nu=nu).fit(dataset)\n",
    "    return svm\n",
    "  \n",
    "# Isolation Forest\n",
    "def isolationForest(dataset, rng):\n",
    "    isolationforest = IsolationForest(behaviour='new', max_samples=100, random_state=rng, contamination='auto').fit(dataset)\n",
    "    return isolationforest\n",
    "\n",
    "def local_outlier_factory(dataset, neighbours):\n",
    "    lof = LocalOutlierFactor(n_neighbors=neighbours, contamination=0.1,novelty=True).fit(dataset)\n",
    "    return lof\n",
    "\n",
    "def pca(train, test, val):\n",
    "    #print('Principal Component Analysis ...')\n",
    "    ss = StandardScaler()\n",
    "    ss.fit(train)\n",
    "    train = ss.transform(train)\n",
    "    test = ss.transform(test)\n",
    "    val = ss.transform(val)\n",
    "    pca = PCA()\n",
    "    pca = pca.fit(train)\n",
    "    #print('Explained variance percentage = %0.2f' % sum(pca.explained_variance_ratio_))\n",
    "    plt.plot(np.cumsum(pca.explained_variance_ratio_))\n",
    "    plt.xlabel('Number of components')\n",
    "    plt.ylabel('Cumulative explained variance')\n",
    "    train = pca.transform(train)\n",
    "    test = pca.transform(test)\n",
    "    val = pca.transform(val)\n",
    "    return train, test, val\n",
    "\n",
    "def results(model, train_true_labels, train_predicted_labels, test_true_labels, test_predicted_labels):\n",
    "    print('Model: ', model)\n",
    "    #train_f1 = f1_score(train_true_labels, train_predicted_labels, average='macro')  \n",
    "    #print('Train F1 Score: ', train_f1)\n",
    "    test_f1 = f1_score(test_true_labels, test_predicted_labels, average='macro')  \n",
    "    print('Test F1 Score: ', test_f1)\n",
    "    #print(\"Train accuracy:\", accuracy_score(train_true_labels, train_predicted_labels))\n",
    "    accuracy = accuracy_score(test_true_labels, test_predicted_labels)\n",
    "    print(\"Test accuracy:\", accuracy )\n",
    "    #results_global_list.append(test_f1)\n",
    "    #results_global_list.append(accuracy)\n",
    "    results = confusion_matrix(test_true_labels, test_predicted_labels, [1,-1]) \n",
    "    #print('Confusion Matrix :')\n",
    "    #print(results) \n",
    "    #print('Report : ')\n",
    "    LABELS = [\"known\", \"unknown\"]\n",
    "    plt.figure(figsize=(6, 6))\n",
    "    sns.heatmap(results, xticklabels=LABELS, yticklabels=LABELS, annot=True, fmt=\"d\");\n",
    "    plt.title(\"Confusion matrix - Reuters - \" + str(model))\n",
    "    plt.ylabel('True class')\n",
    "    plt.xlabel('Predicted class')\n",
    "    plt.show()\n",
    "    return test_f1, accuracy\n",
    "    #print(classification_report(test_true_labels, test_predicted_labels))\n",
    "\n",
    "\n",
    "def data_for_sota():\n",
    "    # Numerical Labeling - 1 for normal class; -1 for anomaly class                    \n",
    "    train_data_df['new_label'] = train_data_df['label']\n",
    "    train_data_df.loc[train_data_df['label'] == TRAIN_CLASS, 'new_label'] = 1\n",
    "    train_data_df.loc[train_data_df['label'] != TRAIN_CLASS, 'new_label'] = -1\n",
    "    val_data_df['new_label'] = val_data_df['label']\n",
    "    val_data_df.loc[val_data_df['label'] == TRAIN_CLASS, 'new_label'] = 1\n",
    "    val_data_df.loc[val_data_df['label'] != TRAIN_CLASS, 'new_label'] = -1\n",
    "    test_data_df['new_label'] = test_data_df['label']\n",
    "    test_data_df.loc[test_data_df['label'] == TRAIN_CLASS, 'new_label'] = 1\n",
    "    test_data_df.loc[test_data_df['label'] != TRAIN_CLASS, 'new_label'] = -1\n",
    "    # Preparing train data with only normal class\n",
    "    final_train = train_data_df.loc[train_data_df['new_label'] == 1]\n",
    "    print(final_train['new_label'].value_counts())\n",
    "    #val data\n",
    "    final_val = val_data_df\n",
    "    print(final_val['new_label'].value_counts())\n",
    "    # Test data with both normal and other classes\n",
    "    final_test = test_data_df\n",
    "    print(final_test['new_label'].value_counts())\n",
    "    return final_train, final_test, final_val\n",
    "\n",
    "\n",
    "def data_for_autoencoder():\n",
    "    # Converting the train and test data into dataframe\n",
    "    train_data_df['new_label'] = train_data_df['label']\n",
    "    train_data_df.loc[train_data_df['label'] == TRAIN_CLASS, 'new_label'] = 0\n",
    "    train_data_df.loc[train_data_df['label'] != TRAIN_CLASS, 'new_label'] = 1\n",
    "    val_data_df['new_label'] = val_data_df['label']\n",
    "    val_data_df.loc[val_data_df['label'] == TRAIN_CLASS, 'new_label'] = 0\n",
    "    val_data_df.loc[val_data_df['label'] != TRAIN_CLASS, 'new_label'] = 1\n",
    "    test_data_df['new_label'] = test_data_df['label']\n",
    "    test_data_df.loc[test_data_df['label'] == TRAIN_CLASS, 'new_label'] = 0\n",
    "    test_data_df.loc[test_data_df['label'] != TRAIN_CLASS, 'new_label'] = 1\n",
    "    # Preparing train data with only normal class\n",
    "    final_train = train_data_df.loc[train_data_df['new_label'] == 0]\n",
    "    print(final_train['new_label'].value_counts())\n",
    "    final_val = val_data_df\n",
    "    print(final_val['new_label'].value_counts())\n",
    "    # Test data with both normal and other classes\n",
    "    final_test = test_data_df\n",
    "    print(final_test['new_label'].value_counts())\n",
    "    return final_train, final_test, final_val\n",
    "\n",
    "def mostFrequent(arr): \n",
    "    n = len(arr)\n",
    "    # Insert all elements in Hash. \n",
    "    Hash = dict() \n",
    "    for i in range(n): \n",
    "        if arr[i] in Hash.keys(): \n",
    "            Hash[arr[i]] += 1\n",
    "        else: \n",
    "            Hash[arr[i]] = 1\n",
    "  \n",
    "    # find the max frequency \n",
    "    max_count = 0\n",
    "    res = -1\n",
    "    for i in Hash:  \n",
    "        if (max_count < Hash[i]):  \n",
    "            res = i \n",
    "            max_count = Hash[i] \n",
    "          \n",
    "    return res  \n",
    "\n",
    "def ensemble_results(model, test_true_labels, test_predicted_labels):\n",
    "    print('Model: ', model)\n",
    "    test_f1 = f1_score(test_true_labels, test_predicted_labels, average='macro')  \n",
    "    print('Test F1 Score: ', test_f1)\n",
    "    accuracy = accuracy_score(test_true_labels, test_predicted_labels)\n",
    "    print(\"Test accuracy:\", accuracy)\n",
    "    results_global_list.append(round(test_f1,2))\n",
    "    results_global_list.append(round(accuracy*100,1))\n",
    "    #results = confusion_matrix(test_true_labels, test_predicted_labels, [1,-1]) \n",
    "    #print('Confusion Matrix :')\n",
    "    #print(results) \n",
    "    #print('Report : ')\n",
    "    #LABELS = [\"known\", \"unknown\"]\n",
    "    '''plt.figure(figsize=(6, 6))\n",
    "    sns.heatmap(results, xticklabels=LABELS, yticklabels=LABELS, annot=True, fmt=\"d\");\n",
    "    plt.title(\"Confusion matrix - Reuters - \" + str(model))\n",
    "    plt.ylabel('True class')\n",
    "    plt.xlabel('Predicted class')\n",
    "    plt.show()\n",
    "    #print(classification_report(test_true_labels, test_predicted_labels))\n",
    "    '''\n",
    "\n",
    "    \n",
    "def autoencoder_model(X_Test, Y_Test):\n",
    "    input_dim = X_train.shape[1]\n",
    "    print('Input dimension: ',input_dim)\n",
    "    encoding_dim = 14\n",
    "    nb_epoch = 100\n",
    "    batch_size = 32\n",
    "\n",
    "    input_layer = Input(shape=(input_dim, ))\n",
    "    encoder = Dense(encoding_dim, activation=\"tanh\", \n",
    "                    activity_regularizer=regularizers.l1(10e-5))(input_layer)\n",
    "    encoder = Dense(int(encoding_dim / 2), activation=\"relu\")(encoder)\n",
    "    decoder = Dense(int(encoding_dim / 2), activation='tanh')(encoder)\n",
    "    decoder = Dense(input_dim, activation='relu')(decoder)\n",
    "    autoencoder = Model(inputs=input_layer, outputs=decoder)\n",
    "\n",
    "\n",
    "    autoencoder.compile(optimizer='adam', \n",
    "                        loss='mean_squared_error', \n",
    "                        metrics=['accuracy'])\n",
    "\n",
    "    checkpointer = ModelCheckpoint(filepath=\"model_news20.h5\",\n",
    "                                   verbose=0,\n",
    "                                   save_best_only=True)\n",
    "    tensorboard = TensorBoard(log_dir='./logs_reuters',\n",
    "                              histogram_freq=0,\n",
    "                              write_graph=True,\n",
    "                              write_images=True)\n",
    "\n",
    "    history = autoencoder.fit(X_train, X_train,\n",
    "                        epochs=nb_epoch,\n",
    "                        batch_size=batch_size,\n",
    "                        shuffle=True,\n",
    "                        validation_data=(X_Test, X_Test),\n",
    "                        verbose=1,\n",
    "                        callbacks=[checkpointer, tensorboard]).history\n",
    "    \n",
    "    plt.plot(history['loss'])\n",
    "    plt.plot(history['val_loss'])\n",
    "    plt.title('Model loss')\n",
    "    plt.ylabel('loss')\n",
    "    plt.xlabel('epoch')\n",
    "    plt.legend(['train', 'test'], loc='upper right')\n",
    "\n",
    "    autoencoder = load_model('model_news20.h5')\n",
    "    \n",
    "    predictions = autoencoder.predict(X_Test)\n",
    "\n",
    "    mse = np.mean(np.power(X_Test - predictions, 2), axis=1)\n",
    "    error_df = pd.DataFrame({'reconstruction_error': mse,\n",
    "                            'true_class': Y_Test})\n",
    "\n",
    "    #error_df.describe()\n",
    "    auto_score_pred = []\n",
    "    for scor in predictions.tolist():\n",
    "        auto_score_pred.append(np.mean(scor))\n",
    "    normalized_auto = [((x-min(auto_score_pred))/(max(auto_score_pred)-min(auto_score_pred))) for x in auto_score_pred]\n",
    "    print(len(normalized_auto))\n",
    "    return normalized_auto"
   ]
  },
  {
   "cell_type": "code",
   "execution_count": 40,
   "metadata": {},
   "outputs": [
    {
     "name": "stderr",
     "output_type": "stream",
     "text": [
      "[nltk_data] Downloading package stopwords to /home/runner/nltk_data...\n",
      "[nltk_data]   Package stopwords is already up-to-date!\n",
      "[nltk_data] Downloading package punkt to /home/runner/nltk_data...\n",
      "[nltk_data]   Package punkt is already up-to-date!\n"
     ]
    },
    {
     "name": "stdout",
     "output_type": "stream",
     "text": [
      "Loading data...\n",
      "Running for Embeddings:  use\n",
      "Running for News group:  rec.sport.hockey\n",
      "1    364\n",
      "Name: new_label, dtype: int64\n",
      "-1    3776\n",
      " 1     220\n",
      "Name: new_label, dtype: int64\n",
      "-1    6910\n",
      " 1     389\n",
      "Name: new_label, dtype: int64\n",
      "Embeddings Started: \n",
      "INFO:tensorflow:Saver not created because there are no variables in the graph to restore\n"
     ]
    },
    {
     "name": "stderr",
     "output_type": "stream",
     "text": [
      "I0107 12:20:45.412622 140048832603520 saver.py:1483] Saver not created because there are no variables in the graph to restore\n"
     ]
    },
    {
     "name": "stdout",
     "output_type": "stream",
     "text": [
      "INFO:tensorflow:Graph was finalized.\n"
     ]
    },
    {
     "name": "stderr",
     "output_type": "stream",
     "text": [
      "I0107 12:20:45.732108 140048832603520 monitored_session.py:222] Graph was finalized.\n"
     ]
    },
    {
     "name": "stdout",
     "output_type": "stream",
     "text": [
      "INFO:tensorflow:Running local_init_op.\n"
     ]
    },
    {
     "name": "stderr",
     "output_type": "stream",
     "text": [
      "I0107 12:20:46.358403 140048832603520 session_manager.py:491] Running local_init_op.\n"
     ]
    },
    {
     "name": "stdout",
     "output_type": "stream",
     "text": [
      "INFO:tensorflow:Done running local_init_op.\n"
     ]
    },
    {
     "name": "stderr",
     "output_type": "stream",
     "text": [
      "I0107 12:20:47.319534 140048832603520 session_manager.py:493] Done running local_init_op.\n"
     ]
    },
    {
     "name": "stdout",
     "output_type": "stream",
     "text": [
      "Embedding time:  107.74103617668152\n",
      "----------------- OCSVM Model -----------------\n"
     ]
    },
    {
     "name": "stderr",
     "output_type": "stream",
     "text": [
      "/opt/conda/lib/python3.7/site-packages/sklearn/svm/base.py:193: FutureWarning: The default value of gamma will change from 'auto' to 'scale' in version 0.22 to account better for unscaled features. Set gamma explicitly to 'auto' or 'scale' to avoid this warning.\n",
      "  \"avoid this warning.\", FutureWarning)\n"
     ]
    },
    {
     "name": "stdout",
     "output_type": "stream",
     "text": [
      "Model:  one Class SVM\n",
      "Test F1 Score:  0.8807788272589541\n",
      "Test accuracy: 0.9798602548294287\n"
     ]
    },
    {
     "data": {
      "image/png": "[encoded data removed]",
      "text/plain": [
       "<Figure size 432x288 with 1 Axes>"
      ]
     },
     "metadata": {
      "needs_background": "light"
     },
     "output_type": "display_data"
    },
    {
     "data": {
      "image/png": "[encoded data removed]",
      "text/plain": [
       "<Figure size 432x432 with 2 Axes>"
      ]
     },
     "metadata": {
      "needs_background": "light"
     },
     "output_type": "display_data"
    },
    {
     "name": "stdout",
     "output_type": "stream",
     "text": [
      "7299\n",
      "3996\n",
      "----------------- isolation forest -----------------\n",
      "Model:  Isolation Forest\n",
      "Test F1 Score:  0.5909952204439066\n",
      "Test accuracy: 0.9525962460611043\n"
     ]
    },
    {
     "data": {
      "image/png": "[encoded data removed]",
      "text/plain": [
       "<Figure size 432x432 with 2 Axes>"
      ]
     },
     "metadata": {
      "needs_background": "light"
     },
     "output_type": "display_data"
    },
    {
     "name": "stdout",
     "output_type": "stream",
     "text": [
      "7299\n",
      "3996\n",
      "0    364\n",
      "Name: new_label, dtype: int64\n",
      "1    3776\n",
      "0     220\n",
      "Name: new_label, dtype: int64\n",
      "1    6910\n",
      "0     389\n",
      "Name: new_label, dtype: int64\n",
      "----------------- Auto Encoder -----------------\n",
      "Input dimension:  512\n",
      "Train on 364 samples, validate on 3996 samples\n",
      "Epoch 1/100\n",
      "364/364 [==============================] - 0s 992us/step - loss: 0.0035 - accuracy: 0.0275 - val_loss: 0.0040 - val_accuracy: 0.0075\n",
      "Epoch 2/100\n",
      "364/364 [==============================] - 0s 713us/step - loss: 0.0029 - accuracy: 0.1566 - val_loss: 0.0038 - val_accuracy: 0.0208\n",
      "Epoch 3/100\n",
      "364/364 [==============================] - 0s 625us/step - loss: 0.0026 - accuracy: 0.2610 - val_loss: 0.0037 - val_accuracy: 0.0238\n",
      "Epoch 4/100\n",
      "364/364 [==============================] - 0s 797us/step - loss: 0.0024 - accuracy: 0.2857 - val_loss: 0.0036 - val_accuracy: 0.0208\n",
      "Epoch 5/100\n",
      "364/364 [==============================] - 0s 816us/step - loss: 0.0023 - accuracy: 0.2857 - val_loss: 0.0035 - val_accuracy: 0.0215\n",
      "Epoch 6/100\n",
      "364/364 [==============================] - 0s 732us/step - loss: 0.0022 - accuracy: 0.2857 - val_loss: 0.0034 - val_accuracy: 0.0225\n",
      "Epoch 7/100\n",
      "364/364 [==============================] - 0s 841us/step - loss: 0.0022 - accuracy: 0.2940 - val_loss: 0.0033 - val_accuracy: 0.0260\n",
      "Epoch 8/100\n",
      "364/364 [==============================] - 0s 658us/step - loss: 0.0021 - accuracy: 0.2995 - val_loss: 0.0033 - val_accuracy: 0.0240\n",
      "Epoch 9/100\n",
      "364/364 [==============================] - 0s 613us/step - loss: 0.0020 - accuracy: 0.3077 - val_loss: 0.0032 - val_accuracy: 0.0250\n",
      "Epoch 10/100\n",
      "364/364 [==============================] - 0s 789us/step - loss: 0.0020 - accuracy: 0.3049 - val_loss: 0.0031 - val_accuracy: 0.0263\n",
      "Epoch 11/100\n",
      "364/364 [==============================] - 0s 739us/step - loss: 0.0020 - accuracy: 0.3077 - val_loss: 0.0030 - val_accuracy: 0.0260\n",
      "Epoch 12/100\n",
      "364/364 [==============================] - 0s 769us/step - loss: 0.0019 - accuracy: 0.3159 - val_loss: 0.0030 - val_accuracy: 0.0258\n",
      "Epoch 13/100\n",
      "364/364 [==============================] - 0s 862us/step - loss: 0.0019 - accuracy: 0.2912 - val_loss: 0.0030 - val_accuracy: 0.0243\n",
      "Epoch 14/100\n",
      "364/364 [==============================] - 0s 755us/step - loss: 0.0019 - accuracy: 0.2802 - val_loss: 0.0029 - val_accuracy: 0.0243\n",
      "Epoch 15/100\n",
      "364/364 [==============================] - 0s 764us/step - loss: 0.0019 - accuracy: 0.3022 - val_loss: 0.0029 - val_accuracy: 0.0238\n",
      "Epoch 16/100\n",
      "364/364 [==============================] - 0s 643us/step - loss: 0.0019 - accuracy: 0.2473 - val_loss: 0.0029 - val_accuracy: 0.0228\n",
      "Epoch 17/100\n",
      "364/364 [==============================] - 0s 679us/step - loss: 0.0018 - accuracy: 0.2775 - val_loss: 0.0028 - val_accuracy: 0.0238\n",
      "Epoch 18/100\n",
      "364/364 [==============================] - 0s 696us/step - loss: 0.0018 - accuracy: 0.2912 - val_loss: 0.0028 - val_accuracy: 0.0255\n",
      "Epoch 19/100\n",
      "364/364 [==============================] - 0s 593us/step - loss: 0.0018 - accuracy: 0.2775 - val_loss: 0.0028 - val_accuracy: 0.0240\n",
      "Epoch 20/100\n",
      "364/364 [==============================] - 0s 752us/step - loss: 0.0018 - accuracy: 0.3077 - val_loss: 0.0027 - val_accuracy: 0.0238\n",
      "Epoch 21/100\n",
      "364/364 [==============================] - 0s 878us/step - loss: 0.0018 - accuracy: 0.2940 - val_loss: 0.0027 - val_accuracy: 0.0255\n",
      "Epoch 22/100\n",
      "364/364 [==============================] - 0s 780us/step - loss: 0.0018 - accuracy: 0.2473 - val_loss: 0.0027 - val_accuracy: 0.0220\n",
      "Epoch 23/100\n",
      "364/364 [==============================] - 0s 668us/step - loss: 0.0018 - accuracy: 0.2775 - val_loss: 0.0027 - val_accuracy: 0.0223\n",
      "Epoch 24/100\n",
      "364/364 [==============================] - 0s 610us/step - loss: 0.0018 - accuracy: 0.2857 - val_loss: 0.0027 - val_accuracy: 0.0255\n",
      "Epoch 25/100\n",
      "364/364 [==============================] - 0s 676us/step - loss: 0.0018 - accuracy: 0.2885 - val_loss: 0.0027 - val_accuracy: 0.0228\n",
      "Epoch 26/100\n",
      "364/364 [==============================] - 0s 466us/step - loss: 0.0018 - accuracy: 0.2610 - val_loss: 0.0027 - val_accuracy: 0.0220\n",
      "Epoch 27/100\n",
      "364/364 [==============================] - 0s 579us/step - loss: 0.0018 - accuracy: 0.2720 - val_loss: 0.0026 - val_accuracy: 0.0240\n",
      "Epoch 28/100\n",
      "364/364 [==============================] - 0s 508us/step - loss: 0.0018 - accuracy: 0.3187 - val_loss: 0.0026 - val_accuracy: 0.0233\n",
      "Epoch 29/100\n",
      "364/364 [==============================] - 0s 609us/step - loss: 0.0018 - accuracy: 0.2940 - val_loss: 0.0026 - val_accuracy: 0.0233\n",
      "Epoch 30/100\n",
      "364/364 [==============================] - 0s 567us/step - loss: 0.0018 - accuracy: 0.2912 - val_loss: 0.0026 - val_accuracy: 0.0253\n",
      "Epoch 31/100\n",
      "364/364 [==============================] - 0s 524us/step - loss: 0.0017 - accuracy: 0.2445 - val_loss: 0.0026 - val_accuracy: 0.0235\n",
      "Epoch 32/100\n",
      "364/364 [==============================] - 0s 612us/step - loss: 0.0017 - accuracy: 0.2940 - val_loss: 0.0026 - val_accuracy: 0.0203\n",
      "Epoch 33/100\n",
      "364/364 [==============================] - 0s 613us/step - loss: 0.0017 - accuracy: 0.2830 - val_loss: 0.0026 - val_accuracy: 0.0258\n",
      "Epoch 34/100\n",
      "364/364 [==============================] - 0s 596us/step - loss: 0.0017 - accuracy: 0.2967 - val_loss: 0.0026 - val_accuracy: 0.0218\n",
      "Epoch 35/100\n",
      "364/364 [==============================] - 0s 518us/step - loss: 0.0017 - accuracy: 0.2775 - val_loss: 0.0026 - val_accuracy: 0.0250\n",
      "Epoch 36/100\n",
      "364/364 [==============================] - 0s 615us/step - loss: 0.0017 - accuracy: 0.2885 - val_loss: 0.0026 - val_accuracy: 0.0238\n",
      "Epoch 37/100\n",
      "364/364 [==============================] - 0s 593us/step - loss: 0.0017 - accuracy: 0.2940 - val_loss: 0.0026 - val_accuracy: 0.0250\n",
      "Epoch 38/100\n",
      "364/364 [==============================] - 0s 590us/step - loss: 0.0017 - accuracy: 0.2967 - val_loss: 0.0026 - val_accuracy: 0.0195\n",
      "Epoch 39/100\n",
      "364/364 [==============================] - 0s 468us/step - loss: 0.0017 - accuracy: 0.3049 - val_loss: 0.0026 - val_accuracy: 0.0253\n",
      "Epoch 40/100\n",
      "364/364 [==============================] - 0s 510us/step - loss: 0.0017 - accuracy: 0.3104 - val_loss: 0.0026 - val_accuracy: 0.0228\n",
      "Epoch 41/100\n",
      "364/364 [==============================] - 0s 502us/step - loss: 0.0017 - accuracy: 0.2802 - val_loss: 0.0026 - val_accuracy: 0.0228\n",
      "Epoch 42/100\n",
      "364/364 [==============================] - 0s 792us/step - loss: 0.0017 - accuracy: 0.3132 - val_loss: 0.0025 - val_accuracy: 0.0235\n",
      "Epoch 43/100\n",
      "364/364 [==============================] - 0s 712us/step - loss: 0.0017 - accuracy: 0.3489 - val_loss: 0.0025 - val_accuracy: 0.0218\n",
      "Epoch 44/100\n",
      "364/364 [==============================] - 0s 799us/step - loss: 0.0017 - accuracy: 0.3297 - val_loss: 0.0025 - val_accuracy: 0.0233\n",
      "Epoch 45/100\n",
      "364/364 [==============================] - 0s 725us/step - loss: 0.0017 - accuracy: 0.3077 - val_loss: 0.0025 - val_accuracy: 0.0210\n",
      "Epoch 46/100\n",
      "364/364 [==============================] - 0s 788us/step - loss: 0.0017 - accuracy: 0.3104 - val_loss: 0.0025 - val_accuracy: 0.0223\n",
      "Epoch 47/100\n",
      "364/364 [==============================] - 0s 734us/step - loss: 0.0017 - accuracy: 0.3242 - val_loss: 0.0025 - val_accuracy: 0.0275\n",
      "Epoch 48/100\n",
      "364/364 [==============================] - 0s 843us/step - loss: 0.0017 - accuracy: 0.3434 - val_loss: 0.0025 - val_accuracy: 0.0223\n",
      "Epoch 49/100\n",
      "364/364 [==============================] - 0s 729us/step - loss: 0.0017 - accuracy: 0.3187 - val_loss: 0.0025 - val_accuracy: 0.0248\n",
      "Epoch 50/100\n",
      "364/364 [==============================] - 0s 626us/step - loss: 0.0017 - accuracy: 0.3544 - val_loss: 0.0025 - val_accuracy: 0.0215\n",
      "Epoch 51/100\n",
      "364/364 [==============================] - 0s 794us/step - loss: 0.0017 - accuracy: 0.3242 - val_loss: 0.0025 - val_accuracy: 0.0235\n",
      "Epoch 52/100\n",
      "364/364 [==============================] - 0s 827us/step - loss: 0.0017 - accuracy: 0.3104 - val_loss: 0.0024 - val_accuracy: 0.0250\n",
      "Epoch 53/100\n",
      "364/364 [==============================] - 0s 829us/step - loss: 0.0017 - accuracy: 0.3462 - val_loss: 0.0025 - val_accuracy: 0.0225\n",
      "Epoch 54/100\n",
      "364/364 [==============================] - 0s 884us/step - loss: 0.0017 - accuracy: 0.3571 - val_loss: 0.0024 - val_accuracy: 0.0243\n",
      "Epoch 55/100\n"
     ]
    },
    {
     "name": "stdout",
     "output_type": "stream",
     "text": [
      "364/364 [==============================] - 0s 843us/step - loss: 0.0017 - accuracy: 0.3297 - val_loss: 0.0024 - val_accuracy: 0.0228\n",
      "Epoch 56/100\n",
      "364/364 [==============================] - 0s 728us/step - loss: 0.0017 - accuracy: 0.3104 - val_loss: 0.0024 - val_accuracy: 0.0260\n",
      "Epoch 57/100\n",
      "364/364 [==============================] - 0s 877us/step - loss: 0.0017 - accuracy: 0.3324 - val_loss: 0.0024 - val_accuracy: 0.0248\n",
      "Epoch 58/100\n",
      "364/364 [==============================] - 0s 809us/step - loss: 0.0017 - accuracy: 0.3681 - val_loss: 0.0024 - val_accuracy: 0.0233\n",
      "Epoch 59/100\n",
      "364/364 [==============================] - 0s 822us/step - loss: 0.0017 - accuracy: 0.3571 - val_loss: 0.0024 - val_accuracy: 0.0298\n",
      "Epoch 60/100\n",
      "364/364 [==============================] - 0s 736us/step - loss: 0.0017 - accuracy: 0.3407 - val_loss: 0.0024 - val_accuracy: 0.0240\n",
      "Epoch 61/100\n",
      "364/364 [==============================] - 0s 552us/step - loss: 0.0017 - accuracy: 0.3159 - val_loss: 0.0024 - val_accuracy: 0.0238\n",
      "Epoch 62/100\n",
      "364/364 [==============================] - 0s 574us/step - loss: 0.0017 - accuracy: 0.3022 - val_loss: 0.0024 - val_accuracy: 0.0235\n",
      "Epoch 63/100\n",
      "364/364 [==============================] - 0s 513us/step - loss: 0.0017 - accuracy: 0.3324 - val_loss: 0.0024 - val_accuracy: 0.0258\n",
      "Epoch 64/100\n",
      "364/364 [==============================] - 0s 540us/step - loss: 0.0017 - accuracy: 0.3242 - val_loss: 0.0024 - val_accuracy: 0.0243\n",
      "Epoch 65/100\n",
      "364/364 [==============================] - 0s 637us/step - loss: 0.0017 - accuracy: 0.3214 - val_loss: 0.0024 - val_accuracy: 0.0268\n",
      "Epoch 66/100\n",
      "364/364 [==============================] - 0s 661us/step - loss: 0.0017 - accuracy: 0.3324 - val_loss: 0.0024 - val_accuracy: 0.0230\n",
      "Epoch 67/100\n",
      "364/364 [==============================] - 0s 589us/step - loss: 0.0017 - accuracy: 0.3077 - val_loss: 0.0024 - val_accuracy: 0.0305\n",
      "Epoch 68/100\n",
      "364/364 [==============================] - 0s 657us/step - loss: 0.0016 - accuracy: 0.3324 - val_loss: 0.0024 - val_accuracy: 0.0273\n",
      "Epoch 69/100\n",
      "364/364 [==============================] - 0s 614us/step - loss: 0.0017 - accuracy: 0.3379 - val_loss: 0.0024 - val_accuracy: 0.0270\n",
      "Epoch 70/100\n",
      "364/364 [==============================] - 0s 689us/step - loss: 0.0016 - accuracy: 0.3407 - val_loss: 0.0024 - val_accuracy: 0.0260\n",
      "Epoch 71/100\n",
      "364/364 [==============================] - 0s 583us/step - loss: 0.0016 - accuracy: 0.3379 - val_loss: 0.0024 - val_accuracy: 0.0290\n",
      "Epoch 72/100\n",
      "364/364 [==============================] - 0s 583us/step - loss: 0.0017 - accuracy: 0.2912 - val_loss: 0.0024 - val_accuracy: 0.0250\n",
      "Epoch 73/100\n",
      "364/364 [==============================] - 0s 684us/step - loss: 0.0016 - accuracy: 0.3104 - val_loss: 0.0024 - val_accuracy: 0.0280\n",
      "Epoch 74/100\n",
      "364/364 [==============================] - 0s 729us/step - loss: 0.0016 - accuracy: 0.2995 - val_loss: 0.0024 - val_accuracy: 0.0238\n",
      "Epoch 75/100\n",
      "364/364 [==============================] - 0s 813us/step - loss: 0.0016 - accuracy: 0.2885 - val_loss: 0.0024 - val_accuracy: 0.0233\n",
      "Epoch 76/100\n",
      "364/364 [==============================] - 0s 822us/step - loss: 0.0016 - accuracy: 0.2747 - val_loss: 0.0024 - val_accuracy: 0.0270\n",
      "Epoch 77/100\n",
      "364/364 [==============================] - 0s 686us/step - loss: 0.0016 - accuracy: 0.3242 - val_loss: 0.0024 - val_accuracy: 0.0280\n",
      "Epoch 78/100\n",
      "364/364 [==============================] - 0s 690us/step - loss: 0.0016 - accuracy: 0.2775 - val_loss: 0.0024 - val_accuracy: 0.0273\n",
      "Epoch 79/100\n",
      "364/364 [==============================] - 0s 828us/step - loss: 0.0016 - accuracy: 0.3379 - val_loss: 0.0024 - val_accuracy: 0.0270\n",
      "Epoch 80/100\n",
      "364/364 [==============================] - 0s 858us/step - loss: 0.0016 - accuracy: 0.3132 - val_loss: 0.0024 - val_accuracy: 0.0300\n",
      "Epoch 81/100\n",
      "364/364 [==============================] - 0s 838us/step - loss: 0.0016 - accuracy: 0.3214 - val_loss: 0.0024 - val_accuracy: 0.0333\n",
      "Epoch 82/100\n",
      "364/364 [==============================] - 0s 822us/step - loss: 0.0016 - accuracy: 0.3022 - val_loss: 0.0024 - val_accuracy: 0.0268\n",
      "Epoch 83/100\n",
      "364/364 [==============================] - 0s 807us/step - loss: 0.0016 - accuracy: 0.2692 - val_loss: 0.0024 - val_accuracy: 0.0228\n",
      "Epoch 84/100\n",
      "364/364 [==============================] - 0s 699us/step - loss: 0.0016 - accuracy: 0.2885 - val_loss: 0.0024 - val_accuracy: 0.0258\n",
      "Epoch 85/100\n",
      "364/364 [==============================] - 0s 603us/step - loss: 0.0016 - accuracy: 0.2830 - val_loss: 0.0024 - val_accuracy: 0.0245\n",
      "Epoch 86/100\n",
      "364/364 [==============================] - 0s 611us/step - loss: 0.0016 - accuracy: 0.3104 - val_loss: 0.0024 - val_accuracy: 0.0250\n",
      "Epoch 87/100\n",
      "364/364 [==============================] - 0s 574us/step - loss: 0.0016 - accuracy: 0.2912 - val_loss: 0.0024 - val_accuracy: 0.0235\n",
      "Epoch 88/100\n",
      "364/364 [==============================] - 0s 650us/step - loss: 0.0016 - accuracy: 0.2802 - val_loss: 0.0024 - val_accuracy: 0.0255\n",
      "Epoch 89/100\n",
      "364/364 [==============================] - 0s 624us/step - loss: 0.0016 - accuracy: 0.2802 - val_loss: 0.0024 - val_accuracy: 0.0248\n",
      "Epoch 90/100\n",
      "364/364 [==============================] - 0s 566us/step - loss: 0.0016 - accuracy: 0.2857 - val_loss: 0.0024 - val_accuracy: 0.0225\n",
      "Epoch 91/100\n",
      "364/364 [==============================] - 0s 628us/step - loss: 0.0016 - accuracy: 0.2802 - val_loss: 0.0023 - val_accuracy: 0.0223\n",
      "Epoch 92/100\n",
      "364/364 [==============================] - 0s 581us/step - loss: 0.0016 - accuracy: 0.3022 - val_loss: 0.0024 - val_accuracy: 0.0253\n",
      "Epoch 93/100\n",
      "364/364 [==============================] - 0s 649us/step - loss: 0.0016 - accuracy: 0.2720 - val_loss: 0.0024 - val_accuracy: 0.0245\n",
      "Epoch 94/100\n",
      "364/364 [==============================] - 0s 577us/step - loss: 0.0016 - accuracy: 0.2885 - val_loss: 0.0024 - val_accuracy: 0.0258\n",
      "Epoch 95/100\n",
      "364/364 [==============================] - 0s 677us/step - loss: 0.0016 - accuracy: 0.2912 - val_loss: 0.0024 - val_accuracy: 0.0230\n",
      "Epoch 96/100\n",
      "364/364 [==============================] - 0s 805us/step - loss: 0.0016 - accuracy: 0.2857 - val_loss: 0.0023 - val_accuracy: 0.0275\n",
      "Epoch 97/100\n",
      "364/364 [==============================] - 0s 821us/step - loss: 0.0016 - accuracy: 0.2610 - val_loss: 0.0024 - val_accuracy: 0.0308\n",
      "Epoch 98/100\n",
      "364/364 [==============================] - 0s 796us/step - loss: 0.0016 - accuracy: 0.2830 - val_loss: 0.0024 - val_accuracy: 0.0245\n",
      "Epoch 99/100\n",
      "364/364 [==============================] - 0s 613us/step - loss: 0.0016 - accuracy: 0.2857 - val_loss: 0.0024 - val_accuracy: 0.0218\n",
      "Epoch 100/100\n",
      "364/364 [==============================] - 0s 684us/step - loss: 0.0016 - accuracy: 0.2665 - val_loss: 0.0024 - val_accuracy: 0.0250\n",
      "3996\n",
      "Input dimension:  512\n",
      "Train on 364 samples, validate on 7299 samples\n",
      "Epoch 1/100\n",
      "364/364 [==============================] - 1s 2ms/step - loss: 0.0034 - accuracy: 0.0000e+00 - val_loss: 0.0038 - val_accuracy: 0.0041\n",
      "Epoch 2/100\n",
      "364/364 [==============================] - 1s 1ms/step - loss: 0.0028 - accuracy: 0.0000e+00 - val_loss: 0.0036 - val_accuracy: 0.0041\n",
      "Epoch 3/100\n",
      "364/364 [==============================] - 0s 1ms/step - loss: 0.0026 - accuracy: 0.0055 - val_loss: 0.0035 - val_accuracy: 0.0053\n",
      "Epoch 4/100\n",
      "364/364 [==============================] - 0s 1ms/step - loss: 0.0024 - accuracy: 0.0357 - val_loss: 0.0035 - val_accuracy: 0.0066\n",
      "Epoch 5/100\n",
      "364/364 [==============================] - 0s 906us/step - loss: 0.0023 - accuracy: 0.0687 - val_loss: 0.0034 - val_accuracy: 0.0206\n",
      "Epoch 6/100\n",
      "364/364 [==============================] - 0s 879us/step - loss: 0.0022 - accuracy: 0.2885 - val_loss: 0.0033 - val_accuracy: 0.0248\n",
      "Epoch 7/100\n",
      "364/364 [==============================] - 0s 1ms/step - loss: 0.0021 - accuracy: 0.2995 - val_loss: 0.0032 - val_accuracy: 0.0259\n",
      "Epoch 8/100\n",
      "364/364 [==============================] - 0s 942us/step - loss: 0.0021 - accuracy: 0.2885 - val_loss: 0.0031 - val_accuracy: 0.0245\n",
      "Epoch 9/100\n",
      "364/364 [==============================] - 0s 932us/step - loss: 0.0020 - accuracy: 0.2912 - val_loss: 0.0031 - val_accuracy: 0.0241\n",
      "Epoch 10/100\n",
      "364/364 [==============================] - 0s 939us/step - loss: 0.0020 - accuracy: 0.2830 - val_loss: 0.0030 - val_accuracy: 0.0233\n"
     ]
    },
    {
     "name": "stdout",
     "output_type": "stream",
     "text": [
      "Epoch 11/100\n",
      "364/364 [==============================] - 0s 1ms/step - loss: 0.0019 - accuracy: 0.2830 - val_loss: 0.0030 - val_accuracy: 0.0232\n",
      "Epoch 12/100\n",
      "364/364 [==============================] - 0s 1ms/step - loss: 0.0019 - accuracy: 0.3214 - val_loss: 0.0029 - val_accuracy: 0.0244\n",
      "Epoch 13/100\n",
      "364/364 [==============================] - 0s 1ms/step - loss: 0.0019 - accuracy: 0.2912 - val_loss: 0.0029 - val_accuracy: 0.0223\n",
      "Epoch 14/100\n",
      "364/364 [==============================] - 0s 1ms/step - loss: 0.0019 - accuracy: 0.2857 - val_loss: 0.0029 - val_accuracy: 0.0238\n",
      "Epoch 15/100\n",
      "364/364 [==============================] - 0s 1ms/step - loss: 0.0019 - accuracy: 0.2747 - val_loss: 0.0029 - val_accuracy: 0.0229\n",
      "Epoch 16/100\n",
      "364/364 [==============================] - 1s 1ms/step - loss: 0.0018 - accuracy: 0.2885 - val_loss: 0.0028 - val_accuracy: 0.0225\n",
      "Epoch 17/100\n",
      "364/364 [==============================] - 0s 1ms/step - loss: 0.0018 - accuracy: 0.2857 - val_loss: 0.0028 - val_accuracy: 0.0237\n",
      "Epoch 18/100\n",
      "364/364 [==============================] - 1s 1ms/step - loss: 0.0018 - accuracy: 0.2940 - val_loss: 0.0028 - val_accuracy: 0.0242\n",
      "Epoch 19/100\n",
      "364/364 [==============================] - 0s 1ms/step - loss: 0.0018 - accuracy: 0.2885 - val_loss: 0.0028 - val_accuracy: 0.0249\n",
      "Epoch 20/100\n",
      "364/364 [==============================] - 1s 1ms/step - loss: 0.0018 - accuracy: 0.2802 - val_loss: 0.0028 - val_accuracy: 0.0240\n",
      "Epoch 21/100\n",
      "364/364 [==============================] - 0s 1ms/step - loss: 0.0018 - accuracy: 0.2775 - val_loss: 0.0027 - val_accuracy: 0.0221\n",
      "Epoch 22/100\n",
      "364/364 [==============================] - 1s 1ms/step - loss: 0.0018 - accuracy: 0.2830 - val_loss: 0.0027 - val_accuracy: 0.0236\n",
      "Epoch 23/100\n",
      "364/364 [==============================] - 1s 1ms/step - loss: 0.0018 - accuracy: 0.2995 - val_loss: 0.0027 - val_accuracy: 0.0247\n",
      "Epoch 24/100\n",
      "364/364 [==============================] - 1s 1ms/step - loss: 0.0018 - accuracy: 0.3077 - val_loss: 0.0027 - val_accuracy: 0.0218\n",
      "Epoch 25/100\n",
      "364/364 [==============================] - 0s 1ms/step - loss: 0.0018 - accuracy: 0.2582 - val_loss: 0.0027 - val_accuracy: 0.0244\n",
      "Epoch 26/100\n",
      "364/364 [==============================] - 0s 1ms/step - loss: 0.0018 - accuracy: 0.3104 - val_loss: 0.0027 - val_accuracy: 0.0227\n",
      "Epoch 27/100\n",
      "364/364 [==============================] - 0s 1ms/step - loss: 0.0018 - accuracy: 0.3022 - val_loss: 0.0027 - val_accuracy: 0.0244\n",
      "Epoch 28/100\n",
      "364/364 [==============================] - 0s 1ms/step - loss: 0.0018 - accuracy: 0.2885 - val_loss: 0.0027 - val_accuracy: 0.0238\n",
      "Epoch 29/100\n",
      "364/364 [==============================] - 0s 959us/step - loss: 0.0017 - accuracy: 0.3077 - val_loss: 0.0026 - val_accuracy: 0.0225\n",
      "Epoch 30/100\n",
      "364/364 [==============================] - 0s 1ms/step - loss: 0.0017 - accuracy: 0.3104 - val_loss: 0.0026 - val_accuracy: 0.0210\n",
      "Epoch 31/100\n",
      "364/364 [==============================] - 0s 1ms/step - loss: 0.0017 - accuracy: 0.2582 - val_loss: 0.0026 - val_accuracy: 0.0222\n",
      "Epoch 32/100\n",
      "364/364 [==============================] - 0s 1ms/step - loss: 0.0017 - accuracy: 0.2802 - val_loss: 0.0026 - val_accuracy: 0.0222\n",
      "Epoch 33/100\n",
      "364/364 [==============================] - 0s 1ms/step - loss: 0.0017 - accuracy: 0.2940 - val_loss: 0.0026 - val_accuracy: 0.0233\n",
      "Epoch 34/100\n",
      "364/364 [==============================] - 1s 1ms/step - loss: 0.0017 - accuracy: 0.3022 - val_loss: 0.0026 - val_accuracy: 0.0240\n",
      "Epoch 35/100\n",
      "364/364 [==============================] - 0s 1ms/step - loss: 0.0017 - accuracy: 0.2802 - val_loss: 0.0026 - val_accuracy: 0.0236\n",
      "Epoch 36/100\n",
      "364/364 [==============================] - 1s 1ms/step - loss: 0.0017 - accuracy: 0.2967 - val_loss: 0.0026 - val_accuracy: 0.0242\n",
      "Epoch 37/100\n",
      "364/364 [==============================] - 0s 1ms/step - loss: 0.0017 - accuracy: 0.3132 - val_loss: 0.0026 - val_accuracy: 0.0238\n",
      "Epoch 38/100\n",
      "364/364 [==============================] - 0s 1ms/step - loss: 0.0017 - accuracy: 0.2637 - val_loss: 0.0026 - val_accuracy: 0.0238\n",
      "Epoch 39/100\n",
      "364/364 [==============================] - 0s 1ms/step - loss: 0.0017 - accuracy: 0.2967 - val_loss: 0.0026 - val_accuracy: 0.0247\n",
      "Epoch 40/100\n",
      "364/364 [==============================] - 0s 1ms/step - loss: 0.0017 - accuracy: 0.2830 - val_loss: 0.0026 - val_accuracy: 0.0249\n",
      "Epoch 41/100\n",
      "364/364 [==============================] - 0s 1ms/step - loss: 0.0017 - accuracy: 0.2775 - val_loss: 0.0026 - val_accuracy: 0.0253\n",
      "Epoch 42/100\n",
      "364/364 [==============================] - 0s 1ms/step - loss: 0.0017 - accuracy: 0.2775 - val_loss: 0.0026 - val_accuracy: 0.0211\n",
      "Epoch 43/100\n",
      "364/364 [==============================] - 0s 1ms/step - loss: 0.0017 - accuracy: 0.2995 - val_loss: 0.0026 - val_accuracy: 0.0232\n",
      "Epoch 44/100\n",
      "364/364 [==============================] - 0s 1ms/step - loss: 0.0017 - accuracy: 0.2885 - val_loss: 0.0026 - val_accuracy: 0.0237\n",
      "Epoch 45/100\n",
      "364/364 [==============================] - 0s 947us/step - loss: 0.0017 - accuracy: 0.2857 - val_loss: 0.0026 - val_accuracy: 0.0237\n",
      "Epoch 46/100\n",
      "364/364 [==============================] - 1s 1ms/step - loss: 0.0017 - accuracy: 0.2775 - val_loss: 0.0026 - val_accuracy: 0.0203\n",
      "Epoch 47/100\n",
      "364/364 [==============================] - 0s 1ms/step - loss: 0.0017 - accuracy: 0.3104 - val_loss: 0.0025 - val_accuracy: 0.0218\n",
      "Epoch 48/100\n",
      "364/364 [==============================] - 0s 1ms/step - loss: 0.0017 - accuracy: 0.2912 - val_loss: 0.0025 - val_accuracy: 0.0218\n",
      "Epoch 49/100\n",
      "364/364 [==============================] - 0s 1ms/step - loss: 0.0017 - accuracy: 0.3269 - val_loss: 0.0026 - val_accuracy: 0.0232\n",
      "Epoch 50/100\n",
      "364/364 [==============================] - 0s 1ms/step - loss: 0.0017 - accuracy: 0.2802 - val_loss: 0.0025 - val_accuracy: 0.0247\n",
      "Epoch 51/100\n",
      "364/364 [==============================] - 0s 863us/step - loss: 0.0017 - accuracy: 0.2775 - val_loss: 0.0025 - val_accuracy: 0.0232\n",
      "Epoch 52/100\n",
      "364/364 [==============================] - 0s 1ms/step - loss: 0.0017 - accuracy: 0.2802 - val_loss: 0.0025 - val_accuracy: 0.0251\n",
      "Epoch 53/100\n",
      "364/364 [==============================] - 0s 1ms/step - loss: 0.0017 - accuracy: 0.2637 - val_loss: 0.0025 - val_accuracy: 0.0214\n",
      "Epoch 54/100\n",
      "364/364 [==============================] - 0s 1ms/step - loss: 0.0017 - accuracy: 0.3049 - val_loss: 0.0025 - val_accuracy: 0.0219\n",
      "Epoch 55/100\n",
      "364/364 [==============================] - 1s 1ms/step - loss: 0.0017 - accuracy: 0.2802 - val_loss: 0.0025 - val_accuracy: 0.0230\n",
      "Epoch 56/100\n",
      "364/364 [==============================] - 0s 1ms/step - loss: 0.0017 - accuracy: 0.2940 - val_loss: 0.0025 - val_accuracy: 0.0249\n",
      "Epoch 57/100\n",
      "364/364 [==============================] - 1s 2ms/step - loss: 0.0017 - accuracy: 0.2747 - val_loss: 0.0025 - val_accuracy: 0.0247\n",
      "Epoch 58/100\n",
      "364/364 [==============================] - 0s 1ms/step - loss: 0.0017 - accuracy: 0.2995 - val_loss: 0.0025 - val_accuracy: 0.0237\n",
      "Epoch 59/100\n",
      "364/364 [==============================] - 1s 1ms/step - loss: 0.0017 - accuracy: 0.2802 - val_loss: 0.0025 - val_accuracy: 0.0221\n",
      "Epoch 60/100\n",
      "364/364 [==============================] - 1s 1ms/step - loss: 0.0017 - accuracy: 0.2885 - val_loss: 0.0025 - val_accuracy: 0.0247\n",
      "Epoch 61/100\n",
      "364/364 [==============================] - 0s 1ms/step - loss: 0.0017 - accuracy: 0.2665 - val_loss: 0.0025 - val_accuracy: 0.0229\n",
      "Epoch 62/100\n",
      "364/364 [==============================] - 1s 1ms/step - loss: 0.0017 - accuracy: 0.2995 - val_loss: 0.0025 - val_accuracy: 0.0219\n",
      "Epoch 63/100\n",
      "364/364 [==============================] - 0s 1ms/step - loss: 0.0017 - accuracy: 0.2885 - val_loss: 0.0025 - val_accuracy: 0.0241\n",
      "Epoch 64/100\n",
      "364/364 [==============================] - 1s 1ms/step - loss: 0.0017 - accuracy: 0.3104 - val_loss: 0.0025 - val_accuracy: 0.0227\n",
      "Epoch 65/100\n",
      "364/364 [==============================] - 0s 1ms/step - loss: 0.0017 - accuracy: 0.2720 - val_loss: 0.0025 - val_accuracy: 0.0248\n",
      "Epoch 66/100\n",
      "364/364 [==============================] - 0s 1ms/step - loss: 0.0017 - accuracy: 0.2527 - val_loss: 0.0025 - val_accuracy: 0.0219\n",
      "Epoch 67/100\n",
      "364/364 [==============================] - 1s 1ms/step - loss: 0.0017 - accuracy: 0.2802 - val_loss: 0.0025 - val_accuracy: 0.0248\n"
     ]
    },
    {
     "name": "stdout",
     "output_type": "stream",
     "text": [
      "Epoch 68/100\n",
      "364/364 [==============================] - 0s 1ms/step - loss: 0.0017 - accuracy: 0.2857 - val_loss: 0.0025 - val_accuracy: 0.0222\n",
      "Epoch 69/100\n",
      "364/364 [==============================] - 0s 1ms/step - loss: 0.0017 - accuracy: 0.2912 - val_loss: 0.0025 - val_accuracy: 0.0242\n",
      "Epoch 70/100\n",
      "364/364 [==============================] - 0s 936us/step - loss: 0.0017 - accuracy: 0.3187 - val_loss: 0.0025 - val_accuracy: 0.0244\n",
      "Epoch 71/100\n",
      "364/364 [==============================] - 0s 1ms/step - loss: 0.0017 - accuracy: 0.2665 - val_loss: 0.0025 - val_accuracy: 0.0264\n",
      "Epoch 72/100\n",
      "364/364 [==============================] - 0s 1ms/step - loss: 0.0017 - accuracy: 0.2940 - val_loss: 0.0025 - val_accuracy: 0.0222\n",
      "Epoch 73/100\n",
      "364/364 [==============================] - 0s 993us/step - loss: 0.0017 - accuracy: 0.2527 - val_loss: 0.0025 - val_accuracy: 0.0240\n",
      "Epoch 74/100\n",
      "364/364 [==============================] - 0s 1ms/step - loss: 0.0017 - accuracy: 0.2527 - val_loss: 0.0025 - val_accuracy: 0.0226\n",
      "Epoch 75/100\n",
      "364/364 [==============================] - 0s 917us/step - loss: 0.0017 - accuracy: 0.2692 - val_loss: 0.0025 - val_accuracy: 0.0260\n",
      "Epoch 76/100\n",
      "364/364 [==============================] - 0s 1ms/step - loss: 0.0017 - accuracy: 0.2665 - val_loss: 0.0025 - val_accuracy: 0.0211\n",
      "Epoch 77/100\n",
      "364/364 [==============================] - 0s 973us/step - loss: 0.0017 - accuracy: 0.3159 - val_loss: 0.0025 - val_accuracy: 0.0206\n",
      "Epoch 78/100\n",
      "364/364 [==============================] - 0s 936us/step - loss: 0.0017 - accuracy: 0.2940 - val_loss: 0.0025 - val_accuracy: 0.0214\n",
      "Epoch 79/100\n",
      "364/364 [==============================] - 0s 1ms/step - loss: 0.0017 - accuracy: 0.2692 - val_loss: 0.0025 - val_accuracy: 0.0247\n",
      "Epoch 80/100\n",
      "364/364 [==============================] - 0s 1ms/step - loss: 0.0017 - accuracy: 0.2747 - val_loss: 0.0025 - val_accuracy: 0.0237\n",
      "Epoch 81/100\n",
      "364/364 [==============================] - 1s 2ms/step - loss: 0.0017 - accuracy: 0.2830 - val_loss: 0.0025 - val_accuracy: 0.0242\n",
      "Epoch 82/100\n",
      "364/364 [==============================] - 0s 1ms/step - loss: 0.0017 - accuracy: 0.2747 - val_loss: 0.0025 - val_accuracy: 0.0242\n",
      "Epoch 83/100\n",
      "364/364 [==============================] - 0s 1ms/step - loss: 0.0017 - accuracy: 0.2940 - val_loss: 0.0025 - val_accuracy: 0.0236\n",
      "Epoch 84/100\n",
      "364/364 [==============================] - 0s 1ms/step - loss: 0.0017 - accuracy: 0.2830 - val_loss: 0.0025 - val_accuracy: 0.0214\n",
      "Epoch 85/100\n",
      "364/364 [==============================] - 1s 1ms/step - loss: 0.0017 - accuracy: 0.2775 - val_loss: 0.0025 - val_accuracy: 0.0225\n",
      "Epoch 86/100\n",
      "364/364 [==============================] - 0s 1ms/step - loss: 0.0017 - accuracy: 0.2747 - val_loss: 0.0025 - val_accuracy: 0.0221\n",
      "Epoch 87/100\n",
      "364/364 [==============================] - 0s 1ms/step - loss: 0.0017 - accuracy: 0.2527 - val_loss: 0.0025 - val_accuracy: 0.0214\n",
      "Epoch 88/100\n",
      "364/364 [==============================] - 0s 1ms/step - loss: 0.0017 - accuracy: 0.2637 - val_loss: 0.0024 - val_accuracy: 0.0210\n",
      "Epoch 89/100\n",
      "364/364 [==============================] - 0s 1ms/step - loss: 0.0017 - accuracy: 0.2747 - val_loss: 0.0024 - val_accuracy: 0.0216\n",
      "Epoch 90/100\n",
      "364/364 [==============================] - 1s 1ms/step - loss: 0.0017 - accuracy: 0.2527 - val_loss: 0.0024 - val_accuracy: 0.0219\n",
      "Epoch 91/100\n",
      "364/364 [==============================] - 0s 1ms/step - loss: 0.0016 - accuracy: 0.2473 - val_loss: 0.0024 - val_accuracy: 0.0214\n",
      "Epoch 92/100\n",
      "364/364 [==============================] - 0s 1ms/step - loss: 0.0016 - accuracy: 0.2225 - val_loss: 0.0024 - val_accuracy: 0.0210\n",
      "Epoch 93/100\n",
      "364/364 [==============================] - 0s 1ms/step - loss: 0.0016 - accuracy: 0.2280 - val_loss: 0.0024 - val_accuracy: 0.0227\n",
      "Epoch 94/100\n",
      "364/364 [==============================] - 0s 1ms/step - loss: 0.0016 - accuracy: 0.2253 - val_loss: 0.0024 - val_accuracy: 0.0234\n",
      "Epoch 95/100\n",
      "364/364 [==============================] - 0s 954us/step - loss: 0.0016 - accuracy: 0.2308 - val_loss: 0.0024 - val_accuracy: 0.0269\n",
      "Epoch 96/100\n",
      "364/364 [==============================] - 0s 1ms/step - loss: 0.0016 - accuracy: 0.2335 - val_loss: 0.0024 - val_accuracy: 0.0267\n",
      "Epoch 97/100\n",
      "364/364 [==============================] - 0s 1ms/step - loss: 0.0016 - accuracy: 0.2363 - val_loss: 0.0024 - val_accuracy: 0.0241\n",
      "Epoch 98/100\n",
      "364/364 [==============================] - 1s 1ms/step - loss: 0.0016 - accuracy: 0.2445 - val_loss: 0.0024 - val_accuracy: 0.0278\n",
      "Epoch 99/100\n",
      "364/364 [==============================] - 0s 1ms/step - loss: 0.0016 - accuracy: 0.2582 - val_loss: 0.0024 - val_accuracy: 0.0301\n",
      "Epoch 100/100\n",
      "364/364 [==============================] - 1s 1ms/step - loss: 0.0016 - accuracy: 0.2473 - val_loss: 0.0024 - val_accuracy: 0.0267\n",
      "7299\n",
      "F1 Score forrec.sport.hockey:  0.9538379979092184\n",
      "              precision    recall  f1-score   support\n",
      "\n",
      "           0       0.91      0.91      0.91       389\n",
      "           1       1.00      1.00      1.00      6910\n",
      "\n",
      "    accuracy                           0.99      7299\n",
      "   macro avg       0.95      0.95      0.95      7299\n",
      "weighted avg       0.99      0.99      0.99      7299\n",
      "\n",
      "total time taken this loop:  210.18501257896423\n"
     ]
    },
    {
     "data": {
      "image/png": "[encoded data removed]",
      "text/plain": [
       "<Figure size 432x288 with 1 Axes>"
      ]
     },
     "metadata": {
      "needs_background": "light"
     },
     "output_type": "display_data"
    }
   ],
   "source": [
    "direc = \"/opt/notebooks/datasets/news20\"\n",
    "if direc not in nltk.data.path:\n",
    "    nltk.data.path.append(direc)\n",
    "nltk.download('stopwords')\n",
    "nltk.download('punkt')\n",
    "print('Loading data...')\n",
    "train_data = newsgroups20_dataset_train(direc)\n",
    "test_data = newsgroups20_dataset_test(direc)\n",
    "\n",
    "# Converting the train and test data into dataframe\n",
    "train_data_df = pd.DataFrame(train_data[:7000], columns = ['text' , 'label'])\n",
    "val_data_df = pd.DataFrame(train_data[7000:], columns = ['text' , 'label'])\n",
    "test_data_df = pd.DataFrame(test_data, columns = ['text' , 'label'])\n",
    "\n",
    "\n",
    "group_list = ['rec.autos', 'comp.sys.mac.hardware', 'comp.graphics', 'sci.space',\n",
    "       'talk.politics.guns', 'sci.med', 'comp.sys.ibm.pc.hardware',\n",
    "       'comp.os.ms-windows.misc', 'rec.motorcycles', 'talk.religion.misc',\n",
    "       'misc.forsale', 'alt.atheism', 'sci.electronics', 'comp.windows.x',\n",
    "       'rec.sport.hockey', 'rec.sport.baseball', 'soc.religion.christian',\n",
    "       'talk.politics.mideast', 'talk.politics.misc', 'sci.crypt']\n",
    "#group_list = ['soc.religion.christian']\n",
    "embedding_list = ['use']\n",
    "for embedding in embedding_list:\n",
    "    print('Running for Embeddings: ', embedding)\n",
    "    f1_scores = []\n",
    "    for group in group_list:\n",
    "        if group == 'rec.sport.hockey':\n",
    "            start = time.time()\n",
    "            print('Running for News group: ', group)\n",
    "            TRAIN_CLASS = group\n",
    "            results_global_list = []\n",
    "\n",
    "            #Load data\n",
    "            final_train, final_test, final_val = data_for_sota()\n",
    "            print('Embeddings Started: ')\n",
    "            emb_start = time.time()\n",
    "            # Specify the embeddings 'glove', 'xlnet', 'fasttext', 'elmo', 'ensemble'\n",
    "            if embedding == 'use':\n",
    "                train_data_list_global, test_data_list_global, val_data_list_global = use_embeddings()\n",
    "                #train_data_list_isf_global, test_data_list_isf_global = bert_embeddings()\n",
    "            if embedding == 'bert':    \n",
    "                train_data_list_global, test_data_list_global, val_data_list_global = bert_embeddings()\n",
    "            if embedding == 'infersent':\n",
    "                train_data_list_global, test_data_list_global = infersent_embeddings()\n",
    "            if embedding == 'glove':\n",
    "                train_data_list_global, test_data_list_global = other_embeddings('glove')\n",
    "            if embedding == 'fasttext':\n",
    "                train_data_list_global, test_data_list_global, val_data_list_global = other_embeddings('fasttext')\n",
    "            print('Embedding time: ', time.time() - emb_start)\n",
    "\n",
    "            train_data_list = train_data_list_global\n",
    "            test_data_list = test_data_list_global\n",
    "            val_data_list = val_data_list_global\n",
    "            #PCA\n",
    "            train_data_list, test_data_list, val_data_list = pca(train_data_list, test_data_list, val_data_list)\n",
    "            #---------------------------------- Model 1: OCSVM-----------------------------------\n",
    "            print('----------------- OCSVM Model -----------------')\n",
    "            svm_model = oneclass_svm(train_data_list, 'rbf', 0.1)\n",
    "            y_pred_train = svm_model.predict(train_data_list)\n",
    "            y_pred_test = svm_model.predict(test_data_list)\n",
    "            y_test_scores = svm_model.score_samples(test_data_list)\n",
    "            y_val_scores = svm_model.score_samples(val_data_list)\n",
    "            f1, acc = results('one Class SVM', final_train['new_label'].tolist(), y_pred_train, final_test['new_label'].tolist(), y_pred_test)\n",
    "            results_global_list.append(round(f1,2))\n",
    "            results_global_list.append(round(acc*100,1))\n",
    "\n",
    "            test_score_list = y_test_scores.tolist()\n",
    "            val_score_list = y_val_scores.tolist()\n",
    "            normalized_test_svm = [((x-min(test_score_list))/(max(test_score_list)-min(test_score_list))) for x in test_score_list]\n",
    "            normalized_val_svm = [((x-min(val_score_list))/(max(val_score_list)-min(val_score_list))) for x in val_score_list]\n",
    "            print(len(normalized_test_svm))\n",
    "            print(len(normalized_val_svm))\n",
    "\n",
    "            #---------------------------------- Model 2: Isolation Forest-----------------------------------\n",
    "            print('----------------- isolation forest -----------------')\n",
    "            rand_state = np.random.RandomState(42)\n",
    "            iso_forest = isolationForest(train_data_list, rand_state)\n",
    "            y_pred_iso_train = iso_forest.predict(train_data_list)\n",
    "            y_pred_iso_test = iso_forest.predict(test_data_list)\n",
    "            y_test_scores_isf = iso_forest.score_samples(test_data_list)\n",
    "            y_val_scores_isf = iso_forest.score_samples(val_data_list)\n",
    "            f1, acc = results('Isolation Forest', final_train['new_label'].tolist(), y_pred_iso_train, final_test['new_label'].tolist(), y_pred_iso_test)\n",
    "            results_global_list.append(round(f1,2))\n",
    "            results_global_list.append(round(acc*100,1))\n",
    "\n",
    "            test_score_list = y_test_scores_isf.tolist()\n",
    "            val_score_list_isf = y_val_scores_isf.tolist()\n",
    "            normalized_test_isf = [((x-min(test_score_list))/(max(test_score_list)-min(test_score_list))) for x in test_score_list]\n",
    "            normalized_val_isf = [((x-min(val_score_list_isf))/(max(val_score_list_isf)-min(val_score_list_isf))) for x in val_score_list_isf]\n",
    "            print(len(normalized_test_isf))\n",
    "            print(len(normalized_val_isf))\n",
    "\n",
    "            '''#----------------------------------Model 3: Local Outlier Factory-----------------------------------\n",
    "            print('----------------- local outlier factory -----------------')\n",
    "            svm_model = oneclass_svm(train_data_list, 'rbf', 0.1)\n",
    "            lof = local_outlier_factory(train_data_list, 250)\n",
    "            y_pred_lof_train = lof.predict(train_data_list)\n",
    "            y_pred_lof_test = lof.predict(test_data_list)\n",
    "            f1, acc = results('Local Outlier Factory', final_train['new_label'].tolist(), y_pred_lof_train, final_test['new_label'].tolist(), y_pred_lof_test)\n",
    "            results_global_list.append(round(f1,2))\n",
    "            results_global_list.append(round(acc*100,1))'''\n",
    "\n",
    "            #----------------------------- Model 4: Data processing for AutoEncoder-------------------------------\n",
    "            # Converting the train and test data into dataframe\n",
    "            train_data_df = pd.DataFrame(train_data[:7000], columns = ['text' , 'label'])\n",
    "            val_data_df = pd.DataFrame(train_data[7000:], columns = ['text' , 'label'])\n",
    "            test_data_df = pd.DataFrame(test_data, columns = ['text' , 'label'])\n",
    "\n",
    "            final_train, final_test, final_val = data_for_autoencoder()\n",
    "\n",
    "            X_train = train_data_list_global\n",
    "            y_train = final_train['new_label'].tolist()\n",
    "            X_test = test_data_list_global\n",
    "            y_test = final_test['new_label'].tolist()\n",
    "            X_val = val_data_list_global\n",
    "            y_val = final_val['new_label'].tolist()   \n",
    "\n",
    "            X_train = np.asarray(X_train)\n",
    "            X_test = np.asarray(X_test)\n",
    "            X_val = np.asarray(X_val)\n",
    "\n",
    "            # ******************************** Auto Encoder Model Bulding ***************************************\n",
    "            print('----------------- Auto Encoder -----------------')\n",
    "            auto_val_prediction_scores = autoencoder_model(X_val, y_val)\n",
    "            concat_array_val = np.array((normalized_val_svm, normalized_val_isf, auto_val_prediction_scores), dtype=float)\n",
    "            ensemble_array_val = np.append(val_data_list_global, concat_array_val.T, axis=1)\n",
    "            mlp = MLPClassifier(hidden_layer_sizes=(10, 10, 10), max_iter=1000)\n",
    "            mlp.fit(ensemble_array_val, y_val)\n",
    "\n",
    "\n",
    "            auto_test_prediction_scores = autoencoder_model(X_test, y_test)\n",
    "            concat_array_test = np.array((normalized_test_svm, normalized_test_isf, auto_test_prediction_scores), dtype=float)\n",
    "            ensemble_array_test = np.append(test_data_list_global, concat_array_test.T, axis=1)\n",
    "            ensemble_predictions = mlp.predict(ensemble_array_test)\n",
    "            text = 'F1 Score for'+ str(group)+ ': '\n",
    "            print(text , f1_score(y_test,ensemble_predictions, average='macro'))\n",
    "            print(classification_report(y_test,ensemble_predictions))\n",
    "            f1_scores.append(f1_score(y_test,ensemble_predictions, average='macro'))\n",
    "            '''#Load the model for prediction\n",
    "\n",
    "\n",
    "            fpr, tpr, thresholds = roc_curve(error_df.true_class, error_df.reconstruction_error)\n",
    "            roc_auc = auc(fpr, tpr)\n",
    "\n",
    "            precision, recall, th = precision_recall_curve(error_df.true_class, error_df.reconstruction_error)\n",
    "\n",
    "            accuracies = []\n",
    "            for threshold in th:\n",
    "                y_pred = [1 if e > threshold else 0 for e in error_df.reconstruction_error.values]\n",
    "                accuracies.append(balanced_accuracy_score(error_df.true_class, y_pred))\n",
    "            print(\"Maximum Test accuracy:\", max(accuracies))\n",
    "            #print(accuracies.index(max(accuracies)))\n",
    "            print('Threshold for maximal accuracy: ', th[accuracies.index(max(accuracies))])\n",
    "            threshold = th[accuracies.index(max(accuracies))]\n",
    "\n",
    "            groups = error_df.groupby('true_class')\n",
    "\n",
    "            LABELS = [\"known\", \"unknown\"]\n",
    "            y_pred_autoencoder = [1 if e > threshold else 0 for e in error_df.reconstruction_error.values]\n",
    "            conf_matrix = confusion_matrix(error_df.true_class, y_pred_autoencoder,[0,1])\n",
    "            test_f1 = f1_score(error_df.true_class, y_pred_autoencoder, average='macro')  \n",
    "            print('Test F1 Score: ', test_f1)\n",
    "            accuracy = balanced_accuracy_score(error_df.true_class, y_pred_autoencoder)\n",
    "            print(\"Test accuracy:\", accuracy)\n",
    "            results_global_list.append(round(test_f1,2))\n",
    "            results_global_list.append(round(accuracy*100,1))\n",
    "\n",
    "            # Base individual models end. Ensemble approaches begin from here\n",
    "\n",
    "            for i in range(len(y_pred_autoencoder)):\n",
    "                if y_pred_autoencoder[i] == 0:\n",
    "                    y_pred_autoencoder[i] = 1\n",
    "                else:\n",
    "                    y_pred_autoencoder[i] = -1\n",
    "            #print(y_pred_autoencoder)\n",
    "            final_train, final_test = data_for_sota()\n",
    "            print('----------------- Ensemble model -----------------')\n",
    "            y_pred_test_ensemble = []\n",
    "            for i in range(len(final_test['new_label'].tolist())):\n",
    "                arr = [ y_pred_test[i], y_pred_iso_test[i], y_pred_autoencoder[i]]\n",
    "                y_pred_test_ensemble.append(mostFrequent(arr))\n",
    "\n",
    "            ensemble_results('Ensemble', final_test['new_label'].tolist(), y_pred_test_ensemble)\n",
    "\n",
    "            print('f1scores and accuracies: ',results_global_list)'''\n",
    "    filename = '/opt/notebooks/OCSVM_ISF_LOF_USE_Baselines/results_output_new/exp_ensemble.txt'\n",
    "    with open(filename, 'w') as f:\n",
    "        for item in f1_scores:\n",
    "            f.write(\"%s\\t\" % str(item))\n",
    "    print(\"total time taken this loop: \", time.time() - start)"
   ]
  },
  {
   "cell_type": "code",
   "execution_count": 2,
   "metadata": {},
   "outputs": [
    {
     "name": "stderr",
     "output_type": "stream",
     "text": [
      "[nltk_data] Downloading package stopwords to /home/runner/nltk_data...\n",
      "[nltk_data]   Package stopwords is already up-to-date!\n",
      "[nltk_data] Downloading package punkt to /home/runner/nltk_data...\n",
      "[nltk_data]   Package punkt is already up-to-date!\n"
     ]
    }
   ],
   "source": [
    "dir = \"/opt/notebooks/datasets/news20\"\n",
    "if dir not in nltk.data.path:\n",
    "    nltk.data.path.append(dir)\n",
    "nltk.download('stopwords')\n",
    "nltk.download('punkt')\n",
    "\n",
    "def clean_text(text: str, rm_numbers=True, rm_punct=True, rm_stop_words=True, rm_short_words=True):\n",
    "    \"\"\" Function to perform common NLP pre-processing tasks. \"\"\"\n",
    "\n",
    "    # make lowercase\n",
    "    text = text.lower()\n",
    "    # remove punctuation\n",
    "    if rm_punct:\n",
    "        text = text.translate(str.maketrans(string.punctuation, ' ' * len(string.punctuation)))\n",
    "    # remove numbers\n",
    "    if rm_numbers:\n",
    "        text = re.sub(r'\\d+', '', text)\n",
    "    # remove whitespaces\n",
    "    text = text.strip()\n",
    "    # remove stopwords\n",
    "    if rm_stop_words:\n",
    "        stop_words = set(stopwords.words('english'))\n",
    "        word_tokens = word_tokenize(text)\n",
    "        text_list = [w for w in word_tokens if not w in stop_words]\n",
    "        text = ' '.join(text_list)\n",
    "    # remove short words\n",
    "    if rm_short_words:\n",
    "        text_list = [w for w in text.split() if len(w) >= 3]\n",
    "        text = ' '.join(text_list)\n",
    "    return text\n",
    "\n",
    "def newsgroups20_dataset_train(directory=dir,train=True, test=False, clean_txt=True):\n",
    "    \"\"\"\n",
    "    Load the 20 Newsgroups dataset.\n",
    "    \"\"\"\n",
    "    splits = [split_set for (requested, split_set) in [(train, 'train'), (test, 'test')] if requested]\n",
    "    for split_set in splits:\n",
    "        dataset = fetch_20newsgroups(data_home=directory, subset=split_set, remove=('headers', 'footers', 'quotes'))\n",
    "        train = []\n",
    "        for id in range(len(dataset.data)):\n",
    "            if clean_txt:\n",
    "                text = clean_text(dataset.data[id])\n",
    "            else:\n",
    "                text = ' '.join(word_tokenize(dataset.data[id]))\n",
    "            label = dataset.target_names[int(dataset.target[id])]\n",
    "\n",
    "            if text:\n",
    "                train.append({\n",
    "                    'text': text,\n",
    "                    'label': label\n",
    "                })\n",
    "    return train\n",
    "  \n",
    "def newsgroups20_dataset_test(directory=dir,train=False, test=True, clean_txt=True):\n",
    "    \"\"\"\n",
    "    Load the 20 Newsgroups dataset.\n",
    "    \"\"\"\n",
    "    splits = [split_set for (requested, split_set) in [(train, 'train'), (test, 'test')] if requested]\n",
    "    for split_set in splits:\n",
    "        dataset = fetch_20newsgroups(data_home=directory, subset=split_set, remove=('headers', 'footers', 'quotes'))\n",
    "        test = []\n",
    "        for id in range(len(dataset.data)):\n",
    "            if clean_txt:\n",
    "                text = clean_text(dataset.data[id])\n",
    "            else:\n",
    "                text = ' '.join(word_tokenize(dataset.data[id]))\n",
    "            label = dataset.target_names[int(dataset.target[id])]\n",
    "\n",
    "            if text:\n",
    "                test.append({\n",
    "                    'text': text,\n",
    "                    'label': label\n",
    "                })\n",
    "    return test"
   ]
  },
  {
   "cell_type": "markdown",
   "metadata": {},
   "source": [
    "Various Embeddings - Bert, Universal Sentence Encoder, Infersent, GloVe, Fasttext, Ensemble Embeddings(Flair + GloVe)"
   ]
  },
  {
   "cell_type": "code",
   "execution_count": 3,
   "metadata": {},
   "outputs": [],
   "source": [
    "# Embedding using Universal Sentence Encoder\n",
    "def embed_module(module):\n",
    "    with tf.Graph().as_default():\n",
    "        sentences = tf.placeholder(tf.string)\n",
    "        embed = hub.Module(module)\n",
    "        embeddings = embed(sentences)\n",
    "        session = tf.train.MonitoredSession()\n",
    "    return lambda x: session.run(embeddings, {sentences: x})\n",
    "\n",
    "def use_embeddings():\n",
    "    train_data_list = []\n",
    "    test_data_list = []\n",
    "    module_url = \"/opt/notebooks/embedding_model/\"\n",
    "    # Import the Universal Sentence Encoder's TF Hub module\n",
    "    embed = embed_module(module_url)\n",
    "    train_data_list = embed(final_train['text'].tolist())\n",
    "    test_data_list = embed(final_test['text'].tolist())\n",
    "    val_data_list = embed(final_val['text'].tolist())\n",
    "    return train_data_list, test_data_list, val_data_list\n",
    "\n",
    "# Bert\n",
    "def bert_embeddings():\n",
    "    train_data_list = []\n",
    "    test_data_list = []\n",
    "    model = SentenceTransformer('bert-base-nli-mean-tokens')\n",
    "    train_data_list = model.encode(final_train['text'].tolist())\n",
    "    test_data_list = model.encode(final_test['text'].tolist())\n",
    "    return train_data_list, test_data_list\n",
    "\n",
    "# Flair - GloVe - XLNet - FastText\n",
    "def other_embeddings(embd):\n",
    "    sess = tf.InteractiveSession()\n",
    "    train_data_list = []\n",
    "    test_data_list = []\n",
    "    if embd == 'glove':\n",
    "        print('Starting Glove Embedding...')\n",
    "        glove_embedding = WordEmbeddings('glove')\n",
    "        document_embeddings = DocumentPoolEmbeddings(embeddings=[glove_embedding])\n",
    "    elif embd == 'xlnet':\n",
    "        print('Starting XLNet Embedding...')\n",
    "        xlnet_embedding = XLNetEmbeddings('xlnet-large-cased')\n",
    "        document_embeddings = DocumentPoolEmbeddings(embeddings=[xlnet_embedding])\n",
    "    elif embd == 'fasttext':\n",
    "        print('Starting Fasttext Embedding...')\n",
    "        fasttext_embedding = WordEmbeddings('en')\n",
    "        document_embeddings = DocumentPoolEmbeddings(embeddings=[fasttext_embedding])\n",
    "    elif embd == 'elmo':\n",
    "        print('Starting ELMo Embedding...')\n",
    "        elmo_embedding = ELMoEmbeddings()\n",
    "        document_embeddings = DocumentPoolEmbeddings(embeddings=[elmo_embedding])\n",
    "    else:\n",
    "        # init Flair embeddings\n",
    "        flair_forward_embedding = FlairEmbeddings('multi-forward')\n",
    "        flair_backward_embedding = FlairEmbeddings('multi-backward')\n",
    "        glove_embedding = WordEmbeddings('glove')\n",
    "        # now create the DocumentPoolEmbeddings object that combines all embeddings\n",
    "        document_embeddings = DocumentPoolEmbeddings(embeddings=[glove_embedding, flair_forward_embedding, flair_backward_embedding])\n",
    "    print('Train embedding Started...')\n",
    "    for text in final_train['text'].tolist():\n",
    "        text = Sentence(text)\n",
    "        document_embeddings.embed(text)\n",
    "        emb = text.get_embedding().detach().numpy()\n",
    "        emb = tf.constant(emb).eval()\n",
    "        train_data_list.append(emb)\n",
    "    print('Embedded Train data!!')\n",
    "    print('Test embedding Started...')\n",
    "    for text in final_test['text'].tolist():\n",
    "        text = Sentence(text)\n",
    "        document_embeddings.embed(text)\n",
    "        emb = text.get_embedding().detach().numpy()\n",
    "        emb = tf.constant(emb).eval()\n",
    "        test_data_list.append(emb)\n",
    "    print('Embedded Test data!!')\n",
    "    return train_data_list, test_data_list\n",
    "\n",
    "def elmo_vectors(x):\n",
    "    elmo = hub.Module(\"https://tfhub.dev/google/elmo/2\", trainable=True)\n",
    "    embeddings = elmo(x, signature=\"default\", as_dict=True)[\"elmo\"]\n",
    "    with tf.Session() as sess:\n",
    "        sess.run(tf.global_variables_initializer())\n",
    "        sess.run(tf.tables_initializer())\n",
    "        # return average of ELMo features\n",
    "        return sess.run(tf.reduce_mean(embeddings,1))\n",
    "        \n",
    "def elmo_embeddings():\n",
    "    train_data_list = []\n",
    "    test_data_list = []\n",
    "    \n",
    "    elmo_train = [elmo_vectors(final_train['text'].tolist())]\n",
    "    elmo_test = [elmo_vectors(final_test['text'].tolist())]\n",
    "    for i in range(len(final_train['text'].tolist())):\n",
    "        train_data_list.append(elmo_train[0][i])\n",
    "    for i in range(len(final_test['text'].tolist())):\n",
    "        test_data_list.append(elmo_test[0][i])\n",
    "    return train_data_list, test_data_list\n",
    "\n",
    "def infersent_embeddings():\n",
    "    train_data_list = []\n",
    "    test_data_list = []\n",
    "    sys.path.append('/opt/notebooks/OCSVM_ISF_LOF_USE_Baselines/InferSent-master')\n",
    "    # Load model\n",
    "    from models import InferSent\n",
    "    model_version = 1\n",
    "    MODEL_PATH = \"/opt/notebooks/OCSVM_ISF_LOF_USE_Baselines/InferSent-master/encoder/infersent%s.pkl\" % model_version\n",
    "    params_model = {'bsize': 64, 'word_emb_dim': 300, 'enc_lstm_dim': 2048,\n",
    "                    'pool_type': 'max', 'dpout_model': 0.0, 'version': model_version}\n",
    "    model = InferSent(params_model)\n",
    "    model.load_state_dict(torch.load(MODEL_PATH))\n",
    "    # Keep it on CPU or put it on GPU\n",
    "    use_cuda = False\n",
    "    model = model.cuda() if use_cuda else model\n",
    "    # If infersent1 -> use GloVe embeddings. If infersent2 -> use InferSent embeddings.\n",
    "    W2V_PATH = '/opt/notebooks/OCSVM_ISF_LOF_USE_Baselines/InferSent-master/glove.840B.300d-003.txt' if model_version == 1 else '/opt/notebooks/OCSVM_ISF_LOF_USE_Baselines/InferSent-master/fastText/crawl-300d-2M.vec'\n",
    "    model.set_w2v_path(W2V_PATH)\n",
    "    # Load embeddings of K most frequent words\n",
    "    model.build_vocab_k_words(K=100000)\n",
    "    train_data_list = model.encode(final_train['text'].tolist(), bsize=128, tokenize=False, verbose=True)\n",
    "    print('nb sentences encoded : {0}'.format(len(train_data_list)))\n",
    "    test_data_list = model.encode(final_test['text'].tolist(), bsize=128, tokenize=False, verbose=True)\n",
    "    print('nb sentences encoded : {0}'.format(len(test_data_list)))\n",
    "    return train_data_list, test_data_list"
   ]
  },
  {
   "cell_type": "code",
   "execution_count": 4,
   "metadata": {},
   "outputs": [],
   "source": [
    "\n",
    "# OCSVM model\n",
    "def oneclass_svm(dataset, kernel, nu):\n",
    "    svm = OneClassSVM(kernel=kernel, nu=nu).fit(dataset)\n",
    "    return svm\n",
    "  \n",
    "# Isolation Forest\n",
    "def isolationForest(dataset, rng):\n",
    "    isolationforest = IsolationForest(behaviour='new', max_samples=100, random_state=rng, contamination='auto').fit(dataset)\n",
    "    return isolationforest\n",
    "\n",
    "def local_outlier_factory(dataset, neighbours):\n",
    "    lof = LocalOutlierFactor(n_neighbors=neighbours, contamination=0.1,novelty=True).fit(dataset)\n",
    "    return lof\n",
    "\n",
    "def pca(train, test, val):\n",
    "    print('Principal Component Analysis ...')\n",
    "    ss = StandardScaler()\n",
    "    ss.fit(train)\n",
    "    train = ss.transform(train)\n",
    "    test = ss.transform(test)\n",
    "    pca = PCA()\n",
    "    pca = pca.fit(train)\n",
    "    print('Explained variance percentage = %0.2f' % sum(pca.explained_variance_ratio_))\n",
    "    plt.plot(np.cumsum(pca.explained_variance_ratio_))\n",
    "    plt.xlabel('Number of components')\n",
    "    plt.ylabel('Cumulative explained variance')\n",
    "    train = pca.transform(train)\n",
    "    val = pca.transform(val)\n",
    "    test = pca.transform(test)\n",
    "    return train, test, val\n",
    "\n",
    "def results(model, train_true_labels, train_predicted_labels, test_true_labels, test_predicted_labels):\n",
    "    print('Model: ', model)\n",
    "    train_f1 = f1_score(train_true_labels, train_predicted_labels, average='macro')  \n",
    "    #print('Train F1 Score: ', train_f1)\n",
    "    test_f1 = f1_score(test_true_labels, test_predicted_labels, average='macro')  \n",
    "    print('Test F1 Score: ', test_f1)\n",
    "    #print(\"Train accuracy:\", accuracy_score(train_true_labels, train_predicted_labels))\n",
    "    accuracy = accuracy_score(test_true_labels, test_predicted_labels)\n",
    "    print(\"Test accuracy:\", accuracy )\n",
    "    #results_global_list.append(test_f1)\n",
    "    #results_global_list.append(accuracy)\n",
    "    results = confusion_matrix(test_true_labels, test_predicted_labels, [1,-1]) \n",
    "    #print('Confusion Matrix :')\n",
    "    #print(results) \n",
    "    #print('Report : ')\n",
    "    LABELS = [\"known\", \"unknown\"]\n",
    "    plt.figure(figsize=(6, 6))\n",
    "    sns.heatmap(results, xticklabels=LABELS, yticklabels=LABELS, annot=True, fmt=\"d\");\n",
    "    plt.title(\"Confusion matrix - Reuters - \" + str(model))\n",
    "    plt.ylabel('True class')\n",
    "    plt.xlabel('Predicted class')\n",
    "    plt.show()\n",
    "    return test_f1, accuracy\n",
    "    print(classification_report(test_true_labels, test_predicted_labels))"
   ]
  },
  {
   "cell_type": "code",
   "execution_count": 5,
   "metadata": {},
   "outputs": [],
   "source": [
    "train_data = newsgroups20_dataset_train()\n",
    "test_data = newsgroups20_dataset_test()"
   ]
  },
  {
   "cell_type": "code",
   "execution_count": 6,
   "metadata": {},
   "outputs": [
    {
     "name": "stdout",
     "output_type": "stream",
     "text": [
      "10996\n",
      "7299\n"
     ]
    }
   ],
   "source": [
    "print(len(train_data))\n",
    "print(len(test_data))"
   ]
  },
  {
   "cell_type": "code",
   "execution_count": null,
   "metadata": {},
   "outputs": [],
   "source": []
  },
  {
   "cell_type": "code",
   "execution_count": 7,
   "metadata": {},
   "outputs": [],
   "source": [
    "# Converting the train and test data into dataframe\n",
    "train_data_df = pd.DataFrame(train_data[:7000], columns = ['text' , 'label'])\n",
    "val_data_df = pd.DataFrame(train_data[7000:], columns = ['text' , 'label'])\n",
    "test_data_df = pd.DataFrame(test_data, columns = ['text' , 'label'])"
   ]
  },
  {
   "cell_type": "code",
   "execution_count": 8,
   "metadata": {},
   "outputs": [
    {
     "data": {
      "text/html": [
       "<div>\n",
       "<style scoped>\n",
       "    .dataframe tbody tr th:only-of-type {\n",
       "        vertical-align: middle;\n",
       "    }\n",
       "\n",
       "    .dataframe tbody tr th {\n",
       "        vertical-align: top;\n",
       "    }\n",
       "\n",
       "    .dataframe thead th {\n",
       "        text-align: right;\n",
       "    }\n",
       "</style>\n",
       "<table border=\"1\" class=\"dataframe\">\n",
       "  <thead>\n",
       "    <tr style=\"text-align: right;\">\n",
       "      <th></th>\n",
       "      <th>text</th>\n",
       "      <th>label</th>\n",
       "    </tr>\n",
       "  </thead>\n",
       "  <tbody>\n",
       "    <tr>\n",
       "      <th>0</th>\n",
       "      <td>wondering anyone could enlighten car saw day d...</td>\n",
       "      <td>rec.autos</td>\n",
       "    </tr>\n",
       "    <tr>\n",
       "      <th>1</th>\n",
       "      <td>fair number brave souls upgraded clock oscilla...</td>\n",
       "      <td>comp.sys.mac.hardware</td>\n",
       "    </tr>\n",
       "    <tr>\n",
       "      <th>2</th>\n",
       "      <td>well folks mac plus finally gave ghost weekend...</td>\n",
       "      <td>comp.sys.mac.hardware</td>\n",
       "    </tr>\n",
       "    <tr>\n",
       "      <th>3</th>\n",
       "      <td>weitek address phone number like get informati...</td>\n",
       "      <td>comp.graphics</td>\n",
       "    </tr>\n",
       "    <tr>\n",
       "      <th>4</th>\n",
       "      <td>article cowcb world std com tombaker world std...</td>\n",
       "      <td>sci.space</td>\n",
       "    </tr>\n",
       "  </tbody>\n",
       "</table>\n",
       "</div>"
      ],
      "text/plain": [
       "                                                text                  label\n",
       "0  wondering anyone could enlighten car saw day d...              rec.autos\n",
       "1  fair number brave souls upgraded clock oscilla...  comp.sys.mac.hardware\n",
       "2  well folks mac plus finally gave ghost weekend...  comp.sys.mac.hardware\n",
       "3  weitek address phone number like get informati...          comp.graphics\n",
       "4  article cowcb world std com tombaker world std...              sci.space"
      ]
     },
     "execution_count": 8,
     "metadata": {},
     "output_type": "execute_result"
    }
   ],
   "source": [
    "train_data_df.head()"
   ]
  },
  {
   "cell_type": "code",
   "execution_count": 10,
   "metadata": {},
   "outputs": [],
   "source": [
    "group_list = ['rec.autos', 'comp.sys.mac.hardware', 'comp.graphics', 'sci.space',\n",
    "       'talk.politics.guns', 'sci.med', 'comp.sys.ibm.pc.hardware',\n",
    "       'comp.os.ms-windows.misc', 'rec.motorcycles', 'talk.religion.misc',\n",
    "       'misc.forsale', 'alt.atheism', 'sci.electronics', 'comp.windows.x',\n",
    "       'rec.sport.hockey', 'rec.sport.baseball', 'soc.religion.christian',\n",
    "       'talk.politics.mideast', 'talk.politics.misc', 'sci.crypt']\n",
    "\n",
    "TRAIN_CLASS = 'rec.sport.hockey'\n",
    "results_global_list = []\n",
    "\n",
    "def data_for_sota():\n",
    "    # Numerical Labeling - 1 for normal class; -1 for anomaly class                    \n",
    "    train_data_df['new_label'] = train_data_df['label']\n",
    "    train_data_df.loc[train_data_df['label'] == TRAIN_CLASS, 'new_label'] = 1\n",
    "    train_data_df.loc[train_data_df['label'] != TRAIN_CLASS, 'new_label'] = -1\n",
    "    val_data_df['new_label'] = val_data_df['label']\n",
    "    val_data_df.loc[val_data_df['label'] == TRAIN_CLASS, 'new_label'] = 1\n",
    "    val_data_df.loc[val_data_df['label'] != TRAIN_CLASS, 'new_label'] = -1\n",
    "    test_data_df['new_label'] = test_data_df['label']\n",
    "    test_data_df.loc[test_data_df['label'] == TRAIN_CLASS, 'new_label'] = 1\n",
    "    test_data_df.loc[test_data_df['label'] != TRAIN_CLASS, 'new_label'] = -1\n",
    "    # Preparing train data with only normal class\n",
    "    final_train = train_data_df.loc[train_data_df['new_label'] == 1]\n",
    "    print(final_train['new_label'].value_counts())\n",
    "    #val data\n",
    "    final_val = val_data_df\n",
    "    print(final_val['new_label'].value_counts())\n",
    "    # Test data with both normal and other classes\n",
    "    final_test = test_data_df\n",
    "    print(final_test['new_label'].value_counts())\n",
    "    return final_train, final_test, final_val"
   ]
  },
  {
   "cell_type": "code",
   "execution_count": 11,
   "metadata": {},
   "outputs": [
    {
     "name": "stdout",
     "output_type": "stream",
     "text": [
      "1    364\n",
      "Name: new_label, dtype: int64\n",
      "-1    3776\n",
      " 1     220\n",
      "Name: new_label, dtype: int64\n",
      "-1    6910\n",
      " 1     389\n",
      "Name: new_label, dtype: int64\n"
     ]
    }
   ],
   "source": [
    "final_train, final_test, final_val = data_for_sota()"
   ]
  },
  {
   "cell_type": "code",
   "execution_count": 12,
   "metadata": {},
   "outputs": [
    {
     "data": {
      "text/html": [
       "<div>\n",
       "<style scoped>\n",
       "    .dataframe tbody tr th:only-of-type {\n",
       "        vertical-align: middle;\n",
       "    }\n",
       "\n",
       "    .dataframe tbody tr th {\n",
       "        vertical-align: top;\n",
       "    }\n",
       "\n",
       "    .dataframe thead th {\n",
       "        text-align: right;\n",
       "    }\n",
       "</style>\n",
       "<table border=\"1\" class=\"dataframe\">\n",
       "  <thead>\n",
       "    <tr style=\"text-align: right;\">\n",
       "      <th></th>\n",
       "      <th>text</th>\n",
       "      <th>label</th>\n",
       "      <th>new_label</th>\n",
       "    </tr>\n",
       "  </thead>\n",
       "  <tbody>\n",
       "    <tr>\n",
       "      <th>20</th>\n",
       "      <td>think mike foligno captain sabres got traded l...</td>\n",
       "      <td>rec.sport.hockey</td>\n",
       "      <td>1</td>\n",
       "    </tr>\n",
       "    <tr>\n",
       "      <th>34</th>\n",
       "      <td>funny mention one time hnic cherry pointed van...</td>\n",
       "      <td>rec.sport.hockey</td>\n",
       "      <td>1</td>\n",
       "    </tr>\n",
       "    <tr>\n",
       "      <th>56</th>\n",
       "      <td>squid keep tradition alive kinda like fish unh...</td>\n",
       "      <td>rec.sport.hockey</td>\n",
       "      <td>1</td>\n",
       "    </tr>\n",
       "    <tr>\n",
       "      <th>87</th>\n",
       "      <td>soderstrom plays philly moulded mask got helme...</td>\n",
       "      <td>rec.sport.hockey</td>\n",
       "      <td>1</td>\n",
       "    </tr>\n",
       "    <tr>\n",
       "      <th>112</th>\n",
       "      <td>well see smileys trying figure poster dog word...</td>\n",
       "      <td>rec.sport.hockey</td>\n",
       "      <td>1</td>\n",
       "    </tr>\n",
       "  </tbody>\n",
       "</table>\n",
       "</div>"
      ],
      "text/plain": [
       "                                                  text             label  \\\n",
       "20   think mike foligno captain sabres got traded l...  rec.sport.hockey   \n",
       "34   funny mention one time hnic cherry pointed van...  rec.sport.hockey   \n",
       "56   squid keep tradition alive kinda like fish unh...  rec.sport.hockey   \n",
       "87   soderstrom plays philly moulded mask got helme...  rec.sport.hockey   \n",
       "112  well see smileys trying figure poster dog word...  rec.sport.hockey   \n",
       "\n",
       "    new_label  \n",
       "20          1  \n",
       "34          1  \n",
       "56          1  \n",
       "87          1  \n",
       "112         1  "
      ]
     },
     "execution_count": 12,
     "metadata": {},
     "output_type": "execute_result"
    }
   ],
   "source": [
    "final_train.head()"
   ]
  },
  {
   "cell_type": "code",
   "execution_count": 13,
   "metadata": {
    "scrolled": true
   },
   "outputs": [
    {
     "name": "stdout",
     "output_type": "stream",
     "text": [
      "WARNING:tensorflow:From /opt/conda/lib/python3.7/site-packages/tensorflow/python/ops/control_flow_ops.py:3632: colocate_with (from tensorflow.python.framework.ops) is deprecated and will be removed in a future version.\n",
      "Instructions for updating:\n",
      "Colocations handled automatically by placer.\n"
     ]
    },
    {
     "name": "stderr",
     "output_type": "stream",
     "text": [
      "W0107 12:07:02.695191 140048832603520 deprecation.py:323] From /opt/conda/lib/python3.7/site-packages/tensorflow/python/ops/control_flow_ops.py:3632: colocate_with (from tensorflow.python.framework.ops) is deprecated and will be removed in a future version.\n",
      "Instructions for updating:\n",
      "Colocations handled automatically by placer.\n"
     ]
    },
    {
     "name": "stdout",
     "output_type": "stream",
     "text": [
      "INFO:tensorflow:Saver not created because there are no variables in the graph to restore\n"
     ]
    },
    {
     "name": "stderr",
     "output_type": "stream",
     "text": [
      "I0107 12:07:03.979846 140048832603520 saver.py:1483] Saver not created because there are no variables in the graph to restore\n"
     ]
    },
    {
     "name": "stdout",
     "output_type": "stream",
     "text": [
      "INFO:tensorflow:Graph was finalized.\n"
     ]
    },
    {
     "name": "stderr",
     "output_type": "stream",
     "text": [
      "I0107 12:07:04.282517 140048832603520 monitored_session.py:222] Graph was finalized.\n"
     ]
    },
    {
     "name": "stdout",
     "output_type": "stream",
     "text": [
      "INFO:tensorflow:Running local_init_op.\n"
     ]
    },
    {
     "name": "stderr",
     "output_type": "stream",
     "text": [
      "I0107 12:07:04.998848 140048832603520 session_manager.py:491] Running local_init_op.\n"
     ]
    },
    {
     "name": "stdout",
     "output_type": "stream",
     "text": [
      "INFO:tensorflow:Done running local_init_op.\n"
     ]
    },
    {
     "name": "stderr",
     "output_type": "stream",
     "text": [
      "I0107 12:07:05.976981 140048832603520 session_manager.py:493] Done running local_init_op.\n"
     ]
    }
   ],
   "source": [
    "# Specify the embeddings 'glove', 'xlnet', 'fasttext', 'elmo', 'ensemble'\n",
    "train_data_list_global, test_data_list_global, val_data_list_global = use_embeddings()\n",
    "#train_data_list_global, test_data_list_global = bert_embeddings()\n",
    "#train_data_list_global, test_data_list_global = infersent_embeddings()\n",
    "#train_data_list_global, test_data_list_global = elmo_embeddings()\n",
    "#train_data_list_global, test_data_list_global = other_embeddings('elmo')"
   ]
  },
  {
   "cell_type": "code",
   "execution_count": 14,
   "metadata": {},
   "outputs": [
    {
     "name": "stdout",
     "output_type": "stream",
     "text": [
      "Principal Component Analysis ...\n",
      "Explained variance percentage = 1.00\n"
     ]
    },
    {
     "data": {
      "image/png": "[encoded data removed]",
      "text/plain": [
       "<Figure size 432x288 with 1 Axes>"
      ]
     },
     "metadata": {
      "needs_background": "light"
     },
     "output_type": "display_data"
    }
   ],
   "source": [
    "train_data_list = train_data_list_global\n",
    "test_data_list = test_data_list_global\n",
    "val_data_list = val_data_list_global\n",
    "train_data_list, test_data_list, val_data_list = pca(train_data_list, test_data_list, val_data_list)\n",
    "members = []"
   ]
  },
  {
   "cell_type": "code",
   "execution_count": 15,
   "metadata": {
    "scrolled": false
   },
   "outputs": [
    {
     "name": "stderr",
     "output_type": "stream",
     "text": [
      "/opt/conda/lib/python3.7/site-packages/sklearn/svm/base.py:193: FutureWarning: The default value of gamma will change from 'auto' to 'scale' in version 0.22 to account better for unscaled features. Set gamma explicitly to 'auto' or 'scale' to avoid this warning.\n",
      "  \"avoid this warning.\", FutureWarning)\n"
     ]
    },
    {
     "name": "stdout",
     "output_type": "stream",
     "text": [
      "Model:  one Class SVM\n",
      "Test F1 Score:  0.8807788272589541\n",
      "Test accuracy: 0.9798602548294287\n"
     ]
    },
    {
     "name": "stderr",
     "output_type": "stream",
     "text": [
      "/opt/conda/lib/python3.7/site-packages/sklearn/metrics/classification.py:1439: UndefinedMetricWarning: F-score is ill-defined and being set to 0.0 in labels with no true samples.\n",
      "  'recall', 'true', average, warn_for)\n"
     ]
    },
    {
     "data": {
      "image/png": "[encoded data removed]",
      "text/plain": [
       "<Figure size 432x432 with 2 Axes>"
      ]
     },
     "metadata": {
      "needs_background": "light"
     },
     "output_type": "display_data"
    },
    {
     "name": "stdout",
     "output_type": "stream",
     "text": [
      "[0.37951797 0.58151379 0.55642135 ... 0.75371917 0.44950903 0.43175149]\n"
     ]
    }
   ],
   "source": [
    "svm_model = oneclass_svm(train_data_list, 'rbf', 0.1)\n",
    "y_pred_train = svm_model.predict(train_data_list)\n",
    "y_pred_test = svm_model.predict(test_data_list)\n",
    "y_test_scores = svm_model.score_samples(test_data_list)\n",
    "y_val_scores = svm_model.score_samples(val_data_list)\n",
    "f1, acc = results('one Class SVM', final_train['new_label'].tolist(), y_pred_train, final_test['new_label'].tolist(), y_pred_test)\n",
    "results_global_list.append(round(f1,2))\n",
    "results_global_list.append(round(acc*100,1))\n",
    "print(y_test_scores)\n",
    "#norm_scores = [float(i)/sum(y_test_scores) for i in y_test_scores]\n",
    "#print(norm_scores)\n",
    "members.append(svm_model)\n"
   ]
  },
  {
   "cell_type": "code",
   "execution_count": 16,
   "metadata": {},
   "outputs": [
    {
     "name": "stdout",
     "output_type": "stream",
     "text": [
      "7299\n",
      "3996\n"
     ]
    }
   ],
   "source": [
    "score_list = y_test_scores.tolist()\n",
    "val_score_list = y_val_scores.tolist()\n",
    "normalized_svm = [((x-min(score_list))/(max(score_list)-min(score_list))) for x in score_list]\n",
    "normalized_val_svm = [((x-min(val_score_list))/(max(val_score_list)-min(val_score_list))) for x in val_score_list]\n",
    "print(len(normalized_svm))\n",
    "print(len(normalized_val_svm))"
   ]
  },
  {
   "cell_type": "code",
   "execution_count": 17,
   "metadata": {
    "scrolled": true
   },
   "outputs": [
    {
     "name": "stdout",
     "output_type": "stream",
     "text": [
      "Model:  Isolation Forest\n",
      "Test F1 Score:  0.5909952204439066\n",
      "Test accuracy: 0.9525962460611043\n"
     ]
    },
    {
     "data": {
      "image/png": "[encoded data removed]",
      "text/plain": [
       "<Figure size 432x432 with 2 Axes>"
      ]
     },
     "metadata": {
      "needs_background": "light"
     },
     "output_type": "display_data"
    },
    {
     "name": "stdout",
     "output_type": "stream",
     "text": [
      "7299\n",
      "3996\n"
     ]
    }
   ],
   "source": [
    "rand_state = np.random.RandomState(42)\n",
    "iso_forest = isolationForest(train_data_list, rand_state)\n",
    "y_pred_iso_train = iso_forest.predict(train_data_list)\n",
    "y_pred_iso_test = iso_forest.predict(test_data_list)\n",
    "y_test_scores_isf = iso_forest.score_samples(test_data_list)\n",
    "y_val_scores_isf = iso_forest.score_samples(val_data_list)\n",
    "f1, acc = results('Isolation Forest', final_train['new_label'].tolist(), y_pred_iso_train, final_test['new_label'].tolist(), y_pred_iso_test)\n",
    "results_global_list.append(round(f1,2))\n",
    "results_global_list.append(round(acc*100,1))\n",
    "members.append(iso_forest)\n",
    "\n",
    "score_list = y_test_scores_isf.tolist()\n",
    "val_score_list_isf = y_val_scores_isf.tolist()\n",
    "normalized_isf = [((x-min(score_list))/(max(score_list)-min(score_list))) for x in score_list]\n",
    "normalized_isf_val = [((x-min(val_score_list_isf))/(max(val_score_list_isf)-min(val_score_list_isf))) for x in val_score_list_isf]\n",
    "print(len(normalized_isf))\n",
    "print(len(normalized_isf_val))"
   ]
  },
  {
   "cell_type": "code",
   "execution_count": 17,
   "metadata": {
    "scrolled": false
   },
   "outputs": [
    {
     "name": "stdout",
     "output_type": "stream",
     "text": [
      "Model:  Local Outlier Factory\n",
      "Test F1 Score:  0.6140071188506723\n",
      "Test accuracy: 0.8173722427729826\n"
     ]
    },
    {
     "name": "stderr",
     "output_type": "stream",
     "text": [
      "/opt/conda/lib/python3.7/site-packages/sklearn/metrics/classification.py:1439: UndefinedMetricWarning: F-score is ill-defined and being set to 0.0 in labels with no true samples.\n",
      "  'recall', 'true', average, warn_for)\n"
     ]
    },
    {
     "data": {
      "image/png": "[encoded data removed]",
      "text/plain": [
       "<Figure size 432x432 with 2 Axes>"
      ]
     },
     "metadata": {
      "needs_background": "light"
     },
     "output_type": "display_data"
    }
   ],
   "source": [
    "lof = local_outlier_factory(train_data_list, 180)\n",
    "y_pred_lof_train = lof.predict(train_data_list)\n",
    "y_pred_lof_test = lof.predict(test_data_list)\n",
    "f1, acc = results('Local Outlier Factory', final_train['new_label'].tolist(), y_pred_lof_train, final_test['new_label'].tolist(), y_pred_lof_test)\n",
    "results_global_list.append(round(f1,2))\n",
    "results_global_list.append(round(acc*100,1))"
   ]
  },
  {
   "cell_type": "code",
   "execution_count": 608,
   "metadata": {},
   "outputs": [
    {
     "name": "stdout",
     "output_type": "stream",
     "text": [
      "[0.58, 88.7, 0.54, 95.6, 0.48, 69.0]\n"
     ]
    }
   ],
   "source": [
    "print(results_global_list)"
   ]
  },
  {
   "cell_type": "code",
   "execution_count": 18,
   "metadata": {},
   "outputs": [],
   "source": [
    "# Converting the train and test data into dataframe\n",
    "train_data_df = pd.DataFrame(train_data[:7000], columns = ['text' , 'label'])\n",
    "val_data_df = pd.DataFrame(train_data[7000:], columns = ['text' , 'label'])\n",
    "test_data_df = pd.DataFrame(test_data, columns = ['text' , 'label'])"
   ]
  },
  {
   "cell_type": "code",
   "execution_count": 19,
   "metadata": {},
   "outputs": [],
   "source": [
    "def data_for_autoencoder():\n",
    "    # Converting the train and test data into dataframe\n",
    "    train_data_df['new_label'] = train_data_df['label']\n",
    "    train_data_df.loc[train_data_df['label'] == TRAIN_CLASS, 'new_label'] = 0\n",
    "    train_data_df.loc[train_data_df['label'] != TRAIN_CLASS, 'new_label'] = 1\n",
    "    val_data_df['new_label'] = val_data_df['label']\n",
    "    val_data_df.loc[val_data_df['label'] == TRAIN_CLASS, 'new_label'] = 0\n",
    "    val_data_df.loc[val_data_df['label'] != TRAIN_CLASS, 'new_label'] = 1\n",
    "    test_data_df['new_label'] = test_data_df['label']\n",
    "    test_data_df.loc[test_data_df['label'] == TRAIN_CLASS, 'new_label'] = 0\n",
    "    test_data_df.loc[test_data_df['label'] != TRAIN_CLASS, 'new_label'] = 1\n",
    "    # Preparing train data with only normal class\n",
    "    final_train = train_data_df.loc[train_data_df['new_label'] == 0]\n",
    "    print(final_train['new_label'].value_counts())\n",
    "    final_val = val_data_df\n",
    "    print(final_val['new_label'].value_counts())\n",
    "    # Test data with both normal and other classes\n",
    "    final_test = test_data_df\n",
    "    print(final_test['new_label'].value_counts())\n",
    "    return final_train, final_test, final_val"
   ]
  },
  {
   "cell_type": "code",
   "execution_count": 20,
   "metadata": {},
   "outputs": [
    {
     "name": "stdout",
     "output_type": "stream",
     "text": [
      "0    364\n",
      "Name: new_label, dtype: int64\n",
      "1    3776\n",
      "0     220\n",
      "Name: new_label, dtype: int64\n",
      "1    6910\n",
      "0     389\n",
      "Name: new_label, dtype: int64\n"
     ]
    }
   ],
   "source": [
    "final_train, final_test, final_val = data_for_autoencoder()"
   ]
  },
  {
   "cell_type": "code",
   "execution_count": 21,
   "metadata": {},
   "outputs": [],
   "source": [
    "X_train = train_data_list_global\n",
    "y_train = final_train['new_label'].tolist()\n",
    "X_test = test_data_list_global\n",
    "y_test = final_test['new_label'].tolist()\n",
    "X_val = val_data_list_global\n",
    "y_val = final_val['new_label'].tolist()"
   ]
  },
  {
   "cell_type": "code",
   "execution_count": 22,
   "metadata": {},
   "outputs": [],
   "source": [
    "X_train = np.asarray(X_train)\n",
    "X_test = np.asarray(X_test)\n",
    "X_val = np.asarray(X_val)"
   ]
  },
  {
   "cell_type": "code",
   "execution_count": 26,
   "metadata": {
    "scrolled": true
   },
   "outputs": [
    {
     "name": "stdout",
     "output_type": "stream",
     "text": [
      "Train on 364 samples, validate on 3996 samples\n",
      "Epoch 1/100\n",
      "364/364 [==============================] - 0s 1ms/step - loss: 0.0035 - accuracy: 0.0000e+00 - val_loss: 0.0038 - val_accuracy: 0.0013\n",
      "Epoch 2/100\n",
      "364/364 [==============================] - 0s 701us/step - loss: 0.0029 - accuracy: 0.0055 - val_loss: 0.0036 - val_accuracy: 0.0033\n",
      "Epoch 3/100\n",
      "364/364 [==============================] - 0s 737us/step - loss: 0.0026 - accuracy: 0.0055 - val_loss: 0.0036 - val_accuracy: 0.0043\n",
      "Epoch 4/100\n",
      "364/364 [==============================] - 0s 627us/step - loss: 0.0024 - accuracy: 0.1236 - val_loss: 0.0035 - val_accuracy: 0.0130\n",
      "Epoch 5/100\n",
      "364/364 [==============================] - 0s 550us/step - loss: 0.0023 - accuracy: 0.2610 - val_loss: 0.0034 - val_accuracy: 0.0225\n",
      "Epoch 6/100\n",
      "364/364 [==============================] - 0s 552us/step - loss: 0.0022 - accuracy: 0.2775 - val_loss: 0.0033 - val_accuracy: 0.0225\n",
      "Epoch 7/100\n",
      "364/364 [==============================] - 0s 522us/step - loss: 0.0021 - accuracy: 0.2775 - val_loss: 0.0032 - val_accuracy: 0.0225\n",
      "Epoch 8/100\n",
      "364/364 [==============================] - 0s 548us/step - loss: 0.0021 - accuracy: 0.2692 - val_loss: 0.0032 - val_accuracy: 0.0253\n",
      "Epoch 9/100\n",
      "364/364 [==============================] - 0s 590us/step - loss: 0.0020 - accuracy: 0.2775 - val_loss: 0.0031 - val_accuracy: 0.0253\n",
      "Epoch 10/100\n",
      "364/364 [==============================] - 0s 586us/step - loss: 0.0020 - accuracy: 0.2912 - val_loss: 0.0031 - val_accuracy: 0.0265\n",
      "Epoch 11/100\n",
      "364/364 [==============================] - 0s 458us/step - loss: 0.0019 - accuracy: 0.3187 - val_loss: 0.0030 - val_accuracy: 0.0270\n",
      "Epoch 12/100\n",
      "364/364 [==============================] - 0s 519us/step - loss: 0.0019 - accuracy: 0.3049 - val_loss: 0.0030 - val_accuracy: 0.0273\n",
      "Epoch 13/100\n",
      "364/364 [==============================] - 0s 586us/step - loss: 0.0019 - accuracy: 0.3132 - val_loss: 0.0029 - val_accuracy: 0.0245\n",
      "Epoch 14/100\n",
      "364/364 [==============================] - 0s 658us/step - loss: 0.0019 - accuracy: 0.2967 - val_loss: 0.0029 - val_accuracy: 0.0250\n",
      "Epoch 15/100\n",
      "364/364 [==============================] - 0s 562us/step - loss: 0.0019 - accuracy: 0.2857 - val_loss: 0.0029 - val_accuracy: 0.0258\n",
      "Epoch 16/100\n",
      "364/364 [==============================] - 0s 565us/step - loss: 0.0019 - accuracy: 0.2940 - val_loss: 0.0028 - val_accuracy: 0.0253\n",
      "Epoch 17/100\n",
      "364/364 [==============================] - 0s 512us/step - loss: 0.0018 - accuracy: 0.2802 - val_loss: 0.0028 - val_accuracy: 0.0215\n",
      "Epoch 18/100\n",
      "364/364 [==============================] - 0s 589us/step - loss: 0.0018 - accuracy: 0.2802 - val_loss: 0.0028 - val_accuracy: 0.0213\n",
      "Epoch 19/100\n",
      "364/364 [==============================] - 0s 538us/step - loss: 0.0018 - accuracy: 0.2775 - val_loss: 0.0028 - val_accuracy: 0.0225\n",
      "Epoch 20/100\n",
      "364/364 [==============================] - 0s 585us/step - loss: 0.0018 - accuracy: 0.2802 - val_loss: 0.0027 - val_accuracy: 0.0210\n",
      "Epoch 21/100\n",
      "364/364 [==============================] - 0s 651us/step - loss: 0.0018 - accuracy: 0.2995 - val_loss: 0.0027 - val_accuracy: 0.0248\n",
      "Epoch 22/100\n",
      "364/364 [==============================] - 0s 727us/step - loss: 0.0018 - accuracy: 0.2857 - val_loss: 0.0027 - val_accuracy: 0.0255\n",
      "Epoch 23/100\n",
      "364/364 [==============================] - 0s 608us/step - loss: 0.0018 - accuracy: 0.3022 - val_loss: 0.0027 - val_accuracy: 0.0230\n",
      "Epoch 24/100\n",
      "364/364 [==============================] - 0s 793us/step - loss: 0.0018 - accuracy: 0.2967 - val_loss: 0.0027 - val_accuracy: 0.0230\n",
      "Epoch 25/100\n",
      "364/364 [==============================] - 0s 799us/step - loss: 0.0018 - accuracy: 0.3049 - val_loss: 0.0027 - val_accuracy: 0.0290\n",
      "Epoch 26/100\n",
      "364/364 [==============================] - 0s 644us/step - loss: 0.0018 - accuracy: 0.3159 - val_loss: 0.0026 - val_accuracy: 0.0233\n",
      "Epoch 27/100\n",
      "364/364 [==============================] - 0s 708us/step - loss: 0.0018 - accuracy: 0.2830 - val_loss: 0.0027 - val_accuracy: 0.0218\n",
      "Epoch 28/100\n",
      "364/364 [==============================] - 0s 797us/step - loss: 0.0018 - accuracy: 0.2802 - val_loss: 0.0026 - val_accuracy: 0.0215\n",
      "Epoch 29/100\n",
      "364/364 [==============================] - 0s 789us/step - loss: 0.0017 - accuracy: 0.2940 - val_loss: 0.0026 - val_accuracy: 0.0248\n",
      "Epoch 30/100\n",
      "364/364 [==============================] - 0s 686us/step - loss: 0.0017 - accuracy: 0.2857 - val_loss: 0.0026 - val_accuracy: 0.0218\n",
      "Epoch 31/100\n",
      "364/364 [==============================] - 0s 668us/step - loss: 0.0017 - accuracy: 0.2802 - val_loss: 0.0026 - val_accuracy: 0.0225\n",
      "Epoch 32/100\n",
      "364/364 [==============================] - 0s 665us/step - loss: 0.0017 - accuracy: 0.3132 - val_loss: 0.0026 - val_accuracy: 0.0270\n",
      "Epoch 33/100\n",
      "364/364 [==============================] - 0s 708us/step - loss: 0.0017 - accuracy: 0.2857 - val_loss: 0.0026 - val_accuracy: 0.0273\n",
      "Epoch 34/100\n",
      "364/364 [==============================] - 0s 785us/step - loss: 0.0017 - accuracy: 0.2995 - val_loss: 0.0026 - val_accuracy: 0.0268\n",
      "Epoch 35/100\n",
      "364/364 [==============================] - 0s 721us/step - loss: 0.0017 - accuracy: 0.2967 - val_loss: 0.0026 - val_accuracy: 0.0218\n",
      "Epoch 36/100\n",
      "364/364 [==============================] - 0s 665us/step - loss: 0.0017 - accuracy: 0.2995 - val_loss: 0.0026 - val_accuracy: 0.0268\n",
      "Epoch 37/100\n",
      "364/364 [==============================] - 0s 607us/step - loss: 0.0017 - accuracy: 0.2830 - val_loss: 0.0026 - val_accuracy: 0.0225\n",
      "Epoch 38/100\n",
      "364/364 [==============================] - 0s 634us/step - loss: 0.0017 - accuracy: 0.2802 - val_loss: 0.0026 - val_accuracy: 0.0213\n",
      "Epoch 39/100\n",
      "364/364 [==============================] - 0s 573us/step - loss: 0.0017 - accuracy: 0.2802 - val_loss: 0.0026 - val_accuracy: 0.0213\n",
      "Epoch 40/100\n",
      "364/364 [==============================] - 0s 667us/step - loss: 0.0017 - accuracy: 0.2775 - val_loss: 0.0026 - val_accuracy: 0.0233\n",
      "Epoch 41/100\n",
      "364/364 [==============================] - 0s 744us/step - loss: 0.0017 - accuracy: 0.2885 - val_loss: 0.0026 - val_accuracy: 0.0220\n",
      "Epoch 42/100\n",
      "364/364 [==============================] - 0s 487us/step - loss: 0.0017 - accuracy: 0.2775 - val_loss: 0.0026 - val_accuracy: 0.0238\n",
      "Epoch 43/100\n",
      "364/364 [==============================] - 0s 557us/step - loss: 0.0017 - accuracy: 0.2720 - val_loss: 0.0025 - val_accuracy: 0.0228\n",
      "Epoch 44/100\n",
      "364/364 [==============================] - 0s 573us/step - loss: 0.0017 - accuracy: 0.2885 - val_loss: 0.0025 - val_accuracy: 0.0260\n",
      "Epoch 45/100\n",
      "364/364 [==============================] - 0s 528us/step - loss: 0.0017 - accuracy: 0.2747 - val_loss: 0.0025 - val_accuracy: 0.0275\n",
      "Epoch 46/100\n",
      "364/364 [==============================] - 0s 596us/step - loss: 0.0017 - accuracy: 0.2912 - val_loss: 0.0025 - val_accuracy: 0.0250\n",
      "Epoch 47/100\n",
      "364/364 [==============================] - 0s 611us/step - loss: 0.0017 - accuracy: 0.2775 - val_loss: 0.0025 - val_accuracy: 0.0213\n",
      "Epoch 48/100\n",
      "364/364 [==============================] - 0s 590us/step - loss: 0.0017 - accuracy: 0.2802 - val_loss: 0.0025 - val_accuracy: 0.0213\n",
      "Epoch 49/100\n",
      "364/364 [==============================] - 0s 477us/step - loss: 0.0017 - accuracy: 0.2802 - val_loss: 0.0025 - val_accuracy: 0.0243\n",
      "Epoch 50/100\n",
      "364/364 [==============================] - 0s 577us/step - loss: 0.0017 - accuracy: 0.2775 - val_loss: 0.0025 - val_accuracy: 0.0258\n",
      "Epoch 51/100\n",
      "364/364 [==============================] - 0s 541us/step - loss: 0.0017 - accuracy: 0.2500 - val_loss: 0.0025 - val_accuracy: 0.0278\n",
      "Epoch 52/100\n",
      "364/364 [==============================] - 0s 661us/step - loss: 0.0017 - accuracy: 0.2912 - val_loss: 0.0025 - val_accuracy: 0.0238\n",
      "Epoch 53/100\n",
      "364/364 [==============================] - 0s 689us/step - loss: 0.0017 - accuracy: 0.2802 - val_loss: 0.0025 - val_accuracy: 0.0233\n",
      "Epoch 54/100\n",
      "364/364 [==============================] - 0s 775us/step - loss: 0.0017 - accuracy: 0.2830 - val_loss: 0.0025 - val_accuracy: 0.0238\n",
      "Epoch 55/100\n",
      "364/364 [==============================] - 0s 782us/step - loss: 0.0017 - accuracy: 0.2775 - val_loss: 0.0025 - val_accuracy: 0.0220\n",
      "Epoch 56/100\n",
      "364/364 [==============================] - 0s 832us/step - loss: 0.0017 - accuracy: 0.2665 - val_loss: 0.0025 - val_accuracy: 0.0270\n"
     ]
    },
    {
     "name": "stdout",
     "output_type": "stream",
     "text": [
      "Epoch 57/100\n",
      "364/364 [==============================] - 0s 705us/step - loss: 0.0017 - accuracy: 0.2912 - val_loss: 0.0025 - val_accuracy: 0.0245\n",
      "Epoch 58/100\n",
      "364/364 [==============================] - 0s 748us/step - loss: 0.0017 - accuracy: 0.2418 - val_loss: 0.0025 - val_accuracy: 0.0253\n",
      "Epoch 59/100\n",
      "364/364 [==============================] - 0s 696us/step - loss: 0.0017 - accuracy: 0.2802 - val_loss: 0.0025 - val_accuracy: 0.0255\n",
      "Epoch 60/100\n",
      "364/364 [==============================] - 0s 630us/step - loss: 0.0017 - accuracy: 0.3049 - val_loss: 0.0025 - val_accuracy: 0.0248\n",
      "Epoch 61/100\n",
      "364/364 [==============================] - 0s 686us/step - loss: 0.0017 - accuracy: 0.2720 - val_loss: 0.0024 - val_accuracy: 0.0248\n",
      "Epoch 62/100\n",
      "364/364 [==============================] - 0s 602us/step - loss: 0.0017 - accuracy: 0.2802 - val_loss: 0.0024 - val_accuracy: 0.0243\n",
      "Epoch 63/100\n",
      "364/364 [==============================] - 0s 612us/step - loss: 0.0017 - accuracy: 0.2692 - val_loss: 0.0024 - val_accuracy: 0.0275\n",
      "Epoch 64/100\n",
      "364/364 [==============================] - 0s 509us/step - loss: 0.0017 - accuracy: 0.2582 - val_loss: 0.0024 - val_accuracy: 0.0240\n",
      "Epoch 65/100\n",
      "364/364 [==============================] - 0s 582us/step - loss: 0.0017 - accuracy: 0.2747 - val_loss: 0.0024 - val_accuracy: 0.0253\n",
      "Epoch 66/100\n",
      "364/364 [==============================] - 0s 539us/step - loss: 0.0017 - accuracy: 0.2555 - val_loss: 0.0024 - val_accuracy: 0.0253\n",
      "Epoch 67/100\n",
      "364/364 [==============================] - 0s 603us/step - loss: 0.0017 - accuracy: 0.2802 - val_loss: 0.0024 - val_accuracy: 0.0238\n",
      "Epoch 68/100\n",
      "364/364 [==============================] - 0s 570us/step - loss: 0.0016 - accuracy: 0.2665 - val_loss: 0.0024 - val_accuracy: 0.0280\n",
      "Epoch 69/100\n",
      "364/364 [==============================] - 0s 617us/step - loss: 0.0016 - accuracy: 0.2637 - val_loss: 0.0024 - val_accuracy: 0.0233\n",
      "Epoch 70/100\n",
      "364/364 [==============================] - 0s 537us/step - loss: 0.0017 - accuracy: 0.2637 - val_loss: 0.0024 - val_accuracy: 0.0225\n",
      "Epoch 71/100\n",
      "364/364 [==============================] - 0s 593us/step - loss: 0.0017 - accuracy: 0.2692 - val_loss: 0.0024 - val_accuracy: 0.0260\n",
      "Epoch 72/100\n",
      "364/364 [==============================] - 0s 573us/step - loss: 0.0017 - accuracy: 0.2775 - val_loss: 0.0024 - val_accuracy: 0.0215\n",
      "Epoch 73/100\n",
      "364/364 [==============================] - 0s 591us/step - loss: 0.0017 - accuracy: 0.2610 - val_loss: 0.0024 - val_accuracy: 0.0225\n",
      "Epoch 74/100\n",
      "364/364 [==============================] - 0s 515us/step - loss: 0.0016 - accuracy: 0.2720 - val_loss: 0.0024 - val_accuracy: 0.0265\n",
      "Epoch 75/100\n",
      "364/364 [==============================] - 0s 547us/step - loss: 0.0016 - accuracy: 0.2637 - val_loss: 0.0024 - val_accuracy: 0.0243\n",
      "Epoch 76/100\n",
      "364/364 [==============================] - 0s 545us/step - loss: 0.0016 - accuracy: 0.2637 - val_loss: 0.0024 - val_accuracy: 0.0278\n",
      "Epoch 77/100\n",
      "364/364 [==============================] - 0s 561us/step - loss: 0.0016 - accuracy: 0.2418 - val_loss: 0.0024 - val_accuracy: 0.0298\n",
      "Epoch 78/100\n",
      "364/364 [==============================] - 0s 650us/step - loss: 0.0016 - accuracy: 0.2555 - val_loss: 0.0024 - val_accuracy: 0.0225\n",
      "Epoch 79/100\n",
      "364/364 [==============================] - 0s 629us/step - loss: 0.0016 - accuracy: 0.2665 - val_loss: 0.0024 - val_accuracy: 0.0265\n",
      "Epoch 80/100\n",
      "364/364 [==============================] - 0s 842us/step - loss: 0.0016 - accuracy: 0.2555 - val_loss: 0.0024 - val_accuracy: 0.0225\n",
      "Epoch 81/100\n",
      "364/364 [==============================] - 0s 645us/step - loss: 0.0016 - accuracy: 0.2802 - val_loss: 0.0024 - val_accuracy: 0.0225\n",
      "Epoch 82/100\n",
      "364/364 [==============================] - 0s 638us/step - loss: 0.0016 - accuracy: 0.2747 - val_loss: 0.0024 - val_accuracy: 0.0305\n",
      "Epoch 83/100\n",
      "364/364 [==============================] - 0s 549us/step - loss: 0.0016 - accuracy: 0.2830 - val_loss: 0.0024 - val_accuracy: 0.0248\n",
      "Epoch 84/100\n",
      "364/364 [==============================] - 0s 497us/step - loss: 0.0016 - accuracy: 0.2802 - val_loss: 0.0024 - val_accuracy: 0.0253\n",
      "Epoch 85/100\n",
      "364/364 [==============================] - 0s 536us/step - loss: 0.0016 - accuracy: 0.2830 - val_loss: 0.0024 - val_accuracy: 0.0225\n",
      "Epoch 86/100\n",
      "364/364 [==============================] - 0s 546us/step - loss: 0.0016 - accuracy: 0.2857 - val_loss: 0.0024 - val_accuracy: 0.0218\n",
      "Epoch 87/100\n",
      "364/364 [==============================] - 0s 593us/step - loss: 0.0016 - accuracy: 0.2857 - val_loss: 0.0023 - val_accuracy: 0.0305\n",
      "Epoch 88/100\n",
      "364/364 [==============================] - 0s 541us/step - loss: 0.0016 - accuracy: 0.2060 - val_loss: 0.0023 - val_accuracy: 0.0288\n",
      "Epoch 89/100\n",
      "364/364 [==============================] - 0s 596us/step - loss: 0.0016 - accuracy: 0.2720 - val_loss: 0.0023 - val_accuracy: 0.0303\n",
      "Epoch 90/100\n",
      "364/364 [==============================] - 0s 591us/step - loss: 0.0016 - accuracy: 0.2775 - val_loss: 0.0023 - val_accuracy: 0.0258\n",
      "Epoch 91/100\n",
      "364/364 [==============================] - 0s 608us/step - loss: 0.0016 - accuracy: 0.2885 - val_loss: 0.0023 - val_accuracy: 0.0230\n",
      "Epoch 92/100\n",
      "364/364 [==============================] - 0s 585us/step - loss: 0.0016 - accuracy: 0.2555 - val_loss: 0.0023 - val_accuracy: 0.0268\n",
      "Epoch 93/100\n",
      "364/364 [==============================] - 0s 659us/step - loss: 0.0016 - accuracy: 0.2912 - val_loss: 0.0023 - val_accuracy: 0.0228\n",
      "Epoch 94/100\n",
      "364/364 [==============================] - 0s 615us/step - loss: 0.0016 - accuracy: 0.2555 - val_loss: 0.0023 - val_accuracy: 0.0295\n",
      "Epoch 95/100\n",
      "364/364 [==============================] - 0s 593us/step - loss: 0.0016 - accuracy: 0.2637 - val_loss: 0.0023 - val_accuracy: 0.0235\n",
      "Epoch 96/100\n",
      "364/364 [==============================] - 0s 696us/step - loss: 0.0016 - accuracy: 0.2527 - val_loss: 0.0023 - val_accuracy: 0.0268\n",
      "Epoch 97/100\n",
      "364/364 [==============================] - 0s 636us/step - loss: 0.0016 - accuracy: 0.2390 - val_loss: 0.0023 - val_accuracy: 0.0260\n",
      "Epoch 98/100\n",
      "364/364 [==============================] - 0s 555us/step - loss: 0.0016 - accuracy: 0.3022 - val_loss: 0.0023 - val_accuracy: 0.0220\n",
      "Epoch 99/100\n",
      "364/364 [==============================] - 0s 587us/step - loss: 0.0016 - accuracy: 0.2830 - val_loss: 0.0023 - val_accuracy: 0.0225\n",
      "Epoch 100/100\n",
      "364/364 [==============================] - 0s 512us/step - loss: 0.0016 - accuracy: 0.2802 - val_loss: 0.0023 - val_accuracy: 0.0263\n"
     ]
    }
   ],
   "source": [
    "input_dim = X_train.shape[1]\n",
    "encoding_dim = 14\n",
    "nb_epoch = 100\n",
    "batch_size = 32\n",
    "\n",
    "input_layer = Input(shape=(input_dim, ))\n",
    "encoder = Dense(encoding_dim, activation=\"tanh\", \n",
    "                activity_regularizer=regularizers.l1(10e-5))(input_layer)\n",
    "encoder = Dense(int(encoding_dim / 2), activation=\"relu\")(encoder)\n",
    "decoder = Dense(int(encoding_dim / 2), activation='tanh')(encoder)\n",
    "decoder = Dense(input_dim, activation='relu')(decoder)\n",
    "autoencoder = Model(inputs=input_layer, outputs=decoder)\n",
    "\n",
    "\n",
    "autoencoder.compile(optimizer='adam', \n",
    "                    loss='mean_squared_error', \n",
    "                    metrics=['accuracy'])\n",
    "\n",
    "checkpointer = ModelCheckpoint(filepath=\"model_news20_nn.h5\",\n",
    "                               verbose=0,\n",
    "                               save_best_only=True)\n",
    "tensorboard = TensorBoard(log_dir='./logs_reuters',\n",
    "                          histogram_freq=0,\n",
    "                          write_graph=True,\n",
    "                          write_images=True)\n",
    "\n",
    "history = autoencoder.fit(X_train, X_train,\n",
    "                    epochs=nb_epoch,\n",
    "                    batch_size=batch_size,\n",
    "                    shuffle=True,\n",
    "                    validation_data=(X_val, X_val),\n",
    "                    verbose=1,\n",
    "                    callbacks=[checkpointer, tensorboard]).history"
   ]
  },
  {
   "cell_type": "code",
   "execution_count": 27,
   "metadata": {},
   "outputs": [
    {
     "data": {
      "text/plain": [
       "<matplotlib.legend.Legend at 0x7f5eba306780>"
      ]
     },
     "execution_count": 27,
     "metadata": {},
     "output_type": "execute_result"
    },
    {
     "data": {
      "image/png": "[encoded data removed]",
      "text/plain": [
       "<Figure size 432x288 with 1 Axes>"
      ]
     },
     "metadata": {
      "needs_background": "light"
     },
     "output_type": "display_data"
    }
   ],
   "source": [
    "plt.plot(history['loss'])\n",
    "plt.plot(history['val_loss'])\n",
    "plt.title('Model loss')\n",
    "plt.ylabel('loss')\n",
    "plt.xlabel('epoch')\n",
    "plt.legend(['train', 'test'], loc='upper right')"
   ]
  },
  {
   "cell_type": "code",
   "execution_count": 28,
   "metadata": {},
   "outputs": [
    {
     "data": {
      "text/html": [
       "<div>\n",
       "<style scoped>\n",
       "    .dataframe tbody tr th:only-of-type {\n",
       "        vertical-align: middle;\n",
       "    }\n",
       "\n",
       "    .dataframe tbody tr th {\n",
       "        vertical-align: top;\n",
       "    }\n",
       "\n",
       "    .dataframe thead th {\n",
       "        text-align: right;\n",
       "    }\n",
       "</style>\n",
       "<table border=\"1\" class=\"dataframe\">\n",
       "  <thead>\n",
       "    <tr style=\"text-align: right;\">\n",
       "      <th></th>\n",
       "      <th>reconstruction_error</th>\n",
       "      <th>true_class</th>\n",
       "    </tr>\n",
       "  </thead>\n",
       "  <tbody>\n",
       "    <tr>\n",
       "      <th>count</th>\n",
       "      <td>7299.000000</td>\n",
       "      <td>7299.000000</td>\n",
       "    </tr>\n",
       "    <tr>\n",
       "      <th>mean</th>\n",
       "      <td>0.001922</td>\n",
       "      <td>0.946705</td>\n",
       "    </tr>\n",
       "    <tr>\n",
       "      <th>std</th>\n",
       "      <td>0.000136</td>\n",
       "      <td>0.224636</td>\n",
       "    </tr>\n",
       "    <tr>\n",
       "      <th>min</th>\n",
       "      <td>0.001165</td>\n",
       "      <td>0.000000</td>\n",
       "    </tr>\n",
       "    <tr>\n",
       "      <th>25%</th>\n",
       "      <td>0.001894</td>\n",
       "      <td>1.000000</td>\n",
       "    </tr>\n",
       "    <tr>\n",
       "      <th>50%</th>\n",
       "      <td>0.001947</td>\n",
       "      <td>1.000000</td>\n",
       "    </tr>\n",
       "    <tr>\n",
       "      <th>75%</th>\n",
       "      <td>0.001992</td>\n",
       "      <td>1.000000</td>\n",
       "    </tr>\n",
       "    <tr>\n",
       "      <th>max</th>\n",
       "      <td>0.002474</td>\n",
       "      <td>1.000000</td>\n",
       "    </tr>\n",
       "  </tbody>\n",
       "</table>\n",
       "</div>"
      ],
      "text/plain": [
       "       reconstruction_error   true_class\n",
       "count           7299.000000  7299.000000\n",
       "mean               0.001922     0.946705\n",
       "std                0.000136     0.224636\n",
       "min                0.001165     0.000000\n",
       "25%                0.001894     1.000000\n",
       "50%                0.001947     1.000000\n",
       "75%                0.001992     1.000000\n",
       "max                0.002474     1.000000"
      ]
     },
     "execution_count": 28,
     "metadata": {},
     "output_type": "execute_result"
    }
   ],
   "source": [
    "#Load the model for prediction\n",
    "autoencoder = load_model('model_news20_nn.h5')\n",
    "predictions = autoencoder.predict(X_test)\n",
    "members.append(autoencoder)\n",
    "mse = np.mean(np.power(X_test - predictions, 2), axis=1)\n",
    "error_df = pd.DataFrame({'reconstruction_error': mse,\n",
    "                        'true_class': y_test})\n",
    "\n",
    "error_df.describe()\n"
   ]
  },
  {
   "cell_type": "code",
   "execution_count": 29,
   "metadata": {},
   "outputs": [
    {
     "data": {
      "text/html": [
       "<div>\n",
       "<style scoped>\n",
       "    .dataframe tbody tr th:only-of-type {\n",
       "        vertical-align: middle;\n",
       "    }\n",
       "\n",
       "    .dataframe tbody tr th {\n",
       "        vertical-align: top;\n",
       "    }\n",
       "\n",
       "    .dataframe thead th {\n",
       "        text-align: right;\n",
       "    }\n",
       "</style>\n",
       "<table border=\"1\" class=\"dataframe\">\n",
       "  <thead>\n",
       "    <tr style=\"text-align: right;\">\n",
       "      <th></th>\n",
       "      <th>reconstruction_error</th>\n",
       "      <th>true_class</th>\n",
       "    </tr>\n",
       "  </thead>\n",
       "  <tbody>\n",
       "    <tr>\n",
       "      <th>count</th>\n",
       "      <td>3996.000000</td>\n",
       "      <td>3996.000000</td>\n",
       "    </tr>\n",
       "    <tr>\n",
       "      <th>mean</th>\n",
       "      <td>0.001914</td>\n",
       "      <td>0.944945</td>\n",
       "    </tr>\n",
       "    <tr>\n",
       "      <th>std</th>\n",
       "      <td>0.000137</td>\n",
       "      <td>0.228116</td>\n",
       "    </tr>\n",
       "    <tr>\n",
       "      <th>min</th>\n",
       "      <td>0.001206</td>\n",
       "      <td>0.000000</td>\n",
       "    </tr>\n",
       "    <tr>\n",
       "      <th>25%</th>\n",
       "      <td>0.001881</td>\n",
       "      <td>1.000000</td>\n",
       "    </tr>\n",
       "    <tr>\n",
       "      <th>50%</th>\n",
       "      <td>0.001933</td>\n",
       "      <td>1.000000</td>\n",
       "    </tr>\n",
       "    <tr>\n",
       "      <th>75%</th>\n",
       "      <td>0.001978</td>\n",
       "      <td>1.000000</td>\n",
       "    </tr>\n",
       "    <tr>\n",
       "      <th>max</th>\n",
       "      <td>0.002559</td>\n",
       "      <td>1.000000</td>\n",
       "    </tr>\n",
       "  </tbody>\n",
       "</table>\n",
       "</div>"
      ],
      "text/plain": [
       "       reconstruction_error   true_class\n",
       "count           3996.000000  3996.000000\n",
       "mean               0.001914     0.944945\n",
       "std                0.000137     0.228116\n",
       "min                0.001206     0.000000\n",
       "25%                0.001881     1.000000\n",
       "50%                0.001933     1.000000\n",
       "75%                0.001978     1.000000\n",
       "max                0.002559     1.000000"
      ]
     },
     "execution_count": 29,
     "metadata": {},
     "output_type": "execute_result"
    }
   ],
   "source": [
    "#Load the model for prediction\n",
    "autoencoder = load_model('model_news20.h5')\n",
    "predictions = autoencoder.predict(X_val)\n",
    "members.append(autoencoder)\n",
    "mse = np.mean(np.power(X_val - predictions, 2), axis=1)\n",
    "error_df = pd.DataFrame({'reconstruction_error': mse,\n",
    "                        'true_class': y_val})\n",
    "\n",
    "error_df.describe()\n"
   ]
  },
  {
   "cell_type": "code",
   "execution_count": 30,
   "metadata": {},
   "outputs": [
    {
     "name": "stdout",
     "output_type": "stream",
     "text": [
      "3996\n"
     ]
    }
   ],
   "source": [
    "auto_score_pred = []\n",
    "for scor in predictions.tolist():\n",
    "    auto_score_pred.append(np.mean(scor))\n",
    "normalized_auto = [((x-min(auto_score_pred))/(max(auto_score_pred)-min(auto_score_pred))) for x in auto_score_pred]\n",
    "print(len(normalized_auto))"
   ]
  },
  {
   "cell_type": "code",
   "execution_count": 92,
   "metadata": {},
   "outputs": [
    {
     "name": "stdout",
     "output_type": "stream",
     "text": [
      "<class 'numpy.ndarray'>\n"
     ]
    }
   ],
   "source": [
    "print(type(X_test))"
   ]
  },
  {
   "cell_type": "code",
   "execution_count": 31,
   "metadata": {},
   "outputs": [],
   "source": [
    "concat_arry = np.array((normalized_val_svm, normalized_isf_val, normalized_auto), dtype=float)"
   ]
  },
  {
   "cell_type": "code",
   "execution_count": 94,
   "metadata": {},
   "outputs": [
    {
     "name": "stdout",
     "output_type": "stream",
     "text": [
      "[[0.62326201 0.78511143 0.16618664]\n",
      " [0.66586287 0.38865948 0.40600882]\n",
      " [0.68008269 0.38236057 0.16570225]\n",
      " ...\n",
      " [0.42583738 0.51305628 0.33669437]\n",
      " [0.60640097 0.50758731 0.44218644]\n",
      " [0.64401465 0.30163866 0.63408817]]\n"
     ]
    }
   ],
   "source": [
    "print(concat_arry.T)"
   ]
  },
  {
   "cell_type": "code",
   "execution_count": 32,
   "metadata": {},
   "outputs": [
    {
     "name": "stdout",
     "output_type": "stream",
     "text": [
      "(3996, 515)\n"
     ]
    }
   ],
   "source": [
    "ensemble_array = np.append(val_data_list_global, concat_arry.T, axis=1)\n",
    "print(ensemble_array.shape)"
   ]
  },
  {
   "cell_type": "code",
   "execution_count": 33,
   "metadata": {},
   "outputs": [
    {
     "data": {
      "text/plain": [
       "MLPClassifier(activation='relu', alpha=0.0001, batch_size='auto', beta_1=0.9,\n",
       "              beta_2=0.999, early_stopping=False, epsilon=1e-08,\n",
       "              hidden_layer_sizes=(10, 10, 10), learning_rate='constant',\n",
       "              learning_rate_init=0.001, max_iter=1000, momentum=0.9,\n",
       "              n_iter_no_change=10, nesterovs_momentum=True, power_t=0.5,\n",
       "              random_state=None, shuffle=True, solver='adam', tol=0.0001,\n",
       "              validation_fraction=0.1, verbose=False, warm_start=False)"
      ]
     },
     "execution_count": 33,
     "metadata": {},
     "output_type": "execute_result"
    }
   ],
   "source": [
    "from sklearn.neural_network import MLPClassifier\n",
    "mlp = MLPClassifier(hidden_layer_sizes=(10, 10, 10), max_iter=1000)\n",
    "mlp.fit(ensemble_array, y_val)"
   ]
  },
  {
   "cell_type": "code",
   "execution_count": 37,
   "metadata": {},
   "outputs": [
    {
     "ename": "NameError",
     "evalue": "name 'autoencoder_model' is not defined",
     "output_type": "error",
     "traceback": [
      "\u001b[0;31m---------------------------------------------------------------------------\u001b[0m",
      "\u001b[0;31mNameError\u001b[0m                                 Traceback (most recent call last)",
      "\u001b[0;32m<ipython-input-37-0d7deb99a8c0>\u001b[0m in \u001b[0;36m<module>\u001b[0;34m\u001b[0m\n\u001b[1;32m      1\u001b[0m \u001b[0mensemble_predictions\u001b[0m \u001b[0;34m=\u001b[0m \u001b[0mmlp\u001b[0m\u001b[0;34m.\u001b[0m\u001b[0mpredict\u001b[0m\u001b[0;34m(\u001b[0m\u001b[0mensemble_array\u001b[0m\u001b[0;34m)\u001b[0m\u001b[0;34m\u001b[0m\u001b[0;34m\u001b[0m\u001b[0m\n\u001b[1;32m      2\u001b[0m \u001b[0;34m\u001b[0m\u001b[0m\n\u001b[0;32m----> 3\u001b[0;31m \u001b[0mauto_test_prediction_scores\u001b[0m \u001b[0;34m=\u001b[0m \u001b[0mautoencoder_model\u001b[0m\u001b[0;34m(\u001b[0m\u001b[0mX_test\u001b[0m\u001b[0;34m,\u001b[0m \u001b[0my_test\u001b[0m\u001b[0;34m)\u001b[0m\u001b[0;34m\u001b[0m\u001b[0;34m\u001b[0m\u001b[0m\n\u001b[0m\u001b[1;32m      4\u001b[0m \u001b[0mconcat_array_test\u001b[0m \u001b[0;34m=\u001b[0m \u001b[0mnp\u001b[0m\u001b[0;34m.\u001b[0m\u001b[0marray\u001b[0m\u001b[0;34m(\u001b[0m\u001b[0;34m(\u001b[0m\u001b[0mnormalized_test_svm\u001b[0m\u001b[0;34m,\u001b[0m \u001b[0mnormalized_test_isf\u001b[0m\u001b[0;34m,\u001b[0m \u001b[0mauto_test_prediction_scores\u001b[0m\u001b[0;34m)\u001b[0m\u001b[0;34m,\u001b[0m \u001b[0mdtype\u001b[0m\u001b[0;34m=\u001b[0m\u001b[0mfloat\u001b[0m\u001b[0;34m)\u001b[0m\u001b[0;34m\u001b[0m\u001b[0;34m\u001b[0m\u001b[0m\n\u001b[1;32m      5\u001b[0m \u001b[0mensemble_array_test\u001b[0m \u001b[0;34m=\u001b[0m \u001b[0mnp\u001b[0m\u001b[0;34m.\u001b[0m\u001b[0mappend\u001b[0m\u001b[0;34m(\u001b[0m\u001b[0mtest_data_list_global\u001b[0m\u001b[0;34m,\u001b[0m \u001b[0mconcat_array_test\u001b[0m\u001b[0;34m.\u001b[0m\u001b[0mT\u001b[0m\u001b[0;34m,\u001b[0m \u001b[0maxis\u001b[0m\u001b[0;34m=\u001b[0m\u001b[0;36m1\u001b[0m\u001b[0;34m)\u001b[0m\u001b[0;34m\u001b[0m\u001b[0;34m\u001b[0m\u001b[0m\n",
      "\u001b[0;31mNameError\u001b[0m: name 'autoencoder_model' is not defined"
     ]
    }
   ],
   "source": [
    "ensemble_predictions = mlp.predict(ensemble_array)\n",
    "\n",
    "auto_test_prediction_scores = autoencoder_model(X_test, y_test)\n",
    "concat_array_test = np.array((normalized_test_svm, normalized_test_isf, auto_test_prediction_scores), dtype=float)\n",
    "ensemble_array_test = np.append(test_data_list_global, concat_array_test.T, axis=1)\n",
    "ensemble_predictions = mlp.predict(ensemble_array_test)\n",
    "text = 'F1 Score for'+ str(group)+ ': '\n",
    "print(text , f1_score(y_test,ensemble_predictions, average='macro'))"
   ]
  },
  {
   "cell_type": "code",
   "execution_count": 35,
   "metadata": {},
   "outputs": [
    {
     "ename": "ValueError",
     "evalue": "Found input variables with inconsistent numbers of samples: [7299, 3996]",
     "output_type": "error",
     "traceback": [
      "\u001b[0;31m---------------------------------------------------------------------------\u001b[0m",
      "\u001b[0;31mValueError\u001b[0m                                Traceback (most recent call last)",
      "\u001b[0;32m<ipython-input-35-84922dde7a34>\u001b[0m in \u001b[0;36m<module>\u001b[0;34m\u001b[0m\n\u001b[0;32m----> 1\u001b[0;31m \u001b[0mprint\u001b[0m\u001b[0;34m(\u001b[0m\u001b[0mclassification_report\u001b[0m\u001b[0;34m(\u001b[0m\u001b[0my_test\u001b[0m\u001b[0;34m,\u001b[0m\u001b[0mensemble_predictions\u001b[0m\u001b[0;34m)\u001b[0m\u001b[0;34m)\u001b[0m\u001b[0;34m\u001b[0m\u001b[0;34m\u001b[0m\u001b[0m\n\u001b[0m",
      "\u001b[0;32m/opt/conda/lib/python3.7/site-packages/sklearn/metrics/classification.py\u001b[0m in \u001b[0;36mclassification_report\u001b[0;34m(y_true, y_pred, labels, target_names, sample_weight, digits, output_dict)\u001b[0m\n\u001b[1;32m   1850\u001b[0m     \"\"\"\n\u001b[1;32m   1851\u001b[0m \u001b[0;34m\u001b[0m\u001b[0m\n\u001b[0;32m-> 1852\u001b[0;31m     \u001b[0my_type\u001b[0m\u001b[0;34m,\u001b[0m \u001b[0my_true\u001b[0m\u001b[0;34m,\u001b[0m \u001b[0my_pred\u001b[0m \u001b[0;34m=\u001b[0m \u001b[0m_check_targets\u001b[0m\u001b[0;34m(\u001b[0m\u001b[0my_true\u001b[0m\u001b[0;34m,\u001b[0m \u001b[0my_pred\u001b[0m\u001b[0;34m)\u001b[0m\u001b[0;34m\u001b[0m\u001b[0;34m\u001b[0m\u001b[0m\n\u001b[0m\u001b[1;32m   1853\u001b[0m \u001b[0;34m\u001b[0m\u001b[0m\n\u001b[1;32m   1854\u001b[0m     \u001b[0mlabels_given\u001b[0m \u001b[0;34m=\u001b[0m \u001b[0;32mTrue\u001b[0m\u001b[0;34m\u001b[0m\u001b[0;34m\u001b[0m\u001b[0m\n",
      "\u001b[0;32m/opt/conda/lib/python3.7/site-packages/sklearn/metrics/classification.py\u001b[0m in \u001b[0;36m_check_targets\u001b[0;34m(y_true, y_pred)\u001b[0m\n\u001b[1;32m     69\u001b[0m     \u001b[0my_pred\u001b[0m \u001b[0;34m:\u001b[0m \u001b[0marray\u001b[0m \u001b[0;32mor\u001b[0m \u001b[0mindicator\u001b[0m \u001b[0mmatrix\u001b[0m\u001b[0;34m\u001b[0m\u001b[0;34m\u001b[0m\u001b[0m\n\u001b[1;32m     70\u001b[0m     \"\"\"\n\u001b[0;32m---> 71\u001b[0;31m     \u001b[0mcheck_consistent_length\u001b[0m\u001b[0;34m(\u001b[0m\u001b[0my_true\u001b[0m\u001b[0;34m,\u001b[0m \u001b[0my_pred\u001b[0m\u001b[0;34m)\u001b[0m\u001b[0;34m\u001b[0m\u001b[0;34m\u001b[0m\u001b[0m\n\u001b[0m\u001b[1;32m     72\u001b[0m     \u001b[0mtype_true\u001b[0m \u001b[0;34m=\u001b[0m \u001b[0mtype_of_target\u001b[0m\u001b[0;34m(\u001b[0m\u001b[0my_true\u001b[0m\u001b[0;34m)\u001b[0m\u001b[0;34m\u001b[0m\u001b[0;34m\u001b[0m\u001b[0m\n\u001b[1;32m     73\u001b[0m     \u001b[0mtype_pred\u001b[0m \u001b[0;34m=\u001b[0m \u001b[0mtype_of_target\u001b[0m\u001b[0;34m(\u001b[0m\u001b[0my_pred\u001b[0m\u001b[0;34m)\u001b[0m\u001b[0;34m\u001b[0m\u001b[0;34m\u001b[0m\u001b[0m\n",
      "\u001b[0;32m/opt/conda/lib/python3.7/site-packages/sklearn/utils/validation.py\u001b[0m in \u001b[0;36mcheck_consistent_length\u001b[0;34m(*arrays)\u001b[0m\n\u001b[1;32m    203\u001b[0m     \u001b[0;32mif\u001b[0m \u001b[0mlen\u001b[0m\u001b[0;34m(\u001b[0m\u001b[0muniques\u001b[0m\u001b[0;34m)\u001b[0m \u001b[0;34m>\u001b[0m \u001b[0;36m1\u001b[0m\u001b[0;34m:\u001b[0m\u001b[0;34m\u001b[0m\u001b[0;34m\u001b[0m\u001b[0m\n\u001b[1;32m    204\u001b[0m         raise ValueError(\"Found input variables with inconsistent numbers of\"\n\u001b[0;32m--> 205\u001b[0;31m                          \" samples: %r\" % [int(l) for l in lengths])\n\u001b[0m\u001b[1;32m    206\u001b[0m \u001b[0;34m\u001b[0m\u001b[0m\n\u001b[1;32m    207\u001b[0m \u001b[0;34m\u001b[0m\u001b[0m\n",
      "\u001b[0;31mValueError\u001b[0m: Found input variables with inconsistent numbers of samples: [7299, 3996]"
     ]
    }
   ],
   "source": [
    "print(classification_report(y_test,ensemble_predictions))"
   ]
  },
  {
   "cell_type": "code",
   "execution_count": 36,
   "metadata": {},
   "outputs": [
    {
     "name": "stdout",
     "output_type": "stream",
     "text": [
      "1.0\n"
     ]
    }
   ],
   "source": [
    "print(f1_score(y_val,ensemble_predictions, average='macro') )"
   ]
  },
  {
   "cell_type": "code",
   "execution_count": null,
   "metadata": {},
   "outputs": [],
   "source": []
  },
  {
   "cell_type": "code",
   "execution_count": null,
   "metadata": {},
   "outputs": [],
   "source": []
  },
  {
   "cell_type": "code",
   "execution_count": 55,
   "metadata": {},
   "outputs": [
    {
     "name": "stdout",
     "output_type": "stream",
     "text": [
      "1    361\n",
      "Name: new_label, dtype: int64\n",
      "-1    7055\n",
      " 1     244\n",
      "Name: new_label, dtype: int64\n"
     ]
    }
   ],
   "source": [
    "final_train, final_test = data_for_sota()"
   ]
  },
  {
   "cell_type": "code",
   "execution_count": null,
   "metadata": {},
   "outputs": [],
   "source": [
    "def ensemble_predictions(members, testX):\n",
    "    # make predictions\n",
    "    yhats = [model.predict(testX) for model in members]\n",
    "    yhats = array(yhats)\n",
    "    # sum across ensemble members\n",
    "    summed = numpy.sum(yhats, axis=0)\n",
    "    # argmax across classes\n",
    "    result = argmax(summed, axis=1)\n",
    "    return result\n",
    "\n",
    "def evaluate_n_members(members, n_members, testX, testy):\n",
    "    # select a subset of members\n",
    "    subset = members[:n_members]\n",
    "    # make prediction\n",
    "    yhat = ensemble_predictions(subset, testX)\n",
    "    # calculate accuracy\n",
    "    return accuracy_score(testy, yhat)\n",
    "\n",
    "\n",
    "single_scores, ensemble_scores = list(), list()\n",
    "for i in range(1, len(members)+1):\n",
    "    # evaluate model with i members\n",
    "    ensemble_score = evaluate_n_members(members, i, X_test, final_test['new_label'].tolist())\n",
    "    # evaluate the i'th model standalone\n",
    "    #testy_enc = to_categorical(y_test)\n",
    "    _, single_score = members[i-1].evaluate(X_test, final_test['new_label'].tolist(), verbose=0)\n",
    "    # summarize this step\n",
    "    print('> %d: single=%.3f, ensemble=%.3f' % (i, single_score, ensemble_score))\n",
    "    ensemble_scores.append(ensemble_score)\n",
    "    single_scores.append(single_score)\n",
    "# summarize average accuracy of a single final model\n",
    "print('Accuracy %.3f (%.3f)' % (mean(single_scores), std(single_scores)))"
   ]
  },
  {
   "cell_type": "code",
   "execution_count": 617,
   "metadata": {},
   "outputs": [
    {
     "data": {
      "image/png": "[encoded data removed]",
      "text/plain": [
       "<Figure size 432x288 with 1 Axes>"
      ]
     },
     "metadata": {
      "needs_background": "light"
     },
     "output_type": "display_data"
    }
   ],
   "source": [
    "fpr, tpr, thresholds = roc_curve(error_df.true_class, error_df.reconstruction_error)\n",
    "roc_auc = auc(fpr, tpr)\n",
    "\n",
    "plt.title('Receiver Operating Characteristic')\n",
    "plt.plot(fpr, tpr, label='AUC = %0.4f'% roc_auc)\n",
    "plt.legend(loc='lower right')\n",
    "plt.plot([0,1],[0,1],'r--')\n",
    "plt.xlim([-0.001, 1])\n",
    "plt.ylim([0, 1.001])\n",
    "plt.ylabel('True Positive Rate')\n",
    "plt.xlabel('False Positive Rate')\n",
    "plt.show()"
   ]
  },
  {
   "cell_type": "code",
   "execution_count": 618,
   "metadata": {},
   "outputs": [
    {
     "data": {
      "text/plain": [
       "\"fig, axes = plt.subplots(nrows=1, ncols=3, figsize=(12,4))\\naxes[0].plot(recall, precision, 'b', label='Precision-Recall curve')\\naxes[0].set_title('Recall vs Precision')\\naxes[1].plot(th, precision[1:], 'b', label='Threshold-Precision curve')\\naxes[1].set_title('Precision for different threshold values')\\naxes[2].plot(th, recall[1:], 'b', label='Threshold-Recall curve')\\naxes[2].set_title('Recall for different threshold values')\\nfig.tight_layout()\""
      ]
     },
     "execution_count": 618,
     "metadata": {},
     "output_type": "execute_result"
    }
   ],
   "source": [
    "precision, recall, th = precision_recall_curve(error_df.true_class, error_df.reconstruction_error)\n",
    "#plt.plot(recall, precision, 'b', label='Precision-Recall curve')\n",
    "\n",
    "'''fig, axes = plt.subplots(nrows=1, ncols=3, figsize=(12,4))\n",
    "axes[0].plot(recall, precision, 'b', label='Precision-Recall curve')\n",
    "axes[0].set_title('Recall vs Precision')\n",
    "axes[1].plot(th, precision[1:], 'b', label='Threshold-Precision curve')\n",
    "axes[1].set_title('Precision for different threshold values')\n",
    "axes[2].plot(th, recall[1:], 'b', label='Threshold-Recall curve')\n",
    "axes[2].set_title('Recall for different threshold values')\n",
    "fig.tight_layout()'''"
   ]
  },
  {
   "cell_type": "code",
   "execution_count": 619,
   "metadata": {},
   "outputs": [
    {
     "name": "stdout",
     "output_type": "stream",
     "text": [
      "Maximum Test accuracy: 0.8038988160936901\n",
      "Threshold for maximal accuracy:  0.0018242791\n"
     ]
    },
    {
     "data": {
      "text/plain": [
       "'fig = plt.figure()\\nax = fig.add_subplot(111)\\n_ = ax.hist(accuracies)'"
      ]
     },
     "execution_count": 619,
     "metadata": {},
     "output_type": "execute_result"
    }
   ],
   "source": [
    "accuracies = []\n",
    "for threshold in th:\n",
    "    y_pred = [1 if e > threshold else 0 for e in error_df.reconstruction_error.values]\n",
    "    accuracies.append(balanced_accuracy_score(error_df.true_class, y_pred))\n",
    "print(\"Maximum Test accuracy:\", max(accuracies))\n",
    "#print(accuracies.index(max(accuracies)))\n",
    "print('Threshold for maximal accuracy: ', th[accuracies.index(max(accuracies))])\n",
    "threshold = th[accuracies.index(max(accuracies))]\n",
    "'''fig = plt.figure()\n",
    "ax = fig.add_subplot(111)\n",
    "_ = ax.hist(accuracies)'''"
   ]
  },
  {
   "cell_type": "code",
   "execution_count": 620,
   "metadata": {},
   "outputs": [
    {
     "data": {
      "image/png": "[encoded data removed]",
      "text/plain": [
       "<Figure size 432x288 with 1 Axes>"
      ]
     },
     "metadata": {
      "needs_background": "light"
     },
     "output_type": "display_data"
    }
   ],
   "source": [
    "groups = error_df.groupby('true_class')\n",
    "fig, ax = plt.subplots()\n",
    "for name, group in groups:\n",
    "    ax.plot(group.index, group.reconstruction_error, marker='o', ms=3.5, linestyle='',\n",
    "            label= \"known\" if name == 1 else \"unknown\")\n",
    "ax.hlines(threshold, ax.get_xlim()[0], ax.get_xlim()[1], colors=\"r\", zorder=100, label='Threshold')\n",
    "ax.legend()\n",
    "plt.title(\"Reconstruction error for different classes\")\n",
    "plt.ylabel(\"Reconstruction error\")\n",
    "plt.xlabel(\"Data point index\")\n",
    "plt.show()"
   ]
  },
  {
   "cell_type": "code",
   "execution_count": 621,
   "metadata": {},
   "outputs": [
    {
     "name": "stdout",
     "output_type": "stream",
     "text": [
      "Test F1 Score:  0.5224201231708601\n",
      "Test accuracy: 0.8038988160936901\n"
     ]
    },
    {
     "data": {
      "image/png": "[encoded data removed]",
      "text/plain": [
       "<Figure size 432x432 with 2 Axes>"
      ]
     },
     "metadata": {
      "needs_background": "light"
     },
     "output_type": "display_data"
    },
    {
     "name": "stdout",
     "output_type": "stream",
     "text": [
      "              precision    recall  f1-score   support\n",
      "\n",
      "           0       0.11      0.86      0.19       244\n",
      "           1       0.99      0.75      0.86      7055\n",
      "\n",
      "    accuracy                           0.75      7299\n",
      "   macro avg       0.55      0.80      0.52      7299\n",
      "weighted avg       0.96      0.75      0.83      7299\n",
      "\n"
     ]
    }
   ],
   "source": [
    "LABELS = [\"known\", \"unknown\"]\n",
    "y_pred_autoencoder = [1 if e > threshold else 0 for e in error_df.reconstruction_error.values]\n",
    "conf_matrix = confusion_matrix(error_df.true_class, y_pred_autoencoder,[0,1])\n",
    "test_f1 = f1_score(error_df.true_class, y_pred_autoencoder, average='macro')  \n",
    "print('Test F1 Score: ', test_f1)\n",
    "accuracy = balanced_accuracy_score(error_df.true_class, y_pred_autoencoder)\n",
    "print(\"Test accuracy:\", accuracy)\n",
    "results_global_list.append(round(test_f1,2))\n",
    "results_global_list.append(round(accuracy*100,1))\n",
    "plt.figure(figsize=(6,6))\n",
    "sns.heatmap(conf_matrix, xticklabels=LABELS, yticklabels=LABELS, annot=True, fmt=\"d\");\n",
    "plt.title(\"Confusion matrix - Reuters - Autoencoder\")\n",
    "plt.ylabel('True class')\n",
    "plt.xlabel('Predicted class')\n",
    "plt.show()\n",
    "print(classification_report(error_df.true_class, y_pred_autoencoder))"
   ]
  },
  {
   "cell_type": "markdown",
   "metadata": {},
   "source": [
    "Base individual models end. Ensemble approaches begin from here"
   ]
  },
  {
   "cell_type": "code",
   "execution_count": 24,
   "metadata": {},
   "outputs": [
    {
     "ename": "NameError",
     "evalue": "name 'y_pred_autoencoder' is not defined",
     "output_type": "error",
     "traceback": [
      "\u001b[0;31m---------------------------------------------------------------------------\u001b[0m",
      "\u001b[0;31mNameError\u001b[0m                                 Traceback (most recent call last)",
      "\u001b[0;32m<ipython-input-24-e3ae82799ec0>\u001b[0m in \u001b[0;36m<module>\u001b[0;34m\u001b[0m\n\u001b[0;32m----> 1\u001b[0;31m \u001b[0;32mfor\u001b[0m \u001b[0mi\u001b[0m \u001b[0;32min\u001b[0m \u001b[0mrange\u001b[0m\u001b[0;34m(\u001b[0m\u001b[0mlen\u001b[0m\u001b[0;34m(\u001b[0m\u001b[0my_pred_autoencoder\u001b[0m\u001b[0;34m)\u001b[0m\u001b[0;34m)\u001b[0m\u001b[0;34m:\u001b[0m\u001b[0;34m\u001b[0m\u001b[0;34m\u001b[0m\u001b[0m\n\u001b[0m\u001b[1;32m      2\u001b[0m     \u001b[0;32mif\u001b[0m \u001b[0my_pred_autoencoder\u001b[0m\u001b[0;34m[\u001b[0m\u001b[0mi\u001b[0m\u001b[0;34m]\u001b[0m \u001b[0;34m==\u001b[0m \u001b[0;36m0\u001b[0m\u001b[0;34m:\u001b[0m\u001b[0;34m\u001b[0m\u001b[0;34m\u001b[0m\u001b[0m\n\u001b[1;32m      3\u001b[0m         \u001b[0my_pred_autoencoder\u001b[0m\u001b[0;34m[\u001b[0m\u001b[0mi\u001b[0m\u001b[0;34m]\u001b[0m \u001b[0;34m=\u001b[0m \u001b[0;36m1\u001b[0m\u001b[0;34m\u001b[0m\u001b[0;34m\u001b[0m\u001b[0m\n\u001b[1;32m      4\u001b[0m     \u001b[0;32melse\u001b[0m\u001b[0;34m:\u001b[0m\u001b[0;34m\u001b[0m\u001b[0;34m\u001b[0m\u001b[0m\n\u001b[1;32m      5\u001b[0m         \u001b[0my_pred_autoencoder\u001b[0m\u001b[0;34m[\u001b[0m\u001b[0mi\u001b[0m\u001b[0;34m]\u001b[0m \u001b[0;34m=\u001b[0m \u001b[0;34m-\u001b[0m\u001b[0;36m1\u001b[0m\u001b[0;34m\u001b[0m\u001b[0;34m\u001b[0m\u001b[0m\n",
      "\u001b[0;31mNameError\u001b[0m: name 'y_pred_autoencoder' is not defined"
     ]
    }
   ],
   "source": [
    "for i in range(len(y_pred_autoencoder)):\n",
    "    if y_pred_autoencoder[i] == 0:\n",
    "        y_pred_autoencoder[i] = 1\n",
    "    else:\n",
    "        y_pred_autoencoder[i] = -1\n",
    "#print(y_pred_autoencoder)\n",
    "final_train, final_test = data_for_sota()"
   ]
  },
  {
   "cell_type": "code",
   "execution_count": 623,
   "metadata": {},
   "outputs": [
    {
     "name": "stdout",
     "output_type": "stream",
     "text": [
      "Model:  Ensemble\n",
      "Test F1 Score:  0.5776946584837437\n",
      "Test accuracy: 0.8861487875051377\n"
     ]
    },
    {
     "data": {
      "image/png": "[encoded data removed]",
      "text/plain": [
       "<Figure size 432x432 with 2 Axes>"
      ]
     },
     "metadata": {
      "needs_background": "light"
     },
     "output_type": "display_data"
    }
   ],
   "source": [
    "import math as mt\n",
    "def mostFrequent(arr): \n",
    "    n = len(arr)\n",
    "    # Insert all elements in Hash. \n",
    "    Hash = dict() \n",
    "    for i in range(n): \n",
    "        if arr[i] in Hash.keys(): \n",
    "            Hash[arr[i]] += 1\n",
    "        else: \n",
    "            Hash[arr[i]] = 1\n",
    "  \n",
    "    # find the max frequency \n",
    "    max_count = 0\n",
    "    res = -1\n",
    "    for i in Hash:  \n",
    "        if (max_count < Hash[i]):  \n",
    "            res = i \n",
    "            max_count = Hash[i] \n",
    "          \n",
    "    return res  \n",
    "\n",
    "def ensemble_results(model, test_true_labels, test_predicted_labels):\n",
    "    print('Model: ', model)\n",
    "    test_f1 = f1_score(test_true_labels, test_predicted_labels, average='macro')  \n",
    "    print('Test F1 Score: ', test_f1)\n",
    "    accuracy = accuracy_score(test_true_labels, test_predicted_labels)\n",
    "    print(\"Test accuracy:\", accuracy)\n",
    "    results_global_list.append(round(test_f1,2))\n",
    "    results_global_list.append(round(accuracy*100,1))\n",
    "    results = confusion_matrix(test_true_labels, test_predicted_labels, [1,-1]) \n",
    "    #print('Confusion Matrix :')\n",
    "    #print(results) \n",
    "    #print('Report : ')\n",
    "    LABELS = [\"known\", \"unknown\"]\n",
    "    plt.figure(figsize=(6, 6))\n",
    "    sns.heatmap(results, xticklabels=LABELS, yticklabels=LABELS, annot=True, fmt=\"d\");\n",
    "    plt.title(\"Confusion matrix - Reuters - \" + str(model))\n",
    "    plt.ylabel('True class')\n",
    "    plt.xlabel('Predicted class')\n",
    "    plt.show()\n",
    "    #print(classification_report(test_true_labels, test_predicted_labels))\n",
    "    \n",
    "y_pred_test_ensemble = []\n",
    "\n",
    "\n",
    "\n",
    "for i in range(len(final_test['new_label'].tolist())):\n",
    "    arr = [ y_pred_test[i], y_pred_iso_test[i], y_pred_autoencoder[i]]\n",
    "    y_pred_test_ensemble.append(mostFrequent(arr))\n",
    "\n",
    "ensemble_results('Ensemble', final_test['new_label'].tolist(), y_pred_test_ensemble)"
   ]
  },
  {
   "cell_type": "code",
   "execution_count": 624,
   "metadata": {},
   "outputs": [
    {
     "name": "stdout",
     "output_type": "stream",
     "text": [
      "[0.58, 88.7, 0.54, 95.6, 0.48, 69.0, 0.52, 80.4, 0.58, 88.6]\n"
     ]
    }
   ],
   "source": [
    "print(results_global_list)"
   ]
  },
  {
   "cell_type": "code",
   "execution_count": 625,
   "metadata": {},
   "outputs": [
    {
     "ename": "KeyError",
     "evalue": "27",
     "output_type": "error",
     "traceback": [
      "\u001b[0;31m---------------------------------------------------------------------------\u001b[0m",
      "\u001b[0;31mKeyError\u001b[0m                                  Traceback (most recent call last)",
      "\u001b[0;32m<ipython-input-625-18f9eef6ec71>\u001b[0m in \u001b[0;36m<module>\u001b[0;34m\u001b[0m\n\u001b[1;32m      1\u001b[0m \u001b[0;31m#!pip install wikipedia2vec\u001b[0m\u001b[0;34m\u001b[0m\u001b[0;34m\u001b[0m\u001b[0;34m\u001b[0m\u001b[0m\n\u001b[1;32m      2\u001b[0m \u001b[0;31m#!pip install -U spacy\u001b[0m\u001b[0;34m\u001b[0m\u001b[0;34m\u001b[0m\u001b[0;34m\u001b[0m\u001b[0m\n\u001b[0;32m----> 3\u001b[0;31m \u001b[0mprint\u001b[0m\u001b[0;34m(\u001b[0m\u001b[0mfinal_train\u001b[0m\u001b[0;34m[\u001b[0m\u001b[0;34m'text'\u001b[0m\u001b[0;34m]\u001b[0m\u001b[0;34m[\u001b[0m\u001b[0;36m27\u001b[0m\u001b[0;34m]\u001b[0m\u001b[0;34m)\u001b[0m\u001b[0;34m\u001b[0m\u001b[0;34m\u001b[0m\u001b[0m\n\u001b[0m\u001b[1;32m      4\u001b[0m \u001b[0mfinal_train\u001b[0m\u001b[0;34m.\u001b[0m\u001b[0mhead\u001b[0m\u001b[0;34m(\u001b[0m\u001b[0;34m)\u001b[0m\u001b[0;34m\u001b[0m\u001b[0;34m\u001b[0m\u001b[0m\n",
      "\u001b[0;32m/opt/conda/lib/python3.7/site-packages/pandas/core/series.py\u001b[0m in \u001b[0;36m__getitem__\u001b[0;34m(self, key)\u001b[0m\n\u001b[1;32m    866\u001b[0m         \u001b[0mkey\u001b[0m \u001b[0;34m=\u001b[0m \u001b[0mcom\u001b[0m\u001b[0;34m.\u001b[0m\u001b[0mapply_if_callable\u001b[0m\u001b[0;34m(\u001b[0m\u001b[0mkey\u001b[0m\u001b[0;34m,\u001b[0m \u001b[0mself\u001b[0m\u001b[0;34m)\u001b[0m\u001b[0;34m\u001b[0m\u001b[0;34m\u001b[0m\u001b[0m\n\u001b[1;32m    867\u001b[0m         \u001b[0;32mtry\u001b[0m\u001b[0;34m:\u001b[0m\u001b[0;34m\u001b[0m\u001b[0;34m\u001b[0m\u001b[0m\n\u001b[0;32m--> 868\u001b[0;31m             \u001b[0mresult\u001b[0m \u001b[0;34m=\u001b[0m \u001b[0mself\u001b[0m\u001b[0;34m.\u001b[0m\u001b[0mindex\u001b[0m\u001b[0;34m.\u001b[0m\u001b[0mget_value\u001b[0m\u001b[0;34m(\u001b[0m\u001b[0mself\u001b[0m\u001b[0;34m,\u001b[0m \u001b[0mkey\u001b[0m\u001b[0;34m)\u001b[0m\u001b[0;34m\u001b[0m\u001b[0;34m\u001b[0m\u001b[0m\n\u001b[0m\u001b[1;32m    869\u001b[0m \u001b[0;34m\u001b[0m\u001b[0m\n\u001b[1;32m    870\u001b[0m             \u001b[0;32mif\u001b[0m \u001b[0;32mnot\u001b[0m \u001b[0mis_scalar\u001b[0m\u001b[0;34m(\u001b[0m\u001b[0mresult\u001b[0m\u001b[0;34m)\u001b[0m\u001b[0;34m:\u001b[0m\u001b[0;34m\u001b[0m\u001b[0;34m\u001b[0m\u001b[0m\n",
      "\u001b[0;32m/opt/conda/lib/python3.7/site-packages/pandas/core/indexes/base.py\u001b[0m in \u001b[0;36mget_value\u001b[0;34m(self, series, key)\u001b[0m\n\u001b[1;32m   4373\u001b[0m         \u001b[0;32mtry\u001b[0m\u001b[0;34m:\u001b[0m\u001b[0;34m\u001b[0m\u001b[0;34m\u001b[0m\u001b[0m\n\u001b[1;32m   4374\u001b[0m             return self._engine.get_value(s, k,\n\u001b[0;32m-> 4375\u001b[0;31m                                           tz=getattr(series.dtype, 'tz', None))\n\u001b[0m\u001b[1;32m   4376\u001b[0m         \u001b[0;32mexcept\u001b[0m \u001b[0mKeyError\u001b[0m \u001b[0;32mas\u001b[0m \u001b[0me1\u001b[0m\u001b[0;34m:\u001b[0m\u001b[0;34m\u001b[0m\u001b[0;34m\u001b[0m\u001b[0m\n\u001b[1;32m   4377\u001b[0m             \u001b[0;32mif\u001b[0m \u001b[0mlen\u001b[0m\u001b[0;34m(\u001b[0m\u001b[0mself\u001b[0m\u001b[0;34m)\u001b[0m \u001b[0;34m>\u001b[0m \u001b[0;36m0\u001b[0m \u001b[0;32mand\u001b[0m \u001b[0;34m(\u001b[0m\u001b[0mself\u001b[0m\u001b[0;34m.\u001b[0m\u001b[0mholds_integer\u001b[0m\u001b[0;34m(\u001b[0m\u001b[0;34m)\u001b[0m \u001b[0;32mor\u001b[0m \u001b[0mself\u001b[0m\u001b[0;34m.\u001b[0m\u001b[0mis_boolean\u001b[0m\u001b[0;34m(\u001b[0m\u001b[0;34m)\u001b[0m\u001b[0;34m)\u001b[0m\u001b[0;34m:\u001b[0m\u001b[0;34m\u001b[0m\u001b[0;34m\u001b[0m\u001b[0m\n",
      "\u001b[0;32mpandas/_libs/index.pyx\u001b[0m in \u001b[0;36mpandas._libs.index.IndexEngine.get_value\u001b[0;34m()\u001b[0m\n",
      "\u001b[0;32mpandas/_libs/index.pyx\u001b[0m in \u001b[0;36mpandas._libs.index.IndexEngine.get_value\u001b[0;34m()\u001b[0m\n",
      "\u001b[0;32mpandas/_libs/index.pyx\u001b[0m in \u001b[0;36mpandas._libs.index.IndexEngine.get_loc\u001b[0;34m()\u001b[0m\n",
      "\u001b[0;32mpandas/_libs/hashtable_class_helper.pxi\u001b[0m in \u001b[0;36mpandas._libs.hashtable.Int64HashTable.get_item\u001b[0;34m()\u001b[0m\n",
      "\u001b[0;32mpandas/_libs/hashtable_class_helper.pxi\u001b[0m in \u001b[0;36mpandas._libs.hashtable.Int64HashTable.get_item\u001b[0;34m()\u001b[0m\n",
      "\u001b[0;31mKeyError\u001b[0m: 27"
     ]
    }
   ],
   "source": [
    "#!pip install wikipedia2vec\n",
    "#!pip install -U spacy\n",
    "print(final_train['text'][27])\n",
    "final_train.head()"
   ]
  },
  {
   "cell_type": "code",
   "execution_count": null,
   "metadata": {},
   "outputs": [],
   "source": []
  },
  {
   "cell_type": "code",
   "execution_count": null,
   "metadata": {},
   "outputs": [],
   "source": [
    "import spacy\n",
    "from spacy import displacy\n",
    "from collections import Counter\n",
    "import en_core_web_sm\n",
    "nlp = en_core_web_sm.load()\n",
    "doc = nlp(final_train['text'][27])"
   ]
  },
  {
   "cell_type": "code",
   "execution_count": null,
   "metadata": {},
   "outputs": [],
   "source": [
    "print(list(doc.ents))"
   ]
  },
  {
   "cell_type": "code",
   "execution_count": null,
   "metadata": {},
   "outputs": [],
   "source": [
    "from wikipedia2vec import Wikipedia2Vec\n",
    "wiki2vec = Wikipedia2Vec.load(MODEL_FILE)\n",
    "for entity in list(doc.ents):\n",
    "    vector = wiki2vec.get_entity_vector(entity)\n",
    "    print(vector)"
   ]
  },
  {
   "cell_type": "code",
   "execution_count": null,
   "metadata": {},
   "outputs": [],
   "source": []
  },
  {
   "cell_type": "code",
   "execution_count": null,
   "metadata": {},
   "outputs": [],
   "source": []
  }
 ],
 "metadata": {
  "kernelspec": {
   "display_name": "Python 3",
   "language": "python",
   "name": "python3"
  },
  "language_info": {
   "codemirror_mode": {
    "name": "ipython",
    "version": 3
   },
   "file_extension": ".py",
   "mimetype": "text/x-python",
   "name": "python",
   "nbconvert_exporter": "python",
   "pygments_lexer": "ipython3",
   "version": "3.7.3"
  }
 },
 "nbformat": 4,
 "nbformat_minor": 2
}
