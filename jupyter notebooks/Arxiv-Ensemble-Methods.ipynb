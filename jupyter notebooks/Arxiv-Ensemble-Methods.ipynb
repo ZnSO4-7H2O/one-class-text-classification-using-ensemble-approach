{
 "cells": [
  {
   "cell_type": "code",
   "execution_count": 1,
   "metadata": {},
   "outputs": [
    {
     "name": "stderr",
     "output_type": "stream",
     "text": [
      "/opt/conda/lib/python3.7/site-packages/tensorflow/python/framework/dtypes.py:516: FutureWarning: Passing (type, 1) or '1type' as a synonym of type is deprecated; in a future version of numpy, it will be understood as (type, (1,)) / '(1,)type'.\n",
      "  _np_qint8 = np.dtype([(\"qint8\", np.int8, 1)])\n",
      "/opt/conda/lib/python3.7/site-packages/tensorflow/python/framework/dtypes.py:517: FutureWarning: Passing (type, 1) or '1type' as a synonym of type is deprecated; in a future version of numpy, it will be understood as (type, (1,)) / '(1,)type'.\n",
      "  _np_quint8 = np.dtype([(\"quint8\", np.uint8, 1)])\n",
      "/opt/conda/lib/python3.7/site-packages/tensorflow/python/framework/dtypes.py:518: FutureWarning: Passing (type, 1) or '1type' as a synonym of type is deprecated; in a future version of numpy, it will be understood as (type, (1,)) / '(1,)type'.\n",
      "  _np_qint16 = np.dtype([(\"qint16\", np.int16, 1)])\n",
      "/opt/conda/lib/python3.7/site-packages/tensorflow/python/framework/dtypes.py:519: FutureWarning: Passing (type, 1) or '1type' as a synonym of type is deprecated; in a future version of numpy, it will be understood as (type, (1,)) / '(1,)type'.\n",
      "  _np_quint16 = np.dtype([(\"quint16\", np.uint16, 1)])\n",
      "/opt/conda/lib/python3.7/site-packages/tensorflow/python/framework/dtypes.py:520: FutureWarning: Passing (type, 1) or '1type' as a synonym of type is deprecated; in a future version of numpy, it will be understood as (type, (1,)) / '(1,)type'.\n",
      "  _np_qint32 = np.dtype([(\"qint32\", np.int32, 1)])\n",
      "/opt/conda/lib/python3.7/site-packages/tensorflow/python/framework/dtypes.py:525: FutureWarning: Passing (type, 1) or '1type' as a synonym of type is deprecated; in a future version of numpy, it will be understood as (type, (1,)) / '(1,)type'.\n",
      "  np_resource = np.dtype([(\"resource\", np.ubyte, 1)])\n",
      "/opt/conda/lib/python3.7/site-packages/tensorboard/compat/tensorflow_stub/dtypes.py:541: FutureWarning: Passing (type, 1) or '1type' as a synonym of type is deprecated; in a future version of numpy, it will be understood as (type, (1,)) / '(1,)type'.\n",
      "  _np_qint8 = np.dtype([(\"qint8\", np.int8, 1)])\n",
      "/opt/conda/lib/python3.7/site-packages/tensorboard/compat/tensorflow_stub/dtypes.py:542: FutureWarning: Passing (type, 1) or '1type' as a synonym of type is deprecated; in a future version of numpy, it will be understood as (type, (1,)) / '(1,)type'.\n",
      "  _np_quint8 = np.dtype([(\"quint8\", np.uint8, 1)])\n",
      "/opt/conda/lib/python3.7/site-packages/tensorboard/compat/tensorflow_stub/dtypes.py:543: FutureWarning: Passing (type, 1) or '1type' as a synonym of type is deprecated; in a future version of numpy, it will be understood as (type, (1,)) / '(1,)type'.\n",
      "  _np_qint16 = np.dtype([(\"qint16\", np.int16, 1)])\n",
      "/opt/conda/lib/python3.7/site-packages/tensorboard/compat/tensorflow_stub/dtypes.py:544: FutureWarning: Passing (type, 1) or '1type' as a synonym of type is deprecated; in a future version of numpy, it will be understood as (type, (1,)) / '(1,)type'.\n",
      "  _np_quint16 = np.dtype([(\"quint16\", np.uint16, 1)])\n",
      "/opt/conda/lib/python3.7/site-packages/tensorboard/compat/tensorflow_stub/dtypes.py:545: FutureWarning: Passing (type, 1) or '1type' as a synonym of type is deprecated; in a future version of numpy, it will be understood as (type, (1,)) / '(1,)type'.\n",
      "  _np_qint32 = np.dtype([(\"qint32\", np.int32, 1)])\n",
      "/opt/conda/lib/python3.7/site-packages/tensorboard/compat/tensorflow_stub/dtypes.py:550: FutureWarning: Passing (type, 1) or '1type' as a synonym of type is deprecated; in a future version of numpy, it will be understood as (type, (1,)) / '(1,)type'.\n",
      "  np_resource = np.dtype([(\"resource\", np.ubyte, 1)])\n",
      "Using TensorFlow backend.\n",
      "I1120 11:18:14.173573 140005129237888 file_utils.py:39] PyTorch version 1.3.0 available.\n",
      "I1120 11:18:14.190808 140005129237888 modeling_xlnet.py:194] Better speed can be achieved with apex installed from https://www.github.com/nvidia/apex .\n",
      "I1120 11:18:14.206628 140005129237888 modeling_bert.py:226] Better speed can be achieved with apex installed from https://www.github.com/nvidia/apex .\n",
      "I1120 11:18:14.210396 140005129237888 modeling_xlnet.py:339] Better speed can be achieved with apex installed from https://www.github.com/nvidia/apex .\n"
     ]
    }
   ],
   "source": [
    "# Imports\n",
    "from sklearn.svm import OneClassSVM\n",
    "from sklearn.ensemble import IsolationForest\n",
    "from sklearn.neighbors import LocalOutlierFactor\n",
    "import numpy as np\n",
    "import tensorflow as tf\n",
    "import tensorflow_hub as hub\n",
    "import matplotlib.pyplot as plt\n",
    "import os, json\n",
    "import pandas as pd\n",
    "import nltk\n",
    "import sys\n",
    "import requests\n",
    "from bs4 import BeautifulSoup\n",
    "import torch\n",
    "from nltk.corpus import reuters\n",
    "from nltk import word_tokenize\n",
    "from nltk.corpus import stopwords\n",
    "from nltk.tokenize import word_tokenize\n",
    "import string, re\n",
    "from sklearn.decomposition import PCA\n",
    "from sklearn.metrics import accuracy_score, balanced_accuracy_score \n",
    "from sklearn.preprocessing import StandardScaler\n",
    "from sklearn.feature_extraction.text import TfidfVectorizer\n",
    "import seaborn as sns\n",
    "from sklearn.metrics import (confusion_matrix, precision_recall_curve, auc,\n",
    "                             roc_curve, recall_score, classification_report, f1_score,\n",
    "                             precision_recall_fscore_support)\n",
    "from keras.models import Model, load_model\n",
    "from keras.layers import Input, Dense, Dropout\n",
    "from keras.callbacks import ModelCheckpoint, TensorBoard\n",
    "from keras import regularizers\n",
    "from flair.embeddings import FlairEmbeddings,ELMoEmbeddings ,BertEmbeddings, WordEmbeddings\n",
    "from flair.embeddings import DocumentPoolEmbeddings, FastTextEmbeddings ,Sentence, XLNetEmbeddings\n",
    "from sentence_transformers import SentenceTransformer"
   ]
  },
  {
   "cell_type": "code",
   "execution_count": 2,
   "metadata": {},
   "outputs": [],
   "source": [
    "def clean_text(text: str, rm_numbers=True, rm_punct=True, rm_stop_words=True, rm_short_words=True):\n",
    "    \"\"\" Function to perform common NLP pre-processing tasks. \"\"\"\n",
    "\n",
    "    # make lowercase\n",
    "    text = text.lower()\n",
    "    # remove punctuation\n",
    "    if rm_punct:\n",
    "        text = text.translate(str.maketrans(string.punctuation, ' ' * len(string.punctuation)))\n",
    "    # remove numbers\n",
    "    if rm_numbers:\n",
    "        text = re.sub(r'\\d+', '', text)\n",
    "    # remove whitespaces\n",
    "    text = text.strip()\n",
    "    # remove stopwords\n",
    "    if rm_stop_words:\n",
    "        stop_words = set(stopwords.words('english'))\n",
    "        word_tokens = word_tokenize(text)\n",
    "        text_list = [w for w in word_tokens if not w in stop_words]\n",
    "        text = ' '.join(text_list)\n",
    "    # remove short words\n",
    "    if rm_short_words:\n",
    "        text_list = [w for w in text.split() if len(w) >= 3]\n",
    "        text = ' '.join(text_list)\n",
    "    return text\n",
    "\n",
    "def arxiv_dataset(path, label):\n",
    "    json_files = [pos_json for pos_json in os.listdir(path) if pos_json.endswith('.txt')]\n",
    "    train_data = []\n",
    "    doc = {}\n",
    "    for fil in json_files:\n",
    "        #Reading the Json file \n",
    "        filename = path+fil\n",
    "        #print(filename)\n",
    "        with open(filename, 'r', encoding = 'utf-8') as file:\n",
    "            data = json.load(file)            \n",
    "            train_label = label\n",
    "            train_text = data['text']\n",
    "            doc['text'] = clean_text(train_text)\n",
    "            doc['label'] = train_label\n",
    "            train_data.append(doc)\n",
    "            doc = {}\n",
    "    print('Data Loaded')\n",
    "    return train_data"
   ]
  },
  {
   "cell_type": "code",
   "execution_count": 3,
   "metadata": {},
   "outputs": [
    {
     "name": "stdout",
     "output_type": "stream",
     "text": [
      "Data Loaded\n",
      "Data Loaded\n",
      "Data Loaded\n"
     ]
    }
   ],
   "source": [
    "# Calling the reuters dataset functions\n",
    "train_file_path = '/opt/notebooks/datasets/arxiv_full_text/arxiv_full_data/'\n",
    "test_file_path_bio = '/opt/notebooks/datasets/arxiv_full_text/arxiv_full_data_test/'\n",
    "test_file_path_eess = '/opt/notebooks/datasets/arxiv_full_text/arxiv_full_data_test_eess/'\n",
    "train_data_full = arxiv_dataset(train_file_path, 'notnovel')\n",
    "test_data_bio = arxiv_dataset(test_file_path_bio, 'novelbio')\n",
    "test_data_eess = arxiv_dataset(test_file_path_eess, 'noveleess')\n",
    "train_data = train_data_full[:4000]\n",
    "test_data = test_data_bio+ train_data_full[4000:]"
   ]
  },
  {
   "cell_type": "code",
   "execution_count": 4,
   "metadata": {},
   "outputs": [
    {
     "name": "stdout",
     "output_type": "stream",
     "text": [
      "notnovel    4000\n",
      "Name: label, dtype: int64\n",
      "notnovel    1008\n",
      "novelbio     939\n",
      "Name: label, dtype: int64\n"
     ]
    }
   ],
   "source": [
    "# Converting the train and test data into dataframe\n",
    "train_data_df = pd.DataFrame(train_data, columns = ['text' , 'label'])\n",
    "test_data_df = pd.DataFrame(test_data, columns = ['text' , 'label'])\n",
    "print(train_data_df['label'].value_counts())\n",
    "print(test_data_df['label'].value_counts())"
   ]
  },
  {
   "cell_type": "code",
   "execution_count": 35,
   "metadata": {},
   "outputs": [
    {
     "data": {
      "text/plain": [
       "text         0\n",
       "label        0\n",
       "new_label    0\n",
       "dtype: int64"
      ]
     },
     "execution_count": 35,
     "metadata": {},
     "output_type": "execute_result"
    }
   ],
   "source": [
    "test_data_df.isna().sum()"
   ]
  },
  {
   "cell_type": "code",
   "execution_count": 5,
   "metadata": {},
   "outputs": [
    {
     "name": "stdout",
     "output_type": "stream",
     "text": [
      "notnovel    4000\n",
      "Name: label, dtype: int64\n"
     ]
    }
   ],
   "source": [
    "print(train_data_df['label'].value_counts())"
   ]
  },
  {
   "cell_type": "code",
   "execution_count": 6,
   "metadata": {},
   "outputs": [],
   "source": [
    "def data_for_sota():                    \n",
    "    # Numerical Labeling - 1 for normal class; -1 for anomaly class                    \n",
    "    train_data_df['new_label'] = train_data_df['label']\n",
    "    train_data_df.loc[train_data_df['label'] == 'notnovel', 'new_label'] = 1\n",
    "    train_data_df.loc[train_data_df['label'] != 'notnovel', 'new_label'] = -1\n",
    "    test_data_df['new_label'] = test_data_df['label']\n",
    "    test_data_df.loc[test_data_df['label'] == 'notnovel', 'new_label'] = 1\n",
    "    test_data_df.loc[test_data_df['label'] != 'notnovel', 'new_label'] = -1\n",
    "    # Preparing train data with only normal class\n",
    "    # Preparing train data with only normal class\n",
    "    final_train = train_data_df\n",
    "    print(final_train['new_label'].value_counts())\n",
    "    # Test data with both normal and other classes\n",
    "    final_test = test_data_df\n",
    "    print(final_test['new_label'].value_counts())\n",
    "    return final_train, final_test"
   ]
  },
  {
   "cell_type": "code",
   "execution_count": 32,
   "metadata": {},
   "outputs": [
    {
     "name": "stdout",
     "output_type": "stream",
     "text": [
      "1    4000\n",
      "Name: new_label, dtype: int64\n",
      " 1    1008\n",
      "-1     939\n",
      "Name: new_label, dtype: int64\n"
     ]
    }
   ],
   "source": [
    "final_train, final_test = data_for_sota()"
   ]
  },
  {
   "cell_type": "markdown",
   "metadata": {},
   "source": [
    "Various Embeddings - Bert, Universal Sentence Encoder, Infersent, GloVe, Fasttext, Ensemble Embeddings(Flair + GloVe)"
   ]
  },
  {
   "cell_type": "code",
   "execution_count": 8,
   "metadata": {},
   "outputs": [],
   "source": [
    "# Embedding using Universal Sentence Encoder\n",
    "def embed_module(module):\n",
    "    with tf.Graph().as_default():\n",
    "        sentences = tf.placeholder(tf.string)\n",
    "        embed = hub.Module(module)\n",
    "        embeddings = embed(sentences)\n",
    "        session = tf.train.MonitoredSession()\n",
    "    return lambda x: session.run(embeddings, {sentences: x})\n",
    "\n",
    "def use_embeddings():\n",
    "    train_data_list = []\n",
    "    test_data_list = []\n",
    "    module_url = \"/opt/notebooks/embedding_model/\"\n",
    "    # Import the Universal Sentence Encoder's TF Hub module\n",
    "    embed = embed_module(module_url)\n",
    "    train_data_list = embed(final_train['text'].tolist())\n",
    "    test_data_list = embed(final_test['text'].tolist())\n",
    "    return train_data_list, test_data_list\n",
    "\n",
    "# Bert\n",
    "def bert_embeddings():\n",
    "    train_data_list = []\n",
    "    test_data_list = []\n",
    "    model = SentenceTransformer('bert-base-nli-mean-tokens')\n",
    "    train_data_list = model.encode(final_train['text'].tolist())\n",
    "    test_data_list = model.encode(final_test['text'].tolist())\n",
    "    return train_data_list, test_data_list\n",
    "\n",
    "# Flair - GloVe - XLNet - FastText\n",
    "def other_embeddings(embd):\n",
    "    sess = tf.InteractiveSession()\n",
    "    train_data_list = []\n",
    "    test_data_list = []\n",
    "    if embd == 'glove':\n",
    "        print('Starting Glove Embedding...')\n",
    "        glove_embedding = WordEmbeddings('glove')\n",
    "        document_embeddings = DocumentPoolEmbeddings(embeddings=[glove_embedding])\n",
    "    elif embd == 'xlnet':\n",
    "        print('Starting XLNet Embedding...')\n",
    "        xlnet_embedding = XLNetEmbeddings('xlnet-large-cased')\n",
    "        document_embeddings = DocumentPoolEmbeddings(embeddings=[xlnet_embedding])\n",
    "    elif embd == 'fasttext':\n",
    "        print('Starting Fasttext Embedding...')\n",
    "        fasttext_embedding = FastTextEmbeddings('crawl-300d-2M')\n",
    "        document_embeddings = DocumentPoolEmbeddings(embeddings=[fasttext_embedding])\n",
    "    elif embd == 'elmo':\n",
    "        print('Starting ELMo Embedding...')\n",
    "        elmo_embedding = ELMoEmbeddings()\n",
    "        document_embeddings = DocumentPoolEmbeddings(embeddings=[elmo_embedding])\n",
    "    else:\n",
    "        # init Flair embeddings\n",
    "        flair_forward_embedding = FlairEmbeddings('multi-forward')\n",
    "        flair_backward_embedding = FlairEmbeddings('multi-backward')\n",
    "        glove_embedding = WordEmbeddings('glove')\n",
    "        # now create the DocumentPoolEmbeddings object that combines all embeddings\n",
    "        document_embeddings = DocumentPoolEmbeddings(embeddings=[glove_embedding, flair_forward_embedding, flair_backward_embedding])\n",
    "    print('Train embedding Started...')\n",
    "    for text in final_train['text'].tolist():\n",
    "        text = Sentence(text)\n",
    "        document_embeddings.embed(text)\n",
    "        emb = text.get_embedding().detach().numpy()\n",
    "        emb = tf.constant(emb).eval()\n",
    "        train_data_list.append(emb)\n",
    "    print('Embedded Train data!!')\n",
    "    print('Test embedding Started...')\n",
    "    for text in final_test['text'].tolist():\n",
    "        text = Sentence(text)\n",
    "        document_embeddings.embed(text)\n",
    "        emb = text.get_embedding().detach().numpy()\n",
    "        emb = tf.constant(emb).eval()\n",
    "        test_data_list.append(emb)\n",
    "    print('Embedded Test data!!')\n",
    "    return train_data_list, test_data_list\n",
    "\n",
    "def elmo_vectors(x):\n",
    "        embeddings = elmo(x, signature=\"default\", as_dict=True)[\"elmo\"]\n",
    "        with tf.Session() as sess:\n",
    "            sess.run(tf.global_variables_initializer())\n",
    "            sess.run(tf.tables_initializer())\n",
    "            # return average of ELMo features\n",
    "            return sess.run(tf.reduce_mean(embeddings,1))\n",
    "        \n",
    "def elmo_embeddings():\n",
    "    train_data_list = []\n",
    "    test_data_list = []\n",
    "    elmo = hub.Module(\"https://tfhub.dev/google/elmo/2\", trainable=True)\n",
    "    elmo_train = [elmo_vectors(final_train['text'].tolist())]\n",
    "    elmo_test = [elmo_vectors(final_test['text'].tolist())]\n",
    "    for i in range(len(final_train['text'].tolist())):\n",
    "        train_data_list.append(elmo_train[0][i])\n",
    "    for i in range(len(final_test['text'].tolist())):\n",
    "        test_data_list.append(elmo_test[0][i])\n",
    "    return train_data_list, test_data_list\n",
    "\n",
    "def infersent_embeddings():\n",
    "    train_data_list = []\n",
    "    test_data_list = []\n",
    "    sys.path.append('/opt/notebooks/OCSVM_ISF_LOF_USE_Baselines/InferSent-master')\n",
    "    # Load model\n",
    "    from models import InferSent\n",
    "    model_version = 1\n",
    "    MODEL_PATH = \"/opt/notebooks/OCSVM_ISF_LOF_USE_Baselines/InferSent-master/encoder/infersent%s.pkl\" % model_version\n",
    "    params_model = {'bsize': 64, 'word_emb_dim': 300, 'enc_lstm_dim': 2048,\n",
    "                    'pool_type': 'max', 'dpout_model': 0.0, 'version': model_version}\n",
    "    model = InferSent(params_model)\n",
    "    model.load_state_dict(torch.load(MODEL_PATH))\n",
    "    # Keep it on CPU or put it on GPU\n",
    "    use_cuda = False\n",
    "    model = model.cuda() if use_cuda else model\n",
    "    # If infersent1 -> use GloVe embeddings. If infersent2 -> use InferSent embeddings.\n",
    "    W2V_PATH = '/opt/notebooks/OCSVM_ISF_LOF_USE_Baselines/InferSent-master/glove.840B.300d-003.txt' if model_version == 1 else '/opt/notebooks/OCSVM_ISF_LOF_USE_Baselines/InferSent-master/fastText/crawl-300d-2M.vec'\n",
    "    model.set_w2v_path(W2V_PATH)\n",
    "    # Load embeddings of K most frequent words\n",
    "    model.build_vocab_k_words(K=100000)\n",
    "    train_data_list = model.encode(final_train['text'].tolist(), bsize=128, tokenize=False, verbose=True)\n",
    "    print('nb sentences encoded : {0}'.format(len(train_data_list)))\n",
    "    test_data_list = model.encode(final_test['text'].tolist(), bsize=128, tokenize=False, verbose=True)\n",
    "    print('nb sentences encoded : {0}'.format(len(test_data_list)))\n",
    "    return train_data_list, test_data_list"
   ]
  },
  {
   "cell_type": "code",
   "execution_count": 9,
   "metadata": {
    "scrolled": true
   },
   "outputs": [
    {
     "name": "stderr",
     "output_type": "stream",
     "text": [
      "I1120 11:26:02.738620 140005129237888 saver.py:1499] Saver not created because there are no variables in the graph to restore\n",
      "W1120 11:26:02.921033 140005129237888 deprecation.py:323] From /opt/conda/lib/python3.7/site-packages/tensorflow/python/ops/array_ops.py:1354: add_dispatch_support.<locals>.wrapper (from tensorflow.python.ops.array_ops) is deprecated and will be removed in a future version.\n",
      "Instructions for updating:\n",
      "Use tf.where in 2.0, which has the same broadcast rule as np.where\n",
      "I1120 11:26:03.062603 140005129237888 monitored_session.py:240] Graph was finalized.\n",
      "I1120 11:26:03.875415 140005129237888 session_manager.py:500] Running local_init_op.\n",
      "I1120 11:26:04.846740 140005129237888 session_manager.py:502] Done running local_init_op.\n"
     ]
    }
   ],
   "source": [
    "# Specify the embeddings 'glove', 'xlnet', 'fasttext', 'elmo', 'ensemble'\n",
    "train_data_list_global, test_data_list_global = use_embeddings()\n",
    "#train_data_list_global, test_data_list_global = bert_embeddings()\n",
    "#train_data_list_global, test_data_list_global = infersent_embeddings()\n",
    "#train_data_list_global, test_data_list_global = elmo_embeddings()\n",
    "#train_data_list_global, test_data_list_global = other_embeddings('glove')"
   ]
  },
  {
   "cell_type": "code",
   "execution_count": 10,
   "metadata": {},
   "outputs": [],
   "source": [
    "train_data_list = train_data_list_global\n",
    "test_data_list = test_data_list_global"
   ]
  },
  {
   "cell_type": "code",
   "execution_count": 11,
   "metadata": {},
   "outputs": [],
   "source": [
    "# OCSVM model\n",
    "def oneclass_svm(dataset, kernel, nu):\n",
    "    svm = OneClassSVM(kernel=kernel, nu=nu).fit(dataset)\n",
    "    return svm\n",
    "  \n",
    "# Isolation Forest\n",
    "def isolationForest(dataset, rng):\n",
    "    isolationforest = IsolationForest(behaviour='new', max_samples=100, random_state=rng, contamination='auto').fit(dataset)\n",
    "    return isolationforest\n",
    "\n",
    "def local_outlier_factory(dataset, neighbours):\n",
    "    lof = LocalOutlierFactor(n_neighbors=neighbours, contamination=0.1,novelty=True).fit(dataset)\n",
    "    return lof\n",
    "\n",
    "def pca(train, test):\n",
    "    print('Principal Component Analysis ...')\n",
    "    ss = StandardScaler()\n",
    "    ss.fit(train)\n",
    "    train = ss.transform(train)\n",
    "    test = ss.transform(test)\n",
    "    pca = PCA()\n",
    "    pca = pca.fit(train)\n",
    "    print('Explained variance percentage = %0.2f' % sum(pca.explained_variance_ratio_))\n",
    "    plt.plot(np.cumsum(pca.explained_variance_ratio_))\n",
    "    plt.xlabel('Number of components')\n",
    "    plt.ylabel('Cumulative explained variance')\n",
    "    train = pca.transform(train)\n",
    "    test = pca.transform(test)\n",
    "    return train, test\n",
    "\n",
    "def results(model, train_true_labels, train_predicted_labels, test_true_labels, test_predicted_labels):\n",
    "    print('Model: ', model)\n",
    "    print(\"Train accuracy:\", accuracy_score(train_true_labels, train_predicted_labels))\n",
    "    print(\"Test accuracy:\", accuracy_score(test_true_labels, test_predicted_labels))\n",
    "    results = confusion_matrix(test_true_labels, test_predicted_labels, [1,-1]) \n",
    "    #print('Confusion Matrix :')\n",
    "    #print(results) \n",
    "    #print('Report : ')\n",
    "    LABELS = [\"known\", \"unknown\"]\n",
    "    plt.figure(figsize=(6, 6))\n",
    "    sns.heatmap(results, xticklabels=LABELS, yticklabels=LABELS, annot=True, fmt=\"d\");\n",
    "    plt.title(\"Confusion matrix - Reuters - \" + str(model))\n",
    "    plt.ylabel('True class')\n",
    "    plt.xlabel('Predicted class')\n",
    "    plt.show()\n",
    "    print(classification_report(test_true_labels, test_predicted_labels))"
   ]
  },
  {
   "cell_type": "code",
   "execution_count": 12,
   "metadata": {},
   "outputs": [
    {
     "name": "stdout",
     "output_type": "stream",
     "text": [
      "Principal Component Analysis ...\n",
      "Explained variance percentage = 1.00\n"
     ]
    },
    {
     "data": {
      "image/png": "[encoded data removed]",
      "text/plain": [
       "<Figure size 432x288 with 1 Axes>"
      ]
     },
     "metadata": {
      "needs_background": "light"
     },
     "output_type": "display_data"
    }
   ],
   "source": [
    "train_data_list, test_data_list = pca(train_data_list, test_data_list)"
   ]
  },
  {
   "cell_type": "code",
   "execution_count": 13,
   "metadata": {
    "scrolled": false
   },
   "outputs": [
    {
     "name": "stdout",
     "output_type": "stream",
     "text": [
      "Model:  one Class SVM\n",
      "Train accuracy: 0.8985\n",
      "Test accuracy: 0.6923472008217771\n"
     ]
    },
    {
     "data": {
      "image/png": "[encoded data removed]",
      "text/plain": [
       "<Figure size 432x432 with 2 Axes>"
      ]
     },
     "metadata": {
      "needs_background": "light"
     },
     "output_type": "display_data"
    },
    {
     "name": "stdout",
     "output_type": "stream",
     "text": [
      "              precision    recall  f1-score   support\n",
      "\n",
      "          -1       0.79      0.50      0.61       939\n",
      "           1       0.65      0.88      0.75      1008\n",
      "\n",
      "    accuracy                           0.69      1947\n",
      "   macro avg       0.72      0.69      0.68      1947\n",
      "weighted avg       0.72      0.69      0.68      1947\n",
      "\n"
     ]
    }
   ],
   "source": [
    "svm_model = oneclass_svm(train_data_list, 'rbf', 0.1)\n",
    "y_pred_train = svm_model.predict(train_data_list)\n",
    "y_pred_test = svm_model.predict(test_data_list)\n",
    "results('one Class SVM', final_train['new_label'].tolist(), y_pred_train, final_test['new_label'].tolist(), y_pred_test)"
   ]
  },
  {
   "cell_type": "code",
   "execution_count": 14,
   "metadata": {},
   "outputs": [
    {
     "name": "stdout",
     "output_type": "stream",
     "text": [
      "Model:  Isolation Forest\n",
      "Train accuracy: 0.9515\n",
      "Test accuracy: 0.6307139188495121\n"
     ]
    },
    {
     "data": {
      "image/png": "[encoded data removed]",
      "text/plain": [
       "<Figure size 432x432 with 2 Axes>"
      ]
     },
     "metadata": {
      "needs_background": "light"
     },
     "output_type": "display_data"
    },
    {
     "name": "stdout",
     "output_type": "stream",
     "text": [
      "              precision    recall  f1-score   support\n",
      "\n",
      "          -1       0.74      0.36      0.48       939\n",
      "           1       0.60      0.88      0.71      1008\n",
      "\n",
      "    accuracy                           0.63      1947\n",
      "   macro avg       0.67      0.62      0.60      1947\n",
      "weighted avg       0.67      0.63      0.60      1947\n",
      "\n"
     ]
    }
   ],
   "source": [
    "rand_state = np.random.RandomState(42)\n",
    "iso_forest = isolationForest(train_data_list, rand_state)\n",
    "y_pred_iso_train = iso_forest.predict(train_data_list)\n",
    "y_pred_iso_test = iso_forest.predict(test_data_list)\n",
    "results('Isolation Forest', final_train['new_label'].tolist(), y_pred_iso_train, final_test['new_label'].tolist(), y_pred_iso_test)"
   ]
  },
  {
   "cell_type": "code",
   "execution_count": 15,
   "metadata": {
    "scrolled": false
   },
   "outputs": [
    {
     "name": "stdout",
     "output_type": "stream",
     "text": [
      "Model:  Local Outlier Factory\n",
      "Train accuracy: 0.90025\n",
      "Test accuracy: 0.6743708269131998\n"
     ]
    },
    {
     "data": {
      "image/png": "[encoded data removed]",
      "text/plain": [
       "<Figure size 432x432 with 2 Axes>"
      ]
     },
     "metadata": {
      "needs_background": "light"
     },
     "output_type": "display_data"
    },
    {
     "name": "stdout",
     "output_type": "stream",
     "text": [
      "              precision    recall  f1-score   support\n",
      "\n",
      "          -1       0.79      0.44      0.57       939\n",
      "           1       0.63      0.89      0.74      1008\n",
      "\n",
      "    accuracy                           0.67      1947\n",
      "   macro avg       0.71      0.67      0.65      1947\n",
      "weighted avg       0.71      0.67      0.66      1947\n",
      "\n"
     ]
    }
   ],
   "source": [
    "lof = local_outlier_factory(train_data_list, 1000)\n",
    "y_pred_lof_train = lof.predict(train_data_list)\n",
    "y_pred_lof_test = lof.predict(test_data_list)\n",
    "results('Local Outlier Factory', final_train['new_label'].tolist(), y_pred_lof_train, final_test['new_label'].tolist(), y_pred_lof_test)"
   ]
  },
  {
   "cell_type": "code",
   "execution_count": 16,
   "metadata": {},
   "outputs": [],
   "source": [
    "# Converting the train and test data into dataframe\n",
    "train_data_df = pd.DataFrame(train_data, columns = ['text' , 'label'])\n",
    "test_data_df = pd.DataFrame(test_data, columns = ['text' , 'label'])"
   ]
  },
  {
   "cell_type": "code",
   "execution_count": 17,
   "metadata": {},
   "outputs": [],
   "source": [
    "def data_for_autoencoder():\n",
    "    # Numerical Labeling - 0 for normal class; 1 for anomaly class                    \n",
    "    train_data_df['new_label'] = train_data_df['label']\n",
    "    train_data_df.loc[train_data_df['label'] == 'notnovel', 'new_label'] = 0\n",
    "    train_data_df.loc[train_data_df['label'] != 'notnovel', 'new_label'] = 1\n",
    "    test_data_df['new_label'] = test_data_df['label']\n",
    "    test_data_df.loc[test_data_df['label'] == 'notnovel', 'new_label'] = 0\n",
    "    test_data_df.loc[test_data_df['label'] != 'notnovel', 'new_label'] = 1\n",
    "    # Preparing train data with only normal class\n",
    "    final_train = train_data_df\n",
    "    print(final_train['new_label'].value_counts())\n",
    "    # Test data with both normal and other classes\n",
    "    final_test = test_data_df\n",
    "    print(final_test['new_label'].value_counts())\n",
    "    return final_train, final_test"
   ]
  },
  {
   "cell_type": "code",
   "execution_count": 18,
   "metadata": {},
   "outputs": [
    {
     "name": "stdout",
     "output_type": "stream",
     "text": [
      "0    4000\n",
      "Name: new_label, dtype: int64\n",
      "0    1008\n",
      "1     939\n",
      "Name: new_label, dtype: int64\n"
     ]
    }
   ],
   "source": [
    "final_train, final_test = data_for_autoencoder()"
   ]
  },
  {
   "cell_type": "code",
   "execution_count": 26,
   "metadata": {},
   "outputs": [
    {
     "name": "stderr",
     "output_type": "stream",
     "text": [
      "I1115 13:09:09.564547 140398135391616 saver.py:1499] Saver not created because there are no variables in the graph to restore\n",
      "I1115 13:09:10.070795 140398135391616 monitored_session.py:240] Graph was finalized.\n",
      "I1115 13:09:11.347765 140398135391616 session_manager.py:500] Running local_init_op.\n",
      "I1115 13:09:12.676157 140398135391616 session_manager.py:502] Done running local_init_op.\n"
     ]
    }
   ],
   "source": [
    "# Specify the embeddings 'glove', 'xlnet', 'fasttext', 'elmo', 'ensemble'\n",
    "#train_data_list, test_data_list = use_embeddings()\n",
    "#train_data_list, test_data_list = bert_embeddings()\n",
    "#train_data_list, test_data_list = infersent_embeddings()\n",
    "#train_data_list, test_data_list = elmo_embeddings()\n",
    "#train_data_list, test_data_list = other_embeddings('glove')"
   ]
  },
  {
   "cell_type": "code",
   "execution_count": 19,
   "metadata": {},
   "outputs": [],
   "source": [
    "X_train = train_data_list\n",
    "y_train = final_train['new_label'].tolist()\n",
    "X_test = test_data_list\n",
    "y_test = final_test['new_label'].tolist()"
   ]
  },
  {
   "cell_type": "code",
   "execution_count": 20,
   "metadata": {},
   "outputs": [],
   "source": [
    "X_train = np.asarray(X_train)\n",
    "X_test = np.asarray(X_test)"
   ]
  },
  {
   "cell_type": "code",
   "execution_count": 21,
   "metadata": {
    "scrolled": true
   },
   "outputs": [
    {
     "name": "stderr",
     "output_type": "stream",
     "text": [
      "W1120 11:33:35.011734 140005129237888 deprecation_wrapper.py:119] From /opt/conda/lib/python3.7/site-packages/keras/backend/tensorflow_backend.py:422: The name tf.global_variables is deprecated. Please use tf.compat.v1.global_variables instead.\n",
      "\n",
      "W1120 11:33:35.015905 140005129237888 deprecation_wrapper.py:119] From /opt/conda/lib/python3.7/site-packages/keras/callbacks/tensorboard_v1.py:200: The name tf.summary.merge_all is deprecated. Please use tf.compat.v1.summary.merge_all instead.\n",
      "\n",
      "W1120 11:33:35.016440 140005129237888 deprecation_wrapper.py:119] From /opt/conda/lib/python3.7/site-packages/keras/callbacks/tensorboard_v1.py:203: The name tf.summary.FileWriter is deprecated. Please use tf.compat.v1.summary.FileWriter instead.\n",
      "\n"
     ]
    },
    {
     "name": "stdout",
     "output_type": "stream",
     "text": [
      "Train on 4000 samples, validate on 1947 samples\n",
      "Epoch 1/100\n",
      "4000/4000 [==============================] - 1s 138us/step - loss: 1.0228 - accuracy: 0.0425 - val_loss: 1.2627 - val_accuracy: 0.1418\n"
     ]
    },
    {
     "name": "stderr",
     "output_type": "stream",
     "text": [
      "W1120 11:33:35.727126 140005129237888 deprecation_wrapper.py:119] From /opt/conda/lib/python3.7/site-packages/keras/callbacks/tensorboard_v1.py:343: The name tf.Summary is deprecated. Please use tf.compat.v1.Summary instead.\n",
      "\n"
     ]
    },
    {
     "name": "stdout",
     "output_type": "stream",
     "text": [
      "Epoch 2/100\n",
      "4000/4000 [==============================] - 0s 99us/step - loss: 1.0018 - accuracy: 0.1630 - val_loss: 1.2330 - val_accuracy: 0.2686\n",
      "Epoch 3/100\n",
      "4000/4000 [==============================] - 0s 110us/step - loss: 0.9814 - accuracy: 0.2218 - val_loss: 1.2067 - val_accuracy: 0.3005\n",
      "Epoch 4/100\n",
      "4000/4000 [==============================] - 0s 100us/step - loss: 0.9659 - accuracy: 0.2482 - val_loss: 1.1842 - val_accuracy: 0.3380\n",
      "Epoch 5/100\n",
      "4000/4000 [==============================] - 0s 104us/step - loss: 0.9530 - accuracy: 0.2790 - val_loss: 1.1645 - val_accuracy: 0.3595\n",
      "Epoch 6/100\n",
      "4000/4000 [==============================] - 0s 97us/step - loss: 0.9411 - accuracy: 0.3170 - val_loss: 1.1471 - val_accuracy: 0.4032\n",
      "Epoch 7/100\n",
      "4000/4000 [==============================] - 0s 102us/step - loss: 0.9304 - accuracy: 0.3453 - val_loss: 1.1327 - val_accuracy: 0.3883\n",
      "Epoch 8/100\n",
      "4000/4000 [==============================] - 0s 105us/step - loss: 0.9215 - accuracy: 0.3645 - val_loss: 1.1196 - val_accuracy: 0.4186\n",
      "Epoch 9/100\n",
      "4000/4000 [==============================] - 0s 105us/step - loss: 0.9137 - accuracy: 0.3740 - val_loss: 1.1089 - val_accuracy: 0.4160\n",
      "Epoch 10/100\n",
      "4000/4000 [==============================] - 0s 106us/step - loss: 0.9070 - accuracy: 0.3865 - val_loss: 1.1000 - val_accuracy: 0.4289\n",
      "Epoch 11/100\n",
      "4000/4000 [==============================] - 0s 102us/step - loss: 0.9016 - accuracy: 0.3947 - val_loss: 1.0922 - val_accuracy: 0.4361\n",
      "Epoch 12/100\n",
      "4000/4000 [==============================] - 0s 101us/step - loss: 0.8967 - accuracy: 0.3980 - val_loss: 1.0849 - val_accuracy: 0.4397\n",
      "Epoch 13/100\n",
      "4000/4000 [==============================] - 0s 95us/step - loss: 0.8924 - accuracy: 0.4005 - val_loss: 1.0808 - val_accuracy: 0.4355\n",
      "Epoch 14/100\n",
      "4000/4000 [==============================] - 0s 101us/step - loss: 0.8885 - accuracy: 0.4142 - val_loss: 1.0741 - val_accuracy: 0.4571\n",
      "Epoch 15/100\n",
      "4000/4000 [==============================] - 0s 90us/step - loss: 0.8852 - accuracy: 0.4220 - val_loss: 1.0692 - val_accuracy: 0.4515\n",
      "Epoch 16/100\n",
      "4000/4000 [==============================] - 0s 100us/step - loss: 0.8822 - accuracy: 0.4245 - val_loss: 1.0645 - val_accuracy: 0.4602\n",
      "Epoch 17/100\n",
      "4000/4000 [==============================] - 0s 104us/step - loss: 0.8790 - accuracy: 0.4270 - val_loss: 1.0619 - val_accuracy: 0.4664\n",
      "Epoch 18/100\n",
      "4000/4000 [==============================] - 0s 99us/step - loss: 0.8764 - accuracy: 0.4410 - val_loss: 1.0581 - val_accuracy: 0.4592\n",
      "Epoch 19/100\n",
      "4000/4000 [==============================] - 0s 102us/step - loss: 0.8741 - accuracy: 0.4415 - val_loss: 1.0552 - val_accuracy: 0.4453\n",
      "Epoch 20/100\n",
      "4000/4000 [==============================] - 0s 100us/step - loss: 0.8717 - accuracy: 0.4465 - val_loss: 1.0525 - val_accuracy: 0.4602\n",
      "Epoch 21/100\n",
      "4000/4000 [==============================] - 0s 106us/step - loss: 0.8693 - accuracy: 0.4490 - val_loss: 1.0497 - val_accuracy: 0.4720\n",
      "Epoch 22/100\n",
      "4000/4000 [==============================] - 0s 98us/step - loss: 0.8673 - accuracy: 0.4570 - val_loss: 1.0472 - val_accuracy: 0.4730\n",
      "Epoch 23/100\n",
      "4000/4000 [==============================] - 0s 93us/step - loss: 0.8651 - accuracy: 0.4563 - val_loss: 1.0448 - val_accuracy: 0.4792\n",
      "Epoch 24/100\n",
      "4000/4000 [==============================] - 0s 104us/step - loss: 0.8633 - accuracy: 0.4552 - val_loss: 1.0418 - val_accuracy: 0.4833\n",
      "Epoch 25/100\n",
      "4000/4000 [==============================] - 0s 106us/step - loss: 0.8614 - accuracy: 0.4618 - val_loss: 1.0396 - val_accuracy: 0.4848\n",
      "Epoch 26/100\n",
      "4000/4000 [==============================] - 0s 103us/step - loss: 0.8597 - accuracy: 0.4655 - val_loss: 1.0382 - val_accuracy: 0.4746\n",
      "Epoch 27/100\n",
      "4000/4000 [==============================] - 0s 87us/step - loss: 0.8580 - accuracy: 0.4625 - val_loss: 1.0359 - val_accuracy: 0.4622\n",
      "Epoch 28/100\n",
      "4000/4000 [==============================] - 0s 106us/step - loss: 0.8563 - accuracy: 0.4645 - val_loss: 1.0356 - val_accuracy: 0.4766\n",
      "Epoch 29/100\n",
      "4000/4000 [==============================] - 0s 100us/step - loss: 0.8552 - accuracy: 0.4663 - val_loss: 1.0336 - val_accuracy: 0.4792\n",
      "Epoch 30/100\n",
      "4000/4000 [==============================] - 0s 91us/step - loss: 0.8538 - accuracy: 0.4712 - val_loss: 1.0328 - val_accuracy: 0.4961\n",
      "Epoch 31/100\n",
      "4000/4000 [==============================] - 0s 106us/step - loss: 0.8523 - accuracy: 0.4692 - val_loss: 1.0305 - val_accuracy: 0.4735\n",
      "Epoch 32/100\n",
      "4000/4000 [==============================] - 0s 99us/step - loss: 0.8511 - accuracy: 0.4720 - val_loss: 1.0305 - val_accuracy: 0.4859\n",
      "Epoch 33/100\n",
      "4000/4000 [==============================] - 0s 103us/step - loss: 0.8498 - accuracy: 0.4740 - val_loss: 1.0303 - val_accuracy: 0.4771\n",
      "Epoch 34/100\n",
      "4000/4000 [==============================] - 0s 100us/step - loss: 0.8489 - accuracy: 0.4733 - val_loss: 1.0286 - val_accuracy: 0.4787\n",
      "Epoch 35/100\n",
      "4000/4000 [==============================] - 0s 105us/step - loss: 0.8479 - accuracy: 0.4795 - val_loss: 1.0274 - val_accuracy: 0.4895\n",
      "Epoch 36/100\n",
      "4000/4000 [==============================] - 0s 95us/step - loss: 0.8466 - accuracy: 0.4755 - val_loss: 1.0280 - val_accuracy: 0.4730\n",
      "Epoch 37/100\n",
      "4000/4000 [==============================] - 0s 102us/step - loss: 0.8461 - accuracy: 0.4780 - val_loss: 1.0272 - val_accuracy: 0.4848\n",
      "Epoch 38/100\n",
      "4000/4000 [==============================] - 0s 95us/step - loss: 0.8449 - accuracy: 0.4812 - val_loss: 1.0258 - val_accuracy: 0.4890\n",
      "Epoch 39/100\n",
      "4000/4000 [==============================] - 0s 102us/step - loss: 0.8440 - accuracy: 0.4785 - val_loss: 1.0261 - val_accuracy: 0.4859\n",
      "Epoch 40/100\n",
      "4000/4000 [==============================] - 0s 104us/step - loss: 0.8430 - accuracy: 0.4835 - val_loss: 1.0261 - val_accuracy: 0.4700\n",
      "Epoch 41/100\n",
      "4000/4000 [==============================] - 0s 94us/step - loss: 0.8424 - accuracy: 0.4860 - val_loss: 1.0244 - val_accuracy: 0.4818\n",
      "Epoch 42/100\n",
      "4000/4000 [==============================] - 0s 100us/step - loss: 0.8414 - accuracy: 0.4895 - val_loss: 1.0250 - val_accuracy: 0.4725\n",
      "Epoch 43/100\n",
      "4000/4000 [==============================] - 0s 94us/step - loss: 0.8406 - accuracy: 0.4857 - val_loss: 1.0234 - val_accuracy: 0.4751\n",
      "Epoch 44/100\n",
      "4000/4000 [==============================] - 0s 108us/step - loss: 0.8396 - accuracy: 0.4895 - val_loss: 1.0232 - val_accuracy: 0.4766\n",
      "Epoch 45/100\n",
      "4000/4000 [==============================] - 0s 98us/step - loss: 0.8392 - accuracy: 0.4920 - val_loss: 1.0209 - val_accuracy: 0.4884\n",
      "Epoch 46/100\n",
      "4000/4000 [==============================] - 0s 94us/step - loss: 0.8383 - accuracy: 0.4900 - val_loss: 1.0221 - val_accuracy: 0.4864\n",
      "Epoch 47/100\n",
      "4000/4000 [==============================] - 0s 108us/step - loss: 0.8374 - accuracy: 0.4985 - val_loss: 1.0220 - val_accuracy: 0.4915\n",
      "Epoch 48/100\n",
      "4000/4000 [==============================] - 0s 102us/step - loss: 0.8366 - accuracy: 0.5023 - val_loss: 1.0203 - val_accuracy: 0.4982\n",
      "Epoch 49/100\n",
      "4000/4000 [==============================] - 0s 102us/step - loss: 0.8361 - accuracy: 0.5008 - val_loss: 1.0182 - val_accuracy: 0.5023\n",
      "Epoch 50/100\n",
      "4000/4000 [==============================] - 0s 101us/step - loss: 0.8353 - accuracy: 0.5025 - val_loss: 1.0185 - val_accuracy: 0.4992\n",
      "Epoch 51/100\n",
      "4000/4000 [==============================] - 0s 97us/step - loss: 0.8344 - accuracy: 0.5045 - val_loss: 1.0175 - val_accuracy: 0.5003\n",
      "Epoch 52/100\n",
      "4000/4000 [==============================] - 0s 104us/step - loss: 0.8336 - accuracy: 0.5117 - val_loss: 1.0159 - val_accuracy: 0.4895\n",
      "Epoch 53/100\n",
      "4000/4000 [==============================] - 0s 97us/step - loss: 0.8329 - accuracy: 0.5080 - val_loss: 1.0140 - val_accuracy: 0.5141\n",
      "Epoch 54/100\n",
      "4000/4000 [==============================] - 0s 99us/step - loss: 0.8322 - accuracy: 0.5153 - val_loss: 1.0134 - val_accuracy: 0.5100\n",
      "Epoch 55/100\n",
      "4000/4000 [==============================] - 0s 96us/step - loss: 0.8314 - accuracy: 0.5125 - val_loss: 1.0101 - val_accuracy: 0.5249\n",
      "Epoch 56/100\n",
      "4000/4000 [==============================] - 0s 100us/step - loss: 0.8306 - accuracy: 0.5123 - val_loss: 1.0072 - val_accuracy: 0.5429\n",
      "Epoch 57/100\n"
     ]
    },
    {
     "name": "stdout",
     "output_type": "stream",
     "text": [
      "4000/4000 [==============================] - 0s 106us/step - loss: 0.8292 - accuracy: 0.5173 - val_loss: 1.0053 - val_accuracy: 0.5347\n",
      "Epoch 58/100\n",
      "4000/4000 [==============================] - 0s 105us/step - loss: 0.8281 - accuracy: 0.5192 - val_loss: 1.0031 - val_accuracy: 0.5285\n",
      "Epoch 59/100\n",
      "4000/4000 [==============================] - 0s 97us/step - loss: 0.8273 - accuracy: 0.5257 - val_loss: 0.9987 - val_accuracy: 0.5470\n",
      "Epoch 60/100\n",
      "4000/4000 [==============================] - 0s 97us/step - loss: 0.8259 - accuracy: 0.5250 - val_loss: 0.9958 - val_accuracy: 0.5455\n",
      "Epoch 61/100\n",
      "4000/4000 [==============================] - 0s 104us/step - loss: 0.8244 - accuracy: 0.5320 - val_loss: 0.9931 - val_accuracy: 0.5439\n",
      "Epoch 62/100\n",
      "4000/4000 [==============================] - 0s 91us/step - loss: 0.8234 - accuracy: 0.5307 - val_loss: 0.9902 - val_accuracy: 0.5485\n",
      "Epoch 63/100\n",
      "4000/4000 [==============================] - 0s 104us/step - loss: 0.8222 - accuracy: 0.5312 - val_loss: 0.9881 - val_accuracy: 0.5619\n",
      "Epoch 64/100\n",
      "4000/4000 [==============================] - 0s 100us/step - loss: 0.8216 - accuracy: 0.5280 - val_loss: 0.9861 - val_accuracy: 0.5547\n",
      "Epoch 65/100\n",
      "4000/4000 [==============================] - 0s 106us/step - loss: 0.8208 - accuracy: 0.5328 - val_loss: 0.9837 - val_accuracy: 0.5670\n",
      "Epoch 66/100\n",
      "4000/4000 [==============================] - 0s 102us/step - loss: 0.8201 - accuracy: 0.5340 - val_loss: 0.9833 - val_accuracy: 0.5619\n",
      "Epoch 67/100\n",
      "4000/4000 [==============================] - 0s 103us/step - loss: 0.8195 - accuracy: 0.5412 - val_loss: 0.9810 - val_accuracy: 0.5526\n",
      "Epoch 68/100\n",
      "4000/4000 [==============================] - 0s 105us/step - loss: 0.8189 - accuracy: 0.5330 - val_loss: 0.9779 - val_accuracy: 0.5696\n",
      "Epoch 69/100\n",
      "4000/4000 [==============================] - 0s 97us/step - loss: 0.8183 - accuracy: 0.5422 - val_loss: 0.9775 - val_accuracy: 0.5665\n",
      "Epoch 70/100\n",
      "4000/4000 [==============================] - 0s 102us/step - loss: 0.8177 - accuracy: 0.5387 - val_loss: 0.9767 - val_accuracy: 0.5711\n",
      "Epoch 71/100\n",
      "4000/4000 [==============================] - 0s 93us/step - loss: 0.8174 - accuracy: 0.5415 - val_loss: 0.9760 - val_accuracy: 0.5583\n",
      "Epoch 72/100\n",
      "4000/4000 [==============================] - 0s 101us/step - loss: 0.8169 - accuracy: 0.5390 - val_loss: 0.9762 - val_accuracy: 0.5686\n",
      "Epoch 73/100\n",
      "4000/4000 [==============================] - 0s 104us/step - loss: 0.8166 - accuracy: 0.5418 - val_loss: 0.9733 - val_accuracy: 0.5794\n",
      "Epoch 74/100\n",
      "4000/4000 [==============================] - 0s 101us/step - loss: 0.8160 - accuracy: 0.5465 - val_loss: 0.9743 - val_accuracy: 0.5691\n",
      "Epoch 75/100\n",
      "4000/4000 [==============================] - 0s 104us/step - loss: 0.8156 - accuracy: 0.5443 - val_loss: 0.9722 - val_accuracy: 0.5675\n",
      "Epoch 76/100\n",
      "4000/4000 [==============================] - 0s 99us/step - loss: 0.8151 - accuracy: 0.5368 - val_loss: 0.9716 - val_accuracy: 0.5768\n",
      "Epoch 77/100\n",
      "4000/4000 [==============================] - 0s 100us/step - loss: 0.8150 - accuracy: 0.5433 - val_loss: 0.9714 - val_accuracy: 0.5614\n",
      "Epoch 78/100\n",
      "4000/4000 [==============================] - 0s 89us/step - loss: 0.8150 - accuracy: 0.5505 - val_loss: 0.9703 - val_accuracy: 0.5675\n",
      "Epoch 79/100\n",
      "4000/4000 [==============================] - 0s 103us/step - loss: 0.8142 - accuracy: 0.5458 - val_loss: 0.9699 - val_accuracy: 0.5593\n",
      "Epoch 80/100\n",
      "4000/4000 [==============================] - 0s 107us/step - loss: 0.8139 - accuracy: 0.5435 - val_loss: 0.9694 - val_accuracy: 0.5727\n",
      "Epoch 81/100\n",
      "4000/4000 [==============================] - 0s 102us/step - loss: 0.8138 - accuracy: 0.5520 - val_loss: 0.9686 - val_accuracy: 0.5809\n",
      "Epoch 82/100\n",
      "4000/4000 [==============================] - 0s 99us/step - loss: 0.8135 - accuracy: 0.5502 - val_loss: 0.9676 - val_accuracy: 0.5794\n",
      "Epoch 83/100\n",
      "4000/4000 [==============================] - 0s 92us/step - loss: 0.8131 - accuracy: 0.5527 - val_loss: 0.9678 - val_accuracy: 0.5722\n",
      "Epoch 84/100\n",
      "4000/4000 [==============================] - 0s 103us/step - loss: 0.8129 - accuracy: 0.5470 - val_loss: 0.9661 - val_accuracy: 0.5794\n",
      "Epoch 85/100\n",
      "4000/4000 [==============================] - 0s 93us/step - loss: 0.8125 - accuracy: 0.5455 - val_loss: 0.9668 - val_accuracy: 0.5850\n",
      "Epoch 86/100\n",
      "4000/4000 [==============================] - 0s 93us/step - loss: 0.8123 - accuracy: 0.5483 - val_loss: 0.9663 - val_accuracy: 0.5645\n",
      "Epoch 87/100\n",
      "4000/4000 [==============================] - 0s 102us/step - loss: 0.8122 - accuracy: 0.5500 - val_loss: 0.9656 - val_accuracy: 0.5732\n",
      "Epoch 88/100\n",
      "4000/4000 [==============================] - 0s 86us/step - loss: 0.8119 - accuracy: 0.5512 - val_loss: 0.9653 - val_accuracy: 0.5855\n",
      "Epoch 89/100\n",
      "4000/4000 [==============================] - 0s 107us/step - loss: 0.8121 - accuracy: 0.5495 - val_loss: 0.9641 - val_accuracy: 0.5788\n",
      "Epoch 90/100\n",
      "4000/4000 [==============================] - 0s 100us/step - loss: 0.8117 - accuracy: 0.5462 - val_loss: 0.9646 - val_accuracy: 0.5670\n",
      "Epoch 91/100\n",
      "4000/4000 [==============================] - 0s 104us/step - loss: 0.8112 - accuracy: 0.5493 - val_loss: 0.9644 - val_accuracy: 0.5609\n",
      "Epoch 92/100\n",
      "4000/4000 [==============================] - 0s 102us/step - loss: 0.8110 - accuracy: 0.5495 - val_loss: 0.9626 - val_accuracy: 0.5860\n",
      "Epoch 93/100\n",
      "4000/4000 [==============================] - 0s 102us/step - loss: 0.8106 - accuracy: 0.5510 - val_loss: 0.9625 - val_accuracy: 0.5732\n",
      "Epoch 94/100\n",
      "4000/4000 [==============================] - 0s 105us/step - loss: 0.8107 - accuracy: 0.5483 - val_loss: 0.9626 - val_accuracy: 0.5742\n",
      "Epoch 95/100\n",
      "4000/4000 [==============================] - 0s 102us/step - loss: 0.8106 - accuracy: 0.5537 - val_loss: 0.9645 - val_accuracy: 0.5819\n",
      "Epoch 96/100\n",
      "4000/4000 [==============================] - 0s 104us/step - loss: 0.8103 - accuracy: 0.5518 - val_loss: 0.9618 - val_accuracy: 0.5794\n",
      "Epoch 97/100\n",
      "4000/4000 [==============================] - 0s 98us/step - loss: 0.8102 - accuracy: 0.5455 - val_loss: 0.9622 - val_accuracy: 0.5768\n",
      "Epoch 98/100\n",
      "4000/4000 [==============================] - 0s 102us/step - loss: 0.8100 - accuracy: 0.5475 - val_loss: 0.9628 - val_accuracy: 0.5711\n",
      "Epoch 99/100\n",
      "4000/4000 [==============================] - 0s 107us/step - loss: 0.8095 - accuracy: 0.5533 - val_loss: 0.9619 - val_accuracy: 0.5773\n",
      "Epoch 100/100\n",
      "4000/4000 [==============================] - 0s 101us/step - loss: 0.8095 - accuracy: 0.5540 - val_loss: 0.9611 - val_accuracy: 0.5799\n"
     ]
    }
   ],
   "source": [
    "input_dim = X_train.shape[1]\n",
    "encoding_dim = 14\n",
    "nb_epoch = 100\n",
    "batch_size = 32\n",
    "\n",
    "input_layer = Input(shape=(input_dim, ))\n",
    "encoder = Dense(encoding_dim, activation=\"tanh\", \n",
    "                activity_regularizer=regularizers.l1(10e-5))(input_layer)\n",
    "encoder = Dense(int(encoding_dim / 2), activation=\"relu\")(encoder)\n",
    "decoder = Dense(int(encoding_dim / 2), activation='tanh')(encoder)\n",
    "decoder = Dense(input_dim, activation='relu')(decoder)\n",
    "autoencoder = Model(inputs=input_layer, outputs=decoder)\n",
    "\n",
    "\n",
    "autoencoder.compile(optimizer='adam', \n",
    "                    loss='mean_squared_error', \n",
    "                    metrics=['accuracy'])\n",
    "\n",
    "checkpointer = ModelCheckpoint(filepath=\"model_arxiv.h5\",\n",
    "                               verbose=0,\n",
    "                               save_best_only=True)\n",
    "tensorboard = TensorBoard(log_dir='./logs_reuters',\n",
    "                          histogram_freq=0,\n",
    "                          write_graph=True,\n",
    "                          write_images=True)\n",
    "\n",
    "history = autoencoder.fit(X_train, X_train,\n",
    "                    epochs=nb_epoch,\n",
    "                    batch_size=batch_size,\n",
    "                    shuffle=True,\n",
    "                    validation_data=(X_test, X_test),\n",
    "                    verbose=1,\n",
    "                    callbacks=[checkpointer, tensorboard]).history"
   ]
  },
  {
   "cell_type": "code",
   "execution_count": 22,
   "metadata": {},
   "outputs": [
    {
     "data": {
      "text/plain": [
       "<matplotlib.legend.Legend at 0x7f5491537a58>"
      ]
     },
     "execution_count": 22,
     "metadata": {},
     "output_type": "execute_result"
    },
    {
     "data": {
      "image/png": "[encoded data removed]",
      "text/plain": [
       "<Figure size 432x288 with 1 Axes>"
      ]
     },
     "metadata": {
      "needs_background": "light"
     },
     "output_type": "display_data"
    }
   ],
   "source": [
    "plt.plot(history['loss'])\n",
    "plt.plot(history['val_loss'])\n",
    "plt.title('Model loss')\n",
    "plt.ylabel('loss')\n",
    "plt.xlabel('epoch')\n",
    "plt.legend(['train', 'test'], loc='upper right')"
   ]
  },
  {
   "cell_type": "code",
   "execution_count": 23,
   "metadata": {},
   "outputs": [
    {
     "data": {
      "text/html": [
       "<div>\n",
       "<style scoped>\n",
       "    .dataframe tbody tr th:only-of-type {\n",
       "        vertical-align: middle;\n",
       "    }\n",
       "\n",
       "    .dataframe tbody tr th {\n",
       "        vertical-align: top;\n",
       "    }\n",
       "\n",
       "    .dataframe thead th {\n",
       "        text-align: right;\n",
       "    }\n",
       "</style>\n",
       "<table border=\"1\" class=\"dataframe\">\n",
       "  <thead>\n",
       "    <tr style=\"text-align: right;\">\n",
       "      <th></th>\n",
       "      <th>reconstruction_error</th>\n",
       "      <th>true_class</th>\n",
       "    </tr>\n",
       "  </thead>\n",
       "  <tbody>\n",
       "    <tr>\n",
       "      <th>count</th>\n",
       "      <td>1947.000000</td>\n",
       "      <td>1947.000000</td>\n",
       "    </tr>\n",
       "    <tr>\n",
       "      <th>mean</th>\n",
       "      <td>0.952684</td>\n",
       "      <td>0.482280</td>\n",
       "    </tr>\n",
       "    <tr>\n",
       "      <th>std</th>\n",
       "      <td>0.399830</td>\n",
       "      <td>0.499814</td>\n",
       "    </tr>\n",
       "    <tr>\n",
       "      <th>min</th>\n",
       "      <td>0.319838</td>\n",
       "      <td>0.000000</td>\n",
       "    </tr>\n",
       "    <tr>\n",
       "      <th>25%</th>\n",
       "      <td>0.669814</td>\n",
       "      <td>0.000000</td>\n",
       "    </tr>\n",
       "    <tr>\n",
       "      <th>50%</th>\n",
       "      <td>0.872570</td>\n",
       "      <td>0.000000</td>\n",
       "    </tr>\n",
       "    <tr>\n",
       "      <th>75%</th>\n",
       "      <td>1.139338</td>\n",
       "      <td>1.000000</td>\n",
       "    </tr>\n",
       "    <tr>\n",
       "      <th>max</th>\n",
       "      <td>5.287098</td>\n",
       "      <td>1.000000</td>\n",
       "    </tr>\n",
       "  </tbody>\n",
       "</table>\n",
       "</div>"
      ],
      "text/plain": [
       "       reconstruction_error   true_class\n",
       "count           1947.000000  1947.000000\n",
       "mean               0.952684     0.482280\n",
       "std                0.399830     0.499814\n",
       "min                0.319838     0.000000\n",
       "25%                0.669814     0.000000\n",
       "50%                0.872570     0.000000\n",
       "75%                1.139338     1.000000\n",
       "max                5.287098     1.000000"
      ]
     },
     "execution_count": 23,
     "metadata": {},
     "output_type": "execute_result"
    }
   ],
   "source": [
    "#Load the model for prediction\n",
    "autoencoder = load_model('model_arxiv.h5')\n",
    "predictions = autoencoder.predict(X_test)\n",
    "\n",
    "mse = np.mean(np.power(X_test - predictions, 2), axis=1)\n",
    "error_df = pd.DataFrame({'reconstruction_error': mse,\n",
    "                        'true_class': y_test})\n",
    "\n",
    "error_df.describe()"
   ]
  },
  {
   "cell_type": "code",
   "execution_count": 24,
   "metadata": {},
   "outputs": [
    {
     "data": {
      "image/png": "[encoded data removed]",
      "text/plain": [
       "<Figure size 432x288 with 1 Axes>"
      ]
     },
     "metadata": {
      "needs_background": "light"
     },
     "output_type": "display_data"
    }
   ],
   "source": [
    "fpr, tpr, thresholds = roc_curve(error_df.true_class, error_df.reconstruction_error)\n",
    "roc_auc = auc(fpr, tpr)\n",
    "\n",
    "plt.title('Receiver Operating Characteristic')\n",
    "plt.plot(fpr, tpr, label='AUC = %0.4f'% roc_auc)\n",
    "plt.legend(loc='lower right')\n",
    "plt.plot([0,1],[0,1],'r--')\n",
    "plt.xlim([-0.001, 1])\n",
    "plt.ylim([0, 1.001])\n",
    "plt.ylabel('True Positive Rate')\n",
    "plt.xlabel('False Positive Rate')\n",
    "plt.show()"
   ]
  },
  {
   "cell_type": "code",
   "execution_count": 25,
   "metadata": {},
   "outputs": [
    {
     "data": {
      "image/png": "[encoded data removed]",
      "text/plain": [
       "<Figure size 864x288 with 3 Axes>"
      ]
     },
     "metadata": {
      "needs_background": "light"
     },
     "output_type": "display_data"
    }
   ],
   "source": [
    "precision, recall, th = precision_recall_curve(error_df.true_class, error_df.reconstruction_error)\n",
    "#plt.plot(recall, precision, 'b', label='Precision-Recall curve')\n",
    "\n",
    "fig, axes = plt.subplots(nrows=1, ncols=3, figsize=(12,4))\n",
    "axes[0].plot(recall, precision, 'b', label='Precision-Recall curve')\n",
    "axes[0].set_title('Recall vs Precision')\n",
    "axes[1].plot(th, precision[1:], 'b', label='Threshold-Precision curve')\n",
    "axes[1].set_title('Precision for different threshold values')\n",
    "axes[2].plot(th, recall[1:], 'b', label='Threshold-Recall curve')\n",
    "axes[2].set_title('Recall for different threshold values')\n",
    "fig.tight_layout()"
   ]
  },
  {
   "cell_type": "code",
   "execution_count": 26,
   "metadata": {},
   "outputs": [
    {
     "name": "stdout",
     "output_type": "stream",
     "text": [
      "Maximum Test accuracy: 0.6764335792890106\n",
      "Threshold for maximal accuracy:  0.8661017\n"
     ]
    },
    {
     "data": {
      "image/png": "[encoded data removed]",
      "text/plain": [
       "<Figure size 432x288 with 1 Axes>"
      ]
     },
     "metadata": {
      "needs_background": "light"
     },
     "output_type": "display_data"
    }
   ],
   "source": [
    "accuracies = []\n",
    "for threshold in th:\n",
    "    y_pred = [1 if e > threshold else 0 for e in error_df.reconstruction_error.values]\n",
    "    accuracies.append(balanced_accuracy_score(error_df.true_class, y_pred))\n",
    "print(\"Maximum Test accuracy:\", max(accuracies))\n",
    "#print(accuracies.index(max(accuracies)))\n",
    "print('Threshold for maximal accuracy: ', th[accuracies.index(max(accuracies))])\n",
    "threshold = th[accuracies.index(max(accuracies))]\n",
    "fig = plt.figure()\n",
    "ax = fig.add_subplot(111)\n",
    "_ = ax.hist(accuracies)"
   ]
  },
  {
   "cell_type": "code",
   "execution_count": 27,
   "metadata": {},
   "outputs": [
    {
     "data": {
      "image/png": "[encoded data removed]",
      "text/plain": [
       "<Figure size 432x288 with 1 Axes>"
      ]
     },
     "metadata": {
      "needs_background": "light"
     },
     "output_type": "display_data"
    }
   ],
   "source": [
    "groups = error_df.groupby('true_class')\n",
    "fig, ax = plt.subplots()\n",
    "for name, group in groups:\n",
    "    ax.plot(group.index, group.reconstruction_error, marker='o', ms=3.5, linestyle='',\n",
    "            label= \"known\" if name == 1 else \"unknown\")\n",
    "ax.hlines(threshold, ax.get_xlim()[0], ax.get_xlim()[1], colors=\"r\", zorder=100, label='Threshold')\n",
    "ax.legend()\n",
    "plt.title(\"Reconstruction error for different classes\")\n",
    "plt.ylabel(\"Reconstruction error\")\n",
    "plt.xlabel(\"Data point index\")\n",
    "plt.show()"
   ]
  },
  {
   "cell_type": "code",
   "execution_count": 28,
   "metadata": {
    "scrolled": false
   },
   "outputs": [
    {
     "name": "stdout",
     "output_type": "stream",
     "text": [
      "Test accuracy: 0.6759116589625064\n"
     ]
    },
    {
     "data": {
      "image/png": "[encoded data removed]",
      "text/plain": [
       "<Figure size 432x432 with 2 Axes>"
      ]
     },
     "metadata": {
      "needs_background": "light"
     },
     "output_type": "display_data"
    },
    {
     "name": "stdout",
     "output_type": "stream",
     "text": [
      "              precision    recall  f1-score   support\n",
      "\n",
      "           0       0.70      0.66      0.68      1008\n",
      "           1       0.66      0.69      0.67       939\n",
      "\n",
      "    accuracy                           0.68      1947\n",
      "   macro avg       0.68      0.68      0.68      1947\n",
      "weighted avg       0.68      0.68      0.68      1947\n",
      "\n"
     ]
    }
   ],
   "source": [
    "LABELS = [\"known\", \"unknown\"]\n",
    "y_pred_autoencoder = [1 if e > threshold else 0 for e in error_df.reconstruction_error.values]\n",
    "conf_matrix = confusion_matrix(error_df.true_class, y_pred_autoencoder,[0,1])\n",
    "print(\"Test accuracy:\", accuracy_score(error_df.true_class, y_pred_autoencoder))\n",
    "plt.figure(figsize=(6,6))\n",
    "sns.heatmap(conf_matrix, xticklabels=LABELS, yticklabels=LABELS, annot=True, fmt=\"d\");\n",
    "plt.title(\"Confusion matrix - Reuters - Autoencoder\")\n",
    "plt.ylabel('True class')\n",
    "plt.xlabel('Predicted class')\n",
    "plt.show()\n",
    "print(classification_report(error_df.true_class, y_pred_autoencoder))"
   ]
  },
  {
   "cell_type": "markdown",
   "metadata": {},
   "source": [
    "Base individual models end. Ensemble approaches begin from here"
   ]
  },
  {
   "cell_type": "code",
   "execution_count": 29,
   "metadata": {},
   "outputs": [],
   "source": [
    "for i in range(len(y_pred_autoencoder)):\n",
    "    if y_pred_autoencoder[i] == 0:\n",
    "        y_pred_autoencoder[i] = 1\n",
    "    else:\n",
    "        y_pred_autoencoder[i] = -1\n",
    "#print(y_pred_autoencoder)"
   ]
  },
  {
   "cell_type": "code",
   "execution_count": 33,
   "metadata": {
    "scrolled": false
   },
   "outputs": [
    {
     "name": "stdout",
     "output_type": "stream",
     "text": [
      "Model:  Ensemble\n",
      "Test accuracy: 0.689779147406266\n"
     ]
    },
    {
     "data": {
      "image/png": "[encoded data removed]",
      "text/plain": [
       "<Figure size 432x432 with 2 Axes>"
      ]
     },
     "metadata": {
      "needs_background": "light"
     },
     "output_type": "display_data"
    },
    {
     "name": "stdout",
     "output_type": "stream",
     "text": [
      "              precision    recall  f1-score   support\n",
      "\n",
      "          -1       0.78      0.50      0.61       939\n",
      "           1       0.65      0.87      0.74      1008\n",
      "\n",
      "    accuracy                           0.69      1947\n",
      "   macro avg       0.72      0.68      0.68      1947\n",
      "weighted avg       0.71      0.69      0.68      1947\n",
      "\n"
     ]
    }
   ],
   "source": [
    "import math as mt\n",
    "def mostFrequent(arr): \n",
    "    n = len(arr)\n",
    "    # Insert all elements in Hash. \n",
    "    Hash = dict() \n",
    "    for i in range(n): \n",
    "        if arr[i] in Hash.keys(): \n",
    "            Hash[arr[i]] += 1\n",
    "        else: \n",
    "            Hash[arr[i]] = 1\n",
    "  \n",
    "    # find the max frequency \n",
    "    max_count = 0\n",
    "    res = -1\n",
    "    for i in Hash:  \n",
    "        if (max_count < Hash[i]):  \n",
    "            res = i \n",
    "            max_count = Hash[i] \n",
    "          \n",
    "    return res  \n",
    "\n",
    "def ensemble_results(model, test_true_labels, test_predicted_labels):\n",
    "    print('Model: ', model)\n",
    "    #print(\"Train accuracy:\", accuracy_score(train_true_labels, train_predicted_labels))\n",
    "    print(\"Test accuracy:\", accuracy_score(test_true_labels, test_predicted_labels))\n",
    "    results = confusion_matrix(test_true_labels, test_predicted_labels, [1,-1]) \n",
    "    #print('Confusion Matrix :')\n",
    "    #print(results) \n",
    "    #print('Report : ')\n",
    "    LABELS = [\"known\", \"unknown\"]\n",
    "    plt.figure(figsize=(6, 6))\n",
    "    sns.heatmap(results, xticklabels=LABELS, yticklabels=LABELS, annot=True, fmt=\"d\");\n",
    "    plt.title(\"Confusion matrix - Reuters - \" + str(model))\n",
    "    plt.ylabel('True class')\n",
    "    plt.xlabel('Predicted class')\n",
    "    plt.show()\n",
    "    print(classification_report(test_true_labels, test_predicted_labels))\n",
    "    \n",
    "'''y_pred_train_ensemble = []\n",
    "for i in range(len(final_train['new_label'].tolist())):\n",
    "    train_arr = [ y_pred_train[i], y_pred_iso_train[i], y_pred_lof_train[i]]\n",
    "    y_pred_train_ensemble.append(mostFrequent(train_arr))\n",
    "'''\n",
    "y_pred_test_ensemble = []\n",
    "\n",
    "for i in range(len(final_test['new_label'].tolist())):\n",
    "    arr = [ y_pred_test[i], y_pred_iso_test[i], y_pred_lof_test[i], y_pred_autoencoder[i]]\n",
    "    y_pred_test_ensemble.append(mostFrequent(arr))\n",
    "\n",
    "ensemble_results('Ensemble', final_test['new_label'].tolist(), y_pred_test_ensemble)"
   ]
  },
  {
   "cell_type": "code",
   "execution_count": null,
   "metadata": {},
   "outputs": [],
   "source": []
  }
 ],
 "metadata": {
  "kernelspec": {
   "display_name": "Python 3",
   "language": "python",
   "name": "python3"
  },
  "language_info": {
   "codemirror_mode": {
    "name": "ipython",
    "version": 3
   },
   "file_extension": ".py",
   "mimetype": "text/x-python",
   "name": "python",
   "nbconvert_exporter": "python",
   "pygments_lexer": "ipython3",
   "version": "3.7.3"
  }
 },
 "nbformat": 4,
 "nbformat_minor": 2
}
