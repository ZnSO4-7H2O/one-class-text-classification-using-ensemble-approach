{
 "cells": [
  {
   "cell_type": "code",
   "execution_count": 1,
   "metadata": {},
   "outputs": [
    {
     "name": "stderr",
     "output_type": "stream",
     "text": [
      "/opt/conda/lib/python3.7/site-packages/tensorflow/python/framework/dtypes.py:526: FutureWarning: Passing (type, 1) or '1type' as a synonym of type is deprecated; in a future version of numpy, it will be understood as (type, (1,)) / '(1,)type'.\n",
      "  _np_qint8 = np.dtype([(\"qint8\", np.int8, 1)])\n",
      "/opt/conda/lib/python3.7/site-packages/tensorflow/python/framework/dtypes.py:527: FutureWarning: Passing (type, 1) or '1type' as a synonym of type is deprecated; in a future version of numpy, it will be understood as (type, (1,)) / '(1,)type'.\n",
      "  _np_quint8 = np.dtype([(\"quint8\", np.uint8, 1)])\n",
      "/opt/conda/lib/python3.7/site-packages/tensorflow/python/framework/dtypes.py:528: FutureWarning: Passing (type, 1) or '1type' as a synonym of type is deprecated; in a future version of numpy, it will be understood as (type, (1,)) / '(1,)type'.\n",
      "  _np_qint16 = np.dtype([(\"qint16\", np.int16, 1)])\n",
      "/opt/conda/lib/python3.7/site-packages/tensorflow/python/framework/dtypes.py:529: FutureWarning: Passing (type, 1) or '1type' as a synonym of type is deprecated; in a future version of numpy, it will be understood as (type, (1,)) / '(1,)type'.\n",
      "  _np_quint16 = np.dtype([(\"quint16\", np.uint16, 1)])\n",
      "/opt/conda/lib/python3.7/site-packages/tensorflow/python/framework/dtypes.py:530: FutureWarning: Passing (type, 1) or '1type' as a synonym of type is deprecated; in a future version of numpy, it will be understood as (type, (1,)) / '(1,)type'.\n",
      "  _np_qint32 = np.dtype([(\"qint32\", np.int32, 1)])\n",
      "/opt/conda/lib/python3.7/site-packages/tensorflow/python/framework/dtypes.py:535: FutureWarning: Passing (type, 1) or '1type' as a synonym of type is deprecated; in a future version of numpy, it will be understood as (type, (1,)) / '(1,)type'.\n",
      "  np_resource = np.dtype([(\"resource\", np.ubyte, 1)])\n",
      "Using TensorFlow backend.\n",
      "I0109 14:24:55.111579 140281482052992 file_utils.py:39] PyTorch version 1.3.0 available.\n",
      "I0109 14:24:55.130216 140281482052992 modeling_xlnet.py:194] Better speed can be achieved with apex installed from https://www.github.com/nvidia/apex .\n",
      "I0109 14:24:55.146878 140281482052992 modeling_bert.py:226] Better speed can be achieved with apex installed from https://www.github.com/nvidia/apex .\n",
      "I0109 14:24:55.151250 140281482052992 modeling_xlnet.py:339] Better speed can be achieved with apex installed from https://www.github.com/nvidia/apex .\n"
     ]
    }
   ],
   "source": [
    "# Imports\n",
    "from sklearn.svm import OneClassSVM\n",
    "from sklearn.ensemble import IsolationForest\n",
    "from sklearn.neighbors import LocalOutlierFactor\n",
    "from nltk.corpus import reuters\n",
    "import numpy as np\n",
    "import tensorflow as tf\n",
    "import tensorflow_hub as hub\n",
    "import matplotlib.pyplot as plt\n",
    "import pandas as pd\n",
    "import nltk\n",
    "import time\n",
    "import sys\n",
    "import torch\n",
    "from sklearn.metrics import f1_score\n",
    "from nltk import word_tokenize\n",
    "from nltk.corpus import stopwords\n",
    "import string, re\n",
    "from sklearn.decomposition import PCA\n",
    "from sklearn.metrics import accuracy_score, balanced_accuracy_score \n",
    "from sklearn.preprocessing import StandardScaler\n",
    "import seaborn as sns\n",
    "from sklearn.metrics import (confusion_matrix, precision_recall_curve, auc,roc_curve)\n",
    "from keras.models import Model, load_model\n",
    "from keras.layers import Input, Dense\n",
    "from keras.callbacks import ModelCheckpoint, TensorBoard\n",
    "from keras import regularizers\n",
    "from flair.embeddings import FlairEmbeddings,ELMoEmbeddings, WordEmbeddings\n",
    "from flair.embeddings import DocumentPoolEmbeddings, FastTextEmbeddings ,Sentence, XLNetEmbeddings\n",
    "from sentence_transformers import SentenceTransformer\n",
    "from sklearn.neural_network import MLPClassifier"
   ]
  },
  {
   "cell_type": "code",
   "execution_count": 2,
   "metadata": {},
   "outputs": [],
   "source": [
    "def clean_text(text: str, rm_numbers=True, rm_punct=True, rm_stop_words=True, rm_short_words=True):\n",
    "    \"\"\" Function to perform common NLP pre-processing tasks. \"\"\"\n",
    "\n",
    "    # make lowercase\n",
    "    text = text.lower()\n",
    "    # remove punctuation\n",
    "    if rm_punct:\n",
    "        text = text.translate(str.maketrans(string.punctuation, ' ' * len(string.punctuation)))\n",
    "    # remove numbers\n",
    "    if rm_numbers:\n",
    "        text = re.sub(r'\\d+', '', text)\n",
    "    # remove whitespaces\n",
    "    text = text.strip()\n",
    "    # remove stopwords\n",
    "    if rm_stop_words:\n",
    "        stop_words = set(stopwords.words('english'))\n",
    "        word_tokens = word_tokenize(text)\n",
    "        text_list = [w for w in word_tokens if not w in stop_words]\n",
    "        text = ' '.join(text_list)\n",
    "    # remove short words\n",
    "    if rm_short_words:\n",
    "        text_list = [w for w in text.split() if len(w) >= 3]\n",
    "        text = ' '.join(text_list)\n",
    "    return text\n",
    "\n",
    "# Train data  \n",
    "def reuters_train_dataset(train=True, test=False, clean_txt=True):\n",
    "    doc_ids = reuters.fileids()\n",
    "    splits = [split_set for (requested, split_set) in [(train, 'train'), (test, 'test')] if requested]\n",
    "    print('Loading Train data ... ')\n",
    "    for split_set in splits:\n",
    "        split_set_doc_ids = list(filter(lambda doc: doc.startswith(split_set), doc_ids))\n",
    "        train_data = []\n",
    "        for id in split_set_doc_ids:\n",
    "            if clean_txt:\n",
    "                text = clean_text(reuters.raw(id))\n",
    "            else:\n",
    "                text = ' '.join(word_tokenize(reuters.raw(id)))\n",
    "            labels = reuters.categories(id)\n",
    "            train_data.append({\n",
    "              'text': text,\n",
    "              'label': labels[0],\n",
    "          })\n",
    "    return train_data\n",
    "# Test data          \n",
    "def reuters_test_dataset(train=False, test=True, clean_txt=True):\n",
    "    doc_ids = reuters.fileids()\n",
    "    splits = [split_set for (requested, split_set) in [(train, 'train'), (test, 'test')] if requested]\n",
    "    print('Loading Test data ... ')\n",
    "    for split_set in splits:\n",
    "        split_set_doc_ids = list(filter(lambda doc: doc.startswith(split_set), doc_ids))\n",
    "        test_data = []\n",
    "        for id in split_set_doc_ids:\n",
    "            if clean_txt:\n",
    "                text = clean_text(reuters.raw(id))\n",
    "            else:\n",
    "                text = ' '.join(word_tokenize(reuters.raw(id)))\n",
    "            labels = reuters.categories(id)\n",
    "          \n",
    "            test_data.append({\n",
    "              'text': text,\n",
    "              'label': labels[0],\n",
    "          })\n",
    "    return test_data\n",
    "\n",
    "\n",
    "# Various Embeddings - Bert, Universal Sentence Encoder, Infersent, GloVe, Fasttext, Ensemble Embeddings(Flair + GloVe)\n",
    "\n",
    "# Embedding using Universal Sentence Encoder\n",
    "def embed_module(module):\n",
    "    with tf.Graph().as_default():\n",
    "        sentences = tf.placeholder(tf.string)\n",
    "        embed = hub.Module(module)\n",
    "        embeddings = embed(sentences)\n",
    "        session = tf.train.MonitoredSession()\n",
    "    return lambda x: session.run(embeddings, {sentences: x})\n",
    "\n",
    "def use_embeddings():\n",
    "    train_data_list = []\n",
    "    test_data_list = []\n",
    "    module_url = \"/opt/notebooks/embedding_model/\"\n",
    "    # Import the Universal Sentence Encoder's TF Hub module\n",
    "    embed = embed_module(module_url)\n",
    "    train_data_list = embed(final_train['text'].tolist())\n",
    "    test_data_list = embed(final_test['text'].tolist())\n",
    "    val_data_list = embed(final_val['text'].tolist())\n",
    "    return train_data_list, test_data_list, val_data_list\n",
    "\n",
    "# Bert\n",
    "def bert_embeddings():\n",
    "    train_data_list = []\n",
    "    test_data_list = []\n",
    "    val_data_list = []\n",
    "    model = SentenceTransformer('bert-base-nli-mean-tokens')\n",
    "    train_data_list = model.encode(final_train['text'].tolist())\n",
    "    test_data_list = model.encode(final_test['text'].tolist())\n",
    "    val_data_list = model.encode(final_val['text'].tolist())\n",
    "    return train_data_list, test_data_list, val_data_list\n",
    "\n",
    "# Flair - GloVe - XLNet - FastText\n",
    "def other_embeddings(embd):\n",
    "    sess = tf.InteractiveSession()\n",
    "    train_data_list = []\n",
    "    test_data_list = []\n",
    "    val_data_list = []\n",
    "    if embd == 'glove':\n",
    "        print('Starting Glove Embedding...')\n",
    "        glove_embedding = WordEmbeddings('glove')\n",
    "        document_embeddings = DocumentPoolEmbeddings(embeddings=[glove_embedding])\n",
    "    elif embd == 'xlnet':\n",
    "        print('Starting XLNet Embedding...')\n",
    "        xlnet_embedding = XLNetEmbeddings('xlnet-large-cased')\n",
    "        document_embeddings = DocumentPoolEmbeddings(embeddings=[xlnet_embedding])\n",
    "    elif embd == 'fasttext':\n",
    "        print('Starting Fasttext Embedding...')\n",
    "        fasttext_embedding = WordEmbeddings('en')\n",
    "        document_embeddings = DocumentPoolEmbeddings(embeddings=[fasttext_embedding])\n",
    "    elif embd == 'elmo':\n",
    "        print('Starting ELMo Embedding...')\n",
    "        elmo_embedding = ELMoEmbeddings()\n",
    "        document_embeddings = DocumentPoolEmbeddings(embeddings=[elmo_embedding])\n",
    "    else:\n",
    "        # init Flair embeddings\n",
    "        flair_forward_embedding = FlairEmbeddings('multi-forward')\n",
    "        flair_backward_embedding = FlairEmbeddings('multi-backward')\n",
    "        glove_embedding = WordEmbeddings('glove')\n",
    "        # now create the DocumentPoolEmbeddings object that combines all embeddings\n",
    "        document_embeddings = DocumentPoolEmbeddings(embeddings=[glove_embedding, flair_forward_embedding, flair_backward_embedding])\n",
    "    print('Train embedding Started...')\n",
    "    for text in final_train['text'].tolist():\n",
    "        text = Sentence(text)\n",
    "        document_embeddings.embed(text)\n",
    "        emb = text.get_embedding().detach().numpy()\n",
    "        emb = tf.constant(emb).eval()\n",
    "        train_data_list.append(emb)\n",
    "    print('Embedded Train data!!')\n",
    "    print('Test embedding Started...')\n",
    "    for text in final_test['text'].tolist():\n",
    "        text = Sentence(text)\n",
    "        document_embeddings.embed(text)\n",
    "        emb = text.get_embedding().detach().numpy()\n",
    "        emb = tf.constant(emb).eval()\n",
    "        test_data_list.append(emb)\n",
    "    print('Embedded Test data!!')\n",
    "    for text in final_val['text'].tolist():\n",
    "        text = Sentence(text)\n",
    "        document_embeddings.embed(text)\n",
    "        emb = text.get_embedding().detach().numpy()\n",
    "        emb = tf.constant(emb).eval()\n",
    "        val_data_list.append(emb)\n",
    "    print('Embedded Test data!!')\n",
    "    return train_data_list, test_data_list, val_data_list\n",
    "\n",
    "\n",
    "def infersent_embeddings():\n",
    "    train_data_list = []\n",
    "    test_data_list = []\n",
    "    sys.path.append('/opt/notebooks/OCSVM_ISF_LOF_USE_Baselines/InferSent-master')\n",
    "    # Load model\n",
    "    from models import InferSent\n",
    "    model_version = 1\n",
    "    MODEL_PATH = \"/opt/notebooks/OCSVM_ISF_LOF_USE_Baselines/InferSent-master/encoder/infersent%s.pkl\" % model_version\n",
    "    params_model = {'bsize': 64, 'word_emb_dim': 300, 'enc_lstm_dim': 2048,\n",
    "                    'pool_type': 'max', 'dpout_model': 0.0, 'version': model_version}\n",
    "    model = InferSent(params_model)\n",
    "    model.load_state_dict(torch.load(MODEL_PATH))\n",
    "    # Keep it on CPU or put it on GPU\n",
    "    use_cuda = False\n",
    "    model = model.cuda() if use_cuda else model\n",
    "    # If infersent1 -> use GloVe embeddings. If infersent2 -> use InferSent embeddings.\n",
    "    W2V_PATH = '/opt/notebooks/OCSVM_ISF_LOF_USE_Baselines/InferSent-master/glove.840B.300d-003.txt' if model_version == 1 else '/opt/notebooks/OCSVM_ISF_LOF_USE_Baselines/InferSent-master/fastText/crawl-300d-2M.vec'\n",
    "    model.set_w2v_path(W2V_PATH)\n",
    "    # Load embeddings of K most frequent words\n",
    "    model.build_vocab_k_words(K=100000)\n",
    "    train_data_list = model.encode(final_train['text'].tolist(), bsize=128, tokenize=False, verbose=True)\n",
    "    print('nb sentences encoded : {0}'.format(len(train_data_list)))\n",
    "    test_data_list = model.encode(final_test['text'].tolist(), bsize=128, tokenize=False, verbose=True)\n",
    "    print('nb sentences encoded : {0}'.format(len(test_data_list)))\n",
    "    return train_data_list, test_data_list\n",
    "\n",
    "\n",
    "# OCSVM model\n",
    "def oneclass_svm(dataset, kernel, nu):\n",
    "    svm = OneClassSVM(kernel=kernel, nu=nu).fit(dataset)\n",
    "    return svm\n",
    "  \n",
    "# Isolation Forest\n",
    "def isolationForest(dataset, rng):\n",
    "    isolationforest = IsolationForest(behaviour='new', max_samples=100, random_state=rng, contamination='auto').fit(dataset)\n",
    "    return isolationforest\n",
    "\n",
    "def local_outlier_factory(dataset, neighbours):\n",
    "    lof = LocalOutlierFactor(n_neighbors=neighbours, contamination=0.1,novelty=True).fit(dataset)\n",
    "    return lof\n",
    "\n",
    "def pca(train, test, val):\n",
    "    #print('Principal Component Analysis ...')\n",
    "    ss = StandardScaler()\n",
    "    ss.fit(train)\n",
    "    train = ss.transform(train)\n",
    "    test = ss.transform(test)\n",
    "    val = ss.transform(val)\n",
    "    pca = PCA()\n",
    "    pca = pca.fit(train)\n",
    "    #print('Explained variance percentage = %0.2f' % sum(pca.explained_variance_ratio_))\n",
    "    plt.plot(np.cumsum(pca.explained_variance_ratio_))\n",
    "    plt.xlabel('Number of components')\n",
    "    plt.ylabel('Cumulative explained variance')\n",
    "    train = pca.transform(train)\n",
    "    test = pca.transform(test)\n",
    "    val = pca.transform(val)\n",
    "    return train, test, val\n",
    "def results(model, train_true_labels, train_predicted_labels, test_true_labels, test_predicted_labels):\n",
    "    print('Model: ', model)\n",
    "    #train_f1 = f1_score(train_true_labels, train_predicted_labels, average='macro')  \n",
    "    #print('Train F1 Score: ', train_f1)\n",
    "    test_f1 = f1_score(test_true_labels, test_predicted_labels, average='macro')  \n",
    "    print('Test F1 Score: ', test_f1)\n",
    "    #print(\"Train accuracy:\", accuracy_score(train_true_labels, train_predicted_labels))\n",
    "    accuracy = accuracy_score(test_true_labels, test_predicted_labels)\n",
    "    print(\"Test accuracy:\", accuracy )\n",
    "    #results_global_list.append(test_f1)\n",
    "    #results_global_list.append(accuracy)\n",
    "    results = confusion_matrix(test_true_labels, test_predicted_labels, [1,-1]) \n",
    "    #print('Confusion Matrix :')\n",
    "    #print(results) \n",
    "    #print('Report : ')\n",
    "    LABELS = [\"known\", \"unknown\"]\n",
    "    plt.figure(figsize=(6, 6))\n",
    "    sns.heatmap(results, xticklabels=LABELS, yticklabels=LABELS, annot=True, fmt=\"d\");\n",
    "    plt.title(\"Confusion matrix - Reuters - \" + str(model))\n",
    "    plt.ylabel('True class')\n",
    "    plt.xlabel('Predicted class')\n",
    "    plt.show()\n",
    "    return test_f1, accuracy\n",
    "    #print(classification_report(test_true_labels, test_predicted_labels))\n",
    "    \n",
    "def data_for_sota():\n",
    "    # Numerical Labeling - 1 for normal class; -1 for anomaly class                    \n",
    "    train_data_df['new_label'] = train_data_df['label']\n",
    "    train_data_df.loc[train_data_df['label'] == TRAIN_CLASS, 'new_label'] = 1\n",
    "    train_data_df.loc[train_data_df['label'] != TRAIN_CLASS, 'new_label'] = -1\n",
    "    val_data_df['new_label'] = val_data_df['label']\n",
    "    val_data_df.loc[val_data_df['label'] == TRAIN_CLASS, 'new_label'] = 1\n",
    "    val_data_df.loc[val_data_df['label'] != TRAIN_CLASS, 'new_label'] = -1\n",
    "    test_data_df['new_label'] = test_data_df['label']\n",
    "    test_data_df.loc[test_data_df['label'] == TRAIN_CLASS, 'new_label'] = 1\n",
    "    test_data_df.loc[test_data_df['label'] != TRAIN_CLASS, 'new_label'] = -1\n",
    "    # Preparing train data with only normal class\n",
    "    final_train = train_data_df.loc[train_data_df['new_label'] == 1]\n",
    "    print(final_train['new_label'].value_counts())\n",
    "    #val data\n",
    "    final_val = val_data_df\n",
    "    print(final_val['new_label'].value_counts())\n",
    "    # Test data with both normal and other classes\n",
    "    final_test = test_data_df\n",
    "    print(final_test['new_label'].value_counts())\n",
    "    return final_train, final_test, final_val\n",
    "\n",
    "\n",
    "def data_for_autoencoder():\n",
    "    # Converting the train and test data into dataframe\n",
    "    train_data_df['new_label'] = train_data_df['label']\n",
    "    train_data_df.loc[train_data_df['label'] == TRAIN_CLASS, 'new_label'] = 0\n",
    "    train_data_df.loc[train_data_df['label'] != TRAIN_CLASS, 'new_label'] = 1\n",
    "    val_data_df['new_label'] = val_data_df['label']\n",
    "    val_data_df.loc[val_data_df['label'] == TRAIN_CLASS, 'new_label'] = 0\n",
    "    val_data_df.loc[val_data_df['label'] != TRAIN_CLASS, 'new_label'] = 1\n",
    "    test_data_df['new_label'] = test_data_df['label']\n",
    "    test_data_df.loc[test_data_df['label'] == TRAIN_CLASS, 'new_label'] = 0\n",
    "    test_data_df.loc[test_data_df['label'] != TRAIN_CLASS, 'new_label'] = 1\n",
    "    # Preparing train data with only normal class\n",
    "    final_train = train_data_df.loc[train_data_df['new_label'] == 0]\n",
    "    print(final_train['new_label'].value_counts())\n",
    "    final_val = val_data_df\n",
    "    print(final_val['new_label'].value_counts())\n",
    "    # Test data with both normal and other classes\n",
    "    final_test = test_data_df\n",
    "    print(final_test['new_label'].value_counts())\n",
    "    return final_train, final_test, final_val\n",
    "\n",
    "def mostFrequent(arr): \n",
    "    n = len(arr)\n",
    "    # Insert all elements in Hash. \n",
    "    Hash = dict() \n",
    "    for i in range(n): \n",
    "        if arr[i] in Hash.keys(): \n",
    "            Hash[arr[i]] += 1\n",
    "        else: \n",
    "            Hash[arr[i]] = 1\n",
    "  \n",
    "    # find the max frequency \n",
    "    max_count = 0\n",
    "    res = -1\n",
    "    for i in Hash:  \n",
    "        if (max_count < Hash[i]):  \n",
    "            res = i \n",
    "            max_count = Hash[i] \n",
    "          \n",
    "    return res  \n",
    "\n",
    "def ensemble_results(model, test_true_labels, test_predicted_labels):\n",
    "    print('Model: ', model)\n",
    "    test_f1 = f1_score(test_true_labels, test_predicted_labels, average='macro')  \n",
    "    print('Test F1 Score: ', test_f1)\n",
    "    accuracy = accuracy_score(test_true_labels, test_predicted_labels)\n",
    "    print(\"Test accuracy:\", accuracy)\n",
    "    results_global_list.append(round(test_f1,2))\n",
    "    results_global_list.append(round(accuracy*100,1))\n",
    "    #results = confusion_matrix(test_true_labels, test_predicted_labels, [1,-1]) \n",
    "    #print('Confusion Matrix :')\n",
    "    #print(results) \n",
    "    #print('Report : ')\n",
    "    #LABELS = [\"known\", \"unknown\"]\n",
    "    plt.figure(figsize=(6, 6))\n",
    "    sns.heatmap(results, xticklabels=LABELS, yticklabels=LABELS, annot=True, fmt=\"d\");\n",
    "    plt.title(\"Confusion matrix - Reuters - \" + str(model))\n",
    "    plt.ylabel('True class')\n",
    "    plt.xlabel('Predicted class')\n",
    "    plt.show()\n",
    "    #print(classification_report(test_true_labels, test_predicted_labels))\n",
    "    \n",
    "\n",
    "    \n",
    "def autoencoder_model(X_Test, Y_Test):\n",
    "    input_dim = X_train.shape[1]\n",
    "    print('Input dimension: ',input_dim)\n",
    "    encoding_dim = 14\n",
    "    nb_epoch = 100\n",
    "    batch_size = 32\n",
    "\n",
    "    input_layer = Input(shape=(input_dim, ))\n",
    "    encoder = Dense(encoding_dim, activation=\"tanh\", \n",
    "                    activity_regularizer=regularizers.l1(10e-5))(input_layer)\n",
    "    encoder = Dense(int(encoding_dim / 2), activation=\"relu\")(encoder)\n",
    "    decoder = Dense(int(encoding_dim / 2), activation='tanh')(encoder)\n",
    "    decoder = Dense(input_dim, activation='relu')(decoder)\n",
    "    autoencoder = Model(inputs=input_layer, outputs=decoder)\n",
    "\n",
    "\n",
    "    autoencoder.compile(optimizer='adam', \n",
    "                        loss='mean_squared_error', \n",
    "                        metrics=['accuracy'])\n",
    "\n",
    "    checkpointer = ModelCheckpoint(filepath=\"model_news20.h5\",\n",
    "                                   verbose=0,\n",
    "                                   save_best_only=True)\n",
    "    tensorboard = TensorBoard(log_dir='./logs_reuters',\n",
    "                              histogram_freq=0,\n",
    "                              write_graph=True,\n",
    "                              write_images=True)\n",
    "\n",
    "    history = autoencoder.fit(X_train, X_train,\n",
    "                        epochs=nb_epoch,\n",
    "                        batch_size=batch_size,\n",
    "                        shuffle=True,\n",
    "                        validation_data=(X_Test, X_Test),\n",
    "                        verbose=1,\n",
    "                        callbacks=[checkpointer, tensorboard]).history\n",
    "    plt.plot(history['loss'])\n",
    "    plt.plot(history['val_loss'])\n",
    "    plt.title('Model loss')\n",
    "    plt.ylabel('loss')\n",
    "    plt.xlabel('epoch')\n",
    "    plt.legend(['train', 'test'], loc='upper right')\n",
    "    autoencoder = load_model('model_news20.h5')\n",
    "    \n",
    "    predictions = autoencoder.predict(X_Test)\n",
    "\n",
    "    mse = np.mean(np.power(X_Test - predictions, 2), axis=1)\n",
    "    error_df = pd.DataFrame({'reconstruction_error': mse,\n",
    "                            'true_class': Y_Test})\n",
    "\n",
    "    #error_df.describe()\n",
    "    auto_score_pred = []\n",
    "    for scor in predictions.tolist():\n",
    "        auto_score_pred.append(np.mean(scor))\n",
    "    normalized_auto = [((x-min(auto_score_pred))/(max(auto_score_pred)-min(auto_score_pred))) for x in auto_score_pred]\n",
    "    print(len(normalized_auto))\n",
    "    return normalized_auto"
   ]
  },
  {
   "cell_type": "code",
   "execution_count": 8,
   "metadata": {},
   "outputs": [
    {
     "name": "stderr",
     "output_type": "stream",
     "text": [
      "[nltk_data] Downloading package stopwords to /home/runner/nltk_data...\n",
      "[nltk_data]   Package stopwords is already up-to-date!\n",
      "[nltk_data] Downloading package punkt to /home/runner/nltk_data...\n",
      "[nltk_data]   Package punkt is already up-to-date!\n"
     ]
    },
    {
     "name": "stdout",
     "output_type": "stream",
     "text": [
      "Loading data...\n",
      "Loading Train data ... \n",
      "Loading Test data ... \n",
      "Running for Embeddings:  fasttext\n",
      "Running for News group:  trade\n",
      "1    122\n",
      "Name: new_label, dtype: int64\n",
      "-1    2780\n",
      " 1     131\n",
      "Name: new_label, dtype: int64\n",
      "-1    2243\n",
      " 1      76\n",
      "Name: new_label, dtype: int64\n",
      "Embeddings Started: \n"
     ]
    },
    {
     "name": "stderr",
     "output_type": "stream",
     "text": [
      "I0109 14:33:03.225745 140281482052992 utils.py:422] loading Word2VecKeyedVectors object from /home/runner/.flair/embeddings/en-fasttext-news-300d-1M\n"
     ]
    },
    {
     "name": "stdout",
     "output_type": "stream",
     "text": [
      "Starting Fasttext Embedding...\n"
     ]
    },
    {
     "name": "stderr",
     "output_type": "stream",
     "text": [
      "I0109 14:33:05.239415 140281482052992 utils.py:461] loading vectors from /home/runner/.flair/embeddings/en-fasttext-news-300d-1M.vectors.npy with mmap=None\n",
      "I0109 14:33:05.493553 140281482052992 utils.py:494] setting ignored attribute vectors_norm to None\n",
      "I0109 14:33:05.494865 140281482052992 utils.py:428] loaded /home/runner/.flair/embeddings/en-fasttext-news-300d-1M\n"
     ]
    },
    {
     "name": "stdout",
     "output_type": "stream",
     "text": [
      "Train embedding Started...\n",
      "Embedded Train data!!\n",
      "Test embedding Started...\n",
      "Embedded Test data!!\n"
     ]
    },
    {
     "ename": "KeyboardInterrupt",
     "evalue": "",
     "output_type": "error",
     "traceback": [
      "\u001b[0;31m---------------------------------------------------------------------------\u001b[0m",
      "\u001b[0;31mKeyboardInterrupt\u001b[0m                         Traceback (most recent call last)",
      "\u001b[0;32m<ipython-input-8-a65c766a5012>\u001b[0m in \u001b[0;36m<module>\u001b[0;34m\u001b[0m\n\u001b[1;32m     48\u001b[0m                 \u001b[0mtrain_data_list_global\u001b[0m\u001b[0;34m,\u001b[0m \u001b[0mtest_data_list_global\u001b[0m \u001b[0;34m=\u001b[0m \u001b[0mother_embeddings\u001b[0m\u001b[0;34m(\u001b[0m\u001b[0;34m'xlnet'\u001b[0m\u001b[0;34m)\u001b[0m\u001b[0;34m\u001b[0m\u001b[0;34m\u001b[0m\u001b[0m\n\u001b[1;32m     49\u001b[0m             \u001b[0;32mif\u001b[0m \u001b[0membedding\u001b[0m \u001b[0;34m==\u001b[0m \u001b[0;34m'fasttext'\u001b[0m\u001b[0;34m:\u001b[0m\u001b[0;34m\u001b[0m\u001b[0;34m\u001b[0m\u001b[0m\n\u001b[0;32m---> 50\u001b[0;31m                 \u001b[0mtrain_data_list_global\u001b[0m\u001b[0;34m,\u001b[0m \u001b[0mtest_data_list_global\u001b[0m\u001b[0;34m,\u001b[0m \u001b[0mval_data_list_global\u001b[0m \u001b[0;34m=\u001b[0m \u001b[0mother_embeddings\u001b[0m\u001b[0;34m(\u001b[0m\u001b[0;34m'fasttext'\u001b[0m\u001b[0;34m)\u001b[0m\u001b[0;34m\u001b[0m\u001b[0;34m\u001b[0m\u001b[0m\n\u001b[0m\u001b[1;32m     51\u001b[0m             \u001b[0mprint\u001b[0m\u001b[0;34m(\u001b[0m\u001b[0;34m'Embedding time: '\u001b[0m\u001b[0;34m,\u001b[0m \u001b[0mtime\u001b[0m\u001b[0;34m.\u001b[0m\u001b[0mtime\u001b[0m\u001b[0;34m(\u001b[0m\u001b[0;34m)\u001b[0m \u001b[0;34m-\u001b[0m \u001b[0memb_start\u001b[0m\u001b[0;34m)\u001b[0m\u001b[0;34m\u001b[0m\u001b[0;34m\u001b[0m\u001b[0m\n\u001b[1;32m     52\u001b[0m \u001b[0;34m\u001b[0m\u001b[0m\n",
      "\u001b[0;32m<ipython-input-2-86680d1b7a0a>\u001b[0m in \u001b[0;36mother_embeddings\u001b[0;34m(embd)\u001b[0m\n\u001b[1;32m    147\u001b[0m         \u001b[0mdocument_embeddings\u001b[0m\u001b[0;34m.\u001b[0m\u001b[0membed\u001b[0m\u001b[0;34m(\u001b[0m\u001b[0mtext\u001b[0m\u001b[0;34m)\u001b[0m\u001b[0;34m\u001b[0m\u001b[0;34m\u001b[0m\u001b[0m\n\u001b[1;32m    148\u001b[0m         \u001b[0memb\u001b[0m \u001b[0;34m=\u001b[0m \u001b[0mtext\u001b[0m\u001b[0;34m.\u001b[0m\u001b[0mget_embedding\u001b[0m\u001b[0;34m(\u001b[0m\u001b[0;34m)\u001b[0m\u001b[0;34m.\u001b[0m\u001b[0mdetach\u001b[0m\u001b[0;34m(\u001b[0m\u001b[0;34m)\u001b[0m\u001b[0;34m.\u001b[0m\u001b[0mnumpy\u001b[0m\u001b[0;34m(\u001b[0m\u001b[0;34m)\u001b[0m\u001b[0;34m\u001b[0m\u001b[0;34m\u001b[0m\u001b[0m\n\u001b[0;32m--> 149\u001b[0;31m         \u001b[0memb\u001b[0m \u001b[0;34m=\u001b[0m \u001b[0mtf\u001b[0m\u001b[0;34m.\u001b[0m\u001b[0mconstant\u001b[0m\u001b[0;34m(\u001b[0m\u001b[0memb\u001b[0m\u001b[0;34m)\u001b[0m\u001b[0;34m.\u001b[0m\u001b[0meval\u001b[0m\u001b[0;34m(\u001b[0m\u001b[0;34m)\u001b[0m\u001b[0;34m\u001b[0m\u001b[0;34m\u001b[0m\u001b[0m\n\u001b[0m\u001b[1;32m    150\u001b[0m         \u001b[0mval_data_list\u001b[0m\u001b[0;34m.\u001b[0m\u001b[0mappend\u001b[0m\u001b[0;34m(\u001b[0m\u001b[0memb\u001b[0m\u001b[0;34m)\u001b[0m\u001b[0;34m\u001b[0m\u001b[0;34m\u001b[0m\u001b[0m\n\u001b[1;32m    151\u001b[0m     \u001b[0mprint\u001b[0m\u001b[0;34m(\u001b[0m\u001b[0;34m'Embedded Test data!!'\u001b[0m\u001b[0;34m)\u001b[0m\u001b[0;34m\u001b[0m\u001b[0;34m\u001b[0m\u001b[0m\n",
      "\u001b[0;32m/opt/conda/lib/python3.7/site-packages/tensorflow/python/framework/ops.py\u001b[0m in \u001b[0;36meval\u001b[0;34m(self, feed_dict, session)\u001b[0m\n\u001b[1;32m    693\u001b[0m \u001b[0;34m\u001b[0m\u001b[0m\n\u001b[1;32m    694\u001b[0m     \"\"\"\n\u001b[0;32m--> 695\u001b[0;31m     \u001b[0;32mreturn\u001b[0m \u001b[0m_eval_using_default_session\u001b[0m\u001b[0;34m(\u001b[0m\u001b[0mself\u001b[0m\u001b[0;34m,\u001b[0m \u001b[0mfeed_dict\u001b[0m\u001b[0;34m,\u001b[0m \u001b[0mself\u001b[0m\u001b[0;34m.\u001b[0m\u001b[0mgraph\u001b[0m\u001b[0;34m,\u001b[0m \u001b[0msession\u001b[0m\u001b[0;34m)\u001b[0m\u001b[0;34m\u001b[0m\u001b[0;34m\u001b[0m\u001b[0m\n\u001b[0m\u001b[1;32m    696\u001b[0m \u001b[0;34m\u001b[0m\u001b[0m\n\u001b[1;32m    697\u001b[0m \u001b[0;34m\u001b[0m\u001b[0m\n",
      "\u001b[0;32m/opt/conda/lib/python3.7/site-packages/tensorflow/python/framework/ops.py\u001b[0m in \u001b[0;36m_eval_using_default_session\u001b[0;34m(tensors, feed_dict, graph, session)\u001b[0m\n\u001b[1;32m   5179\u001b[0m                        \u001b[0;34m\"the tensor's graph is different from the session's \"\u001b[0m\u001b[0;34m\u001b[0m\u001b[0;34m\u001b[0m\u001b[0m\n\u001b[1;32m   5180\u001b[0m                        \"graph.\")\n\u001b[0;32m-> 5181\u001b[0;31m   \u001b[0;32mreturn\u001b[0m \u001b[0msession\u001b[0m\u001b[0;34m.\u001b[0m\u001b[0mrun\u001b[0m\u001b[0;34m(\u001b[0m\u001b[0mtensors\u001b[0m\u001b[0;34m,\u001b[0m \u001b[0mfeed_dict\u001b[0m\u001b[0;34m)\u001b[0m\u001b[0;34m\u001b[0m\u001b[0;34m\u001b[0m\u001b[0m\n\u001b[0m\u001b[1;32m   5182\u001b[0m \u001b[0;34m\u001b[0m\u001b[0m\n\u001b[1;32m   5183\u001b[0m \u001b[0;34m\u001b[0m\u001b[0m\n",
      "\u001b[0;32m/opt/conda/lib/python3.7/site-packages/tensorflow/python/client/session.py\u001b[0m in \u001b[0;36mrun\u001b[0;34m(self, fetches, feed_dict, options, run_metadata)\u001b[0m\n\u001b[1;32m    927\u001b[0m     \u001b[0;32mtry\u001b[0m\u001b[0;34m:\u001b[0m\u001b[0;34m\u001b[0m\u001b[0;34m\u001b[0m\u001b[0m\n\u001b[1;32m    928\u001b[0m       result = self._run(None, fetches, feed_dict, options_ptr,\n\u001b[0;32m--> 929\u001b[0;31m                          run_metadata_ptr)\n\u001b[0m\u001b[1;32m    930\u001b[0m       \u001b[0;32mif\u001b[0m \u001b[0mrun_metadata\u001b[0m\u001b[0;34m:\u001b[0m\u001b[0;34m\u001b[0m\u001b[0;34m\u001b[0m\u001b[0m\n\u001b[1;32m    931\u001b[0m         \u001b[0mproto_data\u001b[0m \u001b[0;34m=\u001b[0m \u001b[0mtf_session\u001b[0m\u001b[0;34m.\u001b[0m\u001b[0mTF_GetBuffer\u001b[0m\u001b[0;34m(\u001b[0m\u001b[0mrun_metadata_ptr\u001b[0m\u001b[0;34m)\u001b[0m\u001b[0;34m\u001b[0m\u001b[0;34m\u001b[0m\u001b[0m\n",
      "\u001b[0;32m/opt/conda/lib/python3.7/site-packages/tensorflow/python/client/session.py\u001b[0m in \u001b[0;36m_run\u001b[0;34m(self, handle, fetches, feed_dict, options, run_metadata)\u001b[0m\n\u001b[1;32m   1150\u001b[0m     \u001b[0;32mif\u001b[0m \u001b[0mfinal_fetches\u001b[0m \u001b[0;32mor\u001b[0m \u001b[0mfinal_targets\u001b[0m \u001b[0;32mor\u001b[0m \u001b[0;34m(\u001b[0m\u001b[0mhandle\u001b[0m \u001b[0;32mand\u001b[0m \u001b[0mfeed_dict_tensor\u001b[0m\u001b[0;34m)\u001b[0m\u001b[0;34m:\u001b[0m\u001b[0;34m\u001b[0m\u001b[0;34m\u001b[0m\u001b[0m\n\u001b[1;32m   1151\u001b[0m       results = self._do_run(handle, final_targets, final_fetches,\n\u001b[0;32m-> 1152\u001b[0;31m                              feed_dict_tensor, options, run_metadata)\n\u001b[0m\u001b[1;32m   1153\u001b[0m     \u001b[0;32melse\u001b[0m\u001b[0;34m:\u001b[0m\u001b[0;34m\u001b[0m\u001b[0;34m\u001b[0m\u001b[0m\n\u001b[1;32m   1154\u001b[0m       \u001b[0mresults\u001b[0m \u001b[0;34m=\u001b[0m \u001b[0;34m[\u001b[0m\u001b[0;34m]\u001b[0m\u001b[0;34m\u001b[0m\u001b[0;34m\u001b[0m\u001b[0m\n",
      "\u001b[0;32m/opt/conda/lib/python3.7/site-packages/tensorflow/python/client/session.py\u001b[0m in \u001b[0;36m_do_run\u001b[0;34m(self, handle, target_list, fetch_list, feed_dict, options, run_metadata)\u001b[0m\n\u001b[1;32m   1326\u001b[0m     \u001b[0;32mif\u001b[0m \u001b[0mhandle\u001b[0m \u001b[0;32mis\u001b[0m \u001b[0;32mNone\u001b[0m\u001b[0;34m:\u001b[0m\u001b[0;34m\u001b[0m\u001b[0;34m\u001b[0m\u001b[0m\n\u001b[1;32m   1327\u001b[0m       return self._do_call(_run_fn, feeds, fetches, targets, options,\n\u001b[0;32m-> 1328\u001b[0;31m                            run_metadata)\n\u001b[0m\u001b[1;32m   1329\u001b[0m     \u001b[0;32melse\u001b[0m\u001b[0;34m:\u001b[0m\u001b[0;34m\u001b[0m\u001b[0;34m\u001b[0m\u001b[0m\n\u001b[1;32m   1330\u001b[0m       \u001b[0;32mreturn\u001b[0m \u001b[0mself\u001b[0m\u001b[0;34m.\u001b[0m\u001b[0m_do_call\u001b[0m\u001b[0;34m(\u001b[0m\u001b[0m_prun_fn\u001b[0m\u001b[0;34m,\u001b[0m \u001b[0mhandle\u001b[0m\u001b[0;34m,\u001b[0m \u001b[0mfeeds\u001b[0m\u001b[0;34m,\u001b[0m \u001b[0mfetches\u001b[0m\u001b[0;34m)\u001b[0m\u001b[0;34m\u001b[0m\u001b[0;34m\u001b[0m\u001b[0m\n",
      "\u001b[0;32m/opt/conda/lib/python3.7/site-packages/tensorflow/python/client/session.py\u001b[0m in \u001b[0;36m_do_call\u001b[0;34m(self, fn, *args)\u001b[0m\n\u001b[1;32m   1332\u001b[0m   \u001b[0;32mdef\u001b[0m \u001b[0m_do_call\u001b[0m\u001b[0;34m(\u001b[0m\u001b[0mself\u001b[0m\u001b[0;34m,\u001b[0m \u001b[0mfn\u001b[0m\u001b[0;34m,\u001b[0m \u001b[0;34m*\u001b[0m\u001b[0margs\u001b[0m\u001b[0;34m)\u001b[0m\u001b[0;34m:\u001b[0m\u001b[0;34m\u001b[0m\u001b[0;34m\u001b[0m\u001b[0m\n\u001b[1;32m   1333\u001b[0m     \u001b[0;32mtry\u001b[0m\u001b[0;34m:\u001b[0m\u001b[0;34m\u001b[0m\u001b[0;34m\u001b[0m\u001b[0m\n\u001b[0;32m-> 1334\u001b[0;31m       \u001b[0;32mreturn\u001b[0m \u001b[0mfn\u001b[0m\u001b[0;34m(\u001b[0m\u001b[0;34m*\u001b[0m\u001b[0margs\u001b[0m\u001b[0;34m)\u001b[0m\u001b[0;34m\u001b[0m\u001b[0;34m\u001b[0m\u001b[0m\n\u001b[0m\u001b[1;32m   1335\u001b[0m     \u001b[0;32mexcept\u001b[0m \u001b[0merrors\u001b[0m\u001b[0;34m.\u001b[0m\u001b[0mOpError\u001b[0m \u001b[0;32mas\u001b[0m \u001b[0me\u001b[0m\u001b[0;34m:\u001b[0m\u001b[0;34m\u001b[0m\u001b[0;34m\u001b[0m\u001b[0m\n\u001b[1;32m   1336\u001b[0m       \u001b[0mmessage\u001b[0m \u001b[0;34m=\u001b[0m \u001b[0mcompat\u001b[0m\u001b[0;34m.\u001b[0m\u001b[0mas_text\u001b[0m\u001b[0;34m(\u001b[0m\u001b[0me\u001b[0m\u001b[0;34m.\u001b[0m\u001b[0mmessage\u001b[0m\u001b[0;34m)\u001b[0m\u001b[0;34m\u001b[0m\u001b[0;34m\u001b[0m\u001b[0m\n",
      "\u001b[0;32m/opt/conda/lib/python3.7/site-packages/tensorflow/python/client/session.py\u001b[0m in \u001b[0;36m_run_fn\u001b[0;34m(feed_dict, fetch_list, target_list, options, run_metadata)\u001b[0m\n\u001b[1;32m   1317\u001b[0m       \u001b[0mself\u001b[0m\u001b[0;34m.\u001b[0m\u001b[0m_extend_graph\u001b[0m\u001b[0;34m(\u001b[0m\u001b[0;34m)\u001b[0m\u001b[0;34m\u001b[0m\u001b[0;34m\u001b[0m\u001b[0m\n\u001b[1;32m   1318\u001b[0m       return self._call_tf_sessionrun(\n\u001b[0;32m-> 1319\u001b[0;31m           options, feed_dict, fetch_list, target_list, run_metadata)\n\u001b[0m\u001b[1;32m   1320\u001b[0m \u001b[0;34m\u001b[0m\u001b[0m\n\u001b[1;32m   1321\u001b[0m     \u001b[0;32mdef\u001b[0m \u001b[0m_prun_fn\u001b[0m\u001b[0;34m(\u001b[0m\u001b[0mhandle\u001b[0m\u001b[0;34m,\u001b[0m \u001b[0mfeed_dict\u001b[0m\u001b[0;34m,\u001b[0m \u001b[0mfetch_list\u001b[0m\u001b[0;34m)\u001b[0m\u001b[0;34m:\u001b[0m\u001b[0;34m\u001b[0m\u001b[0;34m\u001b[0m\u001b[0m\n",
      "\u001b[0;32m/opt/conda/lib/python3.7/site-packages/tensorflow/python/client/session.py\u001b[0m in \u001b[0;36m_call_tf_sessionrun\u001b[0;34m(self, options, feed_dict, fetch_list, target_list, run_metadata)\u001b[0m\n\u001b[1;32m   1405\u001b[0m     return tf_session.TF_SessionRun_wrapper(\n\u001b[1;32m   1406\u001b[0m         \u001b[0mself\u001b[0m\u001b[0;34m.\u001b[0m\u001b[0m_session\u001b[0m\u001b[0;34m,\u001b[0m \u001b[0moptions\u001b[0m\u001b[0;34m,\u001b[0m \u001b[0mfeed_dict\u001b[0m\u001b[0;34m,\u001b[0m \u001b[0mfetch_list\u001b[0m\u001b[0;34m,\u001b[0m \u001b[0mtarget_list\u001b[0m\u001b[0;34m,\u001b[0m\u001b[0;34m\u001b[0m\u001b[0;34m\u001b[0m\u001b[0m\n\u001b[0;32m-> 1407\u001b[0;31m         run_metadata)\n\u001b[0m\u001b[1;32m   1408\u001b[0m \u001b[0;34m\u001b[0m\u001b[0m\n\u001b[1;32m   1409\u001b[0m   \u001b[0;32mdef\u001b[0m \u001b[0m_call_tf_sessionprun\u001b[0m\u001b[0;34m(\u001b[0m\u001b[0mself\u001b[0m\u001b[0;34m,\u001b[0m \u001b[0mhandle\u001b[0m\u001b[0;34m,\u001b[0m \u001b[0mfeed_dict\u001b[0m\u001b[0;34m,\u001b[0m \u001b[0mfetch_list\u001b[0m\u001b[0;34m)\u001b[0m\u001b[0;34m:\u001b[0m\u001b[0;34m\u001b[0m\u001b[0;34m\u001b[0m\u001b[0m\n",
      "\u001b[0;31mKeyboardInterrupt\u001b[0m: "
     ]
    }
   ],
   "source": [
    "directory = \"/opt/notebooks/datasets/reuters\"\n",
    "nltk.download('stopwords')\n",
    "nltk.download('punkt')\n",
    "if directory not in nltk.data.path:\n",
    "    nltk.data.path.append(directory)\n",
    "\n",
    "print('Loading data...')\n",
    "train_data = reuters_train_dataset()\n",
    "test_data = reuters_test_dataset()\n",
    "\n",
    "# Converting the train and test data into dataframe\n",
    "train_data_df = pd.DataFrame(train_data[:4000], columns = ['text' , 'label'])\n",
    "val_data_df = pd.DataFrame(train_data[4000:], columns = ['text' , 'label'])\n",
    "test_data_df = pd.DataFrame(test_data, columns = ['text' , 'label'])\n",
    "\n",
    "\n",
    "group_list = ['earn', 'acq', 'crude', 'interest', 'trade', 'ship', 'money-fx']\n",
    "train_data_df = train_data_df[train_data_df['label'].isin(group_list)]\n",
    "val_data_df = val_data_df[val_data_df['label'].isin(group_list)]\n",
    "test_data_df = test_data_df[test_data_df['label'].isin(group_list)]\n",
    "\n",
    "\n",
    "embedding_list = ['fasttext']\n",
    "for embedding in embedding_list:\n",
    "    print('Running for Embeddings: ', embedding)\n",
    "    f1_scores = []\n",
    "    for group in group_list:\n",
    "        if group == 'trade':\n",
    "            start = time.time()\n",
    "            print('Running for News group: ', group)\n",
    "            TRAIN_CLASS = group\n",
    "            results_global_list = []\n",
    "\n",
    "            #Load data\n",
    "            final_train, final_test, final_val = data_for_sota()\n",
    "            print('Embeddings Started: ')\n",
    "            emb_start = time.time()\n",
    "            # Specify the embeddings 'glove', 'xlnet', 'fasttext', 'elmo', 'ensemble'\n",
    "            if embedding == 'use':\n",
    "                train_data_list_global, test_data_list_global, val_data_list_global = use_embeddings()\n",
    "            if embedding == 'bert':    \n",
    "                train_data_list_global, test_data_list_global, val_data_list_global = bert_embeddings()\n",
    "            if embedding == 'infersent':\n",
    "                train_data_list_global, test_data_list_global = infersent_embeddings()\n",
    "            if embedding == 'elmo':\n",
    "                train_data_list_global, test_data_list_global = elmo_embeddings()\n",
    "            if embedding == 'xlnet':\n",
    "                train_data_list_global, test_data_list_global = other_embeddings('xlnet')\n",
    "            if embedding == 'fasttext':\n",
    "                train_data_list_global, test_data_list_global, val_data_list_global = other_embeddings('fasttext')\n",
    "            print('Embedding time: ', time.time() - emb_start)\n",
    "\n",
    "            train_data_list = train_data_list_global\n",
    "            test_data_list = test_data_list_global\n",
    "            val_data_list = val_data_list_global\n",
    "            #PCA\n",
    "            train_data_list, test_data_list, val_data_list = pca(train_data_list, test_data_list, val_data_list)\n",
    "            #---------------------------------- Model 1: OCSVM-----------------------------------\n",
    "            print('----------------- OCSVM Model -----------------')\n",
    "            svm_model = oneclass_svm(train_data_list, 'rbf', 0.1)\n",
    "            y_pred_train = svm_model.predict(train_data_list)\n",
    "            y_pred_test = svm_model.predict(test_data_list)\n",
    "            y_test_scores = svm_model.score_samples(test_data_list)\n",
    "            y_val_scores = svm_model.score_samples(val_data_list)\n",
    "            f1, acc = results('one Class SVM', final_train['new_label'].tolist(), y_pred_train, final_test['new_label'].tolist(), y_pred_test)\n",
    "            results_global_list.append(round(f1,2))\n",
    "            results_global_list.append(round(acc*100,1))\n",
    "\n",
    "            test_score_list = y_test_scores.tolist()\n",
    "            val_score_list = y_val_scores.tolist()\n",
    "            normalized_test_svm = [((x-min(test_score_list))/(max(test_score_list)-min(test_score_list))) for x in test_score_list]\n",
    "            normalized_val_svm = [((x-min(val_score_list))/(max(val_score_list)-min(val_score_list))) for x in val_score_list]\n",
    "            print(len(normalized_test_svm))\n",
    "            print(len(normalized_val_svm))\n",
    "\n",
    "            #---------------------------------- Model 2: Isolation Forest-----------------------------------\n",
    "            print('----------------- isolation forest -----------------')\n",
    "            svm_model = oneclass_svm(train_data_list, 'rbf', 0.1)\n",
    "            rand_state = np.random.RandomState(42)\n",
    "            iso_forest = isolationForest(train_data_list, rand_state)\n",
    "            y_pred_iso_train = iso_forest.predict(train_data_list)\n",
    "            y_pred_iso_test = iso_forest.predict(test_data_list)\n",
    "            y_test_scores_isf = iso_forest.score_samples(test_data_list)\n",
    "            y_val_scores_isf = iso_forest.score_samples(val_data_list)\n",
    "            f1, acc = results('Isolation Forest', final_train['new_label'].tolist(), y_pred_iso_train, final_test['new_label'].tolist(), y_pred_iso_test)\n",
    "            results_global_list.append(round(f1,2))\n",
    "            results_global_list.append(round(acc*100,1))\n",
    "\n",
    "            test_score_list = y_test_scores_isf.tolist()\n",
    "            val_score_list_isf = y_val_scores_isf.tolist()\n",
    "            normalized_test_isf = [((x-min(test_score_list))/(max(test_score_list)-min(test_score_list))) for x in test_score_list]\n",
    "            normalized_val_isf = [((x-min(val_score_list_isf))/(max(val_score_list_isf)-min(val_score_list_isf))) for x in val_score_list_isf]\n",
    "            print(len(normalized_test_isf))\n",
    "            print(len(normalized_val_isf))\n",
    "\n",
    "            '''#----------------------------------Model 3: Local Outlier Factory-----------------------------------\n",
    "            print('----------------- local outlier factory -----------------')\n",
    "            svm_model = oneclass_svm(train_data_list, 'rbf', 0.1)\n",
    "            lof = local_outlier_factory(train_data_list, 250)\n",
    "            y_pred_lof_train = lof.predict(train_data_list)\n",
    "            y_pred_lof_test = lof.predict(test_data_list)\n",
    "            f1, acc = results('Local Outlier Factory', final_train['new_label'].tolist(), y_pred_lof_train, final_test['new_label'].tolist(), y_pred_lof_test)\n",
    "            results_global_list.append(round(f1,2))\n",
    "            results_global_list.append(round(acc*100,1))\n",
    "            '''\n",
    "\n",
    "            #----------------------------- Model 4: Data processing for AutoEncoder-------------------------------\n",
    "            # Converting the train and test data into dataframe\n",
    "            # Converting the train and test data into dataframe\n",
    "            train_data_df = pd.DataFrame(train_data[:4000], columns = ['text' , 'label'])\n",
    "            val_data_df = pd.DataFrame(train_data[4000:], columns = ['text' , 'label'])\n",
    "            test_data_df = pd.DataFrame(test_data, columns = ['text' , 'label'])\n",
    "\n",
    "\n",
    "            group_list = ['earn', 'acq', 'crude', 'interest', 'trade', 'ship', 'money-fx']\n",
    "            train_data_df = train_data_df[train_data_df['label'].isin(group_list)]\n",
    "            val_data_df = val_data_df[val_data_df['label'].isin(group_list)]\n",
    "            test_data_df = test_data_df[test_data_df['label'].isin(group_list)]\n",
    "\n",
    "\n",
    "            final_train, final_test, final_val = data_for_autoencoder()\n",
    "\n",
    "            X_train = train_data_list_global\n",
    "            y_train = final_train['new_label'].tolist()\n",
    "            X_test = test_data_list_global\n",
    "            y_test = final_test['new_label'].tolist()\n",
    "            X_val = val_data_list_global\n",
    "            y_val = final_val['new_label'].tolist()   \n",
    "\n",
    "            X_train = np.asarray(X_train)\n",
    "            X_test = np.asarray(X_test)\n",
    "            X_val = np.asarray(X_val)\n",
    "\n",
    "\n",
    "\n",
    "\n",
    "            # ******************************** Auto Encoder Model Bulding ***************************************\n",
    "            print('----------------- Auto Encoder -----------------')\n",
    "            auto_val_prediction_scores = autoencoder_model(X_val, y_val)\n",
    "            concat_array_val = np.array((normalized_val_svm, normalized_val_isf, auto_val_prediction_scores), dtype=float)\n",
    "            ensemble_array_val = np.append(val_data_list_global, concat_array_val.T, axis=1)\n",
    "            mlp = MLPClassifier(hidden_layer_sizes=(10, 10, 10), max_iter=1000)\n",
    "            mlp.fit(ensemble_array_val, y_val)\n",
    "\n",
    "\n",
    "            auto_test_prediction_scores = autoencoder_model(X_test, y_test)\n",
    "            concat_array_test = np.array((normalized_test_svm, normalized_test_isf, auto_test_prediction_scores), dtype=float)\n",
    "            ensemble_array_test = np.append(test_data_list_global, concat_array_test.T, axis=1)\n",
    "            ensemble_predictions = mlp.predict(ensemble_array_test)\n",
    "            text = 'F1 Score for'+ str(group)+ ': '\n",
    "            print(text , f1_score(y_test,ensemble_predictions, average='macro'))\n",
    "            f1_scores.append(f1_score(y_test,ensemble_predictions, average='macro'))\n",
    "\n",
    "\n",
    "            '''\n",
    "            #Load the model for prediction\n",
    "            autoencoder = load_model('model_news20.h5')\n",
    "            predictions = autoencoder.predict(X_test)\n",
    "\n",
    "            mse = np.mean(np.power(X_test - predictions, 2), axis=1)\n",
    "            error_df = pd.DataFrame({'reconstruction_error': mse,\n",
    "                                    'true_class': y_test})\n",
    "\n",
    "            #error_df.describe()\n",
    "\n",
    "\n",
    "            fpr, tpr, thresholds = roc_curve(error_df.true_class, error_df.reconstruction_error)\n",
    "            roc_auc = auc(fpr, tpr)\n",
    "\n",
    "            precision, recall, th = precision_recall_curve(error_df.true_class, error_df.reconstruction_error)\n",
    "\n",
    "            accuracies = []\n",
    "            for threshold in th:\n",
    "                y_pred = [1 if e > threshold else 0 for e in error_df.reconstruction_error.values]\n",
    "                accuracies.append(balanced_accuracy_score(error_df.true_class, y_pred))\n",
    "            print(\"Maximum Test accuracy:\", max(accuracies))\n",
    "            #print(accuracies.index(max(accuracies)))\n",
    "            print('Threshold for maximal accuracy: ', th[accuracies.index(max(accuracies))])\n",
    "            threshold = th[accuracies.index(max(accuracies))]\n",
    "\n",
    "            groups = error_df.groupby('true_class')\n",
    "\n",
    "            LABELS = [\"known\", \"unknown\"]\n",
    "            y_pred_autoencoder = [1 if e > threshold else 0 for e in error_df.reconstruction_error.values]\n",
    "            conf_matrix = confusion_matrix(error_df.true_class, y_pred_autoencoder,[0,1])\n",
    "            test_f1 = f1_score(error_df.true_class, y_pred_autoencoder, average='macro')  \n",
    "            print('Test F1 Score: ', test_f1)\n",
    "            accuracy = balanced_accuracy_score(error_df.true_class, y_pred_autoencoder)\n",
    "            print(\"Test accuracy:\", accuracy)\n",
    "            results_global_list.append(round(test_f1,2))\n",
    "            results_global_list.append(round(accuracy*100,1))\n",
    "\n",
    "            # Base individual models end. Ensemble approaches begin from here\n",
    "\n",
    "            for i in range(len(y_pred_autoencoder)):\n",
    "                if y_pred_autoencoder[i] == 0:\n",
    "                    y_pred_autoencoder[i] = 1\n",
    "                else:\n",
    "                    y_pred_autoencoder[i] = -1\n",
    "            #print(y_pred_autoencoder)\n",
    "            final_train, final_test = data_for_sota()\n",
    "            print('----------------- Ensemble model -----------------')\n",
    "            y_pred_test_ensemble = []\n",
    "            for i in range(len(final_test['new_label'].tolist())):\n",
    "                arr = [ y_pred_test[i], y_pred_iso_test[i], y_pred_autoencoder[i]]\n",
    "                y_pred_test_ensemble.append(mostFrequent(arr))\n",
    "\n",
    "            ensemble_results('Ensemble', final_test['new_label'].tolist(), y_pred_test_ensemble)\n",
    "\n",
    "            print('f1scores and accuracies: ',results_global_list)\n",
    "\n",
    "            '''\n",
    "    filename = '/opt/notebooks/OCSVM_ISF_LOF_USE_Baselines/results_output_new/exp_ensemble_reuters.txt'\n",
    "    with open(filename, 'w') as f:\n",
    "        for item in f1_scores:\n",
    "            f.write(\"%s\\t\" % str(item))\n",
    "    print(\"total time taken this loop: \", time.time() - start)"
   ]
  },
  {
   "cell_type": "code",
   "execution_count": 9,
   "metadata": {},
   "outputs": [
    {
     "name": "stderr",
     "output_type": "stream",
     "text": [
      "[nltk_data] Downloading package reuters to\n",
      "[nltk_data]     /opt/notebooks/datasets/reuters...\n",
      "[nltk_data]   Package reuters is already up-to-date!\n",
      "[nltk_data] Downloading package punkt to /home/runner/nltk_data...\n",
      "[nltk_data]   Package punkt is already up-to-date!\n",
      "[nltk_data] Downloading package stopwords to /home/runner/nltk_data...\n",
      "[nltk_data]   Package stopwords is already up-to-date!\n"
     ]
    }
   ],
   "source": [
    "# Reuters Dataset - Output is a list of dictionaries with text and their labels\n",
    "directory = \"/opt/notebooks/datasets/reuters\"\n",
    "nltk.download('reuters', download_dir=directory)\n",
    "nltk.download('punkt')\n",
    "nltk.download('stopwords')\n",
    "if directory not in nltk.data.path:\n",
    "    nltk.data.path.append(directory)\n",
    "\n",
    "def clean_text(text: str, rm_numbers=True, rm_punct=True, rm_stop_words=True, rm_short_words=True):\n",
    "    \"\"\" Function to perform common NLP pre-processing tasks. \"\"\"\n",
    "\n",
    "    # make lowercase\n",
    "    text = text.lower()\n",
    "    # remove punctuation\n",
    "    if rm_punct:\n",
    "        text = text.translate(str.maketrans(string.punctuation, ' ' * len(string.punctuation)))\n",
    "    # remove numbers\n",
    "    if rm_numbers:\n",
    "        text = re.sub(r'\\d+', '', text)\n",
    "    # remove whitespaces\n",
    "    text = text.strip()\n",
    "    # remove stopwords\n",
    "    if rm_stop_words:\n",
    "        stop_words = set(stopwords.words('english'))\n",
    "        word_tokens = word_tokenize(text)\n",
    "        text_list = [w for w in word_tokens if not w in stop_words]\n",
    "        text = ' '.join(text_list)\n",
    "    # remove short words\n",
    "    if rm_short_words:\n",
    "        text_list = [w for w in text.split() if len(w) >= 3]\n",
    "        text = ' '.join(text_list)\n",
    "    return text\n",
    "  \n",
    "# Train data  \n",
    "def reuters_train_dataset(train=True, test=False, clean_txt=True):\n",
    "    doc_ids = reuters.fileids()\n",
    "    ret = []\n",
    "    splits = [split_set for (requested, split_set) in [(train, 'train'), (test, 'test')] if requested]\n",
    "    print('Loading Train data ... ')\n",
    "    for split_set in splits:\n",
    "        split_set_doc_ids = list(filter(lambda doc: doc.startswith(split_set), doc_ids))\n",
    "        train_data = []\n",
    "        for id in split_set_doc_ids:\n",
    "            if clean_txt:\n",
    "                text = clean_text(reuters.raw(id))\n",
    "            else:\n",
    "                text = ' '.join(word_tokenize(reuters.raw(id)))\n",
    "            labels = reuters.categories(id)\n",
    "            train_data.append({\n",
    "              'text': text,\n",
    "              'label': labels[0],\n",
    "          })\n",
    "    return train_data\n",
    "# Test data          \n",
    "def reuters_test_dataset(train=False, test=True, clean_txt=True):\n",
    "    doc_ids = reuters.fileids()\n",
    "    ret = []\n",
    "    splits = [split_set for (requested, split_set) in [(train, 'train'), (test, 'test')] if requested]\n",
    "    print('Loading Test data ... ')\n",
    "    for split_set in splits:\n",
    "        split_set_doc_ids = list(filter(lambda doc: doc.startswith(split_set), doc_ids))\n",
    "        test_data = []\n",
    "        for id in split_set_doc_ids:\n",
    "            if clean_txt:\n",
    "                text = clean_text(reuters.raw(id))\n",
    "            else:\n",
    "                text = ' '.join(word_tokenize(reuters.raw(id)))\n",
    "            labels = reuters.categories(id)\n",
    "          \n",
    "            test_data.append({\n",
    "              'text': text,\n",
    "              'label': labels[0],\n",
    "          })\n",
    "    return test_data"
   ]
  },
  {
   "cell_type": "code",
   "execution_count": 10,
   "metadata": {},
   "outputs": [
    {
     "name": "stdout",
     "output_type": "stream",
     "text": [
      "Loading Train data ... \n",
      "Loading Test data ... \n"
     ]
    }
   ],
   "source": [
    "# Calling the reuters dataset functions\n",
    "train_data = reuters_train_dataset()\n",
    "test_data = reuters_test_dataset()"
   ]
  },
  {
   "cell_type": "code",
   "execution_count": 11,
   "metadata": {},
   "outputs": [
    {
     "name": "stdout",
     "output_type": "stream",
     "text": [
      "7769\n",
      "3019\n"
     ]
    }
   ],
   "source": [
    "print(len(train_data))\n",
    "print(len(test_data))"
   ]
  },
  {
   "cell_type": "code",
   "execution_count": 12,
   "metadata": {},
   "outputs": [
    {
     "name": "stdout",
     "output_type": "stream",
     "text": [
      "earn        1348\n",
      "acq          864\n",
      "interest     202\n",
      "crude        173\n",
      "money-fx     139\n",
      "trade        122\n",
      "ship          64\n",
      "Name: label, dtype: int64\n",
      "earn        1495\n",
      "acq          786\n",
      "crude        197\n",
      "trade        131\n",
      "interest     127\n",
      "money-fx     127\n",
      "ship          48\n",
      "Name: label, dtype: int64\n",
      "earn        1083\n",
      "acq          719\n",
      "crude        182\n",
      "interest     124\n",
      "money-fx      96\n",
      "trade         76\n",
      "ship          39\n",
      "Name: label, dtype: int64\n"
     ]
    }
   ],
   "source": [
    "# Converting the train and test data into dataframe\n",
    "train_data_df = pd.DataFrame(train_data[:4000], columns = ['text' , 'label'])\n",
    "val_data_df = pd.DataFrame(train_data[4000:], columns = ['text' , 'label'])\n",
    "test_data_df = pd.DataFrame(test_data, columns = ['text' , 'label'])\n",
    "\n",
    "\n",
    "group_list = ['earn', 'acq', 'crude', 'interest', 'trade', 'ship', 'money-fx']\n",
    "train_data_df = train_data_df[train_data_df['label'].isin(group_list)]\n",
    "val_data_df = val_data_df[val_data_df['label'].isin(group_list)]\n",
    "test_data_df = test_data_df[test_data_df['label'].isin(group_list)]\n",
    "print(train_data_df['label'].value_counts())\n",
    "print(val_data_df['label'].value_counts())\n",
    "print(test_data_df['label'].value_counts())"
   ]
  },
  {
   "cell_type": "code",
   "execution_count": 13,
   "metadata": {},
   "outputs": [],
   "source": [
    "def data_for_sota():\n",
    "    # Numerical Labeling - 1 for normal class; -1 for anomaly class                    \n",
    "    train_data_df['new_label'] = train_data_df['label']\n",
    "    train_data_df.loc[train_data_df['label'] == 'earn', 'new_label'] = 1\n",
    "    \n",
    "    train_data_df.loc[train_data_df['label'] != 'earn', 'new_label'] = -1\n",
    "    #train_data_df.loc[train_data_df['label'] == 'acq', 'new_label'] = 1\n",
    "    test_data_df['new_label'] = test_data_df['label']\n",
    "    test_data_df.loc[test_data_df['label'] == 'earn', 'new_label'] = 1\n",
    "    test_data_df.loc[test_data_df['label'] != 'earn', 'new_label'] = -1\n",
    "    #test_data_df.loc[test_data_df['label'] == 'acq', 'new_label'] = 1\n",
    "    # Preparing train data with only normal class\n",
    "    final_train = train_data_df.loc[train_data_df['new_label'] == 1]\n",
    "    print(final_train['new_label'].value_counts())\n",
    "    # Test data with both normal and other classes\n",
    "    final_test = test_data_df\n",
    "    print(final_test['new_label'].value_counts())\n",
    "    return final_train, final_test\n",
    "\n"
   ]
  },
  {
   "cell_type": "code",
   "execution_count": 14,
   "metadata": {},
   "outputs": [
    {
     "name": "stdout",
     "output_type": "stream",
     "text": [
      "1    1348\n",
      "Name: new_label, dtype: int64\n",
      "-1    1236\n",
      " 1    1083\n",
      "Name: new_label, dtype: int64\n"
     ]
    }
   ],
   "source": [
    "final_train, final_test = data_for_sota()"
   ]
  },
  {
   "cell_type": "markdown",
   "metadata": {},
   "source": [
    "Various Embeddings - Bert, Universal Sentence Encoder, Infersent, GloVe, Fasttext, Ensemble Embeddings(Flair + GloVe)"
   ]
  },
  {
   "cell_type": "code",
   "execution_count": 15,
   "metadata": {},
   "outputs": [],
   "source": [
    "# Embedding using Universal Sentence Encoder\n",
    "def embed_module(module):\n",
    "    with tf.Graph().as_default():\n",
    "        sentences = tf.placeholder(tf.string)\n",
    "        embed = hub.Module(module)\n",
    "        embeddings = embed(sentences)\n",
    "        session = tf.train.MonitoredSession()\n",
    "    return lambda x: session.run(embeddings, {sentences: x})\n",
    "\n",
    "def use_embeddings():\n",
    "    train_data_list = []\n",
    "    test_data_list = []\n",
    "    module_url = \"/opt/notebooks/embedding_model/\"\n",
    "    # Import the Universal Sentence Encoder's TF Hub module\n",
    "    embed = embed_module(module_url)\n",
    "    train_data_list = embed(final_train['text'].tolist())\n",
    "    test_data_list = embed(final_test['text'].tolist())\n",
    "    return train_data_list, test_data_list\n",
    "\n",
    "# Bert\n",
    "def bert_embeddings():\n",
    "    train_data_list = []\n",
    "    test_data_list = []\n",
    "    model = SentenceTransformer('bert-base-nli-mean-tokens')\n",
    "    train_data_list = model.encode(final_train['text'].tolist())\n",
    "    test_data_list = model.encode(final_test['text'].tolist())\n",
    "    return train_data_list, test_data_list\n",
    "\n",
    "# Flair - GloVe - XLNet - FastText\n",
    "def other_embeddings(embd):\n",
    "    sess = tf.InteractiveSession()\n",
    "    train_data_list = []\n",
    "    test_data_list = []\n",
    "    if embd == 'glove':\n",
    "        print('Starting Glove Embedding...')\n",
    "        glove_embedding = WordEmbeddings('glove')\n",
    "        document_embeddings = DocumentPoolEmbeddings(embeddings=[glove_embedding])\n",
    "    elif embd == 'xlnet':\n",
    "        print('Starting XLNet Embedding...')\n",
    "        xlnet_embedding = XLNetEmbeddings('xlnet-large-cased')\n",
    "        document_embeddings = DocumentPoolEmbeddings(embeddings=[xlnet_embedding])\n",
    "    elif embd == 'fasttext':\n",
    "        print('Starting Fasttext Embedding...')\n",
    "        fasttext_embedding = FastTextEmbeddings('crawl-300d-2M')\n",
    "        document_embeddings = DocumentPoolEmbeddings(embeddings=[fasttext_embedding])\n",
    "    elif embd == 'elmo':\n",
    "        print('Starting ELMo Embedding...')\n",
    "        elmo_embedding = ELMoEmbeddings()\n",
    "        document_embeddings = DocumentPoolEmbeddings(embeddings=[elmo_embedding])\n",
    "    else:\n",
    "        # init Flair embeddings\n",
    "        print('Starting Ensemble Embedding...')\n",
    "        flair_forward_embedding = FlairEmbeddings('multi-forward')\n",
    "        flair_backward_embedding = FlairEmbeddings('multi-backward')\n",
    "        glove_embedding = WordEmbeddings('glove')\n",
    "        # now create the DocumentPoolEmbeddings object that combines all embeddings\n",
    "        document_embeddings = DocumentPoolEmbeddings(embeddings=[glove_embedding, flair_forward_embedding, flair_backward_embedding])\n",
    "    print('Train embedding Started...')\n",
    "    for text in final_train['text'].tolist():\n",
    "        text = Sentence(text)\n",
    "        document_embeddings.embed(text)\n",
    "        emb = text.get_embedding().detach().numpy()\n",
    "        emb = tf.constant(emb).eval()\n",
    "        train_data_list.append(emb)\n",
    "    print('Embedded Train data!!')\n",
    "    print('Test embedding Started...')\n",
    "    for text in final_test['text'].tolist():\n",
    "        text = Sentence(text)\n",
    "        document_embeddings.embed(text)\n",
    "        emb = text.get_embedding().detach().numpy()\n",
    "        emb = tf.constant(emb).eval()\n",
    "        test_data_list.append(emb)\n",
    "    print('Embedded Test data!!')\n",
    "    return train_data_list, test_data_list\n",
    "\n",
    "def elmo_vectors(x):\n",
    "    elmo = hub.Module(\"https://tfhub.dev/google/elmo/2\", trainable=True)\n",
    "    embeddings = elmo(x, signature=\"default\", as_dict=True)[\"elmo\"]\n",
    "    with tf.Session() as sess:\n",
    "        sess.run(tf.global_variables_initializer())\n",
    "        sess.run(tf.tables_initializer())\n",
    "        # return average of ELMo features\n",
    "        return sess.run(tf.reduce_mean(embeddings,1))\n",
    "        \n",
    "def elmo_embeddings():\n",
    "    train_data_list = []\n",
    "    test_data_list = []\n",
    "    \n",
    "    elmo_train = [elmo_vectors(final_train['text'].tolist())]\n",
    "    elmo_test = [elmo_vectors(final_test['text'].tolist())]\n",
    "    for i in range(len(final_train['text'].tolist())):\n",
    "        train_data_list.append(elmo_train[0][i])\n",
    "    for i in range(len(final_test['text'].tolist())):\n",
    "        test_data_list.append(elmo_test[0][i])\n",
    "    return train_data_list, test_data_list\n",
    "\n",
    "def infersent_embeddings():\n",
    "    train_data_list = []\n",
    "    test_data_list = []\n",
    "    sys.path.append('/opt/notebooks/OCSVM_ISF_LOF_USE_Baselines/InferSent-master')\n",
    "    # Load model\n",
    "    from models import InferSent\n",
    "    model_version = 1\n",
    "    MODEL_PATH = \"/opt/notebooks/OCSVM_ISF_LOF_USE_Baselines/InferSent-master/encoder/infersent%s.pkl\" % model_version\n",
    "    params_model = {'bsize': 64, 'word_emb_dim': 300, 'enc_lstm_dim': 2048,\n",
    "                    'pool_type': 'max', 'dpout_model': 0.0, 'version': model_version}\n",
    "    model = InferSent(params_model)\n",
    "    model.load_state_dict(torch.load(MODEL_PATH))\n",
    "    # Keep it on CPU or put it on GPU\n",
    "    use_cuda = False\n",
    "    model = model.cuda() if use_cuda else model\n",
    "    # If infersent1 -> use GloVe embeddings. If infersent2 -> use InferSent embeddings.\n",
    "    W2V_PATH = '/opt/notebooks/OCSVM_ISF_LOF_USE_Baselines/InferSent-master/glove.840B.300d-003.txt' if model_version == 1 else '/opt/notebooks/OCSVM_ISF_LOF_USE_Baselines/InferSent-master/fastText/crawl-300d-2M.vec'\n",
    "    model.set_w2v_path(W2V_PATH)\n",
    "    # Load embeddings of K most frequent words\n",
    "    model.build_vocab_k_words(K=100000)\n",
    "    train_data_list = model.encode(final_train['text'].tolist(), bsize=128, tokenize=False, verbose=True)\n",
    "    print('nb sentences encoded : {0}'.format(len(train_data_list)))\n",
    "    test_data_list = model.encode(final_test['text'].tolist(), bsize=128, tokenize=False, verbose=True)\n",
    "    print('nb sentences encoded : {0}'.format(len(test_data_list)))\n",
    "    return train_data_list, test_data_list"
   ]
  },
  {
   "cell_type": "code",
   "execution_count": 16,
   "metadata": {},
   "outputs": [
    {
     "name": "stdout",
     "output_type": "stream",
     "text": [
      "WARNING:tensorflow:From /opt/conda/lib/python3.7/site-packages/tensorflow/python/ops/control_flow_ops.py:3632: colocate_with (from tensorflow.python.framework.ops) is deprecated and will be removed in a future version.\n",
      "Instructions for updating:\n",
      "Colocations handled automatically by placer.\n"
     ]
    },
    {
     "name": "stderr",
     "output_type": "stream",
     "text": [
      "W0109 14:38:26.344717 140281482052992 deprecation.py:323] From /opt/conda/lib/python3.7/site-packages/tensorflow/python/ops/control_flow_ops.py:3632: colocate_with (from tensorflow.python.framework.ops) is deprecated and will be removed in a future version.\n",
      "Instructions for updating:\n",
      "Colocations handled automatically by placer.\n"
     ]
    },
    {
     "name": "stdout",
     "output_type": "stream",
     "text": [
      "INFO:tensorflow:Saver not created because there are no variables in the graph to restore\n"
     ]
    },
    {
     "name": "stderr",
     "output_type": "stream",
     "text": [
      "I0109 14:38:27.677556 140281482052992 saver.py:1483] Saver not created because there are no variables in the graph to restore\n"
     ]
    },
    {
     "name": "stdout",
     "output_type": "stream",
     "text": [
      "INFO:tensorflow:Graph was finalized.\n"
     ]
    },
    {
     "name": "stderr",
     "output_type": "stream",
     "text": [
      "I0109 14:38:27.986375 140281482052992 monitored_session.py:222] Graph was finalized.\n"
     ]
    },
    {
     "name": "stdout",
     "output_type": "stream",
     "text": [
      "INFO:tensorflow:Running local_init_op.\n"
     ]
    },
    {
     "name": "stderr",
     "output_type": "stream",
     "text": [
      "I0109 14:38:28.636613 140281482052992 session_manager.py:491] Running local_init_op.\n"
     ]
    },
    {
     "name": "stdout",
     "output_type": "stream",
     "text": [
      "INFO:tensorflow:Done running local_init_op.\n"
     ]
    },
    {
     "name": "stderr",
     "output_type": "stream",
     "text": [
      "I0109 14:38:29.588778 140281482052992 session_manager.py:493] Done running local_init_op.\n"
     ]
    }
   ],
   "source": [
    "# Specify the embeddings 'glove', 'xlnet', 'fasttext', 'elmo', 'ensemble'\n",
    "train_data_list_global, test_data_list_global = use_embeddings()\n",
    "#train_data_list_global, test_data_list_global = bert_embeddings()\n",
    "#train_data_list_global, test_data_list_global = infersent_embeddings()\n",
    "#train_data_list_global, test_data_list_global = elmo_embeddings()\n",
    "#train_data_list_global, test_data_list_global = other_embeddings('glove')"
   ]
  },
  {
   "cell_type": "code",
   "execution_count": 17,
   "metadata": {},
   "outputs": [],
   "source": [
    "train_data_list = train_data_list_global\n",
    "test_data_list = test_data_list_global"
   ]
  },
  {
   "cell_type": "code",
   "execution_count": 18,
   "metadata": {},
   "outputs": [],
   "source": [
    "# OCSVM model\n",
    "def oneclass_svm(dataset, kernel, nu):\n",
    "    svm = OneClassSVM(kernel=kernel, nu=nu).fit(dataset)\n",
    "    return svm\n",
    "  \n",
    "# Isolation Forest\n",
    "def isolationForest(dataset, rng):\n",
    "    isolationforest = IsolationForest(behaviour='new', max_samples=100, random_state=rng, contamination='auto').fit(dataset)\n",
    "    return isolationforest\n",
    "\n",
    "def local_outlier_factory(dataset, neighbours):\n",
    "    lof = LocalOutlierFactor(n_neighbors=neighbours, contamination=0.1,novelty=True).fit(dataset)\n",
    "    return lof\n",
    "\n",
    "def pca(train, test):\n",
    "    print('Principal Component Analysis ...')\n",
    "    ss = StandardScaler()\n",
    "    ss.fit(train)\n",
    "    train = ss.transform(train)\n",
    "    test = ss.transform(test)\n",
    "    pca = PCA()\n",
    "    pca = pca.fit(train)\n",
    "    print('Explained variance percentage = %0.2f' % sum(pca.explained_variance_ratio_))\n",
    "    plt.plot(np.cumsum(pca.explained_variance_ratio_))\n",
    "    plt.xlabel('Number of components')\n",
    "    plt.ylabel('Cumulative explained variance')\n",
    "    train = pca.transform(train)\n",
    "    test = pca.transform(test)\n",
    "    return train, test\n",
    "\n",
    "def results(model, train_true_labels, train_predicted_labels, test_true_labels, test_predicted_labels):\n",
    "    print('Model: ', model)\n",
    "    print(\"Train accuracy:\", accuracy_score(train_true_labels, train_predicted_labels))\n",
    "    print(\"Test accuracy:\", accuracy_score(test_true_labels, test_predicted_labels))\n",
    "    results = confusion_matrix(test_true_labels, test_predicted_labels, [1,-1]) \n",
    "    #print('Confusion Matrix :')\n",
    "    #print(results) \n",
    "    #print('Report : ')\n",
    "    LABELS = [\"known\", \"unknown\"]\n",
    "    plt.figure(figsize=(6, 6))\n",
    "    sns.heatmap(results, xticklabels=LABELS, yticklabels=LABELS, annot=True, fmt=\"d\");\n",
    "    plt.title(\"Confusion matrix - Reuters - \" + str(model))\n",
    "    plt.ylabel('True class')\n",
    "    plt.xlabel('Predicted class')\n",
    "    plt.show()\n",
    "    print(classification_report(test_true_labels, test_predicted_labels))"
   ]
  },
  {
   "cell_type": "code",
   "execution_count": 19,
   "metadata": {},
   "outputs": [
    {
     "name": "stdout",
     "output_type": "stream",
     "text": [
      "Principal Component Analysis ...\n",
      "Explained variance percentage = 1.00\n"
     ]
    },
    {
     "data": {
      "image/png": "[encoded data removed]",
      "text/plain": [
       "<Figure size 432x288 with 1 Axes>"
      ]
     },
     "metadata": {
      "needs_background": "light"
     },
     "output_type": "display_data"
    }
   ],
   "source": [
    "train_data_list, test_data_list = pca(train_data_list, test_data_list)"
   ]
  },
  {
   "cell_type": "code",
   "execution_count": 20,
   "metadata": {},
   "outputs": [
    {
     "name": "stdout",
     "output_type": "stream",
     "text": [
      "Model:  one Class SVM\n",
      "Train accuracy: 0.8968842729970327\n",
      "Test accuracy: 0.7317809400603709\n"
     ]
    },
    {
     "data": {
      "image/png": "[encoded data removed]",
      "text/plain": [
       "<Figure size 432x432 with 2 Axes>"
      ]
     },
     "metadata": {
      "needs_background": "light"
     },
     "output_type": "display_data"
    },
    {
     "ename": "NameError",
     "evalue": "name 'classification_report' is not defined",
     "output_type": "error",
     "traceback": [
      "\u001b[0;31m---------------------------------------------------------------------------\u001b[0m",
      "\u001b[0;31mNameError\u001b[0m                                 Traceback (most recent call last)",
      "\u001b[0;32m<ipython-input-20-f5ac28feab4f>\u001b[0m in \u001b[0;36m<module>\u001b[0;34m\u001b[0m\n\u001b[1;32m      2\u001b[0m \u001b[0my_pred_train\u001b[0m \u001b[0;34m=\u001b[0m \u001b[0msvm_model\u001b[0m\u001b[0;34m.\u001b[0m\u001b[0mpredict\u001b[0m\u001b[0;34m(\u001b[0m\u001b[0mtrain_data_list\u001b[0m\u001b[0;34m)\u001b[0m\u001b[0;34m\u001b[0m\u001b[0;34m\u001b[0m\u001b[0m\n\u001b[1;32m      3\u001b[0m \u001b[0my_pred_test_svm\u001b[0m \u001b[0;34m=\u001b[0m \u001b[0msvm_model\u001b[0m\u001b[0;34m.\u001b[0m\u001b[0mpredict\u001b[0m\u001b[0;34m(\u001b[0m\u001b[0mtest_data_list\u001b[0m\u001b[0;34m)\u001b[0m\u001b[0;34m\u001b[0m\u001b[0;34m\u001b[0m\u001b[0m\n\u001b[0;32m----> 4\u001b[0;31m \u001b[0mresults\u001b[0m\u001b[0;34m(\u001b[0m\u001b[0;34m'one Class SVM'\u001b[0m\u001b[0;34m,\u001b[0m \u001b[0mfinal_train\u001b[0m\u001b[0;34m[\u001b[0m\u001b[0;34m'new_label'\u001b[0m\u001b[0;34m]\u001b[0m\u001b[0;34m.\u001b[0m\u001b[0mtolist\u001b[0m\u001b[0;34m(\u001b[0m\u001b[0;34m)\u001b[0m\u001b[0;34m,\u001b[0m \u001b[0my_pred_train\u001b[0m\u001b[0;34m,\u001b[0m \u001b[0mfinal_test\u001b[0m\u001b[0;34m[\u001b[0m\u001b[0;34m'new_label'\u001b[0m\u001b[0;34m]\u001b[0m\u001b[0;34m.\u001b[0m\u001b[0mtolist\u001b[0m\u001b[0;34m(\u001b[0m\u001b[0;34m)\u001b[0m\u001b[0;34m,\u001b[0m \u001b[0my_pred_test_svm\u001b[0m\u001b[0;34m)\u001b[0m\u001b[0;34m\u001b[0m\u001b[0;34m\u001b[0m\u001b[0m\n\u001b[0m",
      "\u001b[0;32m<ipython-input-18-218546d2d7b6>\u001b[0m in \u001b[0;36mresults\u001b[0;34m(model, train_true_labels, train_predicted_labels, test_true_labels, test_predicted_labels)\u001b[0m\n\u001b[1;32m     44\u001b[0m     \u001b[0mplt\u001b[0m\u001b[0;34m.\u001b[0m\u001b[0mxlabel\u001b[0m\u001b[0;34m(\u001b[0m\u001b[0;34m'Predicted class'\u001b[0m\u001b[0;34m)\u001b[0m\u001b[0;34m\u001b[0m\u001b[0;34m\u001b[0m\u001b[0m\n\u001b[1;32m     45\u001b[0m     \u001b[0mplt\u001b[0m\u001b[0;34m.\u001b[0m\u001b[0mshow\u001b[0m\u001b[0;34m(\u001b[0m\u001b[0;34m)\u001b[0m\u001b[0;34m\u001b[0m\u001b[0;34m\u001b[0m\u001b[0m\n\u001b[0;32m---> 46\u001b[0;31m     \u001b[0mprint\u001b[0m\u001b[0;34m(\u001b[0m\u001b[0mclassification_report\u001b[0m\u001b[0;34m(\u001b[0m\u001b[0mtest_true_labels\u001b[0m\u001b[0;34m,\u001b[0m \u001b[0mtest_predicted_labels\u001b[0m\u001b[0;34m)\u001b[0m\u001b[0;34m)\u001b[0m\u001b[0;34m\u001b[0m\u001b[0;34m\u001b[0m\u001b[0m\n\u001b[0m",
      "\u001b[0;31mNameError\u001b[0m: name 'classification_report' is not defined"
     ]
    }
   ],
   "source": [
    "svm_model = oneclass_svm(train_data_list, 'rbf', 0.1)\n",
    "y_pred_train = svm_model.predict(train_data_list)\n",
    "y_pred_test_svm = svm_model.predict(test_data_list)\n",
    "results('one Class SVM', final_train['new_label'].tolist(), y_pred_train, final_test['new_label'].tolist(), y_pred_test_svm)"
   ]
  },
  {
   "cell_type": "code",
   "execution_count": 14,
   "metadata": {},
   "outputs": [],
   "source": [
    "#train_scores_svm = svm_model.decision_function(train_data_list)\n",
    "#test_scores_svm = svm_model.decision_function(test_data_list)\n",
    "#print(train_scores)"
   ]
  },
  {
   "cell_type": "code",
   "execution_count": 21,
   "metadata": {},
   "outputs": [
    {
     "name": "stdout",
     "output_type": "stream",
     "text": [
      "Model:  Isolation Forest\n",
      "Train accuracy: 0.9851632047477745\n",
      "Test accuracy: 0.764984907287624\n"
     ]
    },
    {
     "data": {
      "image/png": "[encoded data removed]",
      "text/plain": [
       "<Figure size 432x432 with 2 Axes>"
      ]
     },
     "metadata": {
      "needs_background": "light"
     },
     "output_type": "display_data"
    },
    {
     "ename": "NameError",
     "evalue": "name 'classification_report' is not defined",
     "output_type": "error",
     "traceback": [
      "\u001b[0;31m---------------------------------------------------------------------------\u001b[0m",
      "\u001b[0;31mNameError\u001b[0m                                 Traceback (most recent call last)",
      "\u001b[0;32m<ipython-input-21-ad1d0de9cfe9>\u001b[0m in \u001b[0;36m<module>\u001b[0;34m\u001b[0m\n\u001b[1;32m      3\u001b[0m \u001b[0my_pred_iso_train\u001b[0m \u001b[0;34m=\u001b[0m \u001b[0miso_forest\u001b[0m\u001b[0;34m.\u001b[0m\u001b[0mpredict\u001b[0m\u001b[0;34m(\u001b[0m\u001b[0mtrain_data_list\u001b[0m\u001b[0;34m)\u001b[0m\u001b[0;34m\u001b[0m\u001b[0;34m\u001b[0m\u001b[0m\n\u001b[1;32m      4\u001b[0m \u001b[0my_pred_iso_test\u001b[0m \u001b[0;34m=\u001b[0m \u001b[0miso_forest\u001b[0m\u001b[0;34m.\u001b[0m\u001b[0mpredict\u001b[0m\u001b[0;34m(\u001b[0m\u001b[0mtest_data_list\u001b[0m\u001b[0;34m)\u001b[0m\u001b[0;34m\u001b[0m\u001b[0;34m\u001b[0m\u001b[0m\n\u001b[0;32m----> 5\u001b[0;31m \u001b[0mresults\u001b[0m\u001b[0;34m(\u001b[0m\u001b[0;34m'Isolation Forest'\u001b[0m\u001b[0;34m,\u001b[0m \u001b[0mfinal_train\u001b[0m\u001b[0;34m[\u001b[0m\u001b[0;34m'new_label'\u001b[0m\u001b[0;34m]\u001b[0m\u001b[0;34m.\u001b[0m\u001b[0mtolist\u001b[0m\u001b[0;34m(\u001b[0m\u001b[0;34m)\u001b[0m\u001b[0;34m,\u001b[0m \u001b[0my_pred_iso_train\u001b[0m\u001b[0;34m,\u001b[0m \u001b[0mfinal_test\u001b[0m\u001b[0;34m[\u001b[0m\u001b[0;34m'new_label'\u001b[0m\u001b[0;34m]\u001b[0m\u001b[0;34m.\u001b[0m\u001b[0mtolist\u001b[0m\u001b[0;34m(\u001b[0m\u001b[0;34m)\u001b[0m\u001b[0;34m,\u001b[0m \u001b[0my_pred_iso_test\u001b[0m\u001b[0;34m)\u001b[0m\u001b[0;34m\u001b[0m\u001b[0;34m\u001b[0m\u001b[0m\n\u001b[0m",
      "\u001b[0;32m<ipython-input-18-218546d2d7b6>\u001b[0m in \u001b[0;36mresults\u001b[0;34m(model, train_true_labels, train_predicted_labels, test_true_labels, test_predicted_labels)\u001b[0m\n\u001b[1;32m     44\u001b[0m     \u001b[0mplt\u001b[0m\u001b[0;34m.\u001b[0m\u001b[0mxlabel\u001b[0m\u001b[0;34m(\u001b[0m\u001b[0;34m'Predicted class'\u001b[0m\u001b[0;34m)\u001b[0m\u001b[0;34m\u001b[0m\u001b[0;34m\u001b[0m\u001b[0m\n\u001b[1;32m     45\u001b[0m     \u001b[0mplt\u001b[0m\u001b[0;34m.\u001b[0m\u001b[0mshow\u001b[0m\u001b[0;34m(\u001b[0m\u001b[0;34m)\u001b[0m\u001b[0;34m\u001b[0m\u001b[0;34m\u001b[0m\u001b[0m\n\u001b[0;32m---> 46\u001b[0;31m     \u001b[0mprint\u001b[0m\u001b[0;34m(\u001b[0m\u001b[0mclassification_report\u001b[0m\u001b[0;34m(\u001b[0m\u001b[0mtest_true_labels\u001b[0m\u001b[0;34m,\u001b[0m \u001b[0mtest_predicted_labels\u001b[0m\u001b[0;34m)\u001b[0m\u001b[0;34m)\u001b[0m\u001b[0;34m\u001b[0m\u001b[0;34m\u001b[0m\u001b[0m\n\u001b[0m",
      "\u001b[0;31mNameError\u001b[0m: name 'classification_report' is not defined"
     ]
    }
   ],
   "source": [
    "rand_state = np.random.RandomState(42)\n",
    "iso_forest = isolationForest(train_data_list, rand_state)\n",
    "y_pred_iso_train = iso_forest.predict(train_data_list)\n",
    "y_pred_iso_test = iso_forest.predict(test_data_list)\n",
    "results('Isolation Forest', final_train['new_label'].tolist(), y_pred_iso_train, final_test['new_label'].tolist(), y_pred_iso_test)"
   ]
  },
  {
   "cell_type": "code",
   "execution_count": 22,
   "metadata": {},
   "outputs": [
    {
     "name": "stdout",
     "output_type": "stream",
     "text": [
      "Model:  Local Outlier Factory\n",
      "Train accuracy: 0.8998516320474778\n",
      "Test accuracy: 0.6998706338939198\n"
     ]
    },
    {
     "data": {
      "image/png": "[encoded data removed]",
      "text/plain": [
       "<Figure size 432x432 with 2 Axes>"
      ]
     },
     "metadata": {
      "needs_background": "light"
     },
     "output_type": "display_data"
    },
    {
     "ename": "NameError",
     "evalue": "name 'classification_report' is not defined",
     "output_type": "error",
     "traceback": [
      "\u001b[0;31m---------------------------------------------------------------------------\u001b[0m",
      "\u001b[0;31mNameError\u001b[0m                                 Traceback (most recent call last)",
      "\u001b[0;32m<ipython-input-22-56596a26b8ed>\u001b[0m in \u001b[0;36m<module>\u001b[0;34m\u001b[0m\n\u001b[1;32m      2\u001b[0m \u001b[0my_pred_lof_train\u001b[0m \u001b[0;34m=\u001b[0m \u001b[0mlof\u001b[0m\u001b[0;34m.\u001b[0m\u001b[0mpredict\u001b[0m\u001b[0;34m(\u001b[0m\u001b[0mtrain_data_list\u001b[0m\u001b[0;34m)\u001b[0m\u001b[0;34m\u001b[0m\u001b[0;34m\u001b[0m\u001b[0m\n\u001b[1;32m      3\u001b[0m \u001b[0my_pred_lof_test\u001b[0m \u001b[0;34m=\u001b[0m \u001b[0mlof\u001b[0m\u001b[0;34m.\u001b[0m\u001b[0mpredict\u001b[0m\u001b[0;34m(\u001b[0m\u001b[0mtest_data_list\u001b[0m\u001b[0;34m)\u001b[0m\u001b[0;34m\u001b[0m\u001b[0;34m\u001b[0m\u001b[0m\n\u001b[0;32m----> 4\u001b[0;31m \u001b[0mresults\u001b[0m\u001b[0;34m(\u001b[0m\u001b[0;34m'Local Outlier Factory'\u001b[0m\u001b[0;34m,\u001b[0m \u001b[0mfinal_train\u001b[0m\u001b[0;34m[\u001b[0m\u001b[0;34m'new_label'\u001b[0m\u001b[0;34m]\u001b[0m\u001b[0;34m.\u001b[0m\u001b[0mtolist\u001b[0m\u001b[0;34m(\u001b[0m\u001b[0;34m)\u001b[0m\u001b[0;34m,\u001b[0m \u001b[0my_pred_lof_train\u001b[0m\u001b[0;34m,\u001b[0m \u001b[0mfinal_test\u001b[0m\u001b[0;34m[\u001b[0m\u001b[0;34m'new_label'\u001b[0m\u001b[0;34m]\u001b[0m\u001b[0;34m.\u001b[0m\u001b[0mtolist\u001b[0m\u001b[0;34m(\u001b[0m\u001b[0;34m)\u001b[0m\u001b[0;34m,\u001b[0m \u001b[0my_pred_lof_test\u001b[0m\u001b[0;34m)\u001b[0m\u001b[0;34m\u001b[0m\u001b[0;34m\u001b[0m\u001b[0m\n\u001b[0m",
      "\u001b[0;32m<ipython-input-18-218546d2d7b6>\u001b[0m in \u001b[0;36mresults\u001b[0;34m(model, train_true_labels, train_predicted_labels, test_true_labels, test_predicted_labels)\u001b[0m\n\u001b[1;32m     44\u001b[0m     \u001b[0mplt\u001b[0m\u001b[0;34m.\u001b[0m\u001b[0mxlabel\u001b[0m\u001b[0;34m(\u001b[0m\u001b[0;34m'Predicted class'\u001b[0m\u001b[0;34m)\u001b[0m\u001b[0;34m\u001b[0m\u001b[0;34m\u001b[0m\u001b[0m\n\u001b[1;32m     45\u001b[0m     \u001b[0mplt\u001b[0m\u001b[0;34m.\u001b[0m\u001b[0mshow\u001b[0m\u001b[0;34m(\u001b[0m\u001b[0;34m)\u001b[0m\u001b[0;34m\u001b[0m\u001b[0;34m\u001b[0m\u001b[0m\n\u001b[0;32m---> 46\u001b[0;31m     \u001b[0mprint\u001b[0m\u001b[0;34m(\u001b[0m\u001b[0mclassification_report\u001b[0m\u001b[0;34m(\u001b[0m\u001b[0mtest_true_labels\u001b[0m\u001b[0;34m,\u001b[0m \u001b[0mtest_predicted_labels\u001b[0m\u001b[0;34m)\u001b[0m\u001b[0;34m)\u001b[0m\u001b[0;34m\u001b[0m\u001b[0;34m\u001b[0m\u001b[0m\n\u001b[0m",
      "\u001b[0;31mNameError\u001b[0m: name 'classification_report' is not defined"
     ]
    }
   ],
   "source": [
    "lof = local_outlier_factory(train_data_list, 1000)\n",
    "y_pred_lof_train = lof.predict(train_data_list)\n",
    "y_pred_lof_test = lof.predict(test_data_list)\n",
    "results('Local Outlier Factory', final_train['new_label'].tolist(), y_pred_lof_train, final_test['new_label'].tolist(), y_pred_lof_test)"
   ]
  },
  {
   "cell_type": "code",
   "execution_count": 23,
   "metadata": {},
   "outputs": [],
   "source": [
    "# Converting the train and test data into dataframe\n",
    "train_data_df = pd.DataFrame(train_data, columns = ['text' , 'label'])\n",
    "test_data_df = pd.DataFrame(test_data, columns = ['text' , 'label'])\n",
    "class_list = ['earn', 'acq', 'crude', 'interest', 'trade', 'ship', 'money-fx']\n",
    "train_data_df = train_data_df[train_data_df['label'].isin(class_list)]\n",
    "test_data_df = test_data_df[test_data_df['label'].isin(class_list)]\n",
    "#train_data_df['label'].value_counts()\n",
    "#test_data_df['label'].value_counts()"
   ]
  },
  {
   "cell_type": "code",
   "execution_count": 24,
   "metadata": {},
   "outputs": [],
   "source": [
    "def data_for_autoencoder():\n",
    "    # Numerical Labeling - 1 for normal class; -1 for anomaly class                    \n",
    "    train_data_df['new_label'] = train_data_df['label']\n",
    "    train_data_df.loc[train_data_df['label'] == 'earn', 'new_label'] = 0\n",
    "    train_data_df.loc[train_data_df['label'] != 'earn', 'new_label'] = 1\n",
    "    #train_data_df.loc[train_data_df['label'] == 'acq', 'new_label'] = 0\n",
    "    test_data_df['new_label'] = test_data_df['label']\n",
    "    test_data_df.loc[test_data_df['label'] == 'earn', 'new_label'] = 0\n",
    "    test_data_df.loc[test_data_df['label'] != 'earn', 'new_label'] = 1\n",
    "    #test_data_df.loc[test_data_df['label'] == 'acq', 'new_label'] = 0\n",
    "    # Preparing train data with only normal class\n",
    "    final_train = train_data_df.loc[train_data_df['new_label'] == 0]\n",
    "    #df2 = [{'text': '', 'label': 'test', 'new_label': 1}, {'text': '', 'label': 'test', 'new_label': 1}, {'text': '', 'label': 'test', 'new_label': 1}, {'text': '', 'label': 'test', 'new_label': 1}, {'text': '', 'label': 'test', 'new_label': 1}, {'text': '', 'label': 'test', 'new_label': 1}, {'text': '', 'label': 'test', 'new_label': 1}, {'text': '', 'label': 'test', 'new_label': 1}]\n",
    "    #final_train = final_train.append(df2, ignore_index=True)\n",
    "    print(final_train['new_label'].value_counts())\n",
    "    # Test data with both normal and other classes\n",
    "    final_test = test_data_df\n",
    "    print(final_test['new_label'].value_counts())\n",
    "    return final_train, final_test"
   ]
  },
  {
   "cell_type": "code",
   "execution_count": 25,
   "metadata": {},
   "outputs": [
    {
     "name": "stdout",
     "output_type": "stream",
     "text": [
      "0    2843\n",
      "Name: new_label, dtype: int64\n",
      "1    1236\n",
      "0    1083\n",
      "Name: new_label, dtype: int64\n"
     ]
    }
   ],
   "source": [
    "final_train, final_test = data_for_autoencoder()"
   ]
  },
  {
   "cell_type": "code",
   "execution_count": 26,
   "metadata": {},
   "outputs": [
    {
     "name": "stdout",
     "output_type": "stream",
     "text": [
      "INFO:tensorflow:Saver not created because there are no variables in the graph to restore\n"
     ]
    },
    {
     "name": "stderr",
     "output_type": "stream",
     "text": [
      "I0109 14:42:18.916901 140281482052992 saver.py:1483] Saver not created because there are no variables in the graph to restore\n"
     ]
    },
    {
     "name": "stdout",
     "output_type": "stream",
     "text": [
      "INFO:tensorflow:Graph was finalized.\n"
     ]
    },
    {
     "name": "stderr",
     "output_type": "stream",
     "text": [
      "I0109 14:42:19.219558 140281482052992 monitored_session.py:222] Graph was finalized.\n"
     ]
    },
    {
     "name": "stdout",
     "output_type": "stream",
     "text": [
      "INFO:tensorflow:Running local_init_op.\n"
     ]
    },
    {
     "name": "stderr",
     "output_type": "stream",
     "text": [
      "I0109 14:42:19.808072 140281482052992 session_manager.py:491] Running local_init_op.\n"
     ]
    },
    {
     "name": "stdout",
     "output_type": "stream",
     "text": [
      "INFO:tensorflow:Done running local_init_op.\n"
     ]
    },
    {
     "name": "stderr",
     "output_type": "stream",
     "text": [
      "I0109 14:42:20.895150 140281482052992 session_manager.py:493] Done running local_init_op.\n"
     ]
    }
   ],
   "source": [
    "# Specify the embeddings 'glove', 'xlnet', 'fasttext', 'elmo', 'ensemble'\n",
    "train_data_list, test_data_list = use_embeddings()\n",
    "#train_data_list, test_data_list = bert_embeddings()\n",
    "#train_data_list, test_data_list = infersent_embeddings()\n",
    "#train_data_list, test_data_list = elmo_embeddings()\n",
    "#train_data_list, test_data_list = other_embeddings('ensemble')"
   ]
  },
  {
   "cell_type": "code",
   "execution_count": 27,
   "metadata": {},
   "outputs": [],
   "source": [
    "X_train = train_data_list\n",
    "y_train = final_train['new_label'].tolist()\n",
    "X_test = test_data_list\n",
    "y_test = final_test['new_label'].tolist()"
   ]
  },
  {
   "cell_type": "code",
   "execution_count": 28,
   "metadata": {},
   "outputs": [],
   "source": [
    "X_train = np.asarray(X_train)\n",
    "X_test = np.asarray(X_test)"
   ]
  },
  {
   "cell_type": "code",
   "execution_count": 29,
   "metadata": {
    "scrolled": true
   },
   "outputs": [
    {
     "name": "stdout",
     "output_type": "stream",
     "text": [
      "WARNING:tensorflow:From /opt/conda/lib/python3.7/site-packages/tensorflow/python/ops/math_ops.py:3066: to_int32 (from tensorflow.python.ops.math_ops) is deprecated and will be removed in a future version.\n",
      "Instructions for updating:\n",
      "Use tf.cast instead.\n"
     ]
    },
    {
     "name": "stderr",
     "output_type": "stream",
     "text": [
      "W0109 14:43:28.196328 140281482052992 deprecation.py:323] From /opt/conda/lib/python3.7/site-packages/tensorflow/python/ops/math_ops.py:3066: to_int32 (from tensorflow.python.ops.math_ops) is deprecated and will be removed in a future version.\n",
      "Instructions for updating:\n",
      "Use tf.cast instead.\n"
     ]
    },
    {
     "name": "stdout",
     "output_type": "stream",
     "text": [
      "Train on 2843 samples, validate on 2319 samples\n",
      "Epoch 1/100\n",
      "2843/2843 [==============================] - 1s 210us/step - loss: 0.0023 - accuracy: 0.0566 - val_loss: 0.0020 - val_accuracy: 0.0970\n",
      "Epoch 2/100\n",
      "2843/2843 [==============================] - 0s 125us/step - loss: 0.0018 - accuracy: 0.1755 - val_loss: 0.0019 - val_accuracy: 0.0927\n",
      "Epoch 3/100\n",
      "2843/2843 [==============================] - 0s 130us/step - loss: 0.0016 - accuracy: 0.2054 - val_loss: 0.0018 - val_accuracy: 0.0927\n",
      "Epoch 4/100\n",
      "2843/2843 [==============================] - 0s 126us/step - loss: 0.0016 - accuracy: 0.2054 - val_loss: 0.0017 - val_accuracy: 0.0927\n",
      "Epoch 5/100\n",
      "2843/2843 [==============================] - 0s 130us/step - loss: 0.0016 - accuracy: 0.2054 - val_loss: 0.0017 - val_accuracy: 0.0927\n",
      "Epoch 6/100\n",
      "2843/2843 [==============================] - 0s 125us/step - loss: 0.0015 - accuracy: 0.2054 - val_loss: 0.0017 - val_accuracy: 0.0927\n",
      "Epoch 7/100\n",
      "2843/2843 [==============================] - 0s 149us/step - loss: 0.0015 - accuracy: 0.2054 - val_loss: 0.0017 - val_accuracy: 0.0927\n",
      "Epoch 8/100\n",
      "2843/2843 [==============================] - 0s 149us/step - loss: 0.0015 - accuracy: 0.2054 - val_loss: 0.0017 - val_accuracy: 0.0927\n",
      "Epoch 9/100\n",
      "2843/2843 [==============================] - 0s 157us/step - loss: 0.0015 - accuracy: 0.2054 - val_loss: 0.0017 - val_accuracy: 0.0927\n",
      "Epoch 10/100\n",
      "2843/2843 [==============================] - 0s 146us/step - loss: 0.0015 - accuracy: 0.2054 - val_loss: 0.0017 - val_accuracy: 0.0927\n",
      "Epoch 11/100\n",
      "2843/2843 [==============================] - 0s 134us/step - loss: 0.0015 - accuracy: 0.2054 - val_loss: 0.0017 - val_accuracy: 0.0927\n",
      "Epoch 12/100\n",
      "2843/2843 [==============================] - 0s 128us/step - loss: 0.0015 - accuracy: 0.2054 - val_loss: 0.0017 - val_accuracy: 0.0927\n",
      "Epoch 13/100\n",
      "2843/2843 [==============================] - 0s 129us/step - loss: 0.0015 - accuracy: 0.2054 - val_loss: 0.0016 - val_accuracy: 0.0927\n",
      "Epoch 14/100\n",
      "2843/2843 [==============================] - 0s 123us/step - loss: 0.0015 - accuracy: 0.2054 - val_loss: 0.0016 - val_accuracy: 0.0927\n",
      "Epoch 15/100\n",
      "2843/2843 [==============================] - 0s 127us/step - loss: 0.0015 - accuracy: 0.2054 - val_loss: 0.0016 - val_accuracy: 0.0927\n",
      "Epoch 16/100\n",
      "2843/2843 [==============================] - 0s 125us/step - loss: 0.0015 - accuracy: 0.2054 - val_loss: 0.0016 - val_accuracy: 0.0927\n",
      "Epoch 17/100\n",
      "2843/2843 [==============================] - 0s 131us/step - loss: 0.0015 - accuracy: 0.2054 - val_loss: 0.0016 - val_accuracy: 0.0927\n",
      "Epoch 18/100\n",
      "2843/2843 [==============================] - 0s 129us/step - loss: 0.0015 - accuracy: 0.2054 - val_loss: 0.0016 - val_accuracy: 0.0927\n",
      "Epoch 19/100\n",
      "2843/2843 [==============================] - 0s 123us/step - loss: 0.0015 - accuracy: 0.2054 - val_loss: 0.0016 - val_accuracy: 0.0927\n",
      "Epoch 20/100\n",
      "2843/2843 [==============================] - 0s 134us/step - loss: 0.0015 - accuracy: 0.2054 - val_loss: 0.0016 - val_accuracy: 0.0927\n",
      "Epoch 21/100\n",
      "2843/2843 [==============================] - 0s 125us/step - loss: 0.0015 - accuracy: 0.2054 - val_loss: 0.0016 - val_accuracy: 0.0927\n",
      "Epoch 22/100\n",
      "2843/2843 [==============================] - 0s 131us/step - loss: 0.0015 - accuracy: 0.2054 - val_loss: 0.0016 - val_accuracy: 0.0927\n",
      "Epoch 23/100\n",
      "2843/2843 [==============================] - 0s 166us/step - loss: 0.0015 - accuracy: 0.2054 - val_loss: 0.0016 - val_accuracy: 0.0927\n",
      "Epoch 24/100\n",
      "2843/2843 [==============================] - 0s 162us/step - loss: 0.0015 - accuracy: 0.2054 - val_loss: 0.0016 - val_accuracy: 0.0927\n",
      "Epoch 25/100\n",
      "2843/2843 [==============================] - 0s 130us/step - loss: 0.0015 - accuracy: 0.2054 - val_loss: 0.0016 - val_accuracy: 0.0927\n",
      "Epoch 26/100\n",
      "2843/2843 [==============================] - 0s 121us/step - loss: 0.0015 - accuracy: 0.2054 - val_loss: 0.0016 - val_accuracy: 0.0927\n",
      "Epoch 27/100\n",
      "2843/2843 [==============================] - 0s 131us/step - loss: 0.0015 - accuracy: 0.2054 - val_loss: 0.0016 - val_accuracy: 0.0927\n",
      "Epoch 28/100\n",
      "2843/2843 [==============================] - 0s 125us/step - loss: 0.0015 - accuracy: 0.2054 - val_loss: 0.0016 - val_accuracy: 0.0927\n",
      "Epoch 29/100\n",
      "2843/2843 [==============================] - 0s 120us/step - loss: 0.0015 - accuracy: 0.2054 - val_loss: 0.0016 - val_accuracy: 0.0927\n",
      "Epoch 30/100\n",
      "2843/2843 [==============================] - 0s 135us/step - loss: 0.0015 - accuracy: 0.2054 - val_loss: 0.0016 - val_accuracy: 0.0927\n",
      "Epoch 31/100\n",
      "2843/2843 [==============================] - 0s 155us/step - loss: 0.0015 - accuracy: 0.2054 - val_loss: 0.0016 - val_accuracy: 0.0927\n",
      "Epoch 32/100\n",
      "2843/2843 [==============================] - 0s 173us/step - loss: 0.0015 - accuracy: 0.2054 - val_loss: 0.0016 - val_accuracy: 0.0927\n",
      "Epoch 33/100\n",
      "2843/2843 [==============================] - 0s 162us/step - loss: 0.0015 - accuracy: 0.2054 - val_loss: 0.0016 - val_accuracy: 0.0927\n",
      "Epoch 34/100\n",
      "2843/2843 [==============================] - 0s 168us/step - loss: 0.0014 - accuracy: 0.2054 - val_loss: 0.0016 - val_accuracy: 0.0927\n",
      "Epoch 35/100\n",
      "2843/2843 [==============================] - 0s 153us/step - loss: 0.0014 - accuracy: 0.2054 - val_loss: 0.0016 - val_accuracy: 0.0927\n",
      "Epoch 36/100\n",
      "2843/2843 [==============================] - 0s 164us/step - loss: 0.0014 - accuracy: 0.2054 - val_loss: 0.0016 - val_accuracy: 0.0927\n",
      "Epoch 37/100\n",
      "2843/2843 [==============================] - 0s 157us/step - loss: 0.0014 - accuracy: 0.2054 - val_loss: 0.0016 - val_accuracy: 0.0927\n",
      "Epoch 38/100\n",
      "2843/2843 [==============================] - 0s 154us/step - loss: 0.0014 - accuracy: 0.2054 - val_loss: 0.0016 - val_accuracy: 0.0927\n",
      "Epoch 39/100\n",
      "2843/2843 [==============================] - 0s 172us/step - loss: 0.0014 - accuracy: 0.2054 - val_loss: 0.0016 - val_accuracy: 0.0927\n",
      "Epoch 40/100\n",
      "2843/2843 [==============================] - 0s 161us/step - loss: 0.0014 - accuracy: 0.2054 - val_loss: 0.0016 - val_accuracy: 0.0970\n",
      "Epoch 41/100\n",
      "2843/2843 [==============================] - 0s 160us/step - loss: 0.0014 - accuracy: 0.2515 - val_loss: 0.0016 - val_accuracy: 0.2350\n",
      "Epoch 42/100\n",
      "2843/2843 [==============================] - 0s 165us/step - loss: 0.0014 - accuracy: 0.2620 - val_loss: 0.0016 - val_accuracy: 0.2445\n",
      "Epoch 43/100\n",
      "2843/2843 [==============================] - 0s 151us/step - loss: 0.0014 - accuracy: 0.2916 - val_loss: 0.0016 - val_accuracy: 0.2096\n",
      "Epoch 44/100\n",
      "2843/2843 [==============================] - 0s 163us/step - loss: 0.0014 - accuracy: 0.2948 - val_loss: 0.0016 - val_accuracy: 0.2393\n",
      "Epoch 45/100\n",
      "2843/2843 [==============================] - 0s 175us/step - loss: 0.0014 - accuracy: 0.2912 - val_loss: 0.0015 - val_accuracy: 0.2363\n",
      "Epoch 46/100\n",
      "2843/2843 [==============================] - 0s 150us/step - loss: 0.0014 - accuracy: 0.2905 - val_loss: 0.0015 - val_accuracy: 0.2199\n",
      "Epoch 47/100\n",
      "2843/2843 [==============================] - 0s 126us/step - loss: 0.0014 - accuracy: 0.2955 - val_loss: 0.0016 - val_accuracy: 0.2329\n",
      "Epoch 48/100\n",
      "2843/2843 [==============================] - 0s 129us/step - loss: 0.0014 - accuracy: 0.3028 - val_loss: 0.0016 - val_accuracy: 0.2445\n",
      "Epoch 49/100\n",
      "2843/2843 [==============================] - 0s 132us/step - loss: 0.0014 - accuracy: 0.3046 - val_loss: 0.0015 - val_accuracy: 0.2454\n",
      "Epoch 50/100\n",
      "2843/2843 [==============================] - 0s 125us/step - loss: 0.0014 - accuracy: 0.3046 - val_loss: 0.0015 - val_accuracy: 0.2648\n",
      "Epoch 51/100\n",
      "2843/2843 [==============================] - 0s 125us/step - loss: 0.0014 - accuracy: 0.3113 - val_loss: 0.0015 - val_accuracy: 0.2781\n",
      "Epoch 52/100\n",
      "2843/2843 [==============================] - 0s 111us/step - loss: 0.0014 - accuracy: 0.3141 - val_loss: 0.0015 - val_accuracy: 0.2393\n",
      "Epoch 53/100\n",
      "2843/2843 [==============================] - 0s 134us/step - loss: 0.0014 - accuracy: 0.3109 - val_loss: 0.0015 - val_accuracy: 0.2764\n",
      "Epoch 54/100\n",
      "2843/2843 [==============================] - 0s 129us/step - loss: 0.0014 - accuracy: 0.3057 - val_loss: 0.0015 - val_accuracy: 0.2372\n",
      "Epoch 55/100\n",
      "2843/2843 [==============================] - 0s 130us/step - loss: 0.0014 - accuracy: 0.3169 - val_loss: 0.0015 - val_accuracy: 0.2635\n",
      "Epoch 56/100\n"
     ]
    },
    {
     "name": "stdout",
     "output_type": "stream",
     "text": [
      "2843/2843 [==============================] - 0s 122us/step - loss: 0.0014 - accuracy: 0.3053 - val_loss: 0.0015 - val_accuracy: 0.2527\n",
      "Epoch 57/100\n",
      "2843/2843 [==============================] - 0s 135us/step - loss: 0.0014 - accuracy: 0.3173 - val_loss: 0.0015 - val_accuracy: 0.2734\n",
      "Epoch 58/100\n",
      "2843/2843 [==============================] - 0s 166us/step - loss: 0.0014 - accuracy: 0.3078 - val_loss: 0.0015 - val_accuracy: 0.2708\n",
      "Epoch 59/100\n",
      "2843/2843 [==============================] - 0s 163us/step - loss: 0.0014 - accuracy: 0.3078 - val_loss: 0.0015 - val_accuracy: 0.2501\n",
      "Epoch 60/100\n",
      "2843/2843 [==============================] - 0s 165us/step - loss: 0.0014 - accuracy: 0.3081 - val_loss: 0.0015 - val_accuracy: 0.2290\n",
      "Epoch 61/100\n",
      "2843/2843 [==============================] - 0s 154us/step - loss: 0.0014 - accuracy: 0.3078 - val_loss: 0.0015 - val_accuracy: 0.2385\n",
      "Epoch 62/100\n",
      "2843/2843 [==============================] - 0s 172us/step - loss: 0.0014 - accuracy: 0.3127 - val_loss: 0.0015 - val_accuracy: 0.2721\n",
      "Epoch 63/100\n",
      "2843/2843 [==============================] - 0s 157us/step - loss: 0.0014 - accuracy: 0.3145 - val_loss: 0.0015 - val_accuracy: 0.2885\n",
      "Epoch 64/100\n",
      "2843/2843 [==============================] - 0s 168us/step - loss: 0.0014 - accuracy: 0.3285 - val_loss: 0.0015 - val_accuracy: 0.2695\n",
      "Epoch 65/100\n",
      "2843/2843 [==============================] - 0s 160us/step - loss: 0.0014 - accuracy: 0.3218 - val_loss: 0.0015 - val_accuracy: 0.2997\n",
      "Epoch 66/100\n",
      "2843/2843 [==============================] - 0s 170us/step - loss: 0.0014 - accuracy: 0.3310 - val_loss: 0.0015 - val_accuracy: 0.2889\n",
      "Epoch 67/100\n",
      "2843/2843 [==============================] - 0s 163us/step - loss: 0.0014 - accuracy: 0.3401 - val_loss: 0.0015 - val_accuracy: 0.3040\n",
      "Epoch 68/100\n",
      "2843/2843 [==============================] - 0s 164us/step - loss: 0.0014 - accuracy: 0.3401 - val_loss: 0.0015 - val_accuracy: 0.2868\n",
      "Epoch 69/100\n",
      "2843/2843 [==============================] - 0s 167us/step - loss: 0.0014 - accuracy: 0.3384 - val_loss: 0.0015 - val_accuracy: 0.3023\n",
      "Epoch 70/100\n",
      "2843/2843 [==============================] - 0s 130us/step - loss: 0.0014 - accuracy: 0.3458 - val_loss: 0.0015 - val_accuracy: 0.3053\n",
      "Epoch 71/100\n",
      "2843/2843 [==============================] - 0s 119us/step - loss: 0.0014 - accuracy: 0.3468 - val_loss: 0.0015 - val_accuracy: 0.2790\n",
      "Epoch 72/100\n",
      "2843/2843 [==============================] - 0s 129us/step - loss: 0.0014 - accuracy: 0.3465 - val_loss: 0.0015 - val_accuracy: 0.3057\n",
      "Epoch 73/100\n",
      "2843/2843 [==============================] - 0s 136us/step - loss: 0.0014 - accuracy: 0.3539 - val_loss: 0.0015 - val_accuracy: 0.2988\n",
      "Epoch 74/100\n",
      "2843/2843 [==============================] - 0s 115us/step - loss: 0.0014 - accuracy: 0.3637 - val_loss: 0.0015 - val_accuracy: 0.3027\n",
      "Epoch 75/100\n",
      "2843/2843 [==============================] - 0s 131us/step - loss: 0.0014 - accuracy: 0.3422 - val_loss: 0.0015 - val_accuracy: 0.3083\n",
      "Epoch 76/100\n",
      "2843/2843 [==============================] - 0s 146us/step - loss: 0.0014 - accuracy: 0.3556 - val_loss: 0.0015 - val_accuracy: 0.3105\n",
      "Epoch 77/100\n",
      "2843/2843 [==============================] - 0s 153us/step - loss: 0.0014 - accuracy: 0.3574 - val_loss: 0.0015 - val_accuracy: 0.3135\n",
      "Epoch 78/100\n",
      "2843/2843 [==============================] - 0s 162us/step - loss: 0.0014 - accuracy: 0.3553 - val_loss: 0.0015 - val_accuracy: 0.3148\n",
      "Epoch 79/100\n",
      "2843/2843 [==============================] - 0s 154us/step - loss: 0.0014 - accuracy: 0.3507 - val_loss: 0.0015 - val_accuracy: 0.3144\n",
      "Epoch 80/100\n",
      "2843/2843 [==============================] - 0s 164us/step - loss: 0.0014 - accuracy: 0.3500 - val_loss: 0.0015 - val_accuracy: 0.3195\n",
      "Epoch 81/100\n",
      "2843/2843 [==============================] - 0s 160us/step - loss: 0.0014 - accuracy: 0.3669 - val_loss: 0.0015 - val_accuracy: 0.3152\n",
      "Epoch 82/100\n",
      "2843/2843 [==============================] - 0s 168us/step - loss: 0.0014 - accuracy: 0.3535 - val_loss: 0.0015 - val_accuracy: 0.2721\n",
      "Epoch 83/100\n",
      "2843/2843 [==============================] - 0s 164us/step - loss: 0.0014 - accuracy: 0.3700 - val_loss: 0.0015 - val_accuracy: 0.3165\n",
      "Epoch 84/100\n",
      "2843/2843 [==============================] - 0s 170us/step - loss: 0.0014 - accuracy: 0.3707 - val_loss: 0.0015 - val_accuracy: 0.3144\n",
      "Epoch 85/100\n",
      "2843/2843 [==============================] - 0s 123us/step - loss: 0.0014 - accuracy: 0.3633 - val_loss: 0.0015 - val_accuracy: 0.3027\n",
      "Epoch 86/100\n",
      "2843/2843 [==============================] - 0s 130us/step - loss: 0.0014 - accuracy: 0.3553 - val_loss: 0.0015 - val_accuracy: 0.3044\n",
      "Epoch 87/100\n",
      "2843/2843 [==============================] - 0s 128us/step - loss: 0.0014 - accuracy: 0.3598 - val_loss: 0.0015 - val_accuracy: 0.2471\n",
      "Epoch 88/100\n",
      "2843/2843 [==============================] - 0s 121us/step - loss: 0.0014 - accuracy: 0.3623 - val_loss: 0.0015 - val_accuracy: 0.3105\n",
      "Epoch 89/100\n",
      "2843/2843 [==============================] - 0s 129us/step - loss: 0.0014 - accuracy: 0.3581 - val_loss: 0.0015 - val_accuracy: 0.2643\n",
      "Epoch 90/100\n",
      "2843/2843 [==============================] - 0s 128us/step - loss: 0.0014 - accuracy: 0.3679 - val_loss: 0.0015 - val_accuracy: 0.3113\n",
      "Epoch 91/100\n",
      "2843/2843 [==============================] - 0s 124us/step - loss: 0.0014 - accuracy: 0.3655 - val_loss: 0.0015 - val_accuracy: 0.3144\n",
      "Epoch 92/100\n",
      "2843/2843 [==============================] - 0s 150us/step - loss: 0.0014 - accuracy: 0.3704 - val_loss: 0.0015 - val_accuracy: 0.3031\n",
      "Epoch 93/100\n",
      "2843/2843 [==============================] - 0s 164us/step - loss: 0.0014 - accuracy: 0.3598 - val_loss: 0.0015 - val_accuracy: 0.3182\n",
      "Epoch 94/100\n",
      "2843/2843 [==============================] - 0s 132us/step - loss: 0.0014 - accuracy: 0.3651 - val_loss: 0.0015 - val_accuracy: 0.3122\n",
      "Epoch 95/100\n",
      "2843/2843 [==============================] - 0s 131us/step - loss: 0.0014 - accuracy: 0.3637 - val_loss: 0.0015 - val_accuracy: 0.3178\n",
      "Epoch 96/100\n",
      "2843/2843 [==============================] - 0s 124us/step - loss: 0.0014 - accuracy: 0.3662 - val_loss: 0.0015 - val_accuracy: 0.3126\n",
      "Epoch 97/100\n",
      "2843/2843 [==============================] - 0s 128us/step - loss: 0.0014 - accuracy: 0.3626 - val_loss: 0.0015 - val_accuracy: 0.3152\n",
      "Epoch 98/100\n",
      "2843/2843 [==============================] - 0s 115us/step - loss: 0.0014 - accuracy: 0.3626 - val_loss: 0.0015 - val_accuracy: 0.3148\n",
      "Epoch 99/100\n",
      "2843/2843 [==============================] - 0s 123us/step - loss: 0.0014 - accuracy: 0.3697 - val_loss: 0.0015 - val_accuracy: 0.3221\n",
      "Epoch 100/100\n",
      "2843/2843 [==============================] - 0s 139us/step - loss: 0.0014 - accuracy: 0.3655 - val_loss: 0.0015 - val_accuracy: 0.3187\n"
     ]
    }
   ],
   "source": [
    "input_dim = X_train.shape[1]\n",
    "encoding_dim = 14\n",
    "nb_epoch = 100\n",
    "batch_size = 32\n",
    "\n",
    "input_layer = Input(shape=(input_dim, ))\n",
    "encoder = Dense(encoding_dim, activation=\"tanh\", \n",
    "                activity_regularizer=regularizers.l1(10e-5))(input_layer)\n",
    "encoder = Dense(int(encoding_dim / 2), activation=\"relu\")(encoder)\n",
    "decoder = Dense(int(encoding_dim / 2), activation='tanh')(encoder)\n",
    "decoder = Dense(input_dim, activation='relu')(decoder)\n",
    "autoencoder = Model(inputs=input_layer, outputs=decoder)\n",
    "\n",
    "\n",
    "autoencoder.compile(optimizer='adam', \n",
    "                    loss='mean_squared_error', \n",
    "                    metrics=['accuracy'])\n",
    "\n",
    "checkpointer = ModelCheckpoint(filepath=\"model_reuters.h5\",\n",
    "                               verbose=0,\n",
    "                               save_best_only=True)\n",
    "tensorboard = TensorBoard(log_dir='./logs_reuters',\n",
    "                          histogram_freq=0,\n",
    "                          write_graph=True,\n",
    "                          write_images=True)\n",
    "\n",
    "history = autoencoder.fit(X_train, X_train,\n",
    "                    epochs=nb_epoch,\n",
    "                    batch_size=batch_size,\n",
    "                    shuffle=True,\n",
    "                    validation_data=(X_test, X_test),\n",
    "                    verbose=1,\n",
    "                    callbacks=[checkpointer, tensorboard]).history"
   ]
  },
  {
   "cell_type": "code",
   "execution_count": 30,
   "metadata": {},
   "outputs": [
    {
     "data": {
      "text/plain": [
       "<matplotlib.legend.Legend at 0x7f92dcc0d438>"
      ]
     },
     "execution_count": 30,
     "metadata": {},
     "output_type": "execute_result"
    },
    {
     "data": {
      "image/png": "[encoded data removed]",
      "text/plain": [
       "<Figure size 432x288 with 1 Axes>"
      ]
     },
     "metadata": {
      "needs_background": "light"
     },
     "output_type": "display_data"
    }
   ],
   "source": [
    "plt.plot(history['loss'])\n",
    "plt.plot(history['val_loss'])\n",
    "plt.title('Model loss')\n",
    "plt.ylabel('loss')\n",
    "plt.xlabel('epoch')\n",
    "plt.legend(['train', 'test'], loc='upper right')"
   ]
  },
  {
   "cell_type": "code",
   "execution_count": 25,
   "metadata": {},
   "outputs": [
    {
     "data": {
      "text/html": [
       "<div>\n",
       "<style scoped>\n",
       "    .dataframe tbody tr th:only-of-type {\n",
       "        vertical-align: middle;\n",
       "    }\n",
       "\n",
       "    .dataframe tbody tr th {\n",
       "        vertical-align: top;\n",
       "    }\n",
       "\n",
       "    .dataframe thead th {\n",
       "        text-align: right;\n",
       "    }\n",
       "</style>\n",
       "<table border=\"1\" class=\"dataframe\">\n",
       "  <thead>\n",
       "    <tr style=\"text-align: right;\">\n",
       "      <th></th>\n",
       "      <th>reconstruction_error</th>\n",
       "      <th>true_class</th>\n",
       "    </tr>\n",
       "  </thead>\n",
       "  <tbody>\n",
       "    <tr>\n",
       "      <th>count</th>\n",
       "      <td>2319.000000</td>\n",
       "      <td>2319.000000</td>\n",
       "    </tr>\n",
       "    <tr>\n",
       "      <th>mean</th>\n",
       "      <td>0.001441</td>\n",
       "      <td>0.532988</td>\n",
       "    </tr>\n",
       "    <tr>\n",
       "      <th>std</th>\n",
       "      <td>0.000204</td>\n",
       "      <td>0.499018</td>\n",
       "    </tr>\n",
       "    <tr>\n",
       "      <th>min</th>\n",
       "      <td>0.001117</td>\n",
       "      <td>0.000000</td>\n",
       "    </tr>\n",
       "    <tr>\n",
       "      <th>25%</th>\n",
       "      <td>0.001290</td>\n",
       "      <td>0.000000</td>\n",
       "    </tr>\n",
       "    <tr>\n",
       "      <th>50%</th>\n",
       "      <td>0.001401</td>\n",
       "      <td>1.000000</td>\n",
       "    </tr>\n",
       "    <tr>\n",
       "      <th>75%</th>\n",
       "      <td>0.001550</td>\n",
       "      <td>1.000000</td>\n",
       "    </tr>\n",
       "    <tr>\n",
       "      <th>max</th>\n",
       "      <td>0.002263</td>\n",
       "      <td>1.000000</td>\n",
       "    </tr>\n",
       "  </tbody>\n",
       "</table>\n",
       "</div>"
      ],
      "text/plain": [
       "       reconstruction_error   true_class\n",
       "count           2319.000000  2319.000000\n",
       "mean               0.001441     0.532988\n",
       "std                0.000204     0.499018\n",
       "min                0.001117     0.000000\n",
       "25%                0.001290     0.000000\n",
       "50%                0.001401     1.000000\n",
       "75%                0.001550     1.000000\n",
       "max                0.002263     1.000000"
      ]
     },
     "execution_count": 25,
     "metadata": {},
     "output_type": "execute_result"
    }
   ],
   "source": [
    "#Load the model for prediction\n",
    "autoencoder = load_model('model_reuters.h5')\n",
    "predictions = autoencoder.predict(X_test)\n",
    "\n",
    "mse = np.mean(np.power(X_test - predictions, 2), axis=1)\n",
    "error_df = pd.DataFrame({'reconstruction_error': mse,\n",
    "                        'true_class': y_test})\n",
    "\n",
    "error_df.describe()"
   ]
  },
  {
   "cell_type": "code",
   "execution_count": 26,
   "metadata": {},
   "outputs": [
    {
     "data": {
      "image/png": "[encoded data removed]",
      "text/plain": [
       "<Figure size 432x288 with 1 Axes>"
      ]
     },
     "metadata": {
      "needs_background": "light"
     },
     "output_type": "display_data"
    }
   ],
   "source": [
    "fpr, tpr, thresholds = roc_curve(error_df.true_class, error_df.reconstruction_error)\n",
    "roc_auc = auc(fpr, tpr)\n",
    "\n",
    "plt.title('Receiver Operating Characteristic')\n",
    "plt.plot(fpr, tpr, label='AUC = %0.4f'% roc_auc)\n",
    "plt.legend(loc='lower right')\n",
    "plt.plot([0,1],[0,1],'r--')\n",
    "plt.xlim([-0.001, 1])\n",
    "plt.ylim([0, 1.001])\n",
    "plt.ylabel('True Positive Rate')\n",
    "plt.xlabel('False Positive Rate')\n",
    "plt.show()"
   ]
  },
  {
   "cell_type": "code",
   "execution_count": 27,
   "metadata": {},
   "outputs": [
    {
     "data": {
      "image/png": "[encoded data removed]",
      "text/plain": [
       "<Figure size 864x288 with 3 Axes>"
      ]
     },
     "metadata": {
      "needs_background": "light"
     },
     "output_type": "display_data"
    }
   ],
   "source": [
    "precision, recall, th = precision_recall_curve(error_df.true_class, error_df.reconstruction_error)\n",
    "#plt.plot(recall, precision, 'b', label='Precision-Recall curve')\n",
    "\n",
    "fig, axes = plt.subplots(nrows=1, ncols=3, figsize=(12,4))\n",
    "axes[0].plot(recall, precision, 'b', label='Precision-Recall curve')\n",
    "axes[0].set_title('Recall vs Precision')\n",
    "axes[1].plot(th, precision[1:], 'b', label='Threshold-Precision curve')\n",
    "axes[1].set_title('Precision for different threshold values')\n",
    "axes[2].plot(th, recall[1:], 'b', label='Threshold-Recall curve')\n",
    "axes[2].set_title('Recall for different threshold values')\n",
    "fig.tight_layout()"
   ]
  },
  {
   "cell_type": "code",
   "execution_count": 28,
   "metadata": {},
   "outputs": [
    {
     "name": "stdout",
     "output_type": "stream",
     "text": [
      "Maximum Test accuracy: 0.7546356188012074\n",
      "Threshold for maximal accuracy:  0.0013940209\n"
     ]
    },
    {
     "data": {
      "image/png": "[encoded data removed]",
      "text/plain": [
       "<Figure size 432x288 with 1 Axes>"
      ]
     },
     "metadata": {
      "needs_background": "light"
     },
     "output_type": "display_data"
    }
   ],
   "source": [
    "accuracies = []\n",
    "for threshold in th:\n",
    "    y_pred = [1 if e > threshold else 0 for e in error_df.reconstruction_error.values]\n",
    "    accuracies.append(accuracy_score(error_df.true_class, y_pred))\n",
    "print(\"Maximum Test accuracy:\", max(accuracies))\n",
    "#print(accuracies.index(max(accuracies)))\n",
    "print('Threshold for maximal accuracy: ', th[accuracies.index(max(accuracies))])\n",
    "threshold = th[accuracies.index(max(accuracies))]\n",
    "fig = plt.figure()\n",
    "ax = fig.add_subplot(111)\n",
    "_ = ax.hist(accuracies)"
   ]
  },
  {
   "cell_type": "code",
   "execution_count": 29,
   "metadata": {},
   "outputs": [
    {
     "data": {
      "image/png": "[encoded data removed]",
      "text/plain": [
       "<Figure size 432x288 with 1 Axes>"
      ]
     },
     "metadata": {
      "needs_background": "light"
     },
     "output_type": "display_data"
    }
   ],
   "source": [
    "groups = error_df.groupby('true_class')\n",
    "fig, ax = plt.subplots()\n",
    "for name, group in groups:\n",
    "    ax.plot(group.index, group.reconstruction_error, marker='o', ms=3.5, linestyle='',\n",
    "            label= \"known\" if name == 1 else \"unknown\")\n",
    "ax.hlines(threshold, ax.get_xlim()[0], ax.get_xlim()[1], colors=\"r\", zorder=100, label='Threshold')\n",
    "ax.legend()\n",
    "plt.title(\"Reconstruction error for different classes\")\n",
    "plt.ylabel(\"Reconstruction error\")\n",
    "plt.xlabel(\"Data point index\")\n",
    "plt.show()"
   ]
  },
  {
   "cell_type": "code",
   "execution_count": 30,
   "metadata": {},
   "outputs": [
    {
     "name": "stdout",
     "output_type": "stream",
     "text": [
      "Test accuracy: 0.7546356188012074\n"
     ]
    },
    {
     "data": {
      "image/png": "[encoded data removed]",
      "text/plain": [
       "<Figure size 432x432 with 2 Axes>"
      ]
     },
     "metadata": {
      "needs_background": "light"
     },
     "output_type": "display_data"
    },
    {
     "name": "stdout",
     "output_type": "stream",
     "text": [
      "              precision    recall  f1-score   support\n",
      "\n",
      "           0       0.73      0.75      0.74      1083\n",
      "           1       0.78      0.75      0.77      1236\n",
      "\n",
      "    accuracy                           0.75      2319\n",
      "   macro avg       0.75      0.75      0.75      2319\n",
      "weighted avg       0.76      0.75      0.75      2319\n",
      "\n"
     ]
    }
   ],
   "source": [
    "LABELS = [\"known\", \"unknown\"]\n",
    "y_pred_autoencoder = [1 if e > threshold else 0 for e in error_df.reconstruction_error.values]\n",
    "conf_matrix = confusion_matrix(error_df.true_class, y_pred_autoencoder,[0,1])\n",
    "print(\"Test accuracy:\", accuracy_score(error_df.true_class, y_pred_autoencoder))\n",
    "plt.figure(figsize=(6,6))\n",
    "sns.heatmap(conf_matrix, xticklabels=LABELS, yticklabels=LABELS, annot=True, fmt=\"d\");\n",
    "plt.title(\"Confusion matrix - Reuters - Autoencoder\")\n",
    "plt.ylabel('True class')\n",
    "plt.xlabel('Predicted class')\n",
    "plt.show()\n",
    "print(classification_report(error_df.true_class, y_pred_autoencoder))"
   ]
  },
  {
   "cell_type": "markdown",
   "metadata": {},
   "source": [
    "Base individual models end. Ensemble approaches begin from here"
   ]
  },
  {
   "cell_type": "code",
   "execution_count": 31,
   "metadata": {},
   "outputs": [],
   "source": [
    "for i in range(len(y_pred_autoencoder)):\n",
    "    if y_pred_autoencoder[i] == 0:\n",
    "        y_pred_autoencoder[i] = 1\n",
    "    else:\n",
    "        y_pred_autoencoder[i] = -1\n",
    "#print(y_pred_autoencoder)"
   ]
  },
  {
   "cell_type": "code",
   "execution_count": 32,
   "metadata": {},
   "outputs": [
    {
     "name": "stdout",
     "output_type": "stream",
     "text": [
      "Model:  Ensemble\n",
      "Test accuracy: 0.2065545493747305\n"
     ]
    },
    {
     "data": {
      "image/png": "[encoded data removed]",
      "text/plain": [
       "<Figure size 432x432 with 2 Axes>"
      ]
     },
     "metadata": {
      "needs_background": "light"
     },
     "output_type": "display_data"
    },
    {
     "name": "stdout",
     "output_type": "stream",
     "text": [
      "              precision    recall  f1-score   support\n",
      "\n",
      "          -1       0.00      0.00      0.00         0\n",
      "           0       0.00      0.00      0.00      1083\n",
      "           1       0.34      0.39      0.36      1236\n",
      "\n",
      "    accuracy                           0.21      2319\n",
      "   macro avg       0.11      0.13      0.12      2319\n",
      "weighted avg       0.18      0.21      0.19      2319\n",
      "\n"
     ]
    },
    {
     "name": "stderr",
     "output_type": "stream",
     "text": [
      "/opt/conda/lib/python3.7/site-packages/sklearn/metrics/classification.py:1437: UndefinedMetricWarning: Precision and F-score are ill-defined and being set to 0.0 in labels with no predicted samples.\n",
      "  'precision', 'predicted', average, warn_for)\n",
      "/opt/conda/lib/python3.7/site-packages/sklearn/metrics/classification.py:1439: UndefinedMetricWarning: Recall and F-score are ill-defined and being set to 0.0 in labels with no true samples.\n",
      "  'recall', 'true', average, warn_for)\n",
      "/opt/conda/lib/python3.7/site-packages/sklearn/metrics/classification.py:1437: UndefinedMetricWarning: Precision and F-score are ill-defined and being set to 0.0 in labels with no predicted samples.\n",
      "  'precision', 'predicted', average, warn_for)\n",
      "/opt/conda/lib/python3.7/site-packages/sklearn/metrics/classification.py:1439: UndefinedMetricWarning: Recall and F-score are ill-defined and being set to 0.0 in labels with no true samples.\n",
      "  'recall', 'true', average, warn_for)\n",
      "/opt/conda/lib/python3.7/site-packages/sklearn/metrics/classification.py:1437: UndefinedMetricWarning: Precision and F-score are ill-defined and being set to 0.0 in labels with no predicted samples.\n",
      "  'precision', 'predicted', average, warn_for)\n",
      "/opt/conda/lib/python3.7/site-packages/sklearn/metrics/classification.py:1439: UndefinedMetricWarning: Recall and F-score are ill-defined and being set to 0.0 in labels with no true samples.\n",
      "  'recall', 'true', average, warn_for)\n"
     ]
    }
   ],
   "source": [
    "import math as mt\n",
    "def mostFrequent(arr): \n",
    "    n = len(arr)\n",
    "    # Insert all elements in Hash. \n",
    "    Hash = dict() \n",
    "    for i in range(n): \n",
    "        if arr[i] in Hash.keys(): \n",
    "            Hash[arr[i]] += 1\n",
    "        else: \n",
    "            Hash[arr[i]] = 1\n",
    "  \n",
    "    # find the max frequency \n",
    "    max_count = 0\n",
    "    res = -1\n",
    "    for i in Hash:  \n",
    "        if (max_count < Hash[i]):  \n",
    "            res = i \n",
    "            max_count = Hash[i] \n",
    "          \n",
    "    return res  \n",
    "\n",
    "def ensemble_results(model, test_true_labels, test_predicted_labels):\n",
    "    print('Model: ', model)\n",
    "    #print(\"Train accuracy:\", accuracy_score(train_true_labels, train_predicted_labels))\n",
    "    print(\"Test accuracy:\", accuracy_score(test_true_labels, test_predicted_labels))\n",
    "    results = confusion_matrix(test_true_labels, test_predicted_labels, [1,-1]) \n",
    "    #print('Confusion Matrix :')\n",
    "    #print(results) \n",
    "    #print('Report : ')\n",
    "    LABELS = [\"known\", \"unknown\"]\n",
    "    plt.figure(figsize=(6, 6))\n",
    "    sns.heatmap(results, xticklabels=LABELS, yticklabels=LABELS, annot=True, fmt=\"d\");\n",
    "    plt.title(\"Confusion matrix - Reuters - \" + str(model))\n",
    "    plt.ylabel('True class')\n",
    "    plt.xlabel('Predicted class')\n",
    "    plt.show()\n",
    "    print(classification_report(test_true_labels, test_predicted_labels))\n",
    "\n",
    "'''y_pred_train_ensemble = []\n",
    "for i in range(len(final_train['new_label'].tolist())):\n",
    "    train_arr = [ y_pred_train[i], y_pred_iso_train[i], y_pred_lof_train[i]]\n",
    "    y_pred_train_ensemble.append(mostFrequent(train_arr))\n",
    "'''\n",
    "y_pred_test_ensemble = []\n",
    "\n",
    "for i in range(len(final_test['new_label'].tolist())):\n",
    "    arr = [ y_pred_test_svm[i], y_pred_iso_test[i], y_pred_lof_test[i], y_pred_autoencoder[i]]\n",
    "    y_pred_test_ensemble.append(mostFrequent(arr))\n",
    "\n",
    "ensemble_results('Ensemble', final_test['new_label'].tolist(), y_pred_test_ensemble)"
   ]
  },
  {
   "cell_type": "code",
   "execution_count": null,
   "metadata": {},
   "outputs": [],
   "source": [
    "y_pred_cvdd = [1.0, 1.0, 0.0, 1.0, 1.0, 1.0, 0.0, 1.0, 1.0, 1.0, 1.0, 1.0, 1.0, 1.0, 1.0, 1.0, 1.0, 0.0, 1.0, 1.0, 1.0, 1.0, 1.0, 1.0, 1.0, 1.0, 1.0, 0.0, 1.0, 1.0, 1.0, 1.0, 1.0, 1.0, 1.0, 1.0, 1.0, 1.0, 1.0, 1.0, 1.0, 1.0, 1.0, 1.0, 1.0, 1.0, 1.0, 1.0, 1.0, 0.0, 1.0, 1.0, 1.0, 1.0, 1.0, 1.0, 1.0, 1.0, 1.0, 1.0, 1.0, 1.0, 1.0, 1.0, 1.0, 1.0, 1.0, 1.0, 0.0, 1.0, 1.0, 1.0, 1.0, 1.0, 1.0, 1.0, 1.0, 0.0, 1.0, 1.0, 1.0, 0.0, 1.0, 1.0, 1.0, 0.0, 1.0, 1.0, 1.0, 1.0, 0.0, 1.0, 1.0, 0.0, 1.0, 1.0, 0.0, 1.0, 1.0, 1.0, 1.0, 1.0, 1.0, 1.0, 0.0, 1.0, 1.0, 1.0, 1.0, 1.0, 1.0, 1.0, 1.0, 1.0, 1.0, 1.0, 1.0, 1.0, 1.0, 1.0, 1.0, 1.0, 1.0, 1.0, 1.0, 1.0, 1.0, 1.0, 1.0, 1.0, 1.0, 1.0, 1.0, 1.0, 0.0, 0.0, 1.0, 0.0, 0.0, 1.0, 1.0, 1.0, 0.0, 0.0, 1.0, 0.0, 1.0, 1.0, 1.0, 0.0, 1.0, 1.0, 0.0, 1.0, 1.0, 1.0, 1.0, 1.0, 1.0, 1.0, 1.0, 1.0, 1.0, 1.0, 1.0, 1.0, 0.0, 0.0, 0.0, 1.0, 1.0, 0.0, 1.0, 1.0, 1.0, 0.0, 1.0, 1.0, 1.0, 0.0, 0.0, 1.0, 1.0, 1.0, 1.0, 1.0, 1.0, 1.0, 1.0, 1.0, 1.0, 1.0, 1.0, 1.0, 0.0, 1.0, 1.0, 1.0, 1.0, 1.0, 0.0, 0.0, 1.0, 0.0, 1.0, 1.0, 1.0, 1.0, 1.0, 0.0, 0.0, 1.0, 0.0, 0.0, 1.0, 1.0, 0.0, 1.0, 1.0, 1.0, 1.0, 1.0, 1.0, 1.0, 0.0, 1.0, 1.0, 0.0, 1.0, 1.0, 1.0, 1.0, 1.0, 1.0, 0.0, 1.0, 1.0, 0.0, 1.0, 1.0, 1.0, 1.0, 1.0, 1.0, 1.0, 1.0, 1.0, 1.0, 1.0, 1.0, 1.0, 1.0, 0.0, 1.0, 1.0, 1.0, 1.0, 1.0, 1.0, 1.0, 1.0, 0.0, 1.0, 1.0, 1.0, 1.0, 1.0, 1.0, 1.0, 1.0, 1.0, 1.0, 0.0, 1.0, 0.0, 1.0, 0.0, 1.0, 0.0, 1.0, 1.0, 1.0, 1.0, 1.0, 1.0, 1.0, 1.0, 1.0, 0.0, 0.0, 1.0, 1.0, 1.0, 1.0, 1.0, 0.0, 1.0, 1.0, 1.0, 1.0, 1.0, 1.0, 1.0, 0.0, 1.0, 1.0, 0.0, 0.0, 1.0, 1.0, 1.0, 1.0, 0.0, 0.0, 1.0, 1.0, 1.0, 0.0, 1.0, 1.0, 0.0, 0.0, 1.0, 0.0, 0.0, 0.0, 0.0, 0.0, 0.0, 0.0, 0.0, 0.0, 0.0, 1.0, 0.0, 0.0, 0.0, 1.0, 0.0, 0.0, 0.0, 0.0, 0.0, 0.0, 0.0, 0.0, 0.0, 0.0, 0.0, 0.0, 0.0, 1.0, 0.0, 0.0, 1.0, 0.0, 1.0, 0.0, 1.0, 0.0, 0.0, 0.0, 0.0, 0.0, 0.0, 0.0, 0.0, 1.0, 0.0, 0.0, 1.0, 0.0, 0.0, 0.0, 1.0, 0.0, 0.0, 1.0, 1.0, 0.0, 0.0, 0.0, 0.0, 0.0, 1.0, 1.0, 1.0, 0.0, 0.0, 0.0, 0.0, 0.0, 0.0, 0.0, 0.0, 1.0, 0.0, 0.0, 0.0, 1.0, 0.0, 0.0, 0.0, 0.0, 0.0, 0.0, 0.0, 0.0, 0.0, 0.0, 0.0, 0.0, 0.0, 0.0, 1.0, 0.0, 0.0, 0.0, 0.0, 0.0, 0.0, 0.0, 0.0, 1.0, 0.0, 0.0, 0.0, 0.0, 0.0, 0.0, 1.0, 0.0, 0.0, 0.0, 1.0, 0.0, 0.0, 0.0, 0.0, 0.0, 0.0, 0.0, 0.0, 0.0, 0.0, 0.0, 0.0, 0.0, 1.0, 1.0, 1.0, 1.0, 1.0, 1.0, 1.0, 1.0, 1.0, 0.0, 0.0, 1.0, 0.0, 0.0, 1.0, 0.0, 1.0, 1.0, 0.0, 1.0, 1.0, 0.0, 0.0, 0.0, 0.0, 1.0, 0.0, 0.0, 0.0, 1.0, 0.0, 0.0, 1.0, 1.0, 0.0, 0.0, 0.0, 0.0, 0.0, 1.0, 1.0, 0.0, 0.0, 1.0, 0.0, 1.0, 0.0, 1.0, 1.0, 1.0, 1.0, 1.0, 0.0, 0.0, 0.0, 0.0, 0.0, 0.0, 1.0, 1.0, 0.0, 1.0, 1.0, 1.0, 1.0, 0.0, 0.0, 0.0, 1.0, 0.0, 1.0, 1.0, 1.0, 0.0, 1.0, 1.0, 0.0, 1.0, 0.0, 1.0, 1.0, 0.0, 1.0, 0.0, 0.0, 0.0, 0.0, 0.0, 0.0, 0.0, 0.0, 0.0, 1.0, 0.0, 0.0, 0.0, 0.0, 0.0, 0.0, 0.0, 0.0, 0.0, 0.0, 0.0, 0.0, 0.0, 0.0, 0.0, 0.0, 0.0, 1.0, 0.0, 0.0, 0.0, 0.0, 1.0, 0.0, 0.0, 0.0, 0.0, 1.0, 1.0, 0.0, 0.0, 0.0, 0.0, 0.0, 0.0, 0.0, 1.0, 0.0, 0.0, 0.0, 0.0, 0.0, 1.0, 0.0, 1.0, 0.0, 0.0, 1.0, 1.0, 1.0, 0.0, 1.0, 0.0, 1.0, 1.0, 0.0, 1.0, 1.0, 0.0, 1.0, 0.0, 0.0, 0.0, 1.0, 0.0, 0.0, 0.0, 1.0, 1.0, 1.0, 0.0, 0.0, 0.0, 1.0, 0.0, 0.0, 0.0, 0.0, 0.0, 1.0, 1.0, 0.0, 0.0, 1.0, 0.0, 0.0, 0.0, 0.0, 0.0, 0.0, 0.0, 0.0, 1.0, 1.0, 0.0, 1.0, 0.0, 1.0, 1.0, 1.0, 1.0, 1.0, 1.0, 0.0, 1.0, 1.0, 1.0, 0.0, 0.0, 0.0, 0.0, 1.0, 0.0, 0.0, 1.0, 1.0, 1.0, 0.0, 0.0, 1.0, 0.0, 1.0, 0.0, 1.0, 0.0, 0.0, 0.0, 0.0, 1.0, 0.0, 1.0, 1.0, 0.0, 1.0, 1.0, 0.0, 0.0, 1.0, 1.0, 1.0, 1.0, 1.0, 0.0, 0.0, 0.0, 1.0, 1.0, 1.0, 0.0, 0.0, 1.0, 1.0, 0.0, 1.0, 1.0, 1.0, 1.0, 1.0, 0.0, 1.0, 1.0, 1.0, 1.0, 0.0, 0.0, 0.0, 0.0, 0.0, 0.0, 0.0, 0.0, 0.0, 0.0, 0.0, 0.0, 0.0, 0.0, 0.0, 0.0, 0.0, 1.0, 0.0, 0.0, 0.0, 0.0, 0.0, 0.0, 0.0, 0.0, 0.0, 0.0, 0.0, 1.0, 0.0, 0.0, 0.0, 0.0, 0.0, 1.0, 1.0, 0.0, 0.0, 1.0, 0.0, 0.0, 1.0, 0.0, 0.0, 0.0, 0.0, 0.0, 0.0, 0.0, 0.0, 0.0, 0.0, 0.0, 1.0, 0.0, 0.0, 0.0, 0.0, 1.0, 0.0, 0.0, 0.0, 0.0, 0.0, 0.0, 0.0, 1.0, 0.0, 0.0, 0.0, 0.0, 1.0, 1.0, 1.0, 1.0, 1.0, 1.0, 0.0, 1.0, 0.0, 1.0, 1.0, 0.0, 0.0, 0.0, 1.0, 1.0, 0.0, 0.0, 0.0, 0.0, 0.0, 0.0, 1.0, 1.0, 1.0, 1.0, 0.0, 1.0, 1.0, 0.0, 1.0, 0.0, 1.0, 1.0, 1.0, 0.0, 1.0, 0.0, 1.0, 1.0, 0.0, 0.0, 1.0, 1.0, 1.0, 0.0, 1.0, 1.0, 0.0, 1.0, 1.0, 1.0, 1.0, 0.0, 1.0, 0.0, 1.0, 1.0, 1.0, 0.0, 1.0, 1.0, 1.0, 1.0, 1.0, 1.0, 1.0, 1.0, 1.0, 1.0, 1.0, 0.0, 1.0, 1.0, 1.0, 1.0, 1.0, 1.0, 0.0, 1.0, 1.0, 1.0, 1.0, 1.0, 1.0, 1.0, 1.0, 0.0, 1.0, 1.0, 1.0, 0.0, 1.0, 1.0, 0.0, 1.0, 0.0, 1.0, 1.0, 0.0, 0.0, 1.0, 1.0, 1.0, 1.0, 1.0, 1.0, 1.0, 1.0, 0.0, 0.0, 1.0, 1.0, 0.0, 0.0, 0.0, 1.0, 0.0, 0.0, 1.0, 1.0, 1.0, 0.0, 1.0, 1.0, 0.0, 1.0, 0.0, 0.0, 0.0, 1.0, 0.0, 1.0, 0.0, 1.0, 1.0, 1.0, 1.0, 0.0, 1.0, 0.0, 1.0, 0.0, 1.0, 0.0, 1.0, 1.0, 1.0, 1.0, 1.0, 0.0, 1.0, 1.0, 1.0, 1.0, 1.0, 1.0, 1.0, 1.0, 1.0, 1.0, 0.0, 1.0, 1.0, 0.0, 1.0, 1.0, 0.0, 0.0, 0.0, 1.0, 0.0, 1.0, 1.0, 1.0, 1.0, 1.0, 1.0, 1.0, 0.0, 1.0, 0.0, 0.0, 1.0, 0.0, 0.0, 0.0, 0.0, 0.0, 0.0, 1.0, 0.0, 0.0, 0.0, 0.0, 0.0, 0.0, 0.0, 0.0, 0.0, 0.0, 0.0, 0.0, 1.0, 0.0, 0.0, 0.0, 0.0, 0.0, 0.0, 0.0, 0.0, 1.0, 1.0, 0.0, 1.0, 0.0, 0.0, 0.0, 1.0, 0.0, 0.0, 0.0, 0.0, 0.0, 0.0, 1.0, 0.0, 0.0, 0.0, 0.0, 1.0, 0.0, 0.0, 0.0, 0.0, 1.0, 0.0, 0.0, 0.0, 0.0, 0.0, 1.0, 0.0, 0.0, 1.0, 0.0, 1.0, 1.0, 1.0, 0.0, 0.0, 0.0, 0.0, 1.0, 1.0, 1.0, 1.0, 0.0, 0.0, 1.0, 0.0, 0.0, 0.0, 0.0, 0.0, 0.0, 1.0, 1.0, 0.0, 1.0, 0.0, 1.0, 1.0, 0.0, 1.0, 1.0, 0.0, 0.0, 0.0, 0.0, 0.0, 0.0, 1.0, 0.0, 0.0, 1.0, 0.0, 0.0, 0.0, 0.0, 0.0, 1.0, 1.0, 0.0, 0.0, 0.0, 0.0, 0.0, 0.0, 0.0, 0.0, 0.0, 0.0, 0.0, 0.0, 0.0, 0.0, 0.0, 0.0, 0.0, 0.0, 0.0, 1.0, 1.0, 0.0, 1.0, 0.0, 0.0, 1.0, 0.0, 0.0, 0.0, 0.0, 0.0, 0.0, 0.0, 0.0, 0.0, 0.0, 0.0, 0.0, 0.0, 0.0, 0.0, 0.0, 0.0, 0.0, 0.0, 0.0, 0.0, 0.0, 0.0, 0.0, 0.0, 0.0, 0.0, 0.0, 0.0, 0.0, 0.0, 0.0, 0.0, 0.0, 0.0, 0.0, 0.0, 0.0, 0.0, 0.0, 1.0, 0.0, 1.0, 0.0, 0.0, 1.0, 1.0, 1.0, 1.0, 1.0, 0.0, 0.0, 1.0, 0.0, 0.0, 0.0, 1.0, 1.0, 0.0, 0.0, 0.0, 1.0, 1.0, 1.0, 1.0, 0.0, 1.0, 1.0, 1.0, 0.0, 1.0, 1.0, 1.0, 0.0, 1.0, 1.0, 0.0, 1.0, 1.0, 0.0, 0.0, 1.0, 1.0, 0.0, 1.0, 1.0, 1.0, 0.0, 1.0, 1.0, 0.0, 0.0, 1.0, 1.0, 1.0, 1.0, 1.0, 1.0, 0.0, 0.0, 0.0, 1.0, 1.0, 1.0, 0.0, 1.0, 1.0, 1.0, 1.0, 1.0, 0.0, 0.0, 1.0, 1.0, 1.0, 0.0, 1.0, 1.0, 0.0, 1.0, 0.0, 1.0, 1.0, 1.0, 1.0, 0.0, 0.0, 1.0, 0.0, 1.0, 1.0, 1.0, 1.0, 1.0, 1.0, 1.0, 1.0, 1.0, 1.0, 1.0, 1.0, 1.0, 1.0, 1.0, 1.0, 1.0, 0.0, 0.0, 0.0, 0.0, 0.0, 1.0, 0.0, 0.0, 1.0, 1.0, 1.0, 1.0, 0.0, 1.0, 1.0, 0.0, 0.0, 1.0, 1.0, 0.0, 1.0, 1.0, 1.0, 0.0, 1.0, 0.0, 0.0, 0.0, 1.0, 1.0, 1.0, 1.0, 1.0, 1.0, 0.0, 1.0, 1.0, 1.0, 1.0, 0.0, 1.0, 0.0, 0.0, 0.0, 0.0, 0.0, 0.0, 0.0, 0.0, 0.0, 0.0, 0.0, 0.0, 0.0, 1.0, 1.0, 0.0, 1.0, 0.0, 0.0, 0.0, 0.0, 0.0, 0.0, 0.0, 1.0, 1.0, 0.0, 0.0, 0.0, 0.0, 0.0, 1.0, 0.0, 1.0, 0.0, 0.0, 0.0, 0.0, 1.0, 1.0, 0.0, 0.0, 0.0, 0.0, 0.0, 0.0, 0.0, 0.0, 1.0, 0.0, 0.0, 1.0, 0.0, 0.0, 0.0, 1.0, 1.0, 0.0, 1.0, 0.0, 0.0, 1.0, 1.0, 0.0, 1.0, 1.0, 0.0, 1.0, 1.0, 1.0, 1.0, 0.0, 1.0, 1.0, 1.0, 1.0, 1.0, 1.0, 1.0, 1.0, 1.0, 0.0, 1.0, 1.0, 1.0, 1.0, 1.0, 1.0, 1.0, 1.0, 1.0, 0.0, 0.0, 0.0, 1.0, 0.0, 1.0, 1.0, 1.0, 1.0, 0.0, 1.0, 1.0, 0.0, 1.0, 1.0, 1.0, 1.0, 1.0, 1.0, 1.0, 0.0, 0.0, 0.0, 1.0, 0.0, 1.0, 1.0, 1.0, 1.0, 0.0, 0.0, 0.0, 1.0, 0.0, 0.0, 0.0, 0.0, 0.0, 0.0, 0.0, 1.0, 0.0, 1.0, 1.0, 1.0, 1.0, 0.0, 0.0, 1.0, 0.0, 0.0, 0.0, 0.0, 1.0, 0.0, 1.0, 0.0, 0.0, 1.0, 1.0, 1.0, 0.0, 1.0, 1.0, 0.0, 1.0, 1.0, 0.0, 0.0, 0.0, 1.0, 0.0, 0.0, 0.0, 0.0, 0.0, 0.0, 0.0, 0.0, 0.0, 0.0, 1.0, 1.0, 0.0, 0.0, 0.0, 1.0, 0.0, 0.0, 0.0, 0.0, 1.0, 0.0, 0.0, 0.0, 0.0, 1.0, 1.0, 0.0, 0.0, 0.0, 0.0, 0.0, 0.0, 0.0, 0.0, 0.0, 0.0, 0.0, 0.0, 0.0, 1.0, 0.0, 0.0, 0.0, 0.0, 0.0, 0.0, 1.0, 1.0, 1.0, 1.0, 0.0, 1.0, 1.0, 1.0, 0.0, 0.0, 0.0, 1.0, 0.0, 0.0, 0.0, 1.0, 1.0, 0.0, 1.0, 1.0, 0.0, 1.0, 1.0, 1.0, 1.0, 0.0, 0.0, 0.0, 1.0, 0.0, 1.0, 1.0, 1.0, 0.0, 0.0, 0.0, 1.0, 0.0, 1.0, 0.0, 0.0, 0.0, 1.0, 1.0, 1.0, 1.0, 0.0, 0.0, 0.0, 1.0, 1.0, 1.0, 0.0, 1.0, 0.0, 1.0, 0.0, 0.0, 1.0, 0.0, 1.0, 0.0, 0.0, 0.0, 0.0, 1.0, 1.0, 1.0, 1.0, 1.0, 0.0, 1.0, 0.0, 1.0, 1.0, 0.0, 1.0, 1.0, 1.0, 0.0, 1.0, 1.0, 1.0, 1.0, 0.0, 1.0, 1.0, 0.0, 0.0, 0.0, 0.0, 1.0, 1.0, 1.0, 1.0, 0.0, 1.0, 0.0, 1.0, 0.0, 1.0, 1.0, 1.0, 1.0, 1.0, 0.0, 1.0, 0.0, 1.0, 0.0, 1.0, 1.0, 1.0, 0.0, 1.0, 0.0, 1.0, 0.0, 1.0, 0.0, 1.0, 1.0, 0.0, 1.0, 1.0, 0.0, 1.0, 0.0, 1.0, 1.0, 1.0, 1.0, 1.0, 0.0, 0.0, 1.0, 0.0, 1.0, 1.0, 1.0, 1.0, 0.0, 0.0, 1.0, 1.0, 1.0, 1.0, 1.0, 0.0, 0.0, 1.0, 0.0, 1.0, 1.0, 0.0, 1.0, 1.0, 0.0, 1.0, 0.0, 1.0, 1.0, 1.0, 1.0, 1.0, 1.0, 0.0, 1.0, 0.0, 1.0, 1.0, 1.0, 1.0, 0.0, 0.0, 0.0, 1.0, 0.0, 1.0, 0.0, 1.0, 0.0, 0.0, 0.0, 0.0, 0.0, 0.0, 0.0, 0.0, 0.0, 0.0, 0.0, 0.0, 0.0, 0.0, 0.0, 0.0, 0.0, 0.0, 0.0, 0.0, 0.0, 0.0, 0.0, 0.0, 0.0, 0.0, 0.0, 1.0, 0.0, 1.0, 0.0, 0.0, 0.0, 0.0, 0.0, 1.0, 1.0, 0.0, 0.0, 1.0, 0.0, 0.0, 0.0, 1.0, 1.0, 1.0, 0.0, 0.0, 0.0, 1.0, 0.0, 0.0, 0.0, 0.0, 0.0, 1.0, 0.0, 0.0, 0.0, 0.0, 0.0, 1.0, 0.0, 0.0, 0.0, 1.0, 1.0, 0.0, 0.0, 0.0, 0.0, 0.0, 0.0, 0.0, 0.0, 0.0, 0.0, 1.0, 0.0, 1.0, 1.0, 0.0, 1.0, 0.0, 0.0, 1.0, 0.0, 0.0, 0.0, 0.0, 0.0, 0.0, 0.0, 1.0, 0.0, 0.0, 0.0, 0.0, 0.0, 0.0, 0.0, 1.0, 0.0, 0.0, 0.0, 0.0, 0.0, 0.0, 0.0, 1.0, 0.0, 0.0, 0.0, 1.0, 0.0, 0.0, 0.0, 0.0, 1.0, 1.0, 0.0, 1.0, 0.0, 1.0, 0.0, 1.0, 0.0, 0.0, 0.0, 1.0, 0.0, 0.0, 1.0, 0.0, 0.0, 1.0, 1.0, 1.0, 1.0, 0.0, 0.0, 0.0, 1.0, 0.0, 1.0, 1.0, 0.0, 1.0, 0.0, 1.0, 1.0, 1.0, 1.0, 0.0, 1.0, 0.0, 1.0, 0.0, 0.0, 1.0, 0.0, 0.0, 0.0, 1.0, 0.0, 0.0, 1.0, 0.0, 0.0, 0.0, 0.0, 1.0, 0.0, 0.0, 0.0, 0.0, 1.0, 0.0, 1.0, 0.0, 1.0, 0.0, 1.0, 0.0, 1.0, 1.0, 1.0, 1.0, 0.0, 0.0, 0.0, 1.0, 1.0, 1.0, 1.0, 1.0, 1.0, 1.0, 1.0, 1.0, 1.0, 1.0, 1.0, 0.0, 1.0, 0.0, 1.0, 1.0, 1.0, 1.0, 1.0, 1.0, 1.0, 1.0, 1.0, 0.0, 0.0, 0.0, 1.0, 1.0, 1.0, 0.0, 1.0, 1.0, 1.0, 0.0, 1.0, 1.0, 1.0, 0.0, 1.0, 0.0, 0.0, 0.0, 1.0, 1.0, 1.0, 0.0, 1.0, 0.0, 1.0, 1.0, 0.0, 1.0, 1.0, 1.0, 1.0, 1.0, 1.0, 0.0, 0.0, 0.0, 1.0, 1.0, 0.0, 0.0, 1.0, 0.0, 0.0, 0.0, 0.0, 1.0, 1.0, 0.0, 0.0, 1.0, 1.0, 1.0, 1.0, 0.0, 0.0, 0.0, 1.0, 1.0, 1.0, 0.0, 0.0, 1.0, 1.0, 0.0, 1.0, 1.0, 0.0, 0.0, 0.0, 1.0, 0.0, 1.0, 0.0, 0.0, 1.0, 1.0, 1.0, 0.0, 0.0, 0.0, 0.0, 0.0, 0.0, 1.0, 1.0, 1.0, 1.0, 1.0, 0.0, 0.0, 0.0, 1.0, 1.0, 1.0, 0.0, 0.0, 1.0, 0.0, 0.0, 0.0, 0.0, 0.0, 0.0, 0.0, 1.0, 0.0, 0.0, 0.0, 1.0, 1.0, 0.0, 0.0, 1.0, 0.0, 0.0, 0.0, 1.0, 1.0, 0.0, 1.0, 0.0, 0.0, 0.0, 0.0, 0.0, 0.0, 0.0, 0.0, 0.0, 1.0, 1.0, 0.0, 1.0, 0.0, 0.0, 0.0, 1.0, 0.0, 0.0, 1.0, 0.0, 0.0, 1.0, 0.0, 0.0, 0.0, 0.0, 1.0, 0.0, 0.0, 1.0, 0.0, 0.0, 1.0, 0.0, 0.0, 0.0, 0.0, 0.0, 1.0, 1.0, 1.0, 1.0, 1.0, 1.0, 1.0, 1.0, 0.0, 1.0, 1.0, 1.0, 1.0, 1.0, 0.0, 1.0, 1.0, 0.0, 0.0, 0.0, 1.0, 0.0, 1.0, 1.0, 1.0, 0.0, 1.0, 1.0, 0.0, 1.0, 1.0, 1.0, 0.0, 1.0, 0.0, 1.0, 1.0, 1.0, 0.0, 1.0, 1.0, 1.0, 1.0, 0.0, 1.0, 0.0, 1.0, 1.0, 1.0, 1.0, 1.0, 1.0, 1.0, 1.0, 1.0, 1.0, 1.0, 1.0, 1.0, 0.0, 1.0, 1.0, 0.0, 1.0, 1.0, 1.0, 1.0, 1.0, 1.0, 0.0, 0.0, 0.0, 0.0, 0.0, 1.0, 1.0, 1.0, 0.0, 0.0, 1.0, 0.0, 1.0, 1.0, 1.0, 1.0, 1.0, 0.0, 0.0, 1.0, 1.0, 1.0, 1.0, 1.0, 0.0, 0.0, 1.0, 0.0, 1.0, 1.0, 0.0, 1.0, 0.0, 1.0, 1.0, 1.0, 1.0, 0.0, 1.0, 1.0, 0.0, 1.0, 1.0, 1.0, 1.0, 1.0, 1.0, 0.0, 1.0, 1.0, 1.0, 1.0, 1.0, 1.0, 1.0, 1.0, 1.0, 1.0, 1.0] \n",
    "for elem in y_pred_cvdd:\n",
    "    if elem == 1.0:\n",
    "        elem = -1\n",
    "    if elem == 0.0:\n",
    "        elem = 1\n",
    "print(len(y_pred_cvdd))"
   ]
  },
  {
   "cell_type": "code",
   "execution_count": null,
   "metadata": {},
   "outputs": [],
   "source": [
    "from pyod.models.combination import aom, moa, average, maximization\n",
    "from pyod.utils.utility import standardizer\n",
    "from pyod.utils.data import evaluate_print"
   ]
  },
  {
   "cell_type": "code",
   "execution_count": null,
   "metadata": {},
   "outputs": [],
   "source": [
    "print(np.asarray(train_scores_svm).shape)\n",
    "print(np.asarray(train_scores_iso).shape)"
   ]
  },
  {
   "cell_type": "code",
   "execution_count": null,
   "metadata": {},
   "outputs": [],
   "source": [
    "#train_svm = np.asarray(train_scores_svm)\n",
    "#train_iso = np.asarray(train_scores_iso)\n",
    "#trian_lof = np.asarray(train_scores_lof)\n",
    "#print(type(train_svm))\n",
    "new_arr_train = np.array((train_scores_svm, train_scores_iso, train_scores_lof)).transpose()\n",
    "new_arr_test = np.array((test_scores_svm, test_scores_iso, test_scores_lof)).transpose()"
   ]
  },
  {
   "cell_type": "code",
   "execution_count": null,
   "metadata": {},
   "outputs": [],
   "source": [
    "train_comb_norm_score, test_comb_norm_score = standardizer(new_arr_train, new_arr_test)"
   ]
  },
  {
   "cell_type": "code",
   "execution_count": null,
   "metadata": {},
   "outputs": [],
   "source": []
  },
  {
   "cell_type": "code",
   "execution_count": null,
   "metadata": {},
   "outputs": [],
   "source": [
    "print('Decision score matrix on training data', train_comb_norm_score.shape)\n",
    "print('Decision score matrix on test data', test_comb_norm_score.shape)"
   ]
  },
  {
   "cell_type": "code",
   "execution_count": null,
   "metadata": {},
   "outputs": [],
   "source": [
    "y_by_average = average(test_comb_norm_score)\n",
    "print(y_by_average)"
   ]
  },
  {
   "cell_type": "code",
   "execution_count": null,
   "metadata": {},
   "outputs": [],
   "source": [
    " #Combine and evaluate the combination result\n",
    "\n",
    "# Combination by average\n",
    "y_by_average = average(test_comb_norm_score)\n",
    "evaluate_print('Combination by Average', np.asarray(final_test['new_label'].tolist()), y_by_average)\n",
    "\n",
    "# Combination by max\n",
    "y_by_maximization = maximization(test_comb_norm_score)\n",
    "evaluate_print('Combination by Maximization', np.asarray(final_test['new_label'].tolist()), y_by_maximization)\n",
    "\n",
    "# Combination by aom\n",
    "y_by_aom = aom(test_comb_norm_score, n_buckets=5)\n",
    "evaluate_print('Combination by AOM', np.asarray(final_test['new_label'].tolist()), y_by_aom)\n",
    "\n",
    "# Combination by moa\n",
    "y_by_moa = moa(test_comb_norm_score, n_buckets=5)\n",
    "evaluate_print('Combination by MOA', np.asarray(final_test['new_label'].tolist()), y_by_moa)"
   ]
  },
  {
   "cell_type": "code",
   "execution_count": null,
   "metadata": {},
   "outputs": [],
   "source": []
  }
 ],
 "metadata": {
  "kernelspec": {
   "display_name": "Python 3",
   "language": "python",
   "name": "python3"
  },
  "language_info": {
   "codemirror_mode": {
    "name": "ipython",
    "version": 3
   },
   "file_extension": ".py",
   "mimetype": "text/x-python",
   "name": "python",
   "nbconvert_exporter": "python",
   "pygments_lexer": "ipython3",
   "version": "3.7.3"
  }
 },
 "nbformat": 4,
 "nbformat_minor": 2
}
